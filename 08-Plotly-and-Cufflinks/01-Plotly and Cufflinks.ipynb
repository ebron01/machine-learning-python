{
 "cells": [
  {
   "attachments": {},
   "cell_type": "markdown",
   "metadata": {},
   "source": [
    "# Plotly and Cufflinks"
   ]
  },
  {
   "attachments": {},
   "cell_type": "markdown",
   "metadata": {},
   "source": [
    "Plotly is a library that allows you to create interactive plots that you can use in dashboards or websites (you can save them as html files or static images).\n",
    "\n",
    "## Installation\n",
    "\n",
    "In order for this all to work, you'll need to install plotly and cufflinks to call plots directly off of a pandas dataframe. These libraries are not currently available through **conda** but are available through **pip**. Install the libraries at your command line/terminal using:\n",
    "\n",
    "    pip install plotly\n",
    "    pip install cufflinks\n",
    "\n",
    "** NOTE: Make sure you only have one installation of Python on your computer when you do this, otherwise the installation may not work. **\n",
    "\n",
    "## Imports and Set-up\n",
    "pip install cufflinks --upgrade"
   ]
  },
  {
   "cell_type": "code",
   "execution_count": 1,
   "metadata": {
    "collapsed": true
   },
   "outputs": [],
   "source": [
    "import pandas as pd\n",
    "import numpy as np\n",
    "%matplotlib inline"
   ]
  },
  {
   "cell_type": "code",
   "execution_count": 2,
   "metadata": {
    "collapsed": false
   },
   "outputs": [
    {
     "name": "stdout",
     "output_type": "stream",
     "text": [
      "5.9.0\n"
     ]
    }
   ],
   "source": [
    "from plotly import __version__\n",
    "from plotly.offline import download_plotlyjs, init_notebook_mode, plot, iplot\n",
    "\n",
    "print(__version__) # requires version >= 1.9.0"
   ]
  },
  {
   "cell_type": "code",
   "execution_count": 3,
   "metadata": {
    "collapsed": true
   },
   "outputs": [],
   "source": [
    "import cufflinks as cf"
   ]
  },
  {
   "cell_type": "code",
   "execution_count": 4,
   "metadata": {
    "collapsed": false
   },
   "outputs": [
    {
     "data": {
      "text/html": [
       "        <script type=\"text/javascript\">\n",
       "        window.PlotlyConfig = {MathJaxConfig: 'local'};\n",
       "        if (window.MathJax && window.MathJax.Hub && window.MathJax.Hub.Config) {window.MathJax.Hub.Config({SVG: {font: \"STIX-Web\"}});}\n",
       "        if (typeof require !== 'undefined') {\n",
       "        require.undef(\"plotly\");\n",
       "        requirejs.config({\n",
       "            paths: {\n",
       "                'plotly': ['https://cdn.plot.ly/plotly-2.12.1.min']\n",
       "            }\n",
       "        });\n",
       "        require(['plotly'], function(Plotly) {\n",
       "            window._Plotly = Plotly;\n",
       "        });\n",
       "        }\n",
       "        </script>\n",
       "        "
      ]
     },
     "metadata": {},
     "output_type": "display_data"
    }
   ],
   "source": [
    "# For Notebooks\n",
    "init_notebook_mode(connected=True)"
   ]
  },
  {
   "cell_type": "code",
   "execution_count": 5,
   "metadata": {
    "collapsed": false
   },
   "outputs": [
    {
     "data": {
      "text/html": [
       "        <script type=\"text/javascript\">\n",
       "        window.PlotlyConfig = {MathJaxConfig: 'local'};\n",
       "        if (window.MathJax && window.MathJax.Hub && window.MathJax.Hub.Config) {window.MathJax.Hub.Config({SVG: {font: \"STIX-Web\"}});}\n",
       "        if (typeof require !== 'undefined') {\n",
       "        require.undef(\"plotly\");\n",
       "        requirejs.config({\n",
       "            paths: {\n",
       "                'plotly': ['https://cdn.plot.ly/plotly-2.12.1.min']\n",
       "            }\n",
       "        });\n",
       "        require(['plotly'], function(Plotly) {\n",
       "            window._Plotly = Plotly;\n",
       "        });\n",
       "        }\n",
       "        </script>\n",
       "        "
      ]
     },
     "metadata": {},
     "output_type": "display_data"
    }
   ],
   "source": [
    "# For offline use\n",
    "cf.go_offline()"
   ]
  },
  {
   "attachments": {},
   "cell_type": "markdown",
   "metadata": {},
   "source": [
    "### Fake Data"
   ]
  },
  {
   "cell_type": "code",
   "execution_count": 6,
   "metadata": {
    "collapsed": false
   },
   "outputs": [],
   "source": [
    "df = pd.DataFrame(np.random.randn(100,4),columns='A B C D'.split())"
   ]
  },
  {
   "cell_type": "code",
   "execution_count": 7,
   "metadata": {
    "collapsed": false
   },
   "outputs": [
    {
     "data": {
      "text/html": [
       "<div>\n",
       "<style scoped>\n",
       "    .dataframe tbody tr th:only-of-type {\n",
       "        vertical-align: middle;\n",
       "    }\n",
       "\n",
       "    .dataframe tbody tr th {\n",
       "        vertical-align: top;\n",
       "    }\n",
       "\n",
       "    .dataframe thead th {\n",
       "        text-align: right;\n",
       "    }\n",
       "</style>\n",
       "<table border=\"1\" class=\"dataframe\">\n",
       "  <thead>\n",
       "    <tr style=\"text-align: right;\">\n",
       "      <th></th>\n",
       "      <th>A</th>\n",
       "      <th>B</th>\n",
       "      <th>C</th>\n",
       "      <th>D</th>\n",
       "    </tr>\n",
       "  </thead>\n",
       "  <tbody>\n",
       "    <tr>\n",
       "      <th>0</th>\n",
       "      <td>1.067101</td>\n",
       "      <td>0.324211</td>\n",
       "      <td>-0.053962</td>\n",
       "      <td>0.104144</td>\n",
       "    </tr>\n",
       "    <tr>\n",
       "      <th>1</th>\n",
       "      <td>0.122526</td>\n",
       "      <td>-0.473225</td>\n",
       "      <td>-0.495737</td>\n",
       "      <td>0.739361</td>\n",
       "    </tr>\n",
       "    <tr>\n",
       "      <th>2</th>\n",
       "      <td>-1.737289</td>\n",
       "      <td>0.082986</td>\n",
       "      <td>1.170992</td>\n",
       "      <td>-0.154514</td>\n",
       "    </tr>\n",
       "    <tr>\n",
       "      <th>3</th>\n",
       "      <td>0.169593</td>\n",
       "      <td>-2.152585</td>\n",
       "      <td>0.129943</td>\n",
       "      <td>-0.495304</td>\n",
       "    </tr>\n",
       "    <tr>\n",
       "      <th>4</th>\n",
       "      <td>0.064770</td>\n",
       "      <td>0.118356</td>\n",
       "      <td>0.222878</td>\n",
       "      <td>0.277530</td>\n",
       "    </tr>\n",
       "  </tbody>\n",
       "</table>\n",
       "</div>"
      ],
      "text/plain": [
       "          A         B         C         D\n",
       "0  1.067101  0.324211 -0.053962  0.104144\n",
       "1  0.122526 -0.473225 -0.495737  0.739361\n",
       "2 -1.737289  0.082986  1.170992 -0.154514\n",
       "3  0.169593 -2.152585  0.129943 -0.495304\n",
       "4  0.064770  0.118356  0.222878  0.277530"
      ]
     },
     "execution_count": 7,
     "metadata": {},
     "output_type": "execute_result"
    }
   ],
   "source": [
    "df.head()"
   ]
  },
  {
   "cell_type": "code",
   "execution_count": 8,
   "metadata": {
    "collapsed": true
   },
   "outputs": [],
   "source": [
    "df2 = pd.DataFrame({'Category':['A','B','C'],'Values':[32,43,50]})"
   ]
  },
  {
   "cell_type": "code",
   "execution_count": 9,
   "metadata": {
    "collapsed": false
   },
   "outputs": [
    {
     "data": {
      "text/html": [
       "<div>\n",
       "<style scoped>\n",
       "    .dataframe tbody tr th:only-of-type {\n",
       "        vertical-align: middle;\n",
       "    }\n",
       "\n",
       "    .dataframe tbody tr th {\n",
       "        vertical-align: top;\n",
       "    }\n",
       "\n",
       "    .dataframe thead th {\n",
       "        text-align: right;\n",
       "    }\n",
       "</style>\n",
       "<table border=\"1\" class=\"dataframe\">\n",
       "  <thead>\n",
       "    <tr style=\"text-align: right;\">\n",
       "      <th></th>\n",
       "      <th>Category</th>\n",
       "      <th>Values</th>\n",
       "    </tr>\n",
       "  </thead>\n",
       "  <tbody>\n",
       "    <tr>\n",
       "      <th>0</th>\n",
       "      <td>A</td>\n",
       "      <td>32</td>\n",
       "    </tr>\n",
       "    <tr>\n",
       "      <th>1</th>\n",
       "      <td>B</td>\n",
       "      <td>43</td>\n",
       "    </tr>\n",
       "    <tr>\n",
       "      <th>2</th>\n",
       "      <td>C</td>\n",
       "      <td>50</td>\n",
       "    </tr>\n",
       "  </tbody>\n",
       "</table>\n",
       "</div>"
      ],
      "text/plain": [
       "  Category  Values\n",
       "0        A      32\n",
       "1        B      43\n",
       "2        C      50"
      ]
     },
     "execution_count": 9,
     "metadata": {},
     "output_type": "execute_result"
    }
   ],
   "source": [
    "df2.head()"
   ]
  },
  {
   "attachments": {},
   "cell_type": "markdown",
   "metadata": {},
   "source": [
    "## Using Cufflinks and iplot()\n",
    "\n",
    "* scatter\n",
    "* bar\n",
    "* box\n",
    "* spread\n",
    "* ratio\n",
    "* heatmap\n",
    "* surface\n",
    "* histogram\n",
    "* bubble"
   ]
  },
  {
   "attachments": {},
   "cell_type": "markdown",
   "metadata": {},
   "source": [
    "## Scatter"
   ]
  },
  {
   "cell_type": "code",
   "execution_count": 10,
   "metadata": {
    "collapsed": false
   },
   "outputs": [
    {
     "data": {
      "application/vnd.plotly.v1+json": {
       "config": {
        "linkText": "Export to plot.ly",
        "plotlyServerURL": "https://plot.ly",
        "showLink": true
       },
       "data": [
        {
         "line": {
          "color": "rgba(255, 153, 51, 1.0)",
          "dash": "solid",
          "shape": "linear",
          "width": 1.3
         },
         "marker": {
          "size": 10,
          "symbol": "circle"
         },
         "mode": "markers",
         "name": "B",
         "text": "",
         "type": "scatter",
         "x": [
          1.0671011644718573,
          0.12252614843855704,
          -1.7372888077823996,
          0.1695925156229066,
          0.06476969935358666,
          -0.212786133486985,
          -0.5735973478839091,
          -0.12938383586765284,
          -1.7188311871946507,
          -0.2462788372860753,
          0.9287326523635135,
          0.5450128315526861,
          -1.8072486839395705,
          -1.7795006156335864,
          -1.2974719260749443,
          -0.3592545093486659,
          0.8915403848890031,
          -0.1588415569256102,
          -1.2316684195026208,
          -1.0049252800738409,
          0.6700713729610859,
          0.22193154126852746,
          0.7356091777932091,
          1.5138940028695234,
          -0.6706984134027338,
          -0.27220928667299693,
          0.8662373066921251,
          -1.070402182355442,
          -0.04263861142049177,
          0.03536065083037024,
          -0.2819858291956445,
          1.0570211688131401,
          0.40019648892087417,
          1.0671876866883436,
          0.1045048939373422,
          0.07843731284964015,
          0.03869723308290153,
          1.57405998938751,
          -1.264271354270455,
          1.2646305629099084,
          0.35762091765326615,
          -1.8896000743330792,
          -0.8702777654119461,
          1.3636813999406607,
          3.521121368781094,
          1.8556237101040898,
          0.6135846263834486,
          0.19693928277278133,
          -1.0130723333341638,
          -0.9061248641115524,
          -0.9410006207841951,
          -0.15564022009532824,
          2.158487641653487,
          -0.040457391814220506,
          1.0174255230975695,
          0.90151867646762,
          -0.8380520538664679,
          0.7230514530534915,
          -0.16474974913926488,
          -0.674869747821586,
          -0.07357150245215686,
          -1.1124792090056004,
          0.8973231960266346,
          2.5159951581832525,
          -0.4278125131232546,
          -0.14109235397762634,
          0.8569611733445998,
          -0.3272000440577514,
          0.059898668318760555,
          -0.49665730199220287,
          -0.38547426331292745,
          0.9974819647708963,
          0.16794673379161187,
          -1.2141161440291353,
          -1.1578316036056038,
          0.496478738589013,
          0.35744730776764766,
          2.636828619095761,
          1.5050971123986887,
          -0.3914467653398145,
          0.06260785490674617,
          -0.8515441255200638,
          0.41822925967076363,
          0.1634499685270885,
          -0.02968162002226122,
          -1.0294996172388906,
          0.2063858582922663,
          -0.21801109645887629,
          0.21803532293761665,
          1.213055175573047,
          -0.5421404614169028,
          0.20413550917984385,
          0.5275127289016036,
          -1.721650401366734,
          -0.7731960977511728,
          -0.9286564303068765,
          0.789649311809227,
          -1.354164023869453,
          0.2399036793110881,
          -0.5387852014533212
         ],
         "y": [
          0.3242107305076018,
          -0.4732245506986917,
          0.0829857821925263,
          -2.1525850663804387,
          0.11835627839193555,
          -1.5273148362422408,
          -1.4043969394601976,
          -1.3792763629763778,
          1.3750273689277361,
          -1.6013905203400136,
          -0.039458131868909514,
          -1.4205456275964161,
          -2.4028895462189492,
          -0.4751126634252541,
          0.01061548352516568,
          -1.2776152875128894,
          1.1422057428383312,
          -0.24415288336489152,
          2.0292484722153756,
          0.34241219593914046,
          -0.4130910663708398,
          -0.30662928028805625,
          2.0797062939154927,
          -0.30808139365540094,
          1.1385793772413473,
          -0.6241200804898174,
          1.7705027392487196,
          -0.5417958921081693,
          0.5620749620907021,
          0.5715996039949228,
          0.23512465947319333,
          -0.16011712549359194,
          -0.0008693407367334607,
          0.4772493548054418,
          -0.5065004498261871,
          -0.708458749352873,
          0.44408222832463007,
          1.2562986835516903,
          -0.45474023718854406,
          0.14683106629185222,
          -0.20047809323927243,
          1.0606526190325922,
          0.3835298289255345,
          -0.03592244683880408,
          2.37578067702395,
          0.5397223756932208,
          -0.36722791269090865,
          -0.5228746111364324,
          0.6776034623151441,
          0.8890983623704151,
          1.141854840144766,
          -0.382010536531334,
          1.0691027794131933,
          -0.1795380696951676,
          0.3263695840460823,
          -0.20675790271714276,
          -1.314757055451178,
          -0.22327484502621184,
          0.7729115659347094,
          0.5643409652739859,
          -0.35594050331525934,
          0.7664545925333168,
          -0.05779400781082389,
          0.6547818753741786,
          -0.15169546769168585,
          1.480916620297017,
          1.0716548982406737,
          0.2684861671452203,
          0.07136188312843045,
          0.9234164060938872,
          -2.3674418226466596,
          -1.3319425532618818,
          -0.6025629660412167,
          0.3667473725886893,
          -1.2466071413506252,
          0.766179643312747,
          0.6141960995096972,
          -0.9324695780648631,
          -1.109699770201403,
          2.61766000450689,
          0.06798776316756977,
          0.7709470514371616,
          -0.18635088457397125,
          1.0720442560847045,
          -1.3436949289374365,
          -0.8760412994163717,
          -0.1561731292700013,
          0.5810165936635211,
          0.7215976203706973,
          1.9210723297470134,
          -0.1314257766034657,
          0.9819513203043023,
          0.5614252531811491,
          0.7107737439856229,
          -0.9084435938448427,
          0.8796797700864266,
          -0.799676880375282,
          -1.544114012485793,
          -0.31572189255650235,
          -0.40706289251207856
         ]
        }
       ],
       "layout": {
        "legend": {
         "bgcolor": "#F5F6F9",
         "font": {
          "color": "#4D5663"
         }
        },
        "paper_bgcolor": "#F5F6F9",
        "plot_bgcolor": "#F5F6F9",
        "template": {
         "data": {
          "bar": [
           {
            "error_x": {
             "color": "#2a3f5f"
            },
            "error_y": {
             "color": "#2a3f5f"
            },
            "marker": {
             "line": {
              "color": "#E5ECF6",
              "width": 0.5
             },
             "pattern": {
              "fillmode": "overlay",
              "size": 10,
              "solidity": 0.2
             }
            },
            "type": "bar"
           }
          ],
          "barpolar": [
           {
            "marker": {
             "line": {
              "color": "#E5ECF6",
              "width": 0.5
             },
             "pattern": {
              "fillmode": "overlay",
              "size": 10,
              "solidity": 0.2
             }
            },
            "type": "barpolar"
           }
          ],
          "carpet": [
           {
            "aaxis": {
             "endlinecolor": "#2a3f5f",
             "gridcolor": "white",
             "linecolor": "white",
             "minorgridcolor": "white",
             "startlinecolor": "#2a3f5f"
            },
            "baxis": {
             "endlinecolor": "#2a3f5f",
             "gridcolor": "white",
             "linecolor": "white",
             "minorgridcolor": "white",
             "startlinecolor": "#2a3f5f"
            },
            "type": "carpet"
           }
          ],
          "choropleth": [
           {
            "colorbar": {
             "outlinewidth": 0,
             "ticks": ""
            },
            "type": "choropleth"
           }
          ],
          "contour": [
           {
            "colorbar": {
             "outlinewidth": 0,
             "ticks": ""
            },
            "colorscale": [
             [
              0,
              "#0d0887"
             ],
             [
              0.1111111111111111,
              "#46039f"
             ],
             [
              0.2222222222222222,
              "#7201a8"
             ],
             [
              0.3333333333333333,
              "#9c179e"
             ],
             [
              0.4444444444444444,
              "#bd3786"
             ],
             [
              0.5555555555555556,
              "#d8576b"
             ],
             [
              0.6666666666666666,
              "#ed7953"
             ],
             [
              0.7777777777777778,
              "#fb9f3a"
             ],
             [
              0.8888888888888888,
              "#fdca26"
             ],
             [
              1,
              "#f0f921"
             ]
            ],
            "type": "contour"
           }
          ],
          "contourcarpet": [
           {
            "colorbar": {
             "outlinewidth": 0,
             "ticks": ""
            },
            "type": "contourcarpet"
           }
          ],
          "heatmap": [
           {
            "colorbar": {
             "outlinewidth": 0,
             "ticks": ""
            },
            "colorscale": [
             [
              0,
              "#0d0887"
             ],
             [
              0.1111111111111111,
              "#46039f"
             ],
             [
              0.2222222222222222,
              "#7201a8"
             ],
             [
              0.3333333333333333,
              "#9c179e"
             ],
             [
              0.4444444444444444,
              "#bd3786"
             ],
             [
              0.5555555555555556,
              "#d8576b"
             ],
             [
              0.6666666666666666,
              "#ed7953"
             ],
             [
              0.7777777777777778,
              "#fb9f3a"
             ],
             [
              0.8888888888888888,
              "#fdca26"
             ],
             [
              1,
              "#f0f921"
             ]
            ],
            "type": "heatmap"
           }
          ],
          "heatmapgl": [
           {
            "colorbar": {
             "outlinewidth": 0,
             "ticks": ""
            },
            "colorscale": [
             [
              0,
              "#0d0887"
             ],
             [
              0.1111111111111111,
              "#46039f"
             ],
             [
              0.2222222222222222,
              "#7201a8"
             ],
             [
              0.3333333333333333,
              "#9c179e"
             ],
             [
              0.4444444444444444,
              "#bd3786"
             ],
             [
              0.5555555555555556,
              "#d8576b"
             ],
             [
              0.6666666666666666,
              "#ed7953"
             ],
             [
              0.7777777777777778,
              "#fb9f3a"
             ],
             [
              0.8888888888888888,
              "#fdca26"
             ],
             [
              1,
              "#f0f921"
             ]
            ],
            "type": "heatmapgl"
           }
          ],
          "histogram": [
           {
            "marker": {
             "pattern": {
              "fillmode": "overlay",
              "size": 10,
              "solidity": 0.2
             }
            },
            "type": "histogram"
           }
          ],
          "histogram2d": [
           {
            "colorbar": {
             "outlinewidth": 0,
             "ticks": ""
            },
            "colorscale": [
             [
              0,
              "#0d0887"
             ],
             [
              0.1111111111111111,
              "#46039f"
             ],
             [
              0.2222222222222222,
              "#7201a8"
             ],
             [
              0.3333333333333333,
              "#9c179e"
             ],
             [
              0.4444444444444444,
              "#bd3786"
             ],
             [
              0.5555555555555556,
              "#d8576b"
             ],
             [
              0.6666666666666666,
              "#ed7953"
             ],
             [
              0.7777777777777778,
              "#fb9f3a"
             ],
             [
              0.8888888888888888,
              "#fdca26"
             ],
             [
              1,
              "#f0f921"
             ]
            ],
            "type": "histogram2d"
           }
          ],
          "histogram2dcontour": [
           {
            "colorbar": {
             "outlinewidth": 0,
             "ticks": ""
            },
            "colorscale": [
             [
              0,
              "#0d0887"
             ],
             [
              0.1111111111111111,
              "#46039f"
             ],
             [
              0.2222222222222222,
              "#7201a8"
             ],
             [
              0.3333333333333333,
              "#9c179e"
             ],
             [
              0.4444444444444444,
              "#bd3786"
             ],
             [
              0.5555555555555556,
              "#d8576b"
             ],
             [
              0.6666666666666666,
              "#ed7953"
             ],
             [
              0.7777777777777778,
              "#fb9f3a"
             ],
             [
              0.8888888888888888,
              "#fdca26"
             ],
             [
              1,
              "#f0f921"
             ]
            ],
            "type": "histogram2dcontour"
           }
          ],
          "mesh3d": [
           {
            "colorbar": {
             "outlinewidth": 0,
             "ticks": ""
            },
            "type": "mesh3d"
           }
          ],
          "parcoords": [
           {
            "line": {
             "colorbar": {
              "outlinewidth": 0,
              "ticks": ""
             }
            },
            "type": "parcoords"
           }
          ],
          "pie": [
           {
            "automargin": true,
            "type": "pie"
           }
          ],
          "scatter": [
           {
            "fillpattern": {
             "fillmode": "overlay",
             "size": 10,
             "solidity": 0.2
            },
            "type": "scatter"
           }
          ],
          "scatter3d": [
           {
            "line": {
             "colorbar": {
              "outlinewidth": 0,
              "ticks": ""
             }
            },
            "marker": {
             "colorbar": {
              "outlinewidth": 0,
              "ticks": ""
             }
            },
            "type": "scatter3d"
           }
          ],
          "scattercarpet": [
           {
            "marker": {
             "colorbar": {
              "outlinewidth": 0,
              "ticks": ""
             }
            },
            "type": "scattercarpet"
           }
          ],
          "scattergeo": [
           {
            "marker": {
             "colorbar": {
              "outlinewidth": 0,
              "ticks": ""
             }
            },
            "type": "scattergeo"
           }
          ],
          "scattergl": [
           {
            "marker": {
             "colorbar": {
              "outlinewidth": 0,
              "ticks": ""
             }
            },
            "type": "scattergl"
           }
          ],
          "scattermapbox": [
           {
            "marker": {
             "colorbar": {
              "outlinewidth": 0,
              "ticks": ""
             }
            },
            "type": "scattermapbox"
           }
          ],
          "scatterpolar": [
           {
            "marker": {
             "colorbar": {
              "outlinewidth": 0,
              "ticks": ""
             }
            },
            "type": "scatterpolar"
           }
          ],
          "scatterpolargl": [
           {
            "marker": {
             "colorbar": {
              "outlinewidth": 0,
              "ticks": ""
             }
            },
            "type": "scatterpolargl"
           }
          ],
          "scatterternary": [
           {
            "marker": {
             "colorbar": {
              "outlinewidth": 0,
              "ticks": ""
             }
            },
            "type": "scatterternary"
           }
          ],
          "surface": [
           {
            "colorbar": {
             "outlinewidth": 0,
             "ticks": ""
            },
            "colorscale": [
             [
              0,
              "#0d0887"
             ],
             [
              0.1111111111111111,
              "#46039f"
             ],
             [
              0.2222222222222222,
              "#7201a8"
             ],
             [
              0.3333333333333333,
              "#9c179e"
             ],
             [
              0.4444444444444444,
              "#bd3786"
             ],
             [
              0.5555555555555556,
              "#d8576b"
             ],
             [
              0.6666666666666666,
              "#ed7953"
             ],
             [
              0.7777777777777778,
              "#fb9f3a"
             ],
             [
              0.8888888888888888,
              "#fdca26"
             ],
             [
              1,
              "#f0f921"
             ]
            ],
            "type": "surface"
           }
          ],
          "table": [
           {
            "cells": {
             "fill": {
              "color": "#EBF0F8"
             },
             "line": {
              "color": "white"
             }
            },
            "header": {
             "fill": {
              "color": "#C8D4E3"
             },
             "line": {
              "color": "white"
             }
            },
            "type": "table"
           }
          ]
         },
         "layout": {
          "annotationdefaults": {
           "arrowcolor": "#2a3f5f",
           "arrowhead": 0,
           "arrowwidth": 1
          },
          "autotypenumbers": "strict",
          "coloraxis": {
           "colorbar": {
            "outlinewidth": 0,
            "ticks": ""
           }
          },
          "colorscale": {
           "diverging": [
            [
             0,
             "#8e0152"
            ],
            [
             0.1,
             "#c51b7d"
            ],
            [
             0.2,
             "#de77ae"
            ],
            [
             0.3,
             "#f1b6da"
            ],
            [
             0.4,
             "#fde0ef"
            ],
            [
             0.5,
             "#f7f7f7"
            ],
            [
             0.6,
             "#e6f5d0"
            ],
            [
             0.7,
             "#b8e186"
            ],
            [
             0.8,
             "#7fbc41"
            ],
            [
             0.9,
             "#4d9221"
            ],
            [
             1,
             "#276419"
            ]
           ],
           "sequential": [
            [
             0,
             "#0d0887"
            ],
            [
             0.1111111111111111,
             "#46039f"
            ],
            [
             0.2222222222222222,
             "#7201a8"
            ],
            [
             0.3333333333333333,
             "#9c179e"
            ],
            [
             0.4444444444444444,
             "#bd3786"
            ],
            [
             0.5555555555555556,
             "#d8576b"
            ],
            [
             0.6666666666666666,
             "#ed7953"
            ],
            [
             0.7777777777777778,
             "#fb9f3a"
            ],
            [
             0.8888888888888888,
             "#fdca26"
            ],
            [
             1,
             "#f0f921"
            ]
           ],
           "sequentialminus": [
            [
             0,
             "#0d0887"
            ],
            [
             0.1111111111111111,
             "#46039f"
            ],
            [
             0.2222222222222222,
             "#7201a8"
            ],
            [
             0.3333333333333333,
             "#9c179e"
            ],
            [
             0.4444444444444444,
             "#bd3786"
            ],
            [
             0.5555555555555556,
             "#d8576b"
            ],
            [
             0.6666666666666666,
             "#ed7953"
            ],
            [
             0.7777777777777778,
             "#fb9f3a"
            ],
            [
             0.8888888888888888,
             "#fdca26"
            ],
            [
             1,
             "#f0f921"
            ]
           ]
          },
          "colorway": [
           "#636efa",
           "#EF553B",
           "#00cc96",
           "#ab63fa",
           "#FFA15A",
           "#19d3f3",
           "#FF6692",
           "#B6E880",
           "#FF97FF",
           "#FECB52"
          ],
          "font": {
           "color": "#2a3f5f"
          },
          "geo": {
           "bgcolor": "white",
           "lakecolor": "white",
           "landcolor": "#E5ECF6",
           "showlakes": true,
           "showland": true,
           "subunitcolor": "white"
          },
          "hoverlabel": {
           "align": "left"
          },
          "hovermode": "closest",
          "mapbox": {
           "style": "light"
          },
          "paper_bgcolor": "white",
          "plot_bgcolor": "#E5ECF6",
          "polar": {
           "angularaxis": {
            "gridcolor": "white",
            "linecolor": "white",
            "ticks": ""
           },
           "bgcolor": "#E5ECF6",
           "radialaxis": {
            "gridcolor": "white",
            "linecolor": "white",
            "ticks": ""
           }
          },
          "scene": {
           "xaxis": {
            "backgroundcolor": "#E5ECF6",
            "gridcolor": "white",
            "gridwidth": 2,
            "linecolor": "white",
            "showbackground": true,
            "ticks": "",
            "zerolinecolor": "white"
           },
           "yaxis": {
            "backgroundcolor": "#E5ECF6",
            "gridcolor": "white",
            "gridwidth": 2,
            "linecolor": "white",
            "showbackground": true,
            "ticks": "",
            "zerolinecolor": "white"
           },
           "zaxis": {
            "backgroundcolor": "#E5ECF6",
            "gridcolor": "white",
            "gridwidth": 2,
            "linecolor": "white",
            "showbackground": true,
            "ticks": "",
            "zerolinecolor": "white"
           }
          },
          "shapedefaults": {
           "line": {
            "color": "#2a3f5f"
           }
          },
          "ternary": {
           "aaxis": {
            "gridcolor": "white",
            "linecolor": "white",
            "ticks": ""
           },
           "baxis": {
            "gridcolor": "white",
            "linecolor": "white",
            "ticks": ""
           },
           "bgcolor": "#E5ECF6",
           "caxis": {
            "gridcolor": "white",
            "linecolor": "white",
            "ticks": ""
           }
          },
          "title": {
           "x": 0.05
          },
          "xaxis": {
           "automargin": true,
           "gridcolor": "white",
           "linecolor": "white",
           "ticks": "",
           "title": {
            "standoff": 15
           },
           "zerolinecolor": "white",
           "zerolinewidth": 2
          },
          "yaxis": {
           "automargin": true,
           "gridcolor": "white",
           "linecolor": "white",
           "ticks": "",
           "title": {
            "standoff": 15
           },
           "zerolinecolor": "white",
           "zerolinewidth": 2
          }
         }
        },
        "title": {
         "font": {
          "color": "#4D5663"
         }
        },
        "xaxis": {
         "gridcolor": "#E1E5ED",
         "showgrid": true,
         "tickfont": {
          "color": "#4D5663"
         },
         "title": {
          "font": {
           "color": "#4D5663"
          },
          "text": ""
         },
         "zerolinecolor": "#E1E5ED"
        },
        "yaxis": {
         "gridcolor": "#E1E5ED",
         "showgrid": true,
         "tickfont": {
          "color": "#4D5663"
         },
         "title": {
          "font": {
           "color": "#4D5663"
          },
          "text": ""
         },
         "zerolinecolor": "#E1E5ED"
        }
       }
      },
      "text/html": [
       "<div>                            <div id=\"f333d729-e586-4c4d-8049-8a8315e2c046\" class=\"plotly-graph-div\" style=\"height:525px; width:100%;\"></div>            <script type=\"text/javascript\">                require([\"plotly\"], function(Plotly) {                    window.PLOTLYENV=window.PLOTLYENV || {};\n",
       "                    window.PLOTLYENV.BASE_URL='https://plot.ly';                                    if (document.getElementById(\"f333d729-e586-4c4d-8049-8a8315e2c046\")) {                    Plotly.newPlot(                        \"f333d729-e586-4c4d-8049-8a8315e2c046\",                        [{\"line\":{\"color\":\"rgba(255, 153, 51, 1.0)\",\"dash\":\"solid\",\"shape\":\"linear\",\"width\":1.3},\"marker\":{\"size\":10,\"symbol\":\"circle\"},\"mode\":\"markers\",\"name\":\"B\",\"text\":\"\",\"x\":[1.0671011644718573,0.12252614843855704,-1.7372888077823996,0.1695925156229066,0.06476969935358666,-0.212786133486985,-0.5735973478839091,-0.12938383586765284,-1.7188311871946507,-0.2462788372860753,0.9287326523635135,0.5450128315526861,-1.8072486839395705,-1.7795006156335864,-1.2974719260749443,-0.3592545093486659,0.8915403848890031,-0.1588415569256102,-1.2316684195026208,-1.0049252800738409,0.6700713729610859,0.22193154126852746,0.7356091777932091,1.5138940028695234,-0.6706984134027338,-0.27220928667299693,0.8662373066921251,-1.070402182355442,-0.04263861142049177,0.03536065083037024,-0.2819858291956445,1.0570211688131401,0.40019648892087417,1.0671876866883436,0.1045048939373422,0.07843731284964015,0.03869723308290153,1.57405998938751,-1.264271354270455,1.2646305629099084,0.35762091765326615,-1.8896000743330792,-0.8702777654119461,1.3636813999406607,3.521121368781094,1.8556237101040898,0.6135846263834486,0.19693928277278133,-1.0130723333341638,-0.9061248641115524,-0.9410006207841951,-0.15564022009532824,2.158487641653487,-0.040457391814220506,1.0174255230975695,0.90151867646762,-0.8380520538664679,0.7230514530534915,-0.16474974913926488,-0.674869747821586,-0.07357150245215686,-1.1124792090056004,0.8973231960266346,2.5159951581832525,-0.4278125131232546,-0.14109235397762634,0.8569611733445998,-0.3272000440577514,0.059898668318760555,-0.49665730199220287,-0.38547426331292745,0.9974819647708963,0.16794673379161187,-1.2141161440291353,-1.1578316036056038,0.496478738589013,0.35744730776764766,2.636828619095761,1.5050971123986887,-0.3914467653398145,0.06260785490674617,-0.8515441255200638,0.41822925967076363,0.1634499685270885,-0.02968162002226122,-1.0294996172388906,0.2063858582922663,-0.21801109645887629,0.21803532293761665,1.213055175573047,-0.5421404614169028,0.20413550917984385,0.5275127289016036,-1.721650401366734,-0.7731960977511728,-0.9286564303068765,0.789649311809227,-1.354164023869453,0.2399036793110881,-0.5387852014533212],\"y\":[0.3242107305076018,-0.4732245506986917,0.0829857821925263,-2.1525850663804387,0.11835627839193555,-1.5273148362422408,-1.4043969394601976,-1.3792763629763778,1.3750273689277361,-1.6013905203400136,-0.039458131868909514,-1.4205456275964161,-2.4028895462189492,-0.4751126634252541,0.01061548352516568,-1.2776152875128894,1.1422057428383312,-0.24415288336489152,2.0292484722153756,0.34241219593914046,-0.4130910663708398,-0.30662928028805625,2.0797062939154927,-0.30808139365540094,1.1385793772413473,-0.6241200804898174,1.7705027392487196,-0.5417958921081693,0.5620749620907021,0.5715996039949228,0.23512465947319333,-0.16011712549359194,-0.0008693407367334607,0.4772493548054418,-0.5065004498261871,-0.708458749352873,0.44408222832463007,1.2562986835516903,-0.45474023718854406,0.14683106629185222,-0.20047809323927243,1.0606526190325922,0.3835298289255345,-0.03592244683880408,2.37578067702395,0.5397223756932208,-0.36722791269090865,-0.5228746111364324,0.6776034623151441,0.8890983623704151,1.141854840144766,-0.382010536531334,1.0691027794131933,-0.1795380696951676,0.3263695840460823,-0.20675790271714276,-1.314757055451178,-0.22327484502621184,0.7729115659347094,0.5643409652739859,-0.35594050331525934,0.7664545925333168,-0.05779400781082389,0.6547818753741786,-0.15169546769168585,1.480916620297017,1.0716548982406737,0.2684861671452203,0.07136188312843045,0.9234164060938872,-2.3674418226466596,-1.3319425532618818,-0.6025629660412167,0.3667473725886893,-1.2466071413506252,0.766179643312747,0.6141960995096972,-0.9324695780648631,-1.109699770201403,2.61766000450689,0.06798776316756977,0.7709470514371616,-0.18635088457397125,1.0720442560847045,-1.3436949289374365,-0.8760412994163717,-0.1561731292700013,0.5810165936635211,0.7215976203706973,1.9210723297470134,-0.1314257766034657,0.9819513203043023,0.5614252531811491,0.7107737439856229,-0.9084435938448427,0.8796797700864266,-0.799676880375282,-1.544114012485793,-0.31572189255650235,-0.40706289251207856],\"type\":\"scatter\"}],                        {\"legend\":{\"bgcolor\":\"#F5F6F9\",\"font\":{\"color\":\"#4D5663\"}},\"paper_bgcolor\":\"#F5F6F9\",\"plot_bgcolor\":\"#F5F6F9\",\"template\":{\"data\":{\"barpolar\":[{\"marker\":{\"line\":{\"color\":\"#E5ECF6\",\"width\":0.5},\"pattern\":{\"fillmode\":\"overlay\",\"size\":10,\"solidity\":0.2}},\"type\":\"barpolar\"}],\"bar\":[{\"error_x\":{\"color\":\"#2a3f5f\"},\"error_y\":{\"color\":\"#2a3f5f\"},\"marker\":{\"line\":{\"color\":\"#E5ECF6\",\"width\":0.5},\"pattern\":{\"fillmode\":\"overlay\",\"size\":10,\"solidity\":0.2}},\"type\":\"bar\"}],\"carpet\":[{\"aaxis\":{\"endlinecolor\":\"#2a3f5f\",\"gridcolor\":\"white\",\"linecolor\":\"white\",\"minorgridcolor\":\"white\",\"startlinecolor\":\"#2a3f5f\"},\"baxis\":{\"endlinecolor\":\"#2a3f5f\",\"gridcolor\":\"white\",\"linecolor\":\"white\",\"minorgridcolor\":\"white\",\"startlinecolor\":\"#2a3f5f\"},\"type\":\"carpet\"}],\"choropleth\":[{\"colorbar\":{\"outlinewidth\":0,\"ticks\":\"\"},\"type\":\"choropleth\"}],\"contourcarpet\":[{\"colorbar\":{\"outlinewidth\":0,\"ticks\":\"\"},\"type\":\"contourcarpet\"}],\"contour\":[{\"colorbar\":{\"outlinewidth\":0,\"ticks\":\"\"},\"colorscale\":[[0.0,\"#0d0887\"],[0.1111111111111111,\"#46039f\"],[0.2222222222222222,\"#7201a8\"],[0.3333333333333333,\"#9c179e\"],[0.4444444444444444,\"#bd3786\"],[0.5555555555555556,\"#d8576b\"],[0.6666666666666666,\"#ed7953\"],[0.7777777777777778,\"#fb9f3a\"],[0.8888888888888888,\"#fdca26\"],[1.0,\"#f0f921\"]],\"type\":\"contour\"}],\"heatmapgl\":[{\"colorbar\":{\"outlinewidth\":0,\"ticks\":\"\"},\"colorscale\":[[0.0,\"#0d0887\"],[0.1111111111111111,\"#46039f\"],[0.2222222222222222,\"#7201a8\"],[0.3333333333333333,\"#9c179e\"],[0.4444444444444444,\"#bd3786\"],[0.5555555555555556,\"#d8576b\"],[0.6666666666666666,\"#ed7953\"],[0.7777777777777778,\"#fb9f3a\"],[0.8888888888888888,\"#fdca26\"],[1.0,\"#f0f921\"]],\"type\":\"heatmapgl\"}],\"heatmap\":[{\"colorbar\":{\"outlinewidth\":0,\"ticks\":\"\"},\"colorscale\":[[0.0,\"#0d0887\"],[0.1111111111111111,\"#46039f\"],[0.2222222222222222,\"#7201a8\"],[0.3333333333333333,\"#9c179e\"],[0.4444444444444444,\"#bd3786\"],[0.5555555555555556,\"#d8576b\"],[0.6666666666666666,\"#ed7953\"],[0.7777777777777778,\"#fb9f3a\"],[0.8888888888888888,\"#fdca26\"],[1.0,\"#f0f921\"]],\"type\":\"heatmap\"}],\"histogram2dcontour\":[{\"colorbar\":{\"outlinewidth\":0,\"ticks\":\"\"},\"colorscale\":[[0.0,\"#0d0887\"],[0.1111111111111111,\"#46039f\"],[0.2222222222222222,\"#7201a8\"],[0.3333333333333333,\"#9c179e\"],[0.4444444444444444,\"#bd3786\"],[0.5555555555555556,\"#d8576b\"],[0.6666666666666666,\"#ed7953\"],[0.7777777777777778,\"#fb9f3a\"],[0.8888888888888888,\"#fdca26\"],[1.0,\"#f0f921\"]],\"type\":\"histogram2dcontour\"}],\"histogram2d\":[{\"colorbar\":{\"outlinewidth\":0,\"ticks\":\"\"},\"colorscale\":[[0.0,\"#0d0887\"],[0.1111111111111111,\"#46039f\"],[0.2222222222222222,\"#7201a8\"],[0.3333333333333333,\"#9c179e\"],[0.4444444444444444,\"#bd3786\"],[0.5555555555555556,\"#d8576b\"],[0.6666666666666666,\"#ed7953\"],[0.7777777777777778,\"#fb9f3a\"],[0.8888888888888888,\"#fdca26\"],[1.0,\"#f0f921\"]],\"type\":\"histogram2d\"}],\"histogram\":[{\"marker\":{\"pattern\":{\"fillmode\":\"overlay\",\"size\":10,\"solidity\":0.2}},\"type\":\"histogram\"}],\"mesh3d\":[{\"colorbar\":{\"outlinewidth\":0,\"ticks\":\"\"},\"type\":\"mesh3d\"}],\"parcoords\":[{\"line\":{\"colorbar\":{\"outlinewidth\":0,\"ticks\":\"\"}},\"type\":\"parcoords\"}],\"pie\":[{\"automargin\":true,\"type\":\"pie\"}],\"scatter3d\":[{\"line\":{\"colorbar\":{\"outlinewidth\":0,\"ticks\":\"\"}},\"marker\":{\"colorbar\":{\"outlinewidth\":0,\"ticks\":\"\"}},\"type\":\"scatter3d\"}],\"scattercarpet\":[{\"marker\":{\"colorbar\":{\"outlinewidth\":0,\"ticks\":\"\"}},\"type\":\"scattercarpet\"}],\"scattergeo\":[{\"marker\":{\"colorbar\":{\"outlinewidth\":0,\"ticks\":\"\"}},\"type\":\"scattergeo\"}],\"scattergl\":[{\"marker\":{\"colorbar\":{\"outlinewidth\":0,\"ticks\":\"\"}},\"type\":\"scattergl\"}],\"scattermapbox\":[{\"marker\":{\"colorbar\":{\"outlinewidth\":0,\"ticks\":\"\"}},\"type\":\"scattermapbox\"}],\"scatterpolargl\":[{\"marker\":{\"colorbar\":{\"outlinewidth\":0,\"ticks\":\"\"}},\"type\":\"scatterpolargl\"}],\"scatterpolar\":[{\"marker\":{\"colorbar\":{\"outlinewidth\":0,\"ticks\":\"\"}},\"type\":\"scatterpolar\"}],\"scatter\":[{\"fillpattern\":{\"fillmode\":\"overlay\",\"size\":10,\"solidity\":0.2},\"type\":\"scatter\"}],\"scatterternary\":[{\"marker\":{\"colorbar\":{\"outlinewidth\":0,\"ticks\":\"\"}},\"type\":\"scatterternary\"}],\"surface\":[{\"colorbar\":{\"outlinewidth\":0,\"ticks\":\"\"},\"colorscale\":[[0.0,\"#0d0887\"],[0.1111111111111111,\"#46039f\"],[0.2222222222222222,\"#7201a8\"],[0.3333333333333333,\"#9c179e\"],[0.4444444444444444,\"#bd3786\"],[0.5555555555555556,\"#d8576b\"],[0.6666666666666666,\"#ed7953\"],[0.7777777777777778,\"#fb9f3a\"],[0.8888888888888888,\"#fdca26\"],[1.0,\"#f0f921\"]],\"type\":\"surface\"}],\"table\":[{\"cells\":{\"fill\":{\"color\":\"#EBF0F8\"},\"line\":{\"color\":\"white\"}},\"header\":{\"fill\":{\"color\":\"#C8D4E3\"},\"line\":{\"color\":\"white\"}},\"type\":\"table\"}]},\"layout\":{\"annotationdefaults\":{\"arrowcolor\":\"#2a3f5f\",\"arrowhead\":0,\"arrowwidth\":1},\"autotypenumbers\":\"strict\",\"coloraxis\":{\"colorbar\":{\"outlinewidth\":0,\"ticks\":\"\"}},\"colorscale\":{\"diverging\":[[0,\"#8e0152\"],[0.1,\"#c51b7d\"],[0.2,\"#de77ae\"],[0.3,\"#f1b6da\"],[0.4,\"#fde0ef\"],[0.5,\"#f7f7f7\"],[0.6,\"#e6f5d0\"],[0.7,\"#b8e186\"],[0.8,\"#7fbc41\"],[0.9,\"#4d9221\"],[1,\"#276419\"]],\"sequential\":[[0.0,\"#0d0887\"],[0.1111111111111111,\"#46039f\"],[0.2222222222222222,\"#7201a8\"],[0.3333333333333333,\"#9c179e\"],[0.4444444444444444,\"#bd3786\"],[0.5555555555555556,\"#d8576b\"],[0.6666666666666666,\"#ed7953\"],[0.7777777777777778,\"#fb9f3a\"],[0.8888888888888888,\"#fdca26\"],[1.0,\"#f0f921\"]],\"sequentialminus\":[[0.0,\"#0d0887\"],[0.1111111111111111,\"#46039f\"],[0.2222222222222222,\"#7201a8\"],[0.3333333333333333,\"#9c179e\"],[0.4444444444444444,\"#bd3786\"],[0.5555555555555556,\"#d8576b\"],[0.6666666666666666,\"#ed7953\"],[0.7777777777777778,\"#fb9f3a\"],[0.8888888888888888,\"#fdca26\"],[1.0,\"#f0f921\"]]},\"colorway\":[\"#636efa\",\"#EF553B\",\"#00cc96\",\"#ab63fa\",\"#FFA15A\",\"#19d3f3\",\"#FF6692\",\"#B6E880\",\"#FF97FF\",\"#FECB52\"],\"font\":{\"color\":\"#2a3f5f\"},\"geo\":{\"bgcolor\":\"white\",\"lakecolor\":\"white\",\"landcolor\":\"#E5ECF6\",\"showlakes\":true,\"showland\":true,\"subunitcolor\":\"white\"},\"hoverlabel\":{\"align\":\"left\"},\"hovermode\":\"closest\",\"mapbox\":{\"style\":\"light\"},\"paper_bgcolor\":\"white\",\"plot_bgcolor\":\"#E5ECF6\",\"polar\":{\"angularaxis\":{\"gridcolor\":\"white\",\"linecolor\":\"white\",\"ticks\":\"\"},\"bgcolor\":\"#E5ECF6\",\"radialaxis\":{\"gridcolor\":\"white\",\"linecolor\":\"white\",\"ticks\":\"\"}},\"scene\":{\"xaxis\":{\"backgroundcolor\":\"#E5ECF6\",\"gridcolor\":\"white\",\"gridwidth\":2,\"linecolor\":\"white\",\"showbackground\":true,\"ticks\":\"\",\"zerolinecolor\":\"white\"},\"yaxis\":{\"backgroundcolor\":\"#E5ECF6\",\"gridcolor\":\"white\",\"gridwidth\":2,\"linecolor\":\"white\",\"showbackground\":true,\"ticks\":\"\",\"zerolinecolor\":\"white\"},\"zaxis\":{\"backgroundcolor\":\"#E5ECF6\",\"gridcolor\":\"white\",\"gridwidth\":2,\"linecolor\":\"white\",\"showbackground\":true,\"ticks\":\"\",\"zerolinecolor\":\"white\"}},\"shapedefaults\":{\"line\":{\"color\":\"#2a3f5f\"}},\"ternary\":{\"aaxis\":{\"gridcolor\":\"white\",\"linecolor\":\"white\",\"ticks\":\"\"},\"baxis\":{\"gridcolor\":\"white\",\"linecolor\":\"white\",\"ticks\":\"\"},\"bgcolor\":\"#E5ECF6\",\"caxis\":{\"gridcolor\":\"white\",\"linecolor\":\"white\",\"ticks\":\"\"}},\"title\":{\"x\":0.05},\"xaxis\":{\"automargin\":true,\"gridcolor\":\"white\",\"linecolor\":\"white\",\"ticks\":\"\",\"title\":{\"standoff\":15},\"zerolinecolor\":\"white\",\"zerolinewidth\":2},\"yaxis\":{\"automargin\":true,\"gridcolor\":\"white\",\"linecolor\":\"white\",\"ticks\":\"\",\"title\":{\"standoff\":15},\"zerolinecolor\":\"white\",\"zerolinewidth\":2}}},\"title\":{\"font\":{\"color\":\"#4D5663\"}},\"xaxis\":{\"gridcolor\":\"#E1E5ED\",\"showgrid\":true,\"tickfont\":{\"color\":\"#4D5663\"},\"title\":{\"font\":{\"color\":\"#4D5663\"},\"text\":\"\"},\"zerolinecolor\":\"#E1E5ED\"},\"yaxis\":{\"gridcolor\":\"#E1E5ED\",\"showgrid\":true,\"tickfont\":{\"color\":\"#4D5663\"},\"title\":{\"font\":{\"color\":\"#4D5663\"},\"text\":\"\"},\"zerolinecolor\":\"#E1E5ED\"}},                        {\"showLink\": true, \"linkText\": \"Export to plot.ly\", \"plotlyServerURL\": \"https://plot.ly\", \"responsive\": true}                    ).then(function(){\n",
       "                            \n",
       "var gd = document.getElementById('f333d729-e586-4c4d-8049-8a8315e2c046');\n",
       "var x = new MutationObserver(function (mutations, observer) {{\n",
       "        var display = window.getComputedStyle(gd).display;\n",
       "        if (!display || display === 'none') {{\n",
       "            console.log([gd, 'removed!']);\n",
       "            Plotly.purge(gd);\n",
       "            observer.disconnect();\n",
       "        }}\n",
       "}});\n",
       "\n",
       "// Listen for the removal of the full notebook cells\n",
       "var notebookContainer = gd.closest('#notebook-container');\n",
       "if (notebookContainer) {{\n",
       "    x.observe(notebookContainer, {childList: true});\n",
       "}}\n",
       "\n",
       "// Listen for the clearing of the current output cell\n",
       "var outputEl = gd.closest('.output');\n",
       "if (outputEl) {{\n",
       "    x.observe(outputEl, {childList: true});\n",
       "}}\n",
       "\n",
       "                        })                };                });            </script>        </div>"
      ]
     },
     "metadata": {},
     "output_type": "display_data"
    }
   ],
   "source": [
    "df.iplot(kind='scatter',x='A',y='B',mode='markers',size=10)"
   ]
  },
  {
   "attachments": {},
   "cell_type": "markdown",
   "metadata": {},
   "source": [
    "## Bar Plots"
   ]
  },
  {
   "cell_type": "code",
   "execution_count": 11,
   "metadata": {
    "collapsed": false
   },
   "outputs": [
    {
     "data": {
      "application/vnd.plotly.v1+json": {
       "config": {
        "linkText": "Export to plot.ly",
        "plotlyServerURL": "https://plot.ly",
        "showLink": true
       },
       "data": [
        {
         "marker": {
          "color": "rgba(255, 153, 51, 0.6)",
          "line": {
           "color": "rgba(255, 153, 51, 1.0)",
           "width": 1
          }
         },
         "name": "Values",
         "orientation": "v",
         "text": "",
         "type": "bar",
         "x": [
          "A",
          "B",
          "C"
         ],
         "y": [
          32,
          43,
          50
         ]
        }
       ],
       "layout": {
        "legend": {
         "bgcolor": "#F5F6F9",
         "font": {
          "color": "#4D5663"
         }
        },
        "paper_bgcolor": "#F5F6F9",
        "plot_bgcolor": "#F5F6F9",
        "template": {
         "data": {
          "bar": [
           {
            "error_x": {
             "color": "#2a3f5f"
            },
            "error_y": {
             "color": "#2a3f5f"
            },
            "marker": {
             "line": {
              "color": "#E5ECF6",
              "width": 0.5
             },
             "pattern": {
              "fillmode": "overlay",
              "size": 10,
              "solidity": 0.2
             }
            },
            "type": "bar"
           }
          ],
          "barpolar": [
           {
            "marker": {
             "line": {
              "color": "#E5ECF6",
              "width": 0.5
             },
             "pattern": {
              "fillmode": "overlay",
              "size": 10,
              "solidity": 0.2
             }
            },
            "type": "barpolar"
           }
          ],
          "carpet": [
           {
            "aaxis": {
             "endlinecolor": "#2a3f5f",
             "gridcolor": "white",
             "linecolor": "white",
             "minorgridcolor": "white",
             "startlinecolor": "#2a3f5f"
            },
            "baxis": {
             "endlinecolor": "#2a3f5f",
             "gridcolor": "white",
             "linecolor": "white",
             "minorgridcolor": "white",
             "startlinecolor": "#2a3f5f"
            },
            "type": "carpet"
           }
          ],
          "choropleth": [
           {
            "colorbar": {
             "outlinewidth": 0,
             "ticks": ""
            },
            "type": "choropleth"
           }
          ],
          "contour": [
           {
            "colorbar": {
             "outlinewidth": 0,
             "ticks": ""
            },
            "colorscale": [
             [
              0,
              "#0d0887"
             ],
             [
              0.1111111111111111,
              "#46039f"
             ],
             [
              0.2222222222222222,
              "#7201a8"
             ],
             [
              0.3333333333333333,
              "#9c179e"
             ],
             [
              0.4444444444444444,
              "#bd3786"
             ],
             [
              0.5555555555555556,
              "#d8576b"
             ],
             [
              0.6666666666666666,
              "#ed7953"
             ],
             [
              0.7777777777777778,
              "#fb9f3a"
             ],
             [
              0.8888888888888888,
              "#fdca26"
             ],
             [
              1,
              "#f0f921"
             ]
            ],
            "type": "contour"
           }
          ],
          "contourcarpet": [
           {
            "colorbar": {
             "outlinewidth": 0,
             "ticks": ""
            },
            "type": "contourcarpet"
           }
          ],
          "heatmap": [
           {
            "colorbar": {
             "outlinewidth": 0,
             "ticks": ""
            },
            "colorscale": [
             [
              0,
              "#0d0887"
             ],
             [
              0.1111111111111111,
              "#46039f"
             ],
             [
              0.2222222222222222,
              "#7201a8"
             ],
             [
              0.3333333333333333,
              "#9c179e"
             ],
             [
              0.4444444444444444,
              "#bd3786"
             ],
             [
              0.5555555555555556,
              "#d8576b"
             ],
             [
              0.6666666666666666,
              "#ed7953"
             ],
             [
              0.7777777777777778,
              "#fb9f3a"
             ],
             [
              0.8888888888888888,
              "#fdca26"
             ],
             [
              1,
              "#f0f921"
             ]
            ],
            "type": "heatmap"
           }
          ],
          "heatmapgl": [
           {
            "colorbar": {
             "outlinewidth": 0,
             "ticks": ""
            },
            "colorscale": [
             [
              0,
              "#0d0887"
             ],
             [
              0.1111111111111111,
              "#46039f"
             ],
             [
              0.2222222222222222,
              "#7201a8"
             ],
             [
              0.3333333333333333,
              "#9c179e"
             ],
             [
              0.4444444444444444,
              "#bd3786"
             ],
             [
              0.5555555555555556,
              "#d8576b"
             ],
             [
              0.6666666666666666,
              "#ed7953"
             ],
             [
              0.7777777777777778,
              "#fb9f3a"
             ],
             [
              0.8888888888888888,
              "#fdca26"
             ],
             [
              1,
              "#f0f921"
             ]
            ],
            "type": "heatmapgl"
           }
          ],
          "histogram": [
           {
            "marker": {
             "pattern": {
              "fillmode": "overlay",
              "size": 10,
              "solidity": 0.2
             }
            },
            "type": "histogram"
           }
          ],
          "histogram2d": [
           {
            "colorbar": {
             "outlinewidth": 0,
             "ticks": ""
            },
            "colorscale": [
             [
              0,
              "#0d0887"
             ],
             [
              0.1111111111111111,
              "#46039f"
             ],
             [
              0.2222222222222222,
              "#7201a8"
             ],
             [
              0.3333333333333333,
              "#9c179e"
             ],
             [
              0.4444444444444444,
              "#bd3786"
             ],
             [
              0.5555555555555556,
              "#d8576b"
             ],
             [
              0.6666666666666666,
              "#ed7953"
             ],
             [
              0.7777777777777778,
              "#fb9f3a"
             ],
             [
              0.8888888888888888,
              "#fdca26"
             ],
             [
              1,
              "#f0f921"
             ]
            ],
            "type": "histogram2d"
           }
          ],
          "histogram2dcontour": [
           {
            "colorbar": {
             "outlinewidth": 0,
             "ticks": ""
            },
            "colorscale": [
             [
              0,
              "#0d0887"
             ],
             [
              0.1111111111111111,
              "#46039f"
             ],
             [
              0.2222222222222222,
              "#7201a8"
             ],
             [
              0.3333333333333333,
              "#9c179e"
             ],
             [
              0.4444444444444444,
              "#bd3786"
             ],
             [
              0.5555555555555556,
              "#d8576b"
             ],
             [
              0.6666666666666666,
              "#ed7953"
             ],
             [
              0.7777777777777778,
              "#fb9f3a"
             ],
             [
              0.8888888888888888,
              "#fdca26"
             ],
             [
              1,
              "#f0f921"
             ]
            ],
            "type": "histogram2dcontour"
           }
          ],
          "mesh3d": [
           {
            "colorbar": {
             "outlinewidth": 0,
             "ticks": ""
            },
            "type": "mesh3d"
           }
          ],
          "parcoords": [
           {
            "line": {
             "colorbar": {
              "outlinewidth": 0,
              "ticks": ""
             }
            },
            "type": "parcoords"
           }
          ],
          "pie": [
           {
            "automargin": true,
            "type": "pie"
           }
          ],
          "scatter": [
           {
            "fillpattern": {
             "fillmode": "overlay",
             "size": 10,
             "solidity": 0.2
            },
            "type": "scatter"
           }
          ],
          "scatter3d": [
           {
            "line": {
             "colorbar": {
              "outlinewidth": 0,
              "ticks": ""
             }
            },
            "marker": {
             "colorbar": {
              "outlinewidth": 0,
              "ticks": ""
             }
            },
            "type": "scatter3d"
           }
          ],
          "scattercarpet": [
           {
            "marker": {
             "colorbar": {
              "outlinewidth": 0,
              "ticks": ""
             }
            },
            "type": "scattercarpet"
           }
          ],
          "scattergeo": [
           {
            "marker": {
             "colorbar": {
              "outlinewidth": 0,
              "ticks": ""
             }
            },
            "type": "scattergeo"
           }
          ],
          "scattergl": [
           {
            "marker": {
             "colorbar": {
              "outlinewidth": 0,
              "ticks": ""
             }
            },
            "type": "scattergl"
           }
          ],
          "scattermapbox": [
           {
            "marker": {
             "colorbar": {
              "outlinewidth": 0,
              "ticks": ""
             }
            },
            "type": "scattermapbox"
           }
          ],
          "scatterpolar": [
           {
            "marker": {
             "colorbar": {
              "outlinewidth": 0,
              "ticks": ""
             }
            },
            "type": "scatterpolar"
           }
          ],
          "scatterpolargl": [
           {
            "marker": {
             "colorbar": {
              "outlinewidth": 0,
              "ticks": ""
             }
            },
            "type": "scatterpolargl"
           }
          ],
          "scatterternary": [
           {
            "marker": {
             "colorbar": {
              "outlinewidth": 0,
              "ticks": ""
             }
            },
            "type": "scatterternary"
           }
          ],
          "surface": [
           {
            "colorbar": {
             "outlinewidth": 0,
             "ticks": ""
            },
            "colorscale": [
             [
              0,
              "#0d0887"
             ],
             [
              0.1111111111111111,
              "#46039f"
             ],
             [
              0.2222222222222222,
              "#7201a8"
             ],
             [
              0.3333333333333333,
              "#9c179e"
             ],
             [
              0.4444444444444444,
              "#bd3786"
             ],
             [
              0.5555555555555556,
              "#d8576b"
             ],
             [
              0.6666666666666666,
              "#ed7953"
             ],
             [
              0.7777777777777778,
              "#fb9f3a"
             ],
             [
              0.8888888888888888,
              "#fdca26"
             ],
             [
              1,
              "#f0f921"
             ]
            ],
            "type": "surface"
           }
          ],
          "table": [
           {
            "cells": {
             "fill": {
              "color": "#EBF0F8"
             },
             "line": {
              "color": "white"
             }
            },
            "header": {
             "fill": {
              "color": "#C8D4E3"
             },
             "line": {
              "color": "white"
             }
            },
            "type": "table"
           }
          ]
         },
         "layout": {
          "annotationdefaults": {
           "arrowcolor": "#2a3f5f",
           "arrowhead": 0,
           "arrowwidth": 1
          },
          "autotypenumbers": "strict",
          "coloraxis": {
           "colorbar": {
            "outlinewidth": 0,
            "ticks": ""
           }
          },
          "colorscale": {
           "diverging": [
            [
             0,
             "#8e0152"
            ],
            [
             0.1,
             "#c51b7d"
            ],
            [
             0.2,
             "#de77ae"
            ],
            [
             0.3,
             "#f1b6da"
            ],
            [
             0.4,
             "#fde0ef"
            ],
            [
             0.5,
             "#f7f7f7"
            ],
            [
             0.6,
             "#e6f5d0"
            ],
            [
             0.7,
             "#b8e186"
            ],
            [
             0.8,
             "#7fbc41"
            ],
            [
             0.9,
             "#4d9221"
            ],
            [
             1,
             "#276419"
            ]
           ],
           "sequential": [
            [
             0,
             "#0d0887"
            ],
            [
             0.1111111111111111,
             "#46039f"
            ],
            [
             0.2222222222222222,
             "#7201a8"
            ],
            [
             0.3333333333333333,
             "#9c179e"
            ],
            [
             0.4444444444444444,
             "#bd3786"
            ],
            [
             0.5555555555555556,
             "#d8576b"
            ],
            [
             0.6666666666666666,
             "#ed7953"
            ],
            [
             0.7777777777777778,
             "#fb9f3a"
            ],
            [
             0.8888888888888888,
             "#fdca26"
            ],
            [
             1,
             "#f0f921"
            ]
           ],
           "sequentialminus": [
            [
             0,
             "#0d0887"
            ],
            [
             0.1111111111111111,
             "#46039f"
            ],
            [
             0.2222222222222222,
             "#7201a8"
            ],
            [
             0.3333333333333333,
             "#9c179e"
            ],
            [
             0.4444444444444444,
             "#bd3786"
            ],
            [
             0.5555555555555556,
             "#d8576b"
            ],
            [
             0.6666666666666666,
             "#ed7953"
            ],
            [
             0.7777777777777778,
             "#fb9f3a"
            ],
            [
             0.8888888888888888,
             "#fdca26"
            ],
            [
             1,
             "#f0f921"
            ]
           ]
          },
          "colorway": [
           "#636efa",
           "#EF553B",
           "#00cc96",
           "#ab63fa",
           "#FFA15A",
           "#19d3f3",
           "#FF6692",
           "#B6E880",
           "#FF97FF",
           "#FECB52"
          ],
          "font": {
           "color": "#2a3f5f"
          },
          "geo": {
           "bgcolor": "white",
           "lakecolor": "white",
           "landcolor": "#E5ECF6",
           "showlakes": true,
           "showland": true,
           "subunitcolor": "white"
          },
          "hoverlabel": {
           "align": "left"
          },
          "hovermode": "closest",
          "mapbox": {
           "style": "light"
          },
          "paper_bgcolor": "white",
          "plot_bgcolor": "#E5ECF6",
          "polar": {
           "angularaxis": {
            "gridcolor": "white",
            "linecolor": "white",
            "ticks": ""
           },
           "bgcolor": "#E5ECF6",
           "radialaxis": {
            "gridcolor": "white",
            "linecolor": "white",
            "ticks": ""
           }
          },
          "scene": {
           "xaxis": {
            "backgroundcolor": "#E5ECF6",
            "gridcolor": "white",
            "gridwidth": 2,
            "linecolor": "white",
            "showbackground": true,
            "ticks": "",
            "zerolinecolor": "white"
           },
           "yaxis": {
            "backgroundcolor": "#E5ECF6",
            "gridcolor": "white",
            "gridwidth": 2,
            "linecolor": "white",
            "showbackground": true,
            "ticks": "",
            "zerolinecolor": "white"
           },
           "zaxis": {
            "backgroundcolor": "#E5ECF6",
            "gridcolor": "white",
            "gridwidth": 2,
            "linecolor": "white",
            "showbackground": true,
            "ticks": "",
            "zerolinecolor": "white"
           }
          },
          "shapedefaults": {
           "line": {
            "color": "#2a3f5f"
           }
          },
          "ternary": {
           "aaxis": {
            "gridcolor": "white",
            "linecolor": "white",
            "ticks": ""
           },
           "baxis": {
            "gridcolor": "white",
            "linecolor": "white",
            "ticks": ""
           },
           "bgcolor": "#E5ECF6",
           "caxis": {
            "gridcolor": "white",
            "linecolor": "white",
            "ticks": ""
           }
          },
          "title": {
           "x": 0.05
          },
          "xaxis": {
           "automargin": true,
           "gridcolor": "white",
           "linecolor": "white",
           "ticks": "",
           "title": {
            "standoff": 15
           },
           "zerolinecolor": "white",
           "zerolinewidth": 2
          },
          "yaxis": {
           "automargin": true,
           "gridcolor": "white",
           "linecolor": "white",
           "ticks": "",
           "title": {
            "standoff": 15
           },
           "zerolinecolor": "white",
           "zerolinewidth": 2
          }
         }
        },
        "title": {
         "font": {
          "color": "#4D5663"
         }
        },
        "xaxis": {
         "gridcolor": "#E1E5ED",
         "showgrid": true,
         "tickfont": {
          "color": "#4D5663"
         },
         "title": {
          "font": {
           "color": "#4D5663"
          },
          "text": ""
         },
         "zerolinecolor": "#E1E5ED"
        },
        "yaxis": {
         "gridcolor": "#E1E5ED",
         "showgrid": true,
         "tickfont": {
          "color": "#4D5663"
         },
         "title": {
          "font": {
           "color": "#4D5663"
          },
          "text": ""
         },
         "zerolinecolor": "#E1E5ED"
        }
       }
      },
      "text/html": [
       "<div>                            <div id=\"1f929a77-fce9-4515-ac62-2adbdddb17ec\" class=\"plotly-graph-div\" style=\"height:525px; width:100%;\"></div>            <script type=\"text/javascript\">                require([\"plotly\"], function(Plotly) {                    window.PLOTLYENV=window.PLOTLYENV || {};\n",
       "                    window.PLOTLYENV.BASE_URL='https://plot.ly';                                    if (document.getElementById(\"1f929a77-fce9-4515-ac62-2adbdddb17ec\")) {                    Plotly.newPlot(                        \"1f929a77-fce9-4515-ac62-2adbdddb17ec\",                        [{\"marker\":{\"color\":\"rgba(255, 153, 51, 0.6)\",\"line\":{\"color\":\"rgba(255, 153, 51, 1.0)\",\"width\":1}},\"name\":\"Values\",\"orientation\":\"v\",\"text\":\"\",\"x\":[\"A\",\"B\",\"C\"],\"y\":[32,43,50],\"type\":\"bar\"}],                        {\"legend\":{\"bgcolor\":\"#F5F6F9\",\"font\":{\"color\":\"#4D5663\"}},\"paper_bgcolor\":\"#F5F6F9\",\"plot_bgcolor\":\"#F5F6F9\",\"template\":{\"data\":{\"barpolar\":[{\"marker\":{\"line\":{\"color\":\"#E5ECF6\",\"width\":0.5},\"pattern\":{\"fillmode\":\"overlay\",\"size\":10,\"solidity\":0.2}},\"type\":\"barpolar\"}],\"bar\":[{\"error_x\":{\"color\":\"#2a3f5f\"},\"error_y\":{\"color\":\"#2a3f5f\"},\"marker\":{\"line\":{\"color\":\"#E5ECF6\",\"width\":0.5},\"pattern\":{\"fillmode\":\"overlay\",\"size\":10,\"solidity\":0.2}},\"type\":\"bar\"}],\"carpet\":[{\"aaxis\":{\"endlinecolor\":\"#2a3f5f\",\"gridcolor\":\"white\",\"linecolor\":\"white\",\"minorgridcolor\":\"white\",\"startlinecolor\":\"#2a3f5f\"},\"baxis\":{\"endlinecolor\":\"#2a3f5f\",\"gridcolor\":\"white\",\"linecolor\":\"white\",\"minorgridcolor\":\"white\",\"startlinecolor\":\"#2a3f5f\"},\"type\":\"carpet\"}],\"choropleth\":[{\"colorbar\":{\"outlinewidth\":0,\"ticks\":\"\"},\"type\":\"choropleth\"}],\"contourcarpet\":[{\"colorbar\":{\"outlinewidth\":0,\"ticks\":\"\"},\"type\":\"contourcarpet\"}],\"contour\":[{\"colorbar\":{\"outlinewidth\":0,\"ticks\":\"\"},\"colorscale\":[[0.0,\"#0d0887\"],[0.1111111111111111,\"#46039f\"],[0.2222222222222222,\"#7201a8\"],[0.3333333333333333,\"#9c179e\"],[0.4444444444444444,\"#bd3786\"],[0.5555555555555556,\"#d8576b\"],[0.6666666666666666,\"#ed7953\"],[0.7777777777777778,\"#fb9f3a\"],[0.8888888888888888,\"#fdca26\"],[1.0,\"#f0f921\"]],\"type\":\"contour\"}],\"heatmapgl\":[{\"colorbar\":{\"outlinewidth\":0,\"ticks\":\"\"},\"colorscale\":[[0.0,\"#0d0887\"],[0.1111111111111111,\"#46039f\"],[0.2222222222222222,\"#7201a8\"],[0.3333333333333333,\"#9c179e\"],[0.4444444444444444,\"#bd3786\"],[0.5555555555555556,\"#d8576b\"],[0.6666666666666666,\"#ed7953\"],[0.7777777777777778,\"#fb9f3a\"],[0.8888888888888888,\"#fdca26\"],[1.0,\"#f0f921\"]],\"type\":\"heatmapgl\"}],\"heatmap\":[{\"colorbar\":{\"outlinewidth\":0,\"ticks\":\"\"},\"colorscale\":[[0.0,\"#0d0887\"],[0.1111111111111111,\"#46039f\"],[0.2222222222222222,\"#7201a8\"],[0.3333333333333333,\"#9c179e\"],[0.4444444444444444,\"#bd3786\"],[0.5555555555555556,\"#d8576b\"],[0.6666666666666666,\"#ed7953\"],[0.7777777777777778,\"#fb9f3a\"],[0.8888888888888888,\"#fdca26\"],[1.0,\"#f0f921\"]],\"type\":\"heatmap\"}],\"histogram2dcontour\":[{\"colorbar\":{\"outlinewidth\":0,\"ticks\":\"\"},\"colorscale\":[[0.0,\"#0d0887\"],[0.1111111111111111,\"#46039f\"],[0.2222222222222222,\"#7201a8\"],[0.3333333333333333,\"#9c179e\"],[0.4444444444444444,\"#bd3786\"],[0.5555555555555556,\"#d8576b\"],[0.6666666666666666,\"#ed7953\"],[0.7777777777777778,\"#fb9f3a\"],[0.8888888888888888,\"#fdca26\"],[1.0,\"#f0f921\"]],\"type\":\"histogram2dcontour\"}],\"histogram2d\":[{\"colorbar\":{\"outlinewidth\":0,\"ticks\":\"\"},\"colorscale\":[[0.0,\"#0d0887\"],[0.1111111111111111,\"#46039f\"],[0.2222222222222222,\"#7201a8\"],[0.3333333333333333,\"#9c179e\"],[0.4444444444444444,\"#bd3786\"],[0.5555555555555556,\"#d8576b\"],[0.6666666666666666,\"#ed7953\"],[0.7777777777777778,\"#fb9f3a\"],[0.8888888888888888,\"#fdca26\"],[1.0,\"#f0f921\"]],\"type\":\"histogram2d\"}],\"histogram\":[{\"marker\":{\"pattern\":{\"fillmode\":\"overlay\",\"size\":10,\"solidity\":0.2}},\"type\":\"histogram\"}],\"mesh3d\":[{\"colorbar\":{\"outlinewidth\":0,\"ticks\":\"\"},\"type\":\"mesh3d\"}],\"parcoords\":[{\"line\":{\"colorbar\":{\"outlinewidth\":0,\"ticks\":\"\"}},\"type\":\"parcoords\"}],\"pie\":[{\"automargin\":true,\"type\":\"pie\"}],\"scatter3d\":[{\"line\":{\"colorbar\":{\"outlinewidth\":0,\"ticks\":\"\"}},\"marker\":{\"colorbar\":{\"outlinewidth\":0,\"ticks\":\"\"}},\"type\":\"scatter3d\"}],\"scattercarpet\":[{\"marker\":{\"colorbar\":{\"outlinewidth\":0,\"ticks\":\"\"}},\"type\":\"scattercarpet\"}],\"scattergeo\":[{\"marker\":{\"colorbar\":{\"outlinewidth\":0,\"ticks\":\"\"}},\"type\":\"scattergeo\"}],\"scattergl\":[{\"marker\":{\"colorbar\":{\"outlinewidth\":0,\"ticks\":\"\"}},\"type\":\"scattergl\"}],\"scattermapbox\":[{\"marker\":{\"colorbar\":{\"outlinewidth\":0,\"ticks\":\"\"}},\"type\":\"scattermapbox\"}],\"scatterpolargl\":[{\"marker\":{\"colorbar\":{\"outlinewidth\":0,\"ticks\":\"\"}},\"type\":\"scatterpolargl\"}],\"scatterpolar\":[{\"marker\":{\"colorbar\":{\"outlinewidth\":0,\"ticks\":\"\"}},\"type\":\"scatterpolar\"}],\"scatter\":[{\"fillpattern\":{\"fillmode\":\"overlay\",\"size\":10,\"solidity\":0.2},\"type\":\"scatter\"}],\"scatterternary\":[{\"marker\":{\"colorbar\":{\"outlinewidth\":0,\"ticks\":\"\"}},\"type\":\"scatterternary\"}],\"surface\":[{\"colorbar\":{\"outlinewidth\":0,\"ticks\":\"\"},\"colorscale\":[[0.0,\"#0d0887\"],[0.1111111111111111,\"#46039f\"],[0.2222222222222222,\"#7201a8\"],[0.3333333333333333,\"#9c179e\"],[0.4444444444444444,\"#bd3786\"],[0.5555555555555556,\"#d8576b\"],[0.6666666666666666,\"#ed7953\"],[0.7777777777777778,\"#fb9f3a\"],[0.8888888888888888,\"#fdca26\"],[1.0,\"#f0f921\"]],\"type\":\"surface\"}],\"table\":[{\"cells\":{\"fill\":{\"color\":\"#EBF0F8\"},\"line\":{\"color\":\"white\"}},\"header\":{\"fill\":{\"color\":\"#C8D4E3\"},\"line\":{\"color\":\"white\"}},\"type\":\"table\"}]},\"layout\":{\"annotationdefaults\":{\"arrowcolor\":\"#2a3f5f\",\"arrowhead\":0,\"arrowwidth\":1},\"autotypenumbers\":\"strict\",\"coloraxis\":{\"colorbar\":{\"outlinewidth\":0,\"ticks\":\"\"}},\"colorscale\":{\"diverging\":[[0,\"#8e0152\"],[0.1,\"#c51b7d\"],[0.2,\"#de77ae\"],[0.3,\"#f1b6da\"],[0.4,\"#fde0ef\"],[0.5,\"#f7f7f7\"],[0.6,\"#e6f5d0\"],[0.7,\"#b8e186\"],[0.8,\"#7fbc41\"],[0.9,\"#4d9221\"],[1,\"#276419\"]],\"sequential\":[[0.0,\"#0d0887\"],[0.1111111111111111,\"#46039f\"],[0.2222222222222222,\"#7201a8\"],[0.3333333333333333,\"#9c179e\"],[0.4444444444444444,\"#bd3786\"],[0.5555555555555556,\"#d8576b\"],[0.6666666666666666,\"#ed7953\"],[0.7777777777777778,\"#fb9f3a\"],[0.8888888888888888,\"#fdca26\"],[1.0,\"#f0f921\"]],\"sequentialminus\":[[0.0,\"#0d0887\"],[0.1111111111111111,\"#46039f\"],[0.2222222222222222,\"#7201a8\"],[0.3333333333333333,\"#9c179e\"],[0.4444444444444444,\"#bd3786\"],[0.5555555555555556,\"#d8576b\"],[0.6666666666666666,\"#ed7953\"],[0.7777777777777778,\"#fb9f3a\"],[0.8888888888888888,\"#fdca26\"],[1.0,\"#f0f921\"]]},\"colorway\":[\"#636efa\",\"#EF553B\",\"#00cc96\",\"#ab63fa\",\"#FFA15A\",\"#19d3f3\",\"#FF6692\",\"#B6E880\",\"#FF97FF\",\"#FECB52\"],\"font\":{\"color\":\"#2a3f5f\"},\"geo\":{\"bgcolor\":\"white\",\"lakecolor\":\"white\",\"landcolor\":\"#E5ECF6\",\"showlakes\":true,\"showland\":true,\"subunitcolor\":\"white\"},\"hoverlabel\":{\"align\":\"left\"},\"hovermode\":\"closest\",\"mapbox\":{\"style\":\"light\"},\"paper_bgcolor\":\"white\",\"plot_bgcolor\":\"#E5ECF6\",\"polar\":{\"angularaxis\":{\"gridcolor\":\"white\",\"linecolor\":\"white\",\"ticks\":\"\"},\"bgcolor\":\"#E5ECF6\",\"radialaxis\":{\"gridcolor\":\"white\",\"linecolor\":\"white\",\"ticks\":\"\"}},\"scene\":{\"xaxis\":{\"backgroundcolor\":\"#E5ECF6\",\"gridcolor\":\"white\",\"gridwidth\":2,\"linecolor\":\"white\",\"showbackground\":true,\"ticks\":\"\",\"zerolinecolor\":\"white\"},\"yaxis\":{\"backgroundcolor\":\"#E5ECF6\",\"gridcolor\":\"white\",\"gridwidth\":2,\"linecolor\":\"white\",\"showbackground\":true,\"ticks\":\"\",\"zerolinecolor\":\"white\"},\"zaxis\":{\"backgroundcolor\":\"#E5ECF6\",\"gridcolor\":\"white\",\"gridwidth\":2,\"linecolor\":\"white\",\"showbackground\":true,\"ticks\":\"\",\"zerolinecolor\":\"white\"}},\"shapedefaults\":{\"line\":{\"color\":\"#2a3f5f\"}},\"ternary\":{\"aaxis\":{\"gridcolor\":\"white\",\"linecolor\":\"white\",\"ticks\":\"\"},\"baxis\":{\"gridcolor\":\"white\",\"linecolor\":\"white\",\"ticks\":\"\"},\"bgcolor\":\"#E5ECF6\",\"caxis\":{\"gridcolor\":\"white\",\"linecolor\":\"white\",\"ticks\":\"\"}},\"title\":{\"x\":0.05},\"xaxis\":{\"automargin\":true,\"gridcolor\":\"white\",\"linecolor\":\"white\",\"ticks\":\"\",\"title\":{\"standoff\":15},\"zerolinecolor\":\"white\",\"zerolinewidth\":2},\"yaxis\":{\"automargin\":true,\"gridcolor\":\"white\",\"linecolor\":\"white\",\"ticks\":\"\",\"title\":{\"standoff\":15},\"zerolinecolor\":\"white\",\"zerolinewidth\":2}}},\"title\":{\"font\":{\"color\":\"#4D5663\"}},\"xaxis\":{\"gridcolor\":\"#E1E5ED\",\"showgrid\":true,\"tickfont\":{\"color\":\"#4D5663\"},\"title\":{\"font\":{\"color\":\"#4D5663\"},\"text\":\"\"},\"zerolinecolor\":\"#E1E5ED\"},\"yaxis\":{\"gridcolor\":\"#E1E5ED\",\"showgrid\":true,\"tickfont\":{\"color\":\"#4D5663\"},\"title\":{\"font\":{\"color\":\"#4D5663\"},\"text\":\"\"},\"zerolinecolor\":\"#E1E5ED\"}},                        {\"showLink\": true, \"linkText\": \"Export to plot.ly\", \"plotlyServerURL\": \"https://plot.ly\", \"responsive\": true}                    ).then(function(){\n",
       "                            \n",
       "var gd = document.getElementById('1f929a77-fce9-4515-ac62-2adbdddb17ec');\n",
       "var x = new MutationObserver(function (mutations, observer) {{\n",
       "        var display = window.getComputedStyle(gd).display;\n",
       "        if (!display || display === 'none') {{\n",
       "            console.log([gd, 'removed!']);\n",
       "            Plotly.purge(gd);\n",
       "            observer.disconnect();\n",
       "        }}\n",
       "}});\n",
       "\n",
       "// Listen for the removal of the full notebook cells\n",
       "var notebookContainer = gd.closest('#notebook-container');\n",
       "if (notebookContainer) {{\n",
       "    x.observe(notebookContainer, {childList: true});\n",
       "}}\n",
       "\n",
       "// Listen for the clearing of the current output cell\n",
       "var outputEl = gd.closest('.output');\n",
       "if (outputEl) {{\n",
       "    x.observe(outputEl, {childList: true});\n",
       "}}\n",
       "\n",
       "                        })                };                });            </script>        </div>"
      ]
     },
     "metadata": {},
     "output_type": "display_data"
    }
   ],
   "source": [
    "df2.iplot(kind='bar',x='Category',y='Values')"
   ]
  },
  {
   "cell_type": "code",
   "execution_count": 12,
   "metadata": {
    "collapsed": false
   },
   "outputs": [
    {
     "data": {
      "application/vnd.plotly.v1+json": {
       "config": {
        "linkText": "Export to plot.ly",
        "plotlyServerURL": "https://plot.ly",
        "showLink": true
       },
       "data": [
        {
         "marker": {
          "color": "rgba(255, 153, 51, 0.6)",
          "line": {
           "color": "rgba(255, 153, 51, 1.0)",
           "width": 1
          }
         },
         "name": "None",
         "orientation": "v",
         "text": "",
         "type": "bar",
         "x": [
          "A",
          "B",
          "C",
          "D"
         ],
         "y": [
          100,
          100,
          100,
          100
         ]
        }
       ],
       "layout": {
        "legend": {
         "bgcolor": "#F5F6F9",
         "font": {
          "color": "#4D5663"
         }
        },
        "paper_bgcolor": "#F5F6F9",
        "plot_bgcolor": "#F5F6F9",
        "template": {
         "data": {
          "bar": [
           {
            "error_x": {
             "color": "#2a3f5f"
            },
            "error_y": {
             "color": "#2a3f5f"
            },
            "marker": {
             "line": {
              "color": "#E5ECF6",
              "width": 0.5
             },
             "pattern": {
              "fillmode": "overlay",
              "size": 10,
              "solidity": 0.2
             }
            },
            "type": "bar"
           }
          ],
          "barpolar": [
           {
            "marker": {
             "line": {
              "color": "#E5ECF6",
              "width": 0.5
             },
             "pattern": {
              "fillmode": "overlay",
              "size": 10,
              "solidity": 0.2
             }
            },
            "type": "barpolar"
           }
          ],
          "carpet": [
           {
            "aaxis": {
             "endlinecolor": "#2a3f5f",
             "gridcolor": "white",
             "linecolor": "white",
             "minorgridcolor": "white",
             "startlinecolor": "#2a3f5f"
            },
            "baxis": {
             "endlinecolor": "#2a3f5f",
             "gridcolor": "white",
             "linecolor": "white",
             "minorgridcolor": "white",
             "startlinecolor": "#2a3f5f"
            },
            "type": "carpet"
           }
          ],
          "choropleth": [
           {
            "colorbar": {
             "outlinewidth": 0,
             "ticks": ""
            },
            "type": "choropleth"
           }
          ],
          "contour": [
           {
            "colorbar": {
             "outlinewidth": 0,
             "ticks": ""
            },
            "colorscale": [
             [
              0,
              "#0d0887"
             ],
             [
              0.1111111111111111,
              "#46039f"
             ],
             [
              0.2222222222222222,
              "#7201a8"
             ],
             [
              0.3333333333333333,
              "#9c179e"
             ],
             [
              0.4444444444444444,
              "#bd3786"
             ],
             [
              0.5555555555555556,
              "#d8576b"
             ],
             [
              0.6666666666666666,
              "#ed7953"
             ],
             [
              0.7777777777777778,
              "#fb9f3a"
             ],
             [
              0.8888888888888888,
              "#fdca26"
             ],
             [
              1,
              "#f0f921"
             ]
            ],
            "type": "contour"
           }
          ],
          "contourcarpet": [
           {
            "colorbar": {
             "outlinewidth": 0,
             "ticks": ""
            },
            "type": "contourcarpet"
           }
          ],
          "heatmap": [
           {
            "colorbar": {
             "outlinewidth": 0,
             "ticks": ""
            },
            "colorscale": [
             [
              0,
              "#0d0887"
             ],
             [
              0.1111111111111111,
              "#46039f"
             ],
             [
              0.2222222222222222,
              "#7201a8"
             ],
             [
              0.3333333333333333,
              "#9c179e"
             ],
             [
              0.4444444444444444,
              "#bd3786"
             ],
             [
              0.5555555555555556,
              "#d8576b"
             ],
             [
              0.6666666666666666,
              "#ed7953"
             ],
             [
              0.7777777777777778,
              "#fb9f3a"
             ],
             [
              0.8888888888888888,
              "#fdca26"
             ],
             [
              1,
              "#f0f921"
             ]
            ],
            "type": "heatmap"
           }
          ],
          "heatmapgl": [
           {
            "colorbar": {
             "outlinewidth": 0,
             "ticks": ""
            },
            "colorscale": [
             [
              0,
              "#0d0887"
             ],
             [
              0.1111111111111111,
              "#46039f"
             ],
             [
              0.2222222222222222,
              "#7201a8"
             ],
             [
              0.3333333333333333,
              "#9c179e"
             ],
             [
              0.4444444444444444,
              "#bd3786"
             ],
             [
              0.5555555555555556,
              "#d8576b"
             ],
             [
              0.6666666666666666,
              "#ed7953"
             ],
             [
              0.7777777777777778,
              "#fb9f3a"
             ],
             [
              0.8888888888888888,
              "#fdca26"
             ],
             [
              1,
              "#f0f921"
             ]
            ],
            "type": "heatmapgl"
           }
          ],
          "histogram": [
           {
            "marker": {
             "pattern": {
              "fillmode": "overlay",
              "size": 10,
              "solidity": 0.2
             }
            },
            "type": "histogram"
           }
          ],
          "histogram2d": [
           {
            "colorbar": {
             "outlinewidth": 0,
             "ticks": ""
            },
            "colorscale": [
             [
              0,
              "#0d0887"
             ],
             [
              0.1111111111111111,
              "#46039f"
             ],
             [
              0.2222222222222222,
              "#7201a8"
             ],
             [
              0.3333333333333333,
              "#9c179e"
             ],
             [
              0.4444444444444444,
              "#bd3786"
             ],
             [
              0.5555555555555556,
              "#d8576b"
             ],
             [
              0.6666666666666666,
              "#ed7953"
             ],
             [
              0.7777777777777778,
              "#fb9f3a"
             ],
             [
              0.8888888888888888,
              "#fdca26"
             ],
             [
              1,
              "#f0f921"
             ]
            ],
            "type": "histogram2d"
           }
          ],
          "histogram2dcontour": [
           {
            "colorbar": {
             "outlinewidth": 0,
             "ticks": ""
            },
            "colorscale": [
             [
              0,
              "#0d0887"
             ],
             [
              0.1111111111111111,
              "#46039f"
             ],
             [
              0.2222222222222222,
              "#7201a8"
             ],
             [
              0.3333333333333333,
              "#9c179e"
             ],
             [
              0.4444444444444444,
              "#bd3786"
             ],
             [
              0.5555555555555556,
              "#d8576b"
             ],
             [
              0.6666666666666666,
              "#ed7953"
             ],
             [
              0.7777777777777778,
              "#fb9f3a"
             ],
             [
              0.8888888888888888,
              "#fdca26"
             ],
             [
              1,
              "#f0f921"
             ]
            ],
            "type": "histogram2dcontour"
           }
          ],
          "mesh3d": [
           {
            "colorbar": {
             "outlinewidth": 0,
             "ticks": ""
            },
            "type": "mesh3d"
           }
          ],
          "parcoords": [
           {
            "line": {
             "colorbar": {
              "outlinewidth": 0,
              "ticks": ""
             }
            },
            "type": "parcoords"
           }
          ],
          "pie": [
           {
            "automargin": true,
            "type": "pie"
           }
          ],
          "scatter": [
           {
            "fillpattern": {
             "fillmode": "overlay",
             "size": 10,
             "solidity": 0.2
            },
            "type": "scatter"
           }
          ],
          "scatter3d": [
           {
            "line": {
             "colorbar": {
              "outlinewidth": 0,
              "ticks": ""
             }
            },
            "marker": {
             "colorbar": {
              "outlinewidth": 0,
              "ticks": ""
             }
            },
            "type": "scatter3d"
           }
          ],
          "scattercarpet": [
           {
            "marker": {
             "colorbar": {
              "outlinewidth": 0,
              "ticks": ""
             }
            },
            "type": "scattercarpet"
           }
          ],
          "scattergeo": [
           {
            "marker": {
             "colorbar": {
              "outlinewidth": 0,
              "ticks": ""
             }
            },
            "type": "scattergeo"
           }
          ],
          "scattergl": [
           {
            "marker": {
             "colorbar": {
              "outlinewidth": 0,
              "ticks": ""
             }
            },
            "type": "scattergl"
           }
          ],
          "scattermapbox": [
           {
            "marker": {
             "colorbar": {
              "outlinewidth": 0,
              "ticks": ""
             }
            },
            "type": "scattermapbox"
           }
          ],
          "scatterpolar": [
           {
            "marker": {
             "colorbar": {
              "outlinewidth": 0,
              "ticks": ""
             }
            },
            "type": "scatterpolar"
           }
          ],
          "scatterpolargl": [
           {
            "marker": {
             "colorbar": {
              "outlinewidth": 0,
              "ticks": ""
             }
            },
            "type": "scatterpolargl"
           }
          ],
          "scatterternary": [
           {
            "marker": {
             "colorbar": {
              "outlinewidth": 0,
              "ticks": ""
             }
            },
            "type": "scatterternary"
           }
          ],
          "surface": [
           {
            "colorbar": {
             "outlinewidth": 0,
             "ticks": ""
            },
            "colorscale": [
             [
              0,
              "#0d0887"
             ],
             [
              0.1111111111111111,
              "#46039f"
             ],
             [
              0.2222222222222222,
              "#7201a8"
             ],
             [
              0.3333333333333333,
              "#9c179e"
             ],
             [
              0.4444444444444444,
              "#bd3786"
             ],
             [
              0.5555555555555556,
              "#d8576b"
             ],
             [
              0.6666666666666666,
              "#ed7953"
             ],
             [
              0.7777777777777778,
              "#fb9f3a"
             ],
             [
              0.8888888888888888,
              "#fdca26"
             ],
             [
              1,
              "#f0f921"
             ]
            ],
            "type": "surface"
           }
          ],
          "table": [
           {
            "cells": {
             "fill": {
              "color": "#EBF0F8"
             },
             "line": {
              "color": "white"
             }
            },
            "header": {
             "fill": {
              "color": "#C8D4E3"
             },
             "line": {
              "color": "white"
             }
            },
            "type": "table"
           }
          ]
         },
         "layout": {
          "annotationdefaults": {
           "arrowcolor": "#2a3f5f",
           "arrowhead": 0,
           "arrowwidth": 1
          },
          "autotypenumbers": "strict",
          "coloraxis": {
           "colorbar": {
            "outlinewidth": 0,
            "ticks": ""
           }
          },
          "colorscale": {
           "diverging": [
            [
             0,
             "#8e0152"
            ],
            [
             0.1,
             "#c51b7d"
            ],
            [
             0.2,
             "#de77ae"
            ],
            [
             0.3,
             "#f1b6da"
            ],
            [
             0.4,
             "#fde0ef"
            ],
            [
             0.5,
             "#f7f7f7"
            ],
            [
             0.6,
             "#e6f5d0"
            ],
            [
             0.7,
             "#b8e186"
            ],
            [
             0.8,
             "#7fbc41"
            ],
            [
             0.9,
             "#4d9221"
            ],
            [
             1,
             "#276419"
            ]
           ],
           "sequential": [
            [
             0,
             "#0d0887"
            ],
            [
             0.1111111111111111,
             "#46039f"
            ],
            [
             0.2222222222222222,
             "#7201a8"
            ],
            [
             0.3333333333333333,
             "#9c179e"
            ],
            [
             0.4444444444444444,
             "#bd3786"
            ],
            [
             0.5555555555555556,
             "#d8576b"
            ],
            [
             0.6666666666666666,
             "#ed7953"
            ],
            [
             0.7777777777777778,
             "#fb9f3a"
            ],
            [
             0.8888888888888888,
             "#fdca26"
            ],
            [
             1,
             "#f0f921"
            ]
           ],
           "sequentialminus": [
            [
             0,
             "#0d0887"
            ],
            [
             0.1111111111111111,
             "#46039f"
            ],
            [
             0.2222222222222222,
             "#7201a8"
            ],
            [
             0.3333333333333333,
             "#9c179e"
            ],
            [
             0.4444444444444444,
             "#bd3786"
            ],
            [
             0.5555555555555556,
             "#d8576b"
            ],
            [
             0.6666666666666666,
             "#ed7953"
            ],
            [
             0.7777777777777778,
             "#fb9f3a"
            ],
            [
             0.8888888888888888,
             "#fdca26"
            ],
            [
             1,
             "#f0f921"
            ]
           ]
          },
          "colorway": [
           "#636efa",
           "#EF553B",
           "#00cc96",
           "#ab63fa",
           "#FFA15A",
           "#19d3f3",
           "#FF6692",
           "#B6E880",
           "#FF97FF",
           "#FECB52"
          ],
          "font": {
           "color": "#2a3f5f"
          },
          "geo": {
           "bgcolor": "white",
           "lakecolor": "white",
           "landcolor": "#E5ECF6",
           "showlakes": true,
           "showland": true,
           "subunitcolor": "white"
          },
          "hoverlabel": {
           "align": "left"
          },
          "hovermode": "closest",
          "mapbox": {
           "style": "light"
          },
          "paper_bgcolor": "white",
          "plot_bgcolor": "#E5ECF6",
          "polar": {
           "angularaxis": {
            "gridcolor": "white",
            "linecolor": "white",
            "ticks": ""
           },
           "bgcolor": "#E5ECF6",
           "radialaxis": {
            "gridcolor": "white",
            "linecolor": "white",
            "ticks": ""
           }
          },
          "scene": {
           "xaxis": {
            "backgroundcolor": "#E5ECF6",
            "gridcolor": "white",
            "gridwidth": 2,
            "linecolor": "white",
            "showbackground": true,
            "ticks": "",
            "zerolinecolor": "white"
           },
           "yaxis": {
            "backgroundcolor": "#E5ECF6",
            "gridcolor": "white",
            "gridwidth": 2,
            "linecolor": "white",
            "showbackground": true,
            "ticks": "",
            "zerolinecolor": "white"
           },
           "zaxis": {
            "backgroundcolor": "#E5ECF6",
            "gridcolor": "white",
            "gridwidth": 2,
            "linecolor": "white",
            "showbackground": true,
            "ticks": "",
            "zerolinecolor": "white"
           }
          },
          "shapedefaults": {
           "line": {
            "color": "#2a3f5f"
           }
          },
          "ternary": {
           "aaxis": {
            "gridcolor": "white",
            "linecolor": "white",
            "ticks": ""
           },
           "baxis": {
            "gridcolor": "white",
            "linecolor": "white",
            "ticks": ""
           },
           "bgcolor": "#E5ECF6",
           "caxis": {
            "gridcolor": "white",
            "linecolor": "white",
            "ticks": ""
           }
          },
          "title": {
           "x": 0.05
          },
          "xaxis": {
           "automargin": true,
           "gridcolor": "white",
           "linecolor": "white",
           "ticks": "",
           "title": {
            "standoff": 15
           },
           "zerolinecolor": "white",
           "zerolinewidth": 2
          },
          "yaxis": {
           "automargin": true,
           "gridcolor": "white",
           "linecolor": "white",
           "ticks": "",
           "title": {
            "standoff": 15
           },
           "zerolinecolor": "white",
           "zerolinewidth": 2
          }
         }
        },
        "title": {
         "font": {
          "color": "#4D5663"
         }
        },
        "xaxis": {
         "gridcolor": "#E1E5ED",
         "showgrid": true,
         "tickfont": {
          "color": "#4D5663"
         },
         "title": {
          "font": {
           "color": "#4D5663"
          },
          "text": ""
         },
         "zerolinecolor": "#E1E5ED"
        },
        "yaxis": {
         "gridcolor": "#E1E5ED",
         "showgrid": true,
         "tickfont": {
          "color": "#4D5663"
         },
         "title": {
          "font": {
           "color": "#4D5663"
          },
          "text": ""
         },
         "zerolinecolor": "#E1E5ED"
        }
       }
      },
      "text/html": [
       "<div>                            <div id=\"fed71575-e962-4404-a3c9-62339e662b3c\" class=\"plotly-graph-div\" style=\"height:525px; width:100%;\"></div>            <script type=\"text/javascript\">                require([\"plotly\"], function(Plotly) {                    window.PLOTLYENV=window.PLOTLYENV || {};\n",
       "                    window.PLOTLYENV.BASE_URL='https://plot.ly';                                    if (document.getElementById(\"fed71575-e962-4404-a3c9-62339e662b3c\")) {                    Plotly.newPlot(                        \"fed71575-e962-4404-a3c9-62339e662b3c\",                        [{\"marker\":{\"color\":\"rgba(255, 153, 51, 0.6)\",\"line\":{\"color\":\"rgba(255, 153, 51, 1.0)\",\"width\":1}},\"name\":\"None\",\"orientation\":\"v\",\"text\":\"\",\"x\":[\"A\",\"B\",\"C\",\"D\"],\"y\":[100,100,100,100],\"type\":\"bar\"}],                        {\"legend\":{\"bgcolor\":\"#F5F6F9\",\"font\":{\"color\":\"#4D5663\"}},\"paper_bgcolor\":\"#F5F6F9\",\"plot_bgcolor\":\"#F5F6F9\",\"template\":{\"data\":{\"barpolar\":[{\"marker\":{\"line\":{\"color\":\"#E5ECF6\",\"width\":0.5},\"pattern\":{\"fillmode\":\"overlay\",\"size\":10,\"solidity\":0.2}},\"type\":\"barpolar\"}],\"bar\":[{\"error_x\":{\"color\":\"#2a3f5f\"},\"error_y\":{\"color\":\"#2a3f5f\"},\"marker\":{\"line\":{\"color\":\"#E5ECF6\",\"width\":0.5},\"pattern\":{\"fillmode\":\"overlay\",\"size\":10,\"solidity\":0.2}},\"type\":\"bar\"}],\"carpet\":[{\"aaxis\":{\"endlinecolor\":\"#2a3f5f\",\"gridcolor\":\"white\",\"linecolor\":\"white\",\"minorgridcolor\":\"white\",\"startlinecolor\":\"#2a3f5f\"},\"baxis\":{\"endlinecolor\":\"#2a3f5f\",\"gridcolor\":\"white\",\"linecolor\":\"white\",\"minorgridcolor\":\"white\",\"startlinecolor\":\"#2a3f5f\"},\"type\":\"carpet\"}],\"choropleth\":[{\"colorbar\":{\"outlinewidth\":0,\"ticks\":\"\"},\"type\":\"choropleth\"}],\"contourcarpet\":[{\"colorbar\":{\"outlinewidth\":0,\"ticks\":\"\"},\"type\":\"contourcarpet\"}],\"contour\":[{\"colorbar\":{\"outlinewidth\":0,\"ticks\":\"\"},\"colorscale\":[[0.0,\"#0d0887\"],[0.1111111111111111,\"#46039f\"],[0.2222222222222222,\"#7201a8\"],[0.3333333333333333,\"#9c179e\"],[0.4444444444444444,\"#bd3786\"],[0.5555555555555556,\"#d8576b\"],[0.6666666666666666,\"#ed7953\"],[0.7777777777777778,\"#fb9f3a\"],[0.8888888888888888,\"#fdca26\"],[1.0,\"#f0f921\"]],\"type\":\"contour\"}],\"heatmapgl\":[{\"colorbar\":{\"outlinewidth\":0,\"ticks\":\"\"},\"colorscale\":[[0.0,\"#0d0887\"],[0.1111111111111111,\"#46039f\"],[0.2222222222222222,\"#7201a8\"],[0.3333333333333333,\"#9c179e\"],[0.4444444444444444,\"#bd3786\"],[0.5555555555555556,\"#d8576b\"],[0.6666666666666666,\"#ed7953\"],[0.7777777777777778,\"#fb9f3a\"],[0.8888888888888888,\"#fdca26\"],[1.0,\"#f0f921\"]],\"type\":\"heatmapgl\"}],\"heatmap\":[{\"colorbar\":{\"outlinewidth\":0,\"ticks\":\"\"},\"colorscale\":[[0.0,\"#0d0887\"],[0.1111111111111111,\"#46039f\"],[0.2222222222222222,\"#7201a8\"],[0.3333333333333333,\"#9c179e\"],[0.4444444444444444,\"#bd3786\"],[0.5555555555555556,\"#d8576b\"],[0.6666666666666666,\"#ed7953\"],[0.7777777777777778,\"#fb9f3a\"],[0.8888888888888888,\"#fdca26\"],[1.0,\"#f0f921\"]],\"type\":\"heatmap\"}],\"histogram2dcontour\":[{\"colorbar\":{\"outlinewidth\":0,\"ticks\":\"\"},\"colorscale\":[[0.0,\"#0d0887\"],[0.1111111111111111,\"#46039f\"],[0.2222222222222222,\"#7201a8\"],[0.3333333333333333,\"#9c179e\"],[0.4444444444444444,\"#bd3786\"],[0.5555555555555556,\"#d8576b\"],[0.6666666666666666,\"#ed7953\"],[0.7777777777777778,\"#fb9f3a\"],[0.8888888888888888,\"#fdca26\"],[1.0,\"#f0f921\"]],\"type\":\"histogram2dcontour\"}],\"histogram2d\":[{\"colorbar\":{\"outlinewidth\":0,\"ticks\":\"\"},\"colorscale\":[[0.0,\"#0d0887\"],[0.1111111111111111,\"#46039f\"],[0.2222222222222222,\"#7201a8\"],[0.3333333333333333,\"#9c179e\"],[0.4444444444444444,\"#bd3786\"],[0.5555555555555556,\"#d8576b\"],[0.6666666666666666,\"#ed7953\"],[0.7777777777777778,\"#fb9f3a\"],[0.8888888888888888,\"#fdca26\"],[1.0,\"#f0f921\"]],\"type\":\"histogram2d\"}],\"histogram\":[{\"marker\":{\"pattern\":{\"fillmode\":\"overlay\",\"size\":10,\"solidity\":0.2}},\"type\":\"histogram\"}],\"mesh3d\":[{\"colorbar\":{\"outlinewidth\":0,\"ticks\":\"\"},\"type\":\"mesh3d\"}],\"parcoords\":[{\"line\":{\"colorbar\":{\"outlinewidth\":0,\"ticks\":\"\"}},\"type\":\"parcoords\"}],\"pie\":[{\"automargin\":true,\"type\":\"pie\"}],\"scatter3d\":[{\"line\":{\"colorbar\":{\"outlinewidth\":0,\"ticks\":\"\"}},\"marker\":{\"colorbar\":{\"outlinewidth\":0,\"ticks\":\"\"}},\"type\":\"scatter3d\"}],\"scattercarpet\":[{\"marker\":{\"colorbar\":{\"outlinewidth\":0,\"ticks\":\"\"}},\"type\":\"scattercarpet\"}],\"scattergeo\":[{\"marker\":{\"colorbar\":{\"outlinewidth\":0,\"ticks\":\"\"}},\"type\":\"scattergeo\"}],\"scattergl\":[{\"marker\":{\"colorbar\":{\"outlinewidth\":0,\"ticks\":\"\"}},\"type\":\"scattergl\"}],\"scattermapbox\":[{\"marker\":{\"colorbar\":{\"outlinewidth\":0,\"ticks\":\"\"}},\"type\":\"scattermapbox\"}],\"scatterpolargl\":[{\"marker\":{\"colorbar\":{\"outlinewidth\":0,\"ticks\":\"\"}},\"type\":\"scatterpolargl\"}],\"scatterpolar\":[{\"marker\":{\"colorbar\":{\"outlinewidth\":0,\"ticks\":\"\"}},\"type\":\"scatterpolar\"}],\"scatter\":[{\"fillpattern\":{\"fillmode\":\"overlay\",\"size\":10,\"solidity\":0.2},\"type\":\"scatter\"}],\"scatterternary\":[{\"marker\":{\"colorbar\":{\"outlinewidth\":0,\"ticks\":\"\"}},\"type\":\"scatterternary\"}],\"surface\":[{\"colorbar\":{\"outlinewidth\":0,\"ticks\":\"\"},\"colorscale\":[[0.0,\"#0d0887\"],[0.1111111111111111,\"#46039f\"],[0.2222222222222222,\"#7201a8\"],[0.3333333333333333,\"#9c179e\"],[0.4444444444444444,\"#bd3786\"],[0.5555555555555556,\"#d8576b\"],[0.6666666666666666,\"#ed7953\"],[0.7777777777777778,\"#fb9f3a\"],[0.8888888888888888,\"#fdca26\"],[1.0,\"#f0f921\"]],\"type\":\"surface\"}],\"table\":[{\"cells\":{\"fill\":{\"color\":\"#EBF0F8\"},\"line\":{\"color\":\"white\"}},\"header\":{\"fill\":{\"color\":\"#C8D4E3\"},\"line\":{\"color\":\"white\"}},\"type\":\"table\"}]},\"layout\":{\"annotationdefaults\":{\"arrowcolor\":\"#2a3f5f\",\"arrowhead\":0,\"arrowwidth\":1},\"autotypenumbers\":\"strict\",\"coloraxis\":{\"colorbar\":{\"outlinewidth\":0,\"ticks\":\"\"}},\"colorscale\":{\"diverging\":[[0,\"#8e0152\"],[0.1,\"#c51b7d\"],[0.2,\"#de77ae\"],[0.3,\"#f1b6da\"],[0.4,\"#fde0ef\"],[0.5,\"#f7f7f7\"],[0.6,\"#e6f5d0\"],[0.7,\"#b8e186\"],[0.8,\"#7fbc41\"],[0.9,\"#4d9221\"],[1,\"#276419\"]],\"sequential\":[[0.0,\"#0d0887\"],[0.1111111111111111,\"#46039f\"],[0.2222222222222222,\"#7201a8\"],[0.3333333333333333,\"#9c179e\"],[0.4444444444444444,\"#bd3786\"],[0.5555555555555556,\"#d8576b\"],[0.6666666666666666,\"#ed7953\"],[0.7777777777777778,\"#fb9f3a\"],[0.8888888888888888,\"#fdca26\"],[1.0,\"#f0f921\"]],\"sequentialminus\":[[0.0,\"#0d0887\"],[0.1111111111111111,\"#46039f\"],[0.2222222222222222,\"#7201a8\"],[0.3333333333333333,\"#9c179e\"],[0.4444444444444444,\"#bd3786\"],[0.5555555555555556,\"#d8576b\"],[0.6666666666666666,\"#ed7953\"],[0.7777777777777778,\"#fb9f3a\"],[0.8888888888888888,\"#fdca26\"],[1.0,\"#f0f921\"]]},\"colorway\":[\"#636efa\",\"#EF553B\",\"#00cc96\",\"#ab63fa\",\"#FFA15A\",\"#19d3f3\",\"#FF6692\",\"#B6E880\",\"#FF97FF\",\"#FECB52\"],\"font\":{\"color\":\"#2a3f5f\"},\"geo\":{\"bgcolor\":\"white\",\"lakecolor\":\"white\",\"landcolor\":\"#E5ECF6\",\"showlakes\":true,\"showland\":true,\"subunitcolor\":\"white\"},\"hoverlabel\":{\"align\":\"left\"},\"hovermode\":\"closest\",\"mapbox\":{\"style\":\"light\"},\"paper_bgcolor\":\"white\",\"plot_bgcolor\":\"#E5ECF6\",\"polar\":{\"angularaxis\":{\"gridcolor\":\"white\",\"linecolor\":\"white\",\"ticks\":\"\"},\"bgcolor\":\"#E5ECF6\",\"radialaxis\":{\"gridcolor\":\"white\",\"linecolor\":\"white\",\"ticks\":\"\"}},\"scene\":{\"xaxis\":{\"backgroundcolor\":\"#E5ECF6\",\"gridcolor\":\"white\",\"gridwidth\":2,\"linecolor\":\"white\",\"showbackground\":true,\"ticks\":\"\",\"zerolinecolor\":\"white\"},\"yaxis\":{\"backgroundcolor\":\"#E5ECF6\",\"gridcolor\":\"white\",\"gridwidth\":2,\"linecolor\":\"white\",\"showbackground\":true,\"ticks\":\"\",\"zerolinecolor\":\"white\"},\"zaxis\":{\"backgroundcolor\":\"#E5ECF6\",\"gridcolor\":\"white\",\"gridwidth\":2,\"linecolor\":\"white\",\"showbackground\":true,\"ticks\":\"\",\"zerolinecolor\":\"white\"}},\"shapedefaults\":{\"line\":{\"color\":\"#2a3f5f\"}},\"ternary\":{\"aaxis\":{\"gridcolor\":\"white\",\"linecolor\":\"white\",\"ticks\":\"\"},\"baxis\":{\"gridcolor\":\"white\",\"linecolor\":\"white\",\"ticks\":\"\"},\"bgcolor\":\"#E5ECF6\",\"caxis\":{\"gridcolor\":\"white\",\"linecolor\":\"white\",\"ticks\":\"\"}},\"title\":{\"x\":0.05},\"xaxis\":{\"automargin\":true,\"gridcolor\":\"white\",\"linecolor\":\"white\",\"ticks\":\"\",\"title\":{\"standoff\":15},\"zerolinecolor\":\"white\",\"zerolinewidth\":2},\"yaxis\":{\"automargin\":true,\"gridcolor\":\"white\",\"linecolor\":\"white\",\"ticks\":\"\",\"title\":{\"standoff\":15},\"zerolinecolor\":\"white\",\"zerolinewidth\":2}}},\"title\":{\"font\":{\"color\":\"#4D5663\"}},\"xaxis\":{\"gridcolor\":\"#E1E5ED\",\"showgrid\":true,\"tickfont\":{\"color\":\"#4D5663\"},\"title\":{\"font\":{\"color\":\"#4D5663\"},\"text\":\"\"},\"zerolinecolor\":\"#E1E5ED\"},\"yaxis\":{\"gridcolor\":\"#E1E5ED\",\"showgrid\":true,\"tickfont\":{\"color\":\"#4D5663\"},\"title\":{\"font\":{\"color\":\"#4D5663\"},\"text\":\"\"},\"zerolinecolor\":\"#E1E5ED\"}},                        {\"showLink\": true, \"linkText\": \"Export to plot.ly\", \"plotlyServerURL\": \"https://plot.ly\", \"responsive\": true}                    ).then(function(){\n",
       "                            \n",
       "var gd = document.getElementById('fed71575-e962-4404-a3c9-62339e662b3c');\n",
       "var x = new MutationObserver(function (mutations, observer) {{\n",
       "        var display = window.getComputedStyle(gd).display;\n",
       "        if (!display || display === 'none') {{\n",
       "            console.log([gd, 'removed!']);\n",
       "            Plotly.purge(gd);\n",
       "            observer.disconnect();\n",
       "        }}\n",
       "}});\n",
       "\n",
       "// Listen for the removal of the full notebook cells\n",
       "var notebookContainer = gd.closest('#notebook-container');\n",
       "if (notebookContainer) {{\n",
       "    x.observe(notebookContainer, {childList: true});\n",
       "}}\n",
       "\n",
       "// Listen for the clearing of the current output cell\n",
       "var outputEl = gd.closest('.output');\n",
       "if (outputEl) {{\n",
       "    x.observe(outputEl, {childList: true});\n",
       "}}\n",
       "\n",
       "                        })                };                });            </script>        </div>"
      ]
     },
     "metadata": {},
     "output_type": "display_data"
    }
   ],
   "source": [
    "df.count().iplot(kind='bar')"
   ]
  },
  {
   "attachments": {},
   "cell_type": "markdown",
   "metadata": {},
   "source": [
    "## Boxplots"
   ]
  },
  {
   "cell_type": "code",
   "execution_count": 13,
   "metadata": {
    "collapsed": false
   },
   "outputs": [
    {
     "data": {
      "application/vnd.plotly.v1+json": {
       "config": {
        "linkText": "Export to plot.ly",
        "plotlyServerURL": "https://plot.ly",
        "showLink": true
       },
       "data": [
        {
         "boxpoints": false,
         "line": {
          "width": 1.3
         },
         "marker": {
          "color": "rgba(255, 153, 51, 1.0)"
         },
         "name": "A",
         "orientation": "v",
         "type": "box",
         "y": [
          1.0671011644718573,
          0.12252614843855704,
          -1.7372888077823996,
          0.1695925156229066,
          0.06476969935358666,
          -0.212786133486985,
          -0.5735973478839091,
          -0.12938383586765284,
          -1.7188311871946507,
          -0.2462788372860753,
          0.9287326523635135,
          0.5450128315526861,
          -1.8072486839395705,
          -1.7795006156335864,
          -1.2974719260749443,
          -0.3592545093486659,
          0.8915403848890031,
          -0.1588415569256102,
          -1.2316684195026208,
          -1.0049252800738409,
          0.6700713729610859,
          0.22193154126852746,
          0.7356091777932091,
          1.5138940028695234,
          -0.6706984134027338,
          -0.27220928667299693,
          0.8662373066921251,
          -1.070402182355442,
          -0.04263861142049177,
          0.03536065083037024,
          -0.2819858291956445,
          1.0570211688131401,
          0.40019648892087417,
          1.0671876866883436,
          0.1045048939373422,
          0.07843731284964015,
          0.03869723308290153,
          1.57405998938751,
          -1.264271354270455,
          1.2646305629099084,
          0.35762091765326615,
          -1.8896000743330792,
          -0.8702777654119461,
          1.3636813999406607,
          3.521121368781094,
          1.8556237101040898,
          0.6135846263834486,
          0.19693928277278133,
          -1.0130723333341638,
          -0.9061248641115524,
          -0.9410006207841951,
          -0.15564022009532824,
          2.158487641653487,
          -0.040457391814220506,
          1.0174255230975695,
          0.90151867646762,
          -0.8380520538664679,
          0.7230514530534915,
          -0.16474974913926488,
          -0.674869747821586,
          -0.07357150245215686,
          -1.1124792090056004,
          0.8973231960266346,
          2.5159951581832525,
          -0.4278125131232546,
          -0.14109235397762634,
          0.8569611733445998,
          -0.3272000440577514,
          0.059898668318760555,
          -0.49665730199220287,
          -0.38547426331292745,
          0.9974819647708963,
          0.16794673379161187,
          -1.2141161440291353,
          -1.1578316036056038,
          0.496478738589013,
          0.35744730776764766,
          2.636828619095761,
          1.5050971123986887,
          -0.3914467653398145,
          0.06260785490674617,
          -0.8515441255200638,
          0.41822925967076363,
          0.1634499685270885,
          -0.02968162002226122,
          -1.0294996172388906,
          0.2063858582922663,
          -0.21801109645887629,
          0.21803532293761665,
          1.213055175573047,
          -0.5421404614169028,
          0.20413550917984385,
          0.5275127289016036,
          -1.721650401366734,
          -0.7731960977511728,
          -0.9286564303068765,
          0.789649311809227,
          -1.354164023869453,
          0.2399036793110881,
          -0.5387852014533212
         ]
        },
        {
         "boxpoints": false,
         "line": {
          "width": 1.3
         },
         "marker": {
          "color": "rgba(55, 128, 191, 1.0)"
         },
         "name": "B",
         "orientation": "v",
         "type": "box",
         "y": [
          0.3242107305076018,
          -0.4732245506986917,
          0.0829857821925263,
          -2.1525850663804387,
          0.11835627839193555,
          -1.5273148362422408,
          -1.4043969394601976,
          -1.3792763629763778,
          1.3750273689277361,
          -1.6013905203400136,
          -0.039458131868909514,
          -1.4205456275964161,
          -2.4028895462189492,
          -0.4751126634252541,
          0.01061548352516568,
          -1.2776152875128894,
          1.1422057428383312,
          -0.24415288336489152,
          2.0292484722153756,
          0.34241219593914046,
          -0.4130910663708398,
          -0.30662928028805625,
          2.0797062939154927,
          -0.30808139365540094,
          1.1385793772413473,
          -0.6241200804898174,
          1.7705027392487196,
          -0.5417958921081693,
          0.5620749620907021,
          0.5715996039949228,
          0.23512465947319333,
          -0.16011712549359194,
          -0.0008693407367334607,
          0.4772493548054418,
          -0.5065004498261871,
          -0.708458749352873,
          0.44408222832463007,
          1.2562986835516903,
          -0.45474023718854406,
          0.14683106629185222,
          -0.20047809323927243,
          1.0606526190325922,
          0.3835298289255345,
          -0.03592244683880408,
          2.37578067702395,
          0.5397223756932208,
          -0.36722791269090865,
          -0.5228746111364324,
          0.6776034623151441,
          0.8890983623704151,
          1.141854840144766,
          -0.382010536531334,
          1.0691027794131933,
          -0.1795380696951676,
          0.3263695840460823,
          -0.20675790271714276,
          -1.314757055451178,
          -0.22327484502621184,
          0.7729115659347094,
          0.5643409652739859,
          -0.35594050331525934,
          0.7664545925333168,
          -0.05779400781082389,
          0.6547818753741786,
          -0.15169546769168585,
          1.480916620297017,
          1.0716548982406737,
          0.2684861671452203,
          0.07136188312843045,
          0.9234164060938872,
          -2.3674418226466596,
          -1.3319425532618818,
          -0.6025629660412167,
          0.3667473725886893,
          -1.2466071413506252,
          0.766179643312747,
          0.6141960995096972,
          -0.9324695780648631,
          -1.109699770201403,
          2.61766000450689,
          0.06798776316756977,
          0.7709470514371616,
          -0.18635088457397125,
          1.0720442560847045,
          -1.3436949289374365,
          -0.8760412994163717,
          -0.1561731292700013,
          0.5810165936635211,
          0.7215976203706973,
          1.9210723297470134,
          -0.1314257766034657,
          0.9819513203043023,
          0.5614252531811491,
          0.7107737439856229,
          -0.9084435938448427,
          0.8796797700864266,
          -0.799676880375282,
          -1.544114012485793,
          -0.31572189255650235,
          -0.40706289251207856
         ]
        },
        {
         "boxpoints": false,
         "line": {
          "width": 1.3
         },
         "marker": {
          "color": "rgba(50, 171, 96, 1.0)"
         },
         "name": "C",
         "orientation": "v",
         "type": "box",
         "y": [
          -0.05396156414917289,
          -0.49573671663582475,
          1.1709922043599275,
          0.12994332570982778,
          0.22287828812551566,
          -0.46686082964843795,
          0.8949986177380703,
          -1.7543169062132467,
          0.9504306164330226,
          0.03159826405324384,
          1.4093644184168583,
          -0.739393440859495,
          -1.3748287028006387,
          -0.571934773921179,
          0.7377716810572218,
          0.6633390678603208,
          -0.363283724108149,
          1.1149782802621664,
          -0.3104746807458156,
          0.37209955145352813,
          -0.1521047681432898,
          0.701749103110747,
          -0.20086855013915625,
          0.709281601542716,
          -0.22483987914263143,
          0.6394056857851284,
          0.39076896901701147,
          -0.7230934694101087,
          -0.3200065989650925,
          -0.372500305605937,
          0.4123065472003196,
          0.4438412943253237,
          -2.4273780935415106,
          -0.5540484256383168,
          0.058901477242946136,
          -0.0189373710527813,
          0.03644031905737698,
          -0.32837863965672415,
          0.9120562659791095,
          0.6846056600470221,
          1.5136929979842904,
          0.3996307793048345,
          0.6381338574301354,
          0.029574300601336187,
          0.6695381108364172,
          0.12746518050745206,
          1.9064694636086486,
          0.5434602530014158,
          0.3992062493305683,
          0.584116522244328,
          1.6049286467715105,
          -0.2771186948233229,
          -0.5350430036645691,
          0.4331315961218136,
          -0.2574813418555083,
          -1.4942070365989273,
          0.02225849212214929,
          0.8533759218484724,
          -0.7472459062763986,
          0.2633970017166402,
          0.6864078745660986,
          0.3472341041490324,
          1.2308839278104895,
          -0.25230912402236416,
          1.9510091176345246,
          0.13231750289703595,
          -0.34543050244049295,
          -1.5200746965843945,
          -1.2972153270363376,
          0.08610594954460794,
          1.357947792198527,
          0.8988646887312574,
          1.4239145046862396,
          -0.10390230543080722,
          -3.3858903818694635,
          0.598210769213487,
          1.2298219552727498,
          -0.07067964425110174,
          1.5926191317958687,
          0.627669104670253,
          -0.24645382549212322,
          -1.2237011337657424,
          -1.4464070404693974,
          -0.48181812027243487,
          0.890553818496118,
          -1.0778790657664683,
          1.1713604724855853,
          -0.40419797574355426,
          0.5208186973252935,
          1.0715529978057232,
          1.8848046625552322,
          -0.15381739587698678,
          -0.6909163091844379,
          -2.2939039431487123,
          0.7640082261803112,
          0.2935233004663983,
          0.6067508728345914,
          0.04643146296483246,
          1.5001566138738394,
          1.5102681557411994
         ]
        },
        {
         "boxpoints": false,
         "line": {
          "width": 1.3
         },
         "marker": {
          "color": "rgba(128, 0, 128, 1.0)"
         },
         "name": "D",
         "orientation": "v",
         "type": "box",
         "y": [
          0.10414397488088208,
          0.7393614008449653,
          -0.15451367904847055,
          -0.4953039703137371,
          0.27753016139980174,
          0.009388885325818464,
          1.1288524398941266,
          0.7621601443543828,
          0.9642905528929704,
          0.6066490413331287,
          -0.5737562033226585,
          1.1943425390476539,
          0.4534159373193373,
          -0.21621992757712333,
          0.4343932101228095,
          0.6898958412863402,
          -0.22842938669356683,
          -1.89333844766207,
          -2.1776294495941486,
          -0.4594233872238994,
          0.28785460061736995,
          1.430190102110874,
          -0.22681079640756027,
          0.29219465247239546,
          1.4764681171978364,
          0.1570946197217789,
          -2.2703765362990436,
          1.1737962646986395,
          -1.8833089548335922,
          0.69005465633672,
          -1.4630131610410644,
          1.199923331829849,
          -0.9674795243256741,
          -0.4208693152158885,
          -1.4378867368366544,
          1.6655707998506888,
          -1.052612607657255,
          1.7257590131810263,
          0.19492296037352932,
          -0.29118801538259526,
          1.5755855239813843,
          0.05121579791824856,
          0.13596033655519452,
          -0.2504667003324007,
          0.5973882557957092,
          -1.2914203231760144,
          -2.254117812185064,
          0.9332985812495083,
          1.7780163461698073,
          0.08983291573976641,
          -0.5067941226616959,
          1.0928241805551024,
          1.3745755079768516,
          0.3262396362083491,
          -0.5143781144532186,
          1.1474122973630243,
          0.4854117555014878,
          -1.306409779628524,
          -2.512997636345706,
          0.04490790648663463,
          -1.2877858272534881,
          0.38227717200034916,
          1.0525576398534593,
          0.47966688967568594,
          -0.6963951944235676,
          -0.44417354487272365,
          -0.1868088476383446,
          1.035916629262879,
          0.520507842407005,
          0.5667810758752128,
          -0.8338948700403137,
          0.05863920356894979,
          0.8285743440950972,
          0.8178677384991838,
          0.12502439087873296,
          0.07167433878101913,
          -0.33979463020235084,
          1.1835888136541592,
          -1.6569403897925679,
          0.2074196642908736,
          -0.33650717354430126,
          0.3471228744762997,
          -0.5325715948715651,
          -0.44645592595831124,
          0.11678251261327567,
          -1.197051387833319,
          0.47422328888972837,
          -0.7069135528230299,
          1.0124940613233508,
          -0.7958997125028987,
          0.41066954148933216,
          -0.8002036933677115,
          0.8460825875528525,
          -0.5394695858767694,
          0.5781370890816531,
          1.5779402025073586,
          -0.17889471055635175,
          1.8331186321929243,
          -1.3678886284719962,
          -2.420721323917625
         ]
        }
       ],
       "layout": {
        "legend": {
         "bgcolor": "#F5F6F9",
         "font": {
          "color": "#4D5663"
         }
        },
        "paper_bgcolor": "#F5F6F9",
        "plot_bgcolor": "#F5F6F9",
        "template": {
         "data": {
          "bar": [
           {
            "error_x": {
             "color": "#2a3f5f"
            },
            "error_y": {
             "color": "#2a3f5f"
            },
            "marker": {
             "line": {
              "color": "#E5ECF6",
              "width": 0.5
             },
             "pattern": {
              "fillmode": "overlay",
              "size": 10,
              "solidity": 0.2
             }
            },
            "type": "bar"
           }
          ],
          "barpolar": [
           {
            "marker": {
             "line": {
              "color": "#E5ECF6",
              "width": 0.5
             },
             "pattern": {
              "fillmode": "overlay",
              "size": 10,
              "solidity": 0.2
             }
            },
            "type": "barpolar"
           }
          ],
          "carpet": [
           {
            "aaxis": {
             "endlinecolor": "#2a3f5f",
             "gridcolor": "white",
             "linecolor": "white",
             "minorgridcolor": "white",
             "startlinecolor": "#2a3f5f"
            },
            "baxis": {
             "endlinecolor": "#2a3f5f",
             "gridcolor": "white",
             "linecolor": "white",
             "minorgridcolor": "white",
             "startlinecolor": "#2a3f5f"
            },
            "type": "carpet"
           }
          ],
          "choropleth": [
           {
            "colorbar": {
             "outlinewidth": 0,
             "ticks": ""
            },
            "type": "choropleth"
           }
          ],
          "contour": [
           {
            "colorbar": {
             "outlinewidth": 0,
             "ticks": ""
            },
            "colorscale": [
             [
              0,
              "#0d0887"
             ],
             [
              0.1111111111111111,
              "#46039f"
             ],
             [
              0.2222222222222222,
              "#7201a8"
             ],
             [
              0.3333333333333333,
              "#9c179e"
             ],
             [
              0.4444444444444444,
              "#bd3786"
             ],
             [
              0.5555555555555556,
              "#d8576b"
             ],
             [
              0.6666666666666666,
              "#ed7953"
             ],
             [
              0.7777777777777778,
              "#fb9f3a"
             ],
             [
              0.8888888888888888,
              "#fdca26"
             ],
             [
              1,
              "#f0f921"
             ]
            ],
            "type": "contour"
           }
          ],
          "contourcarpet": [
           {
            "colorbar": {
             "outlinewidth": 0,
             "ticks": ""
            },
            "type": "contourcarpet"
           }
          ],
          "heatmap": [
           {
            "colorbar": {
             "outlinewidth": 0,
             "ticks": ""
            },
            "colorscale": [
             [
              0,
              "#0d0887"
             ],
             [
              0.1111111111111111,
              "#46039f"
             ],
             [
              0.2222222222222222,
              "#7201a8"
             ],
             [
              0.3333333333333333,
              "#9c179e"
             ],
             [
              0.4444444444444444,
              "#bd3786"
             ],
             [
              0.5555555555555556,
              "#d8576b"
             ],
             [
              0.6666666666666666,
              "#ed7953"
             ],
             [
              0.7777777777777778,
              "#fb9f3a"
             ],
             [
              0.8888888888888888,
              "#fdca26"
             ],
             [
              1,
              "#f0f921"
             ]
            ],
            "type": "heatmap"
           }
          ],
          "heatmapgl": [
           {
            "colorbar": {
             "outlinewidth": 0,
             "ticks": ""
            },
            "colorscale": [
             [
              0,
              "#0d0887"
             ],
             [
              0.1111111111111111,
              "#46039f"
             ],
             [
              0.2222222222222222,
              "#7201a8"
             ],
             [
              0.3333333333333333,
              "#9c179e"
             ],
             [
              0.4444444444444444,
              "#bd3786"
             ],
             [
              0.5555555555555556,
              "#d8576b"
             ],
             [
              0.6666666666666666,
              "#ed7953"
             ],
             [
              0.7777777777777778,
              "#fb9f3a"
             ],
             [
              0.8888888888888888,
              "#fdca26"
             ],
             [
              1,
              "#f0f921"
             ]
            ],
            "type": "heatmapgl"
           }
          ],
          "histogram": [
           {
            "marker": {
             "pattern": {
              "fillmode": "overlay",
              "size": 10,
              "solidity": 0.2
             }
            },
            "type": "histogram"
           }
          ],
          "histogram2d": [
           {
            "colorbar": {
             "outlinewidth": 0,
             "ticks": ""
            },
            "colorscale": [
             [
              0,
              "#0d0887"
             ],
             [
              0.1111111111111111,
              "#46039f"
             ],
             [
              0.2222222222222222,
              "#7201a8"
             ],
             [
              0.3333333333333333,
              "#9c179e"
             ],
             [
              0.4444444444444444,
              "#bd3786"
             ],
             [
              0.5555555555555556,
              "#d8576b"
             ],
             [
              0.6666666666666666,
              "#ed7953"
             ],
             [
              0.7777777777777778,
              "#fb9f3a"
             ],
             [
              0.8888888888888888,
              "#fdca26"
             ],
             [
              1,
              "#f0f921"
             ]
            ],
            "type": "histogram2d"
           }
          ],
          "histogram2dcontour": [
           {
            "colorbar": {
             "outlinewidth": 0,
             "ticks": ""
            },
            "colorscale": [
             [
              0,
              "#0d0887"
             ],
             [
              0.1111111111111111,
              "#46039f"
             ],
             [
              0.2222222222222222,
              "#7201a8"
             ],
             [
              0.3333333333333333,
              "#9c179e"
             ],
             [
              0.4444444444444444,
              "#bd3786"
             ],
             [
              0.5555555555555556,
              "#d8576b"
             ],
             [
              0.6666666666666666,
              "#ed7953"
             ],
             [
              0.7777777777777778,
              "#fb9f3a"
             ],
             [
              0.8888888888888888,
              "#fdca26"
             ],
             [
              1,
              "#f0f921"
             ]
            ],
            "type": "histogram2dcontour"
           }
          ],
          "mesh3d": [
           {
            "colorbar": {
             "outlinewidth": 0,
             "ticks": ""
            },
            "type": "mesh3d"
           }
          ],
          "parcoords": [
           {
            "line": {
             "colorbar": {
              "outlinewidth": 0,
              "ticks": ""
             }
            },
            "type": "parcoords"
           }
          ],
          "pie": [
           {
            "automargin": true,
            "type": "pie"
           }
          ],
          "scatter": [
           {
            "fillpattern": {
             "fillmode": "overlay",
             "size": 10,
             "solidity": 0.2
            },
            "type": "scatter"
           }
          ],
          "scatter3d": [
           {
            "line": {
             "colorbar": {
              "outlinewidth": 0,
              "ticks": ""
             }
            },
            "marker": {
             "colorbar": {
              "outlinewidth": 0,
              "ticks": ""
             }
            },
            "type": "scatter3d"
           }
          ],
          "scattercarpet": [
           {
            "marker": {
             "colorbar": {
              "outlinewidth": 0,
              "ticks": ""
             }
            },
            "type": "scattercarpet"
           }
          ],
          "scattergeo": [
           {
            "marker": {
             "colorbar": {
              "outlinewidth": 0,
              "ticks": ""
             }
            },
            "type": "scattergeo"
           }
          ],
          "scattergl": [
           {
            "marker": {
             "colorbar": {
              "outlinewidth": 0,
              "ticks": ""
             }
            },
            "type": "scattergl"
           }
          ],
          "scattermapbox": [
           {
            "marker": {
             "colorbar": {
              "outlinewidth": 0,
              "ticks": ""
             }
            },
            "type": "scattermapbox"
           }
          ],
          "scatterpolar": [
           {
            "marker": {
             "colorbar": {
              "outlinewidth": 0,
              "ticks": ""
             }
            },
            "type": "scatterpolar"
           }
          ],
          "scatterpolargl": [
           {
            "marker": {
             "colorbar": {
              "outlinewidth": 0,
              "ticks": ""
             }
            },
            "type": "scatterpolargl"
           }
          ],
          "scatterternary": [
           {
            "marker": {
             "colorbar": {
              "outlinewidth": 0,
              "ticks": ""
             }
            },
            "type": "scatterternary"
           }
          ],
          "surface": [
           {
            "colorbar": {
             "outlinewidth": 0,
             "ticks": ""
            },
            "colorscale": [
             [
              0,
              "#0d0887"
             ],
             [
              0.1111111111111111,
              "#46039f"
             ],
             [
              0.2222222222222222,
              "#7201a8"
             ],
             [
              0.3333333333333333,
              "#9c179e"
             ],
             [
              0.4444444444444444,
              "#bd3786"
             ],
             [
              0.5555555555555556,
              "#d8576b"
             ],
             [
              0.6666666666666666,
              "#ed7953"
             ],
             [
              0.7777777777777778,
              "#fb9f3a"
             ],
             [
              0.8888888888888888,
              "#fdca26"
             ],
             [
              1,
              "#f0f921"
             ]
            ],
            "type": "surface"
           }
          ],
          "table": [
           {
            "cells": {
             "fill": {
              "color": "#EBF0F8"
             },
             "line": {
              "color": "white"
             }
            },
            "header": {
             "fill": {
              "color": "#C8D4E3"
             },
             "line": {
              "color": "white"
             }
            },
            "type": "table"
           }
          ]
         },
         "layout": {
          "annotationdefaults": {
           "arrowcolor": "#2a3f5f",
           "arrowhead": 0,
           "arrowwidth": 1
          },
          "autotypenumbers": "strict",
          "coloraxis": {
           "colorbar": {
            "outlinewidth": 0,
            "ticks": ""
           }
          },
          "colorscale": {
           "diverging": [
            [
             0,
             "#8e0152"
            ],
            [
             0.1,
             "#c51b7d"
            ],
            [
             0.2,
             "#de77ae"
            ],
            [
             0.3,
             "#f1b6da"
            ],
            [
             0.4,
             "#fde0ef"
            ],
            [
             0.5,
             "#f7f7f7"
            ],
            [
             0.6,
             "#e6f5d0"
            ],
            [
             0.7,
             "#b8e186"
            ],
            [
             0.8,
             "#7fbc41"
            ],
            [
             0.9,
             "#4d9221"
            ],
            [
             1,
             "#276419"
            ]
           ],
           "sequential": [
            [
             0,
             "#0d0887"
            ],
            [
             0.1111111111111111,
             "#46039f"
            ],
            [
             0.2222222222222222,
             "#7201a8"
            ],
            [
             0.3333333333333333,
             "#9c179e"
            ],
            [
             0.4444444444444444,
             "#bd3786"
            ],
            [
             0.5555555555555556,
             "#d8576b"
            ],
            [
             0.6666666666666666,
             "#ed7953"
            ],
            [
             0.7777777777777778,
             "#fb9f3a"
            ],
            [
             0.8888888888888888,
             "#fdca26"
            ],
            [
             1,
             "#f0f921"
            ]
           ],
           "sequentialminus": [
            [
             0,
             "#0d0887"
            ],
            [
             0.1111111111111111,
             "#46039f"
            ],
            [
             0.2222222222222222,
             "#7201a8"
            ],
            [
             0.3333333333333333,
             "#9c179e"
            ],
            [
             0.4444444444444444,
             "#bd3786"
            ],
            [
             0.5555555555555556,
             "#d8576b"
            ],
            [
             0.6666666666666666,
             "#ed7953"
            ],
            [
             0.7777777777777778,
             "#fb9f3a"
            ],
            [
             0.8888888888888888,
             "#fdca26"
            ],
            [
             1,
             "#f0f921"
            ]
           ]
          },
          "colorway": [
           "#636efa",
           "#EF553B",
           "#00cc96",
           "#ab63fa",
           "#FFA15A",
           "#19d3f3",
           "#FF6692",
           "#B6E880",
           "#FF97FF",
           "#FECB52"
          ],
          "font": {
           "color": "#2a3f5f"
          },
          "geo": {
           "bgcolor": "white",
           "lakecolor": "white",
           "landcolor": "#E5ECF6",
           "showlakes": true,
           "showland": true,
           "subunitcolor": "white"
          },
          "hoverlabel": {
           "align": "left"
          },
          "hovermode": "closest",
          "mapbox": {
           "style": "light"
          },
          "paper_bgcolor": "white",
          "plot_bgcolor": "#E5ECF6",
          "polar": {
           "angularaxis": {
            "gridcolor": "white",
            "linecolor": "white",
            "ticks": ""
           },
           "bgcolor": "#E5ECF6",
           "radialaxis": {
            "gridcolor": "white",
            "linecolor": "white",
            "ticks": ""
           }
          },
          "scene": {
           "xaxis": {
            "backgroundcolor": "#E5ECF6",
            "gridcolor": "white",
            "gridwidth": 2,
            "linecolor": "white",
            "showbackground": true,
            "ticks": "",
            "zerolinecolor": "white"
           },
           "yaxis": {
            "backgroundcolor": "#E5ECF6",
            "gridcolor": "white",
            "gridwidth": 2,
            "linecolor": "white",
            "showbackground": true,
            "ticks": "",
            "zerolinecolor": "white"
           },
           "zaxis": {
            "backgroundcolor": "#E5ECF6",
            "gridcolor": "white",
            "gridwidth": 2,
            "linecolor": "white",
            "showbackground": true,
            "ticks": "",
            "zerolinecolor": "white"
           }
          },
          "shapedefaults": {
           "line": {
            "color": "#2a3f5f"
           }
          },
          "ternary": {
           "aaxis": {
            "gridcolor": "white",
            "linecolor": "white",
            "ticks": ""
           },
           "baxis": {
            "gridcolor": "white",
            "linecolor": "white",
            "ticks": ""
           },
           "bgcolor": "#E5ECF6",
           "caxis": {
            "gridcolor": "white",
            "linecolor": "white",
            "ticks": ""
           }
          },
          "title": {
           "x": 0.05
          },
          "xaxis": {
           "automargin": true,
           "gridcolor": "white",
           "linecolor": "white",
           "ticks": "",
           "title": {
            "standoff": 15
           },
           "zerolinecolor": "white",
           "zerolinewidth": 2
          },
          "yaxis": {
           "automargin": true,
           "gridcolor": "white",
           "linecolor": "white",
           "ticks": "",
           "title": {
            "standoff": 15
           },
           "zerolinecolor": "white",
           "zerolinewidth": 2
          }
         }
        },
        "title": {
         "font": {
          "color": "#4D5663"
         }
        },
        "xaxis": {
         "gridcolor": "#E1E5ED",
         "showgrid": true,
         "tickfont": {
          "color": "#4D5663"
         },
         "title": {
          "font": {
           "color": "#4D5663"
          },
          "text": ""
         },
         "zerolinecolor": "#E1E5ED"
        },
        "yaxis": {
         "gridcolor": "#E1E5ED",
         "showgrid": true,
         "tickfont": {
          "color": "#4D5663"
         },
         "title": {
          "font": {
           "color": "#4D5663"
          },
          "text": ""
         },
         "zerolinecolor": "#E1E5ED"
        }
       }
      },
      "text/html": [
       "<div>                            <div id=\"a10b6661-d06e-47db-a07c-218debadac8a\" class=\"plotly-graph-div\" style=\"height:525px; width:100%;\"></div>            <script type=\"text/javascript\">                require([\"plotly\"], function(Plotly) {                    window.PLOTLYENV=window.PLOTLYENV || {};\n",
       "                    window.PLOTLYENV.BASE_URL='https://plot.ly';                                    if (document.getElementById(\"a10b6661-d06e-47db-a07c-218debadac8a\")) {                    Plotly.newPlot(                        \"a10b6661-d06e-47db-a07c-218debadac8a\",                        [{\"boxpoints\":false,\"line\":{\"width\":1.3},\"marker\":{\"color\":\"rgba(255, 153, 51, 1.0)\"},\"name\":\"A\",\"orientation\":\"v\",\"y\":[1.0671011644718573,0.12252614843855704,-1.7372888077823996,0.1695925156229066,0.06476969935358666,-0.212786133486985,-0.5735973478839091,-0.12938383586765284,-1.7188311871946507,-0.2462788372860753,0.9287326523635135,0.5450128315526861,-1.8072486839395705,-1.7795006156335864,-1.2974719260749443,-0.3592545093486659,0.8915403848890031,-0.1588415569256102,-1.2316684195026208,-1.0049252800738409,0.6700713729610859,0.22193154126852746,0.7356091777932091,1.5138940028695234,-0.6706984134027338,-0.27220928667299693,0.8662373066921251,-1.070402182355442,-0.04263861142049177,0.03536065083037024,-0.2819858291956445,1.0570211688131401,0.40019648892087417,1.0671876866883436,0.1045048939373422,0.07843731284964015,0.03869723308290153,1.57405998938751,-1.264271354270455,1.2646305629099084,0.35762091765326615,-1.8896000743330792,-0.8702777654119461,1.3636813999406607,3.521121368781094,1.8556237101040898,0.6135846263834486,0.19693928277278133,-1.0130723333341638,-0.9061248641115524,-0.9410006207841951,-0.15564022009532824,2.158487641653487,-0.040457391814220506,1.0174255230975695,0.90151867646762,-0.8380520538664679,0.7230514530534915,-0.16474974913926488,-0.674869747821586,-0.07357150245215686,-1.1124792090056004,0.8973231960266346,2.5159951581832525,-0.4278125131232546,-0.14109235397762634,0.8569611733445998,-0.3272000440577514,0.059898668318760555,-0.49665730199220287,-0.38547426331292745,0.9974819647708963,0.16794673379161187,-1.2141161440291353,-1.1578316036056038,0.496478738589013,0.35744730776764766,2.636828619095761,1.5050971123986887,-0.3914467653398145,0.06260785490674617,-0.8515441255200638,0.41822925967076363,0.1634499685270885,-0.02968162002226122,-1.0294996172388906,0.2063858582922663,-0.21801109645887629,0.21803532293761665,1.213055175573047,-0.5421404614169028,0.20413550917984385,0.5275127289016036,-1.721650401366734,-0.7731960977511728,-0.9286564303068765,0.789649311809227,-1.354164023869453,0.2399036793110881,-0.5387852014533212],\"type\":\"box\"},{\"boxpoints\":false,\"line\":{\"width\":1.3},\"marker\":{\"color\":\"rgba(55, 128, 191, 1.0)\"},\"name\":\"B\",\"orientation\":\"v\",\"y\":[0.3242107305076018,-0.4732245506986917,0.0829857821925263,-2.1525850663804387,0.11835627839193555,-1.5273148362422408,-1.4043969394601976,-1.3792763629763778,1.3750273689277361,-1.6013905203400136,-0.039458131868909514,-1.4205456275964161,-2.4028895462189492,-0.4751126634252541,0.01061548352516568,-1.2776152875128894,1.1422057428383312,-0.24415288336489152,2.0292484722153756,0.34241219593914046,-0.4130910663708398,-0.30662928028805625,2.0797062939154927,-0.30808139365540094,1.1385793772413473,-0.6241200804898174,1.7705027392487196,-0.5417958921081693,0.5620749620907021,0.5715996039949228,0.23512465947319333,-0.16011712549359194,-0.0008693407367334607,0.4772493548054418,-0.5065004498261871,-0.708458749352873,0.44408222832463007,1.2562986835516903,-0.45474023718854406,0.14683106629185222,-0.20047809323927243,1.0606526190325922,0.3835298289255345,-0.03592244683880408,2.37578067702395,0.5397223756932208,-0.36722791269090865,-0.5228746111364324,0.6776034623151441,0.8890983623704151,1.141854840144766,-0.382010536531334,1.0691027794131933,-0.1795380696951676,0.3263695840460823,-0.20675790271714276,-1.314757055451178,-0.22327484502621184,0.7729115659347094,0.5643409652739859,-0.35594050331525934,0.7664545925333168,-0.05779400781082389,0.6547818753741786,-0.15169546769168585,1.480916620297017,1.0716548982406737,0.2684861671452203,0.07136188312843045,0.9234164060938872,-2.3674418226466596,-1.3319425532618818,-0.6025629660412167,0.3667473725886893,-1.2466071413506252,0.766179643312747,0.6141960995096972,-0.9324695780648631,-1.109699770201403,2.61766000450689,0.06798776316756977,0.7709470514371616,-0.18635088457397125,1.0720442560847045,-1.3436949289374365,-0.8760412994163717,-0.1561731292700013,0.5810165936635211,0.7215976203706973,1.9210723297470134,-0.1314257766034657,0.9819513203043023,0.5614252531811491,0.7107737439856229,-0.9084435938448427,0.8796797700864266,-0.799676880375282,-1.544114012485793,-0.31572189255650235,-0.40706289251207856],\"type\":\"box\"},{\"boxpoints\":false,\"line\":{\"width\":1.3},\"marker\":{\"color\":\"rgba(50, 171, 96, 1.0)\"},\"name\":\"C\",\"orientation\":\"v\",\"y\":[-0.05396156414917289,-0.49573671663582475,1.1709922043599275,0.12994332570982778,0.22287828812551566,-0.46686082964843795,0.8949986177380703,-1.7543169062132467,0.9504306164330226,0.03159826405324384,1.4093644184168583,-0.739393440859495,-1.3748287028006387,-0.571934773921179,0.7377716810572218,0.6633390678603208,-0.363283724108149,1.1149782802621664,-0.3104746807458156,0.37209955145352813,-0.1521047681432898,0.701749103110747,-0.20086855013915625,0.709281601542716,-0.22483987914263143,0.6394056857851284,0.39076896901701147,-0.7230934694101087,-0.3200065989650925,-0.372500305605937,0.4123065472003196,0.4438412943253237,-2.4273780935415106,-0.5540484256383168,0.058901477242946136,-0.0189373710527813,0.03644031905737698,-0.32837863965672415,0.9120562659791095,0.6846056600470221,1.5136929979842904,0.3996307793048345,0.6381338574301354,0.029574300601336187,0.6695381108364172,0.12746518050745206,1.9064694636086486,0.5434602530014158,0.3992062493305683,0.584116522244328,1.6049286467715105,-0.2771186948233229,-0.5350430036645691,0.4331315961218136,-0.2574813418555083,-1.4942070365989273,0.02225849212214929,0.8533759218484724,-0.7472459062763986,0.2633970017166402,0.6864078745660986,0.3472341041490324,1.2308839278104895,-0.25230912402236416,1.9510091176345246,0.13231750289703595,-0.34543050244049295,-1.5200746965843945,-1.2972153270363376,0.08610594954460794,1.357947792198527,0.8988646887312574,1.4239145046862396,-0.10390230543080722,-3.3858903818694635,0.598210769213487,1.2298219552727498,-0.07067964425110174,1.5926191317958687,0.627669104670253,-0.24645382549212322,-1.2237011337657424,-1.4464070404693974,-0.48181812027243487,0.890553818496118,-1.0778790657664683,1.1713604724855853,-0.40419797574355426,0.5208186973252935,1.0715529978057232,1.8848046625552322,-0.15381739587698678,-0.6909163091844379,-2.2939039431487123,0.7640082261803112,0.2935233004663983,0.6067508728345914,0.04643146296483246,1.5001566138738394,1.5102681557411994],\"type\":\"box\"},{\"boxpoints\":false,\"line\":{\"width\":1.3},\"marker\":{\"color\":\"rgba(128, 0, 128, 1.0)\"},\"name\":\"D\",\"orientation\":\"v\",\"y\":[0.10414397488088208,0.7393614008449653,-0.15451367904847055,-0.4953039703137371,0.27753016139980174,0.009388885325818464,1.1288524398941266,0.7621601443543828,0.9642905528929704,0.6066490413331287,-0.5737562033226585,1.1943425390476539,0.4534159373193373,-0.21621992757712333,0.4343932101228095,0.6898958412863402,-0.22842938669356683,-1.89333844766207,-2.1776294495941486,-0.4594233872238994,0.28785460061736995,1.430190102110874,-0.22681079640756027,0.29219465247239546,1.4764681171978364,0.1570946197217789,-2.2703765362990436,1.1737962646986395,-1.8833089548335922,0.69005465633672,-1.4630131610410644,1.199923331829849,-0.9674795243256741,-0.4208693152158885,-1.4378867368366544,1.6655707998506888,-1.052612607657255,1.7257590131810263,0.19492296037352932,-0.29118801538259526,1.5755855239813843,0.05121579791824856,0.13596033655519452,-0.2504667003324007,0.5973882557957092,-1.2914203231760144,-2.254117812185064,0.9332985812495083,1.7780163461698073,0.08983291573976641,-0.5067941226616959,1.0928241805551024,1.3745755079768516,0.3262396362083491,-0.5143781144532186,1.1474122973630243,0.4854117555014878,-1.306409779628524,-2.512997636345706,0.04490790648663463,-1.2877858272534881,0.38227717200034916,1.0525576398534593,0.47966688967568594,-0.6963951944235676,-0.44417354487272365,-0.1868088476383446,1.035916629262879,0.520507842407005,0.5667810758752128,-0.8338948700403137,0.05863920356894979,0.8285743440950972,0.8178677384991838,0.12502439087873296,0.07167433878101913,-0.33979463020235084,1.1835888136541592,-1.6569403897925679,0.2074196642908736,-0.33650717354430126,0.3471228744762997,-0.5325715948715651,-0.44645592595831124,0.11678251261327567,-1.197051387833319,0.47422328888972837,-0.7069135528230299,1.0124940613233508,-0.7958997125028987,0.41066954148933216,-0.8002036933677115,0.8460825875528525,-0.5394695858767694,0.5781370890816531,1.5779402025073586,-0.17889471055635175,1.8331186321929243,-1.3678886284719962,-2.420721323917625],\"type\":\"box\"}],                        {\"legend\":{\"bgcolor\":\"#F5F6F9\",\"font\":{\"color\":\"#4D5663\"}},\"paper_bgcolor\":\"#F5F6F9\",\"plot_bgcolor\":\"#F5F6F9\",\"template\":{\"data\":{\"barpolar\":[{\"marker\":{\"line\":{\"color\":\"#E5ECF6\",\"width\":0.5},\"pattern\":{\"fillmode\":\"overlay\",\"size\":10,\"solidity\":0.2}},\"type\":\"barpolar\"}],\"bar\":[{\"error_x\":{\"color\":\"#2a3f5f\"},\"error_y\":{\"color\":\"#2a3f5f\"},\"marker\":{\"line\":{\"color\":\"#E5ECF6\",\"width\":0.5},\"pattern\":{\"fillmode\":\"overlay\",\"size\":10,\"solidity\":0.2}},\"type\":\"bar\"}],\"carpet\":[{\"aaxis\":{\"endlinecolor\":\"#2a3f5f\",\"gridcolor\":\"white\",\"linecolor\":\"white\",\"minorgridcolor\":\"white\",\"startlinecolor\":\"#2a3f5f\"},\"baxis\":{\"endlinecolor\":\"#2a3f5f\",\"gridcolor\":\"white\",\"linecolor\":\"white\",\"minorgridcolor\":\"white\",\"startlinecolor\":\"#2a3f5f\"},\"type\":\"carpet\"}],\"choropleth\":[{\"colorbar\":{\"outlinewidth\":0,\"ticks\":\"\"},\"type\":\"choropleth\"}],\"contourcarpet\":[{\"colorbar\":{\"outlinewidth\":0,\"ticks\":\"\"},\"type\":\"contourcarpet\"}],\"contour\":[{\"colorbar\":{\"outlinewidth\":0,\"ticks\":\"\"},\"colorscale\":[[0.0,\"#0d0887\"],[0.1111111111111111,\"#46039f\"],[0.2222222222222222,\"#7201a8\"],[0.3333333333333333,\"#9c179e\"],[0.4444444444444444,\"#bd3786\"],[0.5555555555555556,\"#d8576b\"],[0.6666666666666666,\"#ed7953\"],[0.7777777777777778,\"#fb9f3a\"],[0.8888888888888888,\"#fdca26\"],[1.0,\"#f0f921\"]],\"type\":\"contour\"}],\"heatmapgl\":[{\"colorbar\":{\"outlinewidth\":0,\"ticks\":\"\"},\"colorscale\":[[0.0,\"#0d0887\"],[0.1111111111111111,\"#46039f\"],[0.2222222222222222,\"#7201a8\"],[0.3333333333333333,\"#9c179e\"],[0.4444444444444444,\"#bd3786\"],[0.5555555555555556,\"#d8576b\"],[0.6666666666666666,\"#ed7953\"],[0.7777777777777778,\"#fb9f3a\"],[0.8888888888888888,\"#fdca26\"],[1.0,\"#f0f921\"]],\"type\":\"heatmapgl\"}],\"heatmap\":[{\"colorbar\":{\"outlinewidth\":0,\"ticks\":\"\"},\"colorscale\":[[0.0,\"#0d0887\"],[0.1111111111111111,\"#46039f\"],[0.2222222222222222,\"#7201a8\"],[0.3333333333333333,\"#9c179e\"],[0.4444444444444444,\"#bd3786\"],[0.5555555555555556,\"#d8576b\"],[0.6666666666666666,\"#ed7953\"],[0.7777777777777778,\"#fb9f3a\"],[0.8888888888888888,\"#fdca26\"],[1.0,\"#f0f921\"]],\"type\":\"heatmap\"}],\"histogram2dcontour\":[{\"colorbar\":{\"outlinewidth\":0,\"ticks\":\"\"},\"colorscale\":[[0.0,\"#0d0887\"],[0.1111111111111111,\"#46039f\"],[0.2222222222222222,\"#7201a8\"],[0.3333333333333333,\"#9c179e\"],[0.4444444444444444,\"#bd3786\"],[0.5555555555555556,\"#d8576b\"],[0.6666666666666666,\"#ed7953\"],[0.7777777777777778,\"#fb9f3a\"],[0.8888888888888888,\"#fdca26\"],[1.0,\"#f0f921\"]],\"type\":\"histogram2dcontour\"}],\"histogram2d\":[{\"colorbar\":{\"outlinewidth\":0,\"ticks\":\"\"},\"colorscale\":[[0.0,\"#0d0887\"],[0.1111111111111111,\"#46039f\"],[0.2222222222222222,\"#7201a8\"],[0.3333333333333333,\"#9c179e\"],[0.4444444444444444,\"#bd3786\"],[0.5555555555555556,\"#d8576b\"],[0.6666666666666666,\"#ed7953\"],[0.7777777777777778,\"#fb9f3a\"],[0.8888888888888888,\"#fdca26\"],[1.0,\"#f0f921\"]],\"type\":\"histogram2d\"}],\"histogram\":[{\"marker\":{\"pattern\":{\"fillmode\":\"overlay\",\"size\":10,\"solidity\":0.2}},\"type\":\"histogram\"}],\"mesh3d\":[{\"colorbar\":{\"outlinewidth\":0,\"ticks\":\"\"},\"type\":\"mesh3d\"}],\"parcoords\":[{\"line\":{\"colorbar\":{\"outlinewidth\":0,\"ticks\":\"\"}},\"type\":\"parcoords\"}],\"pie\":[{\"automargin\":true,\"type\":\"pie\"}],\"scatter3d\":[{\"line\":{\"colorbar\":{\"outlinewidth\":0,\"ticks\":\"\"}},\"marker\":{\"colorbar\":{\"outlinewidth\":0,\"ticks\":\"\"}},\"type\":\"scatter3d\"}],\"scattercarpet\":[{\"marker\":{\"colorbar\":{\"outlinewidth\":0,\"ticks\":\"\"}},\"type\":\"scattercarpet\"}],\"scattergeo\":[{\"marker\":{\"colorbar\":{\"outlinewidth\":0,\"ticks\":\"\"}},\"type\":\"scattergeo\"}],\"scattergl\":[{\"marker\":{\"colorbar\":{\"outlinewidth\":0,\"ticks\":\"\"}},\"type\":\"scattergl\"}],\"scattermapbox\":[{\"marker\":{\"colorbar\":{\"outlinewidth\":0,\"ticks\":\"\"}},\"type\":\"scattermapbox\"}],\"scatterpolargl\":[{\"marker\":{\"colorbar\":{\"outlinewidth\":0,\"ticks\":\"\"}},\"type\":\"scatterpolargl\"}],\"scatterpolar\":[{\"marker\":{\"colorbar\":{\"outlinewidth\":0,\"ticks\":\"\"}},\"type\":\"scatterpolar\"}],\"scatter\":[{\"fillpattern\":{\"fillmode\":\"overlay\",\"size\":10,\"solidity\":0.2},\"type\":\"scatter\"}],\"scatterternary\":[{\"marker\":{\"colorbar\":{\"outlinewidth\":0,\"ticks\":\"\"}},\"type\":\"scatterternary\"}],\"surface\":[{\"colorbar\":{\"outlinewidth\":0,\"ticks\":\"\"},\"colorscale\":[[0.0,\"#0d0887\"],[0.1111111111111111,\"#46039f\"],[0.2222222222222222,\"#7201a8\"],[0.3333333333333333,\"#9c179e\"],[0.4444444444444444,\"#bd3786\"],[0.5555555555555556,\"#d8576b\"],[0.6666666666666666,\"#ed7953\"],[0.7777777777777778,\"#fb9f3a\"],[0.8888888888888888,\"#fdca26\"],[1.0,\"#f0f921\"]],\"type\":\"surface\"}],\"table\":[{\"cells\":{\"fill\":{\"color\":\"#EBF0F8\"},\"line\":{\"color\":\"white\"}},\"header\":{\"fill\":{\"color\":\"#C8D4E3\"},\"line\":{\"color\":\"white\"}},\"type\":\"table\"}]},\"layout\":{\"annotationdefaults\":{\"arrowcolor\":\"#2a3f5f\",\"arrowhead\":0,\"arrowwidth\":1},\"autotypenumbers\":\"strict\",\"coloraxis\":{\"colorbar\":{\"outlinewidth\":0,\"ticks\":\"\"}},\"colorscale\":{\"diverging\":[[0,\"#8e0152\"],[0.1,\"#c51b7d\"],[0.2,\"#de77ae\"],[0.3,\"#f1b6da\"],[0.4,\"#fde0ef\"],[0.5,\"#f7f7f7\"],[0.6,\"#e6f5d0\"],[0.7,\"#b8e186\"],[0.8,\"#7fbc41\"],[0.9,\"#4d9221\"],[1,\"#276419\"]],\"sequential\":[[0.0,\"#0d0887\"],[0.1111111111111111,\"#46039f\"],[0.2222222222222222,\"#7201a8\"],[0.3333333333333333,\"#9c179e\"],[0.4444444444444444,\"#bd3786\"],[0.5555555555555556,\"#d8576b\"],[0.6666666666666666,\"#ed7953\"],[0.7777777777777778,\"#fb9f3a\"],[0.8888888888888888,\"#fdca26\"],[1.0,\"#f0f921\"]],\"sequentialminus\":[[0.0,\"#0d0887\"],[0.1111111111111111,\"#46039f\"],[0.2222222222222222,\"#7201a8\"],[0.3333333333333333,\"#9c179e\"],[0.4444444444444444,\"#bd3786\"],[0.5555555555555556,\"#d8576b\"],[0.6666666666666666,\"#ed7953\"],[0.7777777777777778,\"#fb9f3a\"],[0.8888888888888888,\"#fdca26\"],[1.0,\"#f0f921\"]]},\"colorway\":[\"#636efa\",\"#EF553B\",\"#00cc96\",\"#ab63fa\",\"#FFA15A\",\"#19d3f3\",\"#FF6692\",\"#B6E880\",\"#FF97FF\",\"#FECB52\"],\"font\":{\"color\":\"#2a3f5f\"},\"geo\":{\"bgcolor\":\"white\",\"lakecolor\":\"white\",\"landcolor\":\"#E5ECF6\",\"showlakes\":true,\"showland\":true,\"subunitcolor\":\"white\"},\"hoverlabel\":{\"align\":\"left\"},\"hovermode\":\"closest\",\"mapbox\":{\"style\":\"light\"},\"paper_bgcolor\":\"white\",\"plot_bgcolor\":\"#E5ECF6\",\"polar\":{\"angularaxis\":{\"gridcolor\":\"white\",\"linecolor\":\"white\",\"ticks\":\"\"},\"bgcolor\":\"#E5ECF6\",\"radialaxis\":{\"gridcolor\":\"white\",\"linecolor\":\"white\",\"ticks\":\"\"}},\"scene\":{\"xaxis\":{\"backgroundcolor\":\"#E5ECF6\",\"gridcolor\":\"white\",\"gridwidth\":2,\"linecolor\":\"white\",\"showbackground\":true,\"ticks\":\"\",\"zerolinecolor\":\"white\"},\"yaxis\":{\"backgroundcolor\":\"#E5ECF6\",\"gridcolor\":\"white\",\"gridwidth\":2,\"linecolor\":\"white\",\"showbackground\":true,\"ticks\":\"\",\"zerolinecolor\":\"white\"},\"zaxis\":{\"backgroundcolor\":\"#E5ECF6\",\"gridcolor\":\"white\",\"gridwidth\":2,\"linecolor\":\"white\",\"showbackground\":true,\"ticks\":\"\",\"zerolinecolor\":\"white\"}},\"shapedefaults\":{\"line\":{\"color\":\"#2a3f5f\"}},\"ternary\":{\"aaxis\":{\"gridcolor\":\"white\",\"linecolor\":\"white\",\"ticks\":\"\"},\"baxis\":{\"gridcolor\":\"white\",\"linecolor\":\"white\",\"ticks\":\"\"},\"bgcolor\":\"#E5ECF6\",\"caxis\":{\"gridcolor\":\"white\",\"linecolor\":\"white\",\"ticks\":\"\"}},\"title\":{\"x\":0.05},\"xaxis\":{\"automargin\":true,\"gridcolor\":\"white\",\"linecolor\":\"white\",\"ticks\":\"\",\"title\":{\"standoff\":15},\"zerolinecolor\":\"white\",\"zerolinewidth\":2},\"yaxis\":{\"automargin\":true,\"gridcolor\":\"white\",\"linecolor\":\"white\",\"ticks\":\"\",\"title\":{\"standoff\":15},\"zerolinecolor\":\"white\",\"zerolinewidth\":2}}},\"title\":{\"font\":{\"color\":\"#4D5663\"}},\"xaxis\":{\"gridcolor\":\"#E1E5ED\",\"showgrid\":true,\"tickfont\":{\"color\":\"#4D5663\"},\"title\":{\"font\":{\"color\":\"#4D5663\"},\"text\":\"\"},\"zerolinecolor\":\"#E1E5ED\"},\"yaxis\":{\"gridcolor\":\"#E1E5ED\",\"showgrid\":true,\"tickfont\":{\"color\":\"#4D5663\"},\"title\":{\"font\":{\"color\":\"#4D5663\"},\"text\":\"\"},\"zerolinecolor\":\"#E1E5ED\"}},                        {\"showLink\": true, \"linkText\": \"Export to plot.ly\", \"plotlyServerURL\": \"https://plot.ly\", \"responsive\": true}                    ).then(function(){\n",
       "                            \n",
       "var gd = document.getElementById('a10b6661-d06e-47db-a07c-218debadac8a');\n",
       "var x = new MutationObserver(function (mutations, observer) {{\n",
       "        var display = window.getComputedStyle(gd).display;\n",
       "        if (!display || display === 'none') {{\n",
       "            console.log([gd, 'removed!']);\n",
       "            Plotly.purge(gd);\n",
       "            observer.disconnect();\n",
       "        }}\n",
       "}});\n",
       "\n",
       "// Listen for the removal of the full notebook cells\n",
       "var notebookContainer = gd.closest('#notebook-container');\n",
       "if (notebookContainer) {{\n",
       "    x.observe(notebookContainer, {childList: true});\n",
       "}}\n",
       "\n",
       "// Listen for the clearing of the current output cell\n",
       "var outputEl = gd.closest('.output');\n",
       "if (outputEl) {{\n",
       "    x.observe(outputEl, {childList: true});\n",
       "}}\n",
       "\n",
       "                        })                };                });            </script>        </div>"
      ]
     },
     "metadata": {},
     "output_type": "display_data"
    }
   ],
   "source": [
    "df.iplot(kind='box')"
   ]
  },
  {
   "attachments": {},
   "cell_type": "markdown",
   "metadata": {},
   "source": [
    "## 3d Surface"
   ]
  },
  {
   "cell_type": "code",
   "execution_count": 14,
   "metadata": {
    "collapsed": false
   },
   "outputs": [
    {
     "data": {
      "application/vnd.plotly.v1+json": {
       "config": {
        "linkText": "Export to plot.ly",
        "plotlyServerURL": "https://plot.ly",
        "showLink": true
       },
       "data": [
        {
         "colorscale": [
          [
           0,
           "rgb(165,0,38)"
          ],
          [
           0.1,
           "rgb(215,48,39)"
          ],
          [
           0.2,
           "rgb(244,109,67)"
          ],
          [
           0.3,
           "rgb(253,174,97)"
          ],
          [
           0.4,
           "rgb(254,224,144)"
          ],
          [
           0.5,
           "rgb(255,255,191)"
          ],
          [
           0.6,
           "rgb(224,243,248)"
          ],
          [
           0.7,
           "rgb(171,217,233)"
          ],
          [
           0.8,
           "rgb(116,173,209)"
          ],
          [
           0.9,
           "rgb(69,117,180)"
          ],
          [
           1,
           "rgb(49,54,149)"
          ]
         ],
         "type": "surface",
         "x": [
          0,
          1,
          2,
          3,
          4
         ],
         "y": [
          "x",
          "y",
          "z"
         ],
         "z": [
          [
           1,
           2,
           3,
           4,
           5
          ],
          [
           10,
           20,
           30,
           20,
           10
          ],
          [
           5,
           4,
           3,
           2,
           1
          ]
         ]
        }
       ],
       "layout": {
        "legend": {
         "bgcolor": "#F5F6F9",
         "font": {
          "color": "#4D5663"
         }
        },
        "paper_bgcolor": "#F5F6F9",
        "plot_bgcolor": "#F5F6F9",
        "template": {
         "data": {
          "bar": [
           {
            "error_x": {
             "color": "#2a3f5f"
            },
            "error_y": {
             "color": "#2a3f5f"
            },
            "marker": {
             "line": {
              "color": "#E5ECF6",
              "width": 0.5
             },
             "pattern": {
              "fillmode": "overlay",
              "size": 10,
              "solidity": 0.2
             }
            },
            "type": "bar"
           }
          ],
          "barpolar": [
           {
            "marker": {
             "line": {
              "color": "#E5ECF6",
              "width": 0.5
             },
             "pattern": {
              "fillmode": "overlay",
              "size": 10,
              "solidity": 0.2
             }
            },
            "type": "barpolar"
           }
          ],
          "carpet": [
           {
            "aaxis": {
             "endlinecolor": "#2a3f5f",
             "gridcolor": "white",
             "linecolor": "white",
             "minorgridcolor": "white",
             "startlinecolor": "#2a3f5f"
            },
            "baxis": {
             "endlinecolor": "#2a3f5f",
             "gridcolor": "white",
             "linecolor": "white",
             "minorgridcolor": "white",
             "startlinecolor": "#2a3f5f"
            },
            "type": "carpet"
           }
          ],
          "choropleth": [
           {
            "colorbar": {
             "outlinewidth": 0,
             "ticks": ""
            },
            "type": "choropleth"
           }
          ],
          "contour": [
           {
            "colorbar": {
             "outlinewidth": 0,
             "ticks": ""
            },
            "colorscale": [
             [
              0,
              "#0d0887"
             ],
             [
              0.1111111111111111,
              "#46039f"
             ],
             [
              0.2222222222222222,
              "#7201a8"
             ],
             [
              0.3333333333333333,
              "#9c179e"
             ],
             [
              0.4444444444444444,
              "#bd3786"
             ],
             [
              0.5555555555555556,
              "#d8576b"
             ],
             [
              0.6666666666666666,
              "#ed7953"
             ],
             [
              0.7777777777777778,
              "#fb9f3a"
             ],
             [
              0.8888888888888888,
              "#fdca26"
             ],
             [
              1,
              "#f0f921"
             ]
            ],
            "type": "contour"
           }
          ],
          "contourcarpet": [
           {
            "colorbar": {
             "outlinewidth": 0,
             "ticks": ""
            },
            "type": "contourcarpet"
           }
          ],
          "heatmap": [
           {
            "colorbar": {
             "outlinewidth": 0,
             "ticks": ""
            },
            "colorscale": [
             [
              0,
              "#0d0887"
             ],
             [
              0.1111111111111111,
              "#46039f"
             ],
             [
              0.2222222222222222,
              "#7201a8"
             ],
             [
              0.3333333333333333,
              "#9c179e"
             ],
             [
              0.4444444444444444,
              "#bd3786"
             ],
             [
              0.5555555555555556,
              "#d8576b"
             ],
             [
              0.6666666666666666,
              "#ed7953"
             ],
             [
              0.7777777777777778,
              "#fb9f3a"
             ],
             [
              0.8888888888888888,
              "#fdca26"
             ],
             [
              1,
              "#f0f921"
             ]
            ],
            "type": "heatmap"
           }
          ],
          "heatmapgl": [
           {
            "colorbar": {
             "outlinewidth": 0,
             "ticks": ""
            },
            "colorscale": [
             [
              0,
              "#0d0887"
             ],
             [
              0.1111111111111111,
              "#46039f"
             ],
             [
              0.2222222222222222,
              "#7201a8"
             ],
             [
              0.3333333333333333,
              "#9c179e"
             ],
             [
              0.4444444444444444,
              "#bd3786"
             ],
             [
              0.5555555555555556,
              "#d8576b"
             ],
             [
              0.6666666666666666,
              "#ed7953"
             ],
             [
              0.7777777777777778,
              "#fb9f3a"
             ],
             [
              0.8888888888888888,
              "#fdca26"
             ],
             [
              1,
              "#f0f921"
             ]
            ],
            "type": "heatmapgl"
           }
          ],
          "histogram": [
           {
            "marker": {
             "pattern": {
              "fillmode": "overlay",
              "size": 10,
              "solidity": 0.2
             }
            },
            "type": "histogram"
           }
          ],
          "histogram2d": [
           {
            "colorbar": {
             "outlinewidth": 0,
             "ticks": ""
            },
            "colorscale": [
             [
              0,
              "#0d0887"
             ],
             [
              0.1111111111111111,
              "#46039f"
             ],
             [
              0.2222222222222222,
              "#7201a8"
             ],
             [
              0.3333333333333333,
              "#9c179e"
             ],
             [
              0.4444444444444444,
              "#bd3786"
             ],
             [
              0.5555555555555556,
              "#d8576b"
             ],
             [
              0.6666666666666666,
              "#ed7953"
             ],
             [
              0.7777777777777778,
              "#fb9f3a"
             ],
             [
              0.8888888888888888,
              "#fdca26"
             ],
             [
              1,
              "#f0f921"
             ]
            ],
            "type": "histogram2d"
           }
          ],
          "histogram2dcontour": [
           {
            "colorbar": {
             "outlinewidth": 0,
             "ticks": ""
            },
            "colorscale": [
             [
              0,
              "#0d0887"
             ],
             [
              0.1111111111111111,
              "#46039f"
             ],
             [
              0.2222222222222222,
              "#7201a8"
             ],
             [
              0.3333333333333333,
              "#9c179e"
             ],
             [
              0.4444444444444444,
              "#bd3786"
             ],
             [
              0.5555555555555556,
              "#d8576b"
             ],
             [
              0.6666666666666666,
              "#ed7953"
             ],
             [
              0.7777777777777778,
              "#fb9f3a"
             ],
             [
              0.8888888888888888,
              "#fdca26"
             ],
             [
              1,
              "#f0f921"
             ]
            ],
            "type": "histogram2dcontour"
           }
          ],
          "mesh3d": [
           {
            "colorbar": {
             "outlinewidth": 0,
             "ticks": ""
            },
            "type": "mesh3d"
           }
          ],
          "parcoords": [
           {
            "line": {
             "colorbar": {
              "outlinewidth": 0,
              "ticks": ""
             }
            },
            "type": "parcoords"
           }
          ],
          "pie": [
           {
            "automargin": true,
            "type": "pie"
           }
          ],
          "scatter": [
           {
            "fillpattern": {
             "fillmode": "overlay",
             "size": 10,
             "solidity": 0.2
            },
            "type": "scatter"
           }
          ],
          "scatter3d": [
           {
            "line": {
             "colorbar": {
              "outlinewidth": 0,
              "ticks": ""
             }
            },
            "marker": {
             "colorbar": {
              "outlinewidth": 0,
              "ticks": ""
             }
            },
            "type": "scatter3d"
           }
          ],
          "scattercarpet": [
           {
            "marker": {
             "colorbar": {
              "outlinewidth": 0,
              "ticks": ""
             }
            },
            "type": "scattercarpet"
           }
          ],
          "scattergeo": [
           {
            "marker": {
             "colorbar": {
              "outlinewidth": 0,
              "ticks": ""
             }
            },
            "type": "scattergeo"
           }
          ],
          "scattergl": [
           {
            "marker": {
             "colorbar": {
              "outlinewidth": 0,
              "ticks": ""
             }
            },
            "type": "scattergl"
           }
          ],
          "scattermapbox": [
           {
            "marker": {
             "colorbar": {
              "outlinewidth": 0,
              "ticks": ""
             }
            },
            "type": "scattermapbox"
           }
          ],
          "scatterpolar": [
           {
            "marker": {
             "colorbar": {
              "outlinewidth": 0,
              "ticks": ""
             }
            },
            "type": "scatterpolar"
           }
          ],
          "scatterpolargl": [
           {
            "marker": {
             "colorbar": {
              "outlinewidth": 0,
              "ticks": ""
             }
            },
            "type": "scatterpolargl"
           }
          ],
          "scatterternary": [
           {
            "marker": {
             "colorbar": {
              "outlinewidth": 0,
              "ticks": ""
             }
            },
            "type": "scatterternary"
           }
          ],
          "surface": [
           {
            "colorbar": {
             "outlinewidth": 0,
             "ticks": ""
            },
            "colorscale": [
             [
              0,
              "#0d0887"
             ],
             [
              0.1111111111111111,
              "#46039f"
             ],
             [
              0.2222222222222222,
              "#7201a8"
             ],
             [
              0.3333333333333333,
              "#9c179e"
             ],
             [
              0.4444444444444444,
              "#bd3786"
             ],
             [
              0.5555555555555556,
              "#d8576b"
             ],
             [
              0.6666666666666666,
              "#ed7953"
             ],
             [
              0.7777777777777778,
              "#fb9f3a"
             ],
             [
              0.8888888888888888,
              "#fdca26"
             ],
             [
              1,
              "#f0f921"
             ]
            ],
            "type": "surface"
           }
          ],
          "table": [
           {
            "cells": {
             "fill": {
              "color": "#EBF0F8"
             },
             "line": {
              "color": "white"
             }
            },
            "header": {
             "fill": {
              "color": "#C8D4E3"
             },
             "line": {
              "color": "white"
             }
            },
            "type": "table"
           }
          ]
         },
         "layout": {
          "annotationdefaults": {
           "arrowcolor": "#2a3f5f",
           "arrowhead": 0,
           "arrowwidth": 1
          },
          "autotypenumbers": "strict",
          "coloraxis": {
           "colorbar": {
            "outlinewidth": 0,
            "ticks": ""
           }
          },
          "colorscale": {
           "diverging": [
            [
             0,
             "#8e0152"
            ],
            [
             0.1,
             "#c51b7d"
            ],
            [
             0.2,
             "#de77ae"
            ],
            [
             0.3,
             "#f1b6da"
            ],
            [
             0.4,
             "#fde0ef"
            ],
            [
             0.5,
             "#f7f7f7"
            ],
            [
             0.6,
             "#e6f5d0"
            ],
            [
             0.7,
             "#b8e186"
            ],
            [
             0.8,
             "#7fbc41"
            ],
            [
             0.9,
             "#4d9221"
            ],
            [
             1,
             "#276419"
            ]
           ],
           "sequential": [
            [
             0,
             "#0d0887"
            ],
            [
             0.1111111111111111,
             "#46039f"
            ],
            [
             0.2222222222222222,
             "#7201a8"
            ],
            [
             0.3333333333333333,
             "#9c179e"
            ],
            [
             0.4444444444444444,
             "#bd3786"
            ],
            [
             0.5555555555555556,
             "#d8576b"
            ],
            [
             0.6666666666666666,
             "#ed7953"
            ],
            [
             0.7777777777777778,
             "#fb9f3a"
            ],
            [
             0.8888888888888888,
             "#fdca26"
            ],
            [
             1,
             "#f0f921"
            ]
           ],
           "sequentialminus": [
            [
             0,
             "#0d0887"
            ],
            [
             0.1111111111111111,
             "#46039f"
            ],
            [
             0.2222222222222222,
             "#7201a8"
            ],
            [
             0.3333333333333333,
             "#9c179e"
            ],
            [
             0.4444444444444444,
             "#bd3786"
            ],
            [
             0.5555555555555556,
             "#d8576b"
            ],
            [
             0.6666666666666666,
             "#ed7953"
            ],
            [
             0.7777777777777778,
             "#fb9f3a"
            ],
            [
             0.8888888888888888,
             "#fdca26"
            ],
            [
             1,
             "#f0f921"
            ]
           ]
          },
          "colorway": [
           "#636efa",
           "#EF553B",
           "#00cc96",
           "#ab63fa",
           "#FFA15A",
           "#19d3f3",
           "#FF6692",
           "#B6E880",
           "#FF97FF",
           "#FECB52"
          ],
          "font": {
           "color": "#2a3f5f"
          },
          "geo": {
           "bgcolor": "white",
           "lakecolor": "white",
           "landcolor": "#E5ECF6",
           "showlakes": true,
           "showland": true,
           "subunitcolor": "white"
          },
          "hoverlabel": {
           "align": "left"
          },
          "hovermode": "closest",
          "mapbox": {
           "style": "light"
          },
          "paper_bgcolor": "white",
          "plot_bgcolor": "#E5ECF6",
          "polar": {
           "angularaxis": {
            "gridcolor": "white",
            "linecolor": "white",
            "ticks": ""
           },
           "bgcolor": "#E5ECF6",
           "radialaxis": {
            "gridcolor": "white",
            "linecolor": "white",
            "ticks": ""
           }
          },
          "scene": {
           "xaxis": {
            "backgroundcolor": "#E5ECF6",
            "gridcolor": "white",
            "gridwidth": 2,
            "linecolor": "white",
            "showbackground": true,
            "ticks": "",
            "zerolinecolor": "white"
           },
           "yaxis": {
            "backgroundcolor": "#E5ECF6",
            "gridcolor": "white",
            "gridwidth": 2,
            "linecolor": "white",
            "showbackground": true,
            "ticks": "",
            "zerolinecolor": "white"
           },
           "zaxis": {
            "backgroundcolor": "#E5ECF6",
            "gridcolor": "white",
            "gridwidth": 2,
            "linecolor": "white",
            "showbackground": true,
            "ticks": "",
            "zerolinecolor": "white"
           }
          },
          "shapedefaults": {
           "line": {
            "color": "#2a3f5f"
           }
          },
          "ternary": {
           "aaxis": {
            "gridcolor": "white",
            "linecolor": "white",
            "ticks": ""
           },
           "baxis": {
            "gridcolor": "white",
            "linecolor": "white",
            "ticks": ""
           },
           "bgcolor": "#E5ECF6",
           "caxis": {
            "gridcolor": "white",
            "linecolor": "white",
            "ticks": ""
           }
          },
          "title": {
           "x": 0.05
          },
          "xaxis": {
           "automargin": true,
           "gridcolor": "white",
           "linecolor": "white",
           "ticks": "",
           "title": {
            "standoff": 15
           },
           "zerolinecolor": "white",
           "zerolinewidth": 2
          },
          "yaxis": {
           "automargin": true,
           "gridcolor": "white",
           "linecolor": "white",
           "ticks": "",
           "title": {
            "standoff": 15
           },
           "zerolinecolor": "white",
           "zerolinewidth": 2
          }
         }
        },
        "title": {
         "font": {
          "color": "#4D5663"
         }
        },
        "xaxis": {
         "gridcolor": "#E1E5ED",
         "showgrid": true,
         "tickfont": {
          "color": "#4D5663"
         },
         "title": {
          "font": {
           "color": "#4D5663"
          },
          "text": ""
         },
         "zerolinecolor": "#E1E5ED"
        },
        "yaxis": {
         "gridcolor": "#E1E5ED",
         "showgrid": true,
         "tickfont": {
          "color": "#4D5663"
         },
         "title": {
          "font": {
           "color": "#4D5663"
          },
          "text": ""
         },
         "zerolinecolor": "#E1E5ED"
        }
       }
      },
      "text/html": [
       "<div>                            <div id=\"ca8ecea1-91b7-4dfd-9993-3c24a2b58623\" class=\"plotly-graph-div\" style=\"height:525px; width:100%;\"></div>            <script type=\"text/javascript\">                require([\"plotly\"], function(Plotly) {                    window.PLOTLYENV=window.PLOTLYENV || {};\n",
       "                    window.PLOTLYENV.BASE_URL='https://plot.ly';                                    if (document.getElementById(\"ca8ecea1-91b7-4dfd-9993-3c24a2b58623\")) {                    Plotly.newPlot(                        \"ca8ecea1-91b7-4dfd-9993-3c24a2b58623\",                        [{\"colorscale\":[[0.0,\"rgb(165,0,38)\"],[0.1,\"rgb(215,48,39)\"],[0.2,\"rgb(244,109,67)\"],[0.3,\"rgb(253,174,97)\"],[0.4,\"rgb(254,224,144)\"],[0.5,\"rgb(255,255,191)\"],[0.6,\"rgb(224,243,248)\"],[0.7,\"rgb(171,217,233)\"],[0.8,\"rgb(116,173,209)\"],[0.9,\"rgb(69,117,180)\"],[1.0,\"rgb(49,54,149)\"]],\"x\":[0,1,2,3,4],\"y\":[\"x\",\"y\",\"z\"],\"z\":[[1,2,3,4,5],[10,20,30,20,10],[5,4,3,2,1]],\"type\":\"surface\"}],                        {\"legend\":{\"bgcolor\":\"#F5F6F9\",\"font\":{\"color\":\"#4D5663\"}},\"paper_bgcolor\":\"#F5F6F9\",\"plot_bgcolor\":\"#F5F6F9\",\"template\":{\"data\":{\"barpolar\":[{\"marker\":{\"line\":{\"color\":\"#E5ECF6\",\"width\":0.5},\"pattern\":{\"fillmode\":\"overlay\",\"size\":10,\"solidity\":0.2}},\"type\":\"barpolar\"}],\"bar\":[{\"error_x\":{\"color\":\"#2a3f5f\"},\"error_y\":{\"color\":\"#2a3f5f\"},\"marker\":{\"line\":{\"color\":\"#E5ECF6\",\"width\":0.5},\"pattern\":{\"fillmode\":\"overlay\",\"size\":10,\"solidity\":0.2}},\"type\":\"bar\"}],\"carpet\":[{\"aaxis\":{\"endlinecolor\":\"#2a3f5f\",\"gridcolor\":\"white\",\"linecolor\":\"white\",\"minorgridcolor\":\"white\",\"startlinecolor\":\"#2a3f5f\"},\"baxis\":{\"endlinecolor\":\"#2a3f5f\",\"gridcolor\":\"white\",\"linecolor\":\"white\",\"minorgridcolor\":\"white\",\"startlinecolor\":\"#2a3f5f\"},\"type\":\"carpet\"}],\"choropleth\":[{\"colorbar\":{\"outlinewidth\":0,\"ticks\":\"\"},\"type\":\"choropleth\"}],\"contourcarpet\":[{\"colorbar\":{\"outlinewidth\":0,\"ticks\":\"\"},\"type\":\"contourcarpet\"}],\"contour\":[{\"colorbar\":{\"outlinewidth\":0,\"ticks\":\"\"},\"colorscale\":[[0.0,\"#0d0887\"],[0.1111111111111111,\"#46039f\"],[0.2222222222222222,\"#7201a8\"],[0.3333333333333333,\"#9c179e\"],[0.4444444444444444,\"#bd3786\"],[0.5555555555555556,\"#d8576b\"],[0.6666666666666666,\"#ed7953\"],[0.7777777777777778,\"#fb9f3a\"],[0.8888888888888888,\"#fdca26\"],[1.0,\"#f0f921\"]],\"type\":\"contour\"}],\"heatmapgl\":[{\"colorbar\":{\"outlinewidth\":0,\"ticks\":\"\"},\"colorscale\":[[0.0,\"#0d0887\"],[0.1111111111111111,\"#46039f\"],[0.2222222222222222,\"#7201a8\"],[0.3333333333333333,\"#9c179e\"],[0.4444444444444444,\"#bd3786\"],[0.5555555555555556,\"#d8576b\"],[0.6666666666666666,\"#ed7953\"],[0.7777777777777778,\"#fb9f3a\"],[0.8888888888888888,\"#fdca26\"],[1.0,\"#f0f921\"]],\"type\":\"heatmapgl\"}],\"heatmap\":[{\"colorbar\":{\"outlinewidth\":0,\"ticks\":\"\"},\"colorscale\":[[0.0,\"#0d0887\"],[0.1111111111111111,\"#46039f\"],[0.2222222222222222,\"#7201a8\"],[0.3333333333333333,\"#9c179e\"],[0.4444444444444444,\"#bd3786\"],[0.5555555555555556,\"#d8576b\"],[0.6666666666666666,\"#ed7953\"],[0.7777777777777778,\"#fb9f3a\"],[0.8888888888888888,\"#fdca26\"],[1.0,\"#f0f921\"]],\"type\":\"heatmap\"}],\"histogram2dcontour\":[{\"colorbar\":{\"outlinewidth\":0,\"ticks\":\"\"},\"colorscale\":[[0.0,\"#0d0887\"],[0.1111111111111111,\"#46039f\"],[0.2222222222222222,\"#7201a8\"],[0.3333333333333333,\"#9c179e\"],[0.4444444444444444,\"#bd3786\"],[0.5555555555555556,\"#d8576b\"],[0.6666666666666666,\"#ed7953\"],[0.7777777777777778,\"#fb9f3a\"],[0.8888888888888888,\"#fdca26\"],[1.0,\"#f0f921\"]],\"type\":\"histogram2dcontour\"}],\"histogram2d\":[{\"colorbar\":{\"outlinewidth\":0,\"ticks\":\"\"},\"colorscale\":[[0.0,\"#0d0887\"],[0.1111111111111111,\"#46039f\"],[0.2222222222222222,\"#7201a8\"],[0.3333333333333333,\"#9c179e\"],[0.4444444444444444,\"#bd3786\"],[0.5555555555555556,\"#d8576b\"],[0.6666666666666666,\"#ed7953\"],[0.7777777777777778,\"#fb9f3a\"],[0.8888888888888888,\"#fdca26\"],[1.0,\"#f0f921\"]],\"type\":\"histogram2d\"}],\"histogram\":[{\"marker\":{\"pattern\":{\"fillmode\":\"overlay\",\"size\":10,\"solidity\":0.2}},\"type\":\"histogram\"}],\"mesh3d\":[{\"colorbar\":{\"outlinewidth\":0,\"ticks\":\"\"},\"type\":\"mesh3d\"}],\"parcoords\":[{\"line\":{\"colorbar\":{\"outlinewidth\":0,\"ticks\":\"\"}},\"type\":\"parcoords\"}],\"pie\":[{\"automargin\":true,\"type\":\"pie\"}],\"scatter3d\":[{\"line\":{\"colorbar\":{\"outlinewidth\":0,\"ticks\":\"\"}},\"marker\":{\"colorbar\":{\"outlinewidth\":0,\"ticks\":\"\"}},\"type\":\"scatter3d\"}],\"scattercarpet\":[{\"marker\":{\"colorbar\":{\"outlinewidth\":0,\"ticks\":\"\"}},\"type\":\"scattercarpet\"}],\"scattergeo\":[{\"marker\":{\"colorbar\":{\"outlinewidth\":0,\"ticks\":\"\"}},\"type\":\"scattergeo\"}],\"scattergl\":[{\"marker\":{\"colorbar\":{\"outlinewidth\":0,\"ticks\":\"\"}},\"type\":\"scattergl\"}],\"scattermapbox\":[{\"marker\":{\"colorbar\":{\"outlinewidth\":0,\"ticks\":\"\"}},\"type\":\"scattermapbox\"}],\"scatterpolargl\":[{\"marker\":{\"colorbar\":{\"outlinewidth\":0,\"ticks\":\"\"}},\"type\":\"scatterpolargl\"}],\"scatterpolar\":[{\"marker\":{\"colorbar\":{\"outlinewidth\":0,\"ticks\":\"\"}},\"type\":\"scatterpolar\"}],\"scatter\":[{\"fillpattern\":{\"fillmode\":\"overlay\",\"size\":10,\"solidity\":0.2},\"type\":\"scatter\"}],\"scatterternary\":[{\"marker\":{\"colorbar\":{\"outlinewidth\":0,\"ticks\":\"\"}},\"type\":\"scatterternary\"}],\"surface\":[{\"colorbar\":{\"outlinewidth\":0,\"ticks\":\"\"},\"colorscale\":[[0.0,\"#0d0887\"],[0.1111111111111111,\"#46039f\"],[0.2222222222222222,\"#7201a8\"],[0.3333333333333333,\"#9c179e\"],[0.4444444444444444,\"#bd3786\"],[0.5555555555555556,\"#d8576b\"],[0.6666666666666666,\"#ed7953\"],[0.7777777777777778,\"#fb9f3a\"],[0.8888888888888888,\"#fdca26\"],[1.0,\"#f0f921\"]],\"type\":\"surface\"}],\"table\":[{\"cells\":{\"fill\":{\"color\":\"#EBF0F8\"},\"line\":{\"color\":\"white\"}},\"header\":{\"fill\":{\"color\":\"#C8D4E3\"},\"line\":{\"color\":\"white\"}},\"type\":\"table\"}]},\"layout\":{\"annotationdefaults\":{\"arrowcolor\":\"#2a3f5f\",\"arrowhead\":0,\"arrowwidth\":1},\"autotypenumbers\":\"strict\",\"coloraxis\":{\"colorbar\":{\"outlinewidth\":0,\"ticks\":\"\"}},\"colorscale\":{\"diverging\":[[0,\"#8e0152\"],[0.1,\"#c51b7d\"],[0.2,\"#de77ae\"],[0.3,\"#f1b6da\"],[0.4,\"#fde0ef\"],[0.5,\"#f7f7f7\"],[0.6,\"#e6f5d0\"],[0.7,\"#b8e186\"],[0.8,\"#7fbc41\"],[0.9,\"#4d9221\"],[1,\"#276419\"]],\"sequential\":[[0.0,\"#0d0887\"],[0.1111111111111111,\"#46039f\"],[0.2222222222222222,\"#7201a8\"],[0.3333333333333333,\"#9c179e\"],[0.4444444444444444,\"#bd3786\"],[0.5555555555555556,\"#d8576b\"],[0.6666666666666666,\"#ed7953\"],[0.7777777777777778,\"#fb9f3a\"],[0.8888888888888888,\"#fdca26\"],[1.0,\"#f0f921\"]],\"sequentialminus\":[[0.0,\"#0d0887\"],[0.1111111111111111,\"#46039f\"],[0.2222222222222222,\"#7201a8\"],[0.3333333333333333,\"#9c179e\"],[0.4444444444444444,\"#bd3786\"],[0.5555555555555556,\"#d8576b\"],[0.6666666666666666,\"#ed7953\"],[0.7777777777777778,\"#fb9f3a\"],[0.8888888888888888,\"#fdca26\"],[1.0,\"#f0f921\"]]},\"colorway\":[\"#636efa\",\"#EF553B\",\"#00cc96\",\"#ab63fa\",\"#FFA15A\",\"#19d3f3\",\"#FF6692\",\"#B6E880\",\"#FF97FF\",\"#FECB52\"],\"font\":{\"color\":\"#2a3f5f\"},\"geo\":{\"bgcolor\":\"white\",\"lakecolor\":\"white\",\"landcolor\":\"#E5ECF6\",\"showlakes\":true,\"showland\":true,\"subunitcolor\":\"white\"},\"hoverlabel\":{\"align\":\"left\"},\"hovermode\":\"closest\",\"mapbox\":{\"style\":\"light\"},\"paper_bgcolor\":\"white\",\"plot_bgcolor\":\"#E5ECF6\",\"polar\":{\"angularaxis\":{\"gridcolor\":\"white\",\"linecolor\":\"white\",\"ticks\":\"\"},\"bgcolor\":\"#E5ECF6\",\"radialaxis\":{\"gridcolor\":\"white\",\"linecolor\":\"white\",\"ticks\":\"\"}},\"scene\":{\"xaxis\":{\"backgroundcolor\":\"#E5ECF6\",\"gridcolor\":\"white\",\"gridwidth\":2,\"linecolor\":\"white\",\"showbackground\":true,\"ticks\":\"\",\"zerolinecolor\":\"white\"},\"yaxis\":{\"backgroundcolor\":\"#E5ECF6\",\"gridcolor\":\"white\",\"gridwidth\":2,\"linecolor\":\"white\",\"showbackground\":true,\"ticks\":\"\",\"zerolinecolor\":\"white\"},\"zaxis\":{\"backgroundcolor\":\"#E5ECF6\",\"gridcolor\":\"white\",\"gridwidth\":2,\"linecolor\":\"white\",\"showbackground\":true,\"ticks\":\"\",\"zerolinecolor\":\"white\"}},\"shapedefaults\":{\"line\":{\"color\":\"#2a3f5f\"}},\"ternary\":{\"aaxis\":{\"gridcolor\":\"white\",\"linecolor\":\"white\",\"ticks\":\"\"},\"baxis\":{\"gridcolor\":\"white\",\"linecolor\":\"white\",\"ticks\":\"\"},\"bgcolor\":\"#E5ECF6\",\"caxis\":{\"gridcolor\":\"white\",\"linecolor\":\"white\",\"ticks\":\"\"}},\"title\":{\"x\":0.05},\"xaxis\":{\"automargin\":true,\"gridcolor\":\"white\",\"linecolor\":\"white\",\"ticks\":\"\",\"title\":{\"standoff\":15},\"zerolinecolor\":\"white\",\"zerolinewidth\":2},\"yaxis\":{\"automargin\":true,\"gridcolor\":\"white\",\"linecolor\":\"white\",\"ticks\":\"\",\"title\":{\"standoff\":15},\"zerolinecolor\":\"white\",\"zerolinewidth\":2}}},\"title\":{\"font\":{\"color\":\"#4D5663\"}},\"xaxis\":{\"gridcolor\":\"#E1E5ED\",\"showgrid\":true,\"tickfont\":{\"color\":\"#4D5663\"},\"title\":{\"font\":{\"color\":\"#4D5663\"},\"text\":\"\"},\"zerolinecolor\":\"#E1E5ED\"},\"yaxis\":{\"gridcolor\":\"#E1E5ED\",\"showgrid\":true,\"tickfont\":{\"color\":\"#4D5663\"},\"title\":{\"font\":{\"color\":\"#4D5663\"},\"text\":\"\"},\"zerolinecolor\":\"#E1E5ED\"}},                        {\"showLink\": true, \"linkText\": \"Export to plot.ly\", \"plotlyServerURL\": \"https://plot.ly\", \"responsive\": true}                    ).then(function(){\n",
       "                            \n",
       "var gd = document.getElementById('ca8ecea1-91b7-4dfd-9993-3c24a2b58623');\n",
       "var x = new MutationObserver(function (mutations, observer) {{\n",
       "        var display = window.getComputedStyle(gd).display;\n",
       "        if (!display || display === 'none') {{\n",
       "            console.log([gd, 'removed!']);\n",
       "            Plotly.purge(gd);\n",
       "            observer.disconnect();\n",
       "        }}\n",
       "}});\n",
       "\n",
       "// Listen for the removal of the full notebook cells\n",
       "var notebookContainer = gd.closest('#notebook-container');\n",
       "if (notebookContainer) {{\n",
       "    x.observe(notebookContainer, {childList: true});\n",
       "}}\n",
       "\n",
       "// Listen for the clearing of the current output cell\n",
       "var outputEl = gd.closest('.output');\n",
       "if (outputEl) {{\n",
       "    x.observe(outputEl, {childList: true});\n",
       "}}\n",
       "\n",
       "                        })                };                });            </script>        </div>"
      ]
     },
     "metadata": {},
     "output_type": "display_data"
    }
   ],
   "source": [
    "df3 = pd.DataFrame({'x':[1,2,3,4,5],'y':[10,20,30,20,10],'z':[5,4,3,2,1]})\n",
    "df3.iplot(kind='surface',colorscale='rdylbu')"
   ]
  },
  {
   "attachments": {},
   "cell_type": "markdown",
   "metadata": {},
   "source": [
    "## Spread"
   ]
  },
  {
   "cell_type": "code",
   "execution_count": 15,
   "metadata": {
    "collapsed": false
   },
   "outputs": [
    {
     "name": "stderr",
     "output_type": "stream",
     "text": [
      "c:\\Users\\yusuf\\anaconda3\\envs\\datascience\\Lib\\site-packages\\cufflinks\\plotlytools.py:849: FutureWarning:\n",
      "\n",
      "The pandas.np module is deprecated and will be removed from pandas in a future version. Import numpy directly instead.\n",
      "\n",
      "c:\\Users\\yusuf\\anaconda3\\envs\\datascience\\Lib\\site-packages\\cufflinks\\plotlytools.py:850: FutureWarning:\n",
      "\n",
      "The pandas.np module is deprecated and will be removed from pandas in a future version. Import numpy directly instead.\n",
      "\n"
     ]
    },
    {
     "data": {
      "application/vnd.plotly.v1+json": {
       "config": {
        "linkText": "Export to plot.ly",
        "plotlyServerURL": "https://plot.ly",
        "showLink": true
       },
       "data": [
        {
         "line": {
          "color": "rgba(255, 153, 51, 1.0)",
          "dash": "solid",
          "shape": "linear",
          "width": 1.3
         },
         "mode": "lines",
         "name": "A",
         "text": "",
         "type": "scatter",
         "x": [
          0,
          1,
          2,
          3,
          4,
          5,
          6,
          7,
          8,
          9,
          10,
          11,
          12,
          13,
          14,
          15,
          16,
          17,
          18,
          19,
          20,
          21,
          22,
          23,
          24,
          25,
          26,
          27,
          28,
          29,
          30,
          31,
          32,
          33,
          34,
          35,
          36,
          37,
          38,
          39,
          40,
          41,
          42,
          43,
          44,
          45,
          46,
          47,
          48,
          49,
          50,
          51,
          52,
          53,
          54,
          55,
          56,
          57,
          58,
          59,
          60,
          61,
          62,
          63,
          64,
          65,
          66,
          67,
          68,
          69,
          70,
          71,
          72,
          73,
          74,
          75,
          76,
          77,
          78,
          79,
          80,
          81,
          82,
          83,
          84,
          85,
          86,
          87,
          88,
          89,
          90,
          91,
          92,
          93,
          94,
          95,
          96,
          97,
          98,
          99
         ],
         "y": [
          -1.23367774458424,
          0.7354606535590142,
          0.18297916358793126,
          0.4997206964909568,
          -0.4164376791113165,
          0.7725868189495974,
          -0.3190709225596303,
          -0.34509557310354055,
          0.17571314182171857,
          1.2832496432359026,
          -0.6701622872223576,
          0.1726151343541529,
          -0.5371486714244423,
          0.14866247108121355,
          -1.1134174896360065,
          0.9181426264528164,
          0.2916545629339712,
          -1.5327750870756958,
          -1.4981000212493611,
          -0.6778356750220685,
          1.735421358474536,
          -0.6843482671654342,
          -2.3903111255154244,
          -0.19203745335697894,
          -0.7727337242600216,
          0.4851640083650962,
          -0.03687388157122996,
          -0.28013428904290666,
          0.13278542161376505,
          0.3119355241632733,
          1.5559893421845665,
          -0.14961659575442454,
          -0.6254401403525508,
          0.14409253691847518,
          -0.17776408261353757,
          -1.506867556747576,
          -0.9417607912397659,
          1.8817932769503896,
          -0.09791659724689179,
          2.341697749668085,
          -1.0463068519188832,
          0.7667785456655989,
          0.3744052165922298,
          -0.11600890719464242,
          1.3157688037328155,
          -0.47044669371950476,
          0.5387585482327067,
          0.7425985029443694,
          0.9624955022877838,
          -0.2984520913272161,
          -0.2183144798873457,
          0.9022682433066121,
          1.155171384106318,
          -0.4639222451394979,
          1.9799373349193057,
          -0.9709105566083415,
          0.4266930092556539,
          0.7982776980272756,
          -0.788330192220676,
          2.214154651931596,
          0.8517386094525903,
          0.7307109968115925,
          0.7635729782447669,
          0.10645212322818463,
          0.36019364897067474,
          0.9746982639638698,
          -0.5556653065216498,
          0.17462254664205748,
          -1.8419332782616773,
          -1.985223300131962,
          0.7467115259440948,
          2.2401539237310297,
          -0.8646309336109702,
          0.03176867873429596,
          1.0856986000536937,
          0.5765714008077054,
          1.8425945746859302,
          -0.5982346749068658,
          1.281876291366642,
          -1.4856750066733857,
          -0.40617642583972385,
          1.227860895027526,
          -0.1516154355428637,
          -0.19119937484773103,
          1.6412982490327952,
          -0.16593239072305466,
          -1.2920286182886802,
          -0.8691861682544956,
          -1.850680027577851,
          2.257954454887254,
          2.6285325515955864,
          -0.0684629034273146,
          1.7513799068573954,
          -0.46705614107678833,
          -0.10754645646971306,
          0.3550472312638334,
          -0.030799279632314668,
          0.48260371806705854,
          0.6037213493070618,
          1.2001353535703647
         ]
        },
        {
         "line": {
          "color": "rgba(55, 128, 191, 1.0)",
          "dash": "solid",
          "shape": "linear",
          "width": 1.3
         },
         "mode": "lines",
         "name": "B",
         "text": "",
         "type": "scatter",
         "x": [
          0,
          1,
          2,
          3,
          4,
          5,
          6,
          7,
          8,
          9,
          10,
          11,
          12,
          13,
          14,
          15,
          16,
          17,
          18,
          19,
          20,
          21,
          22,
          23,
          24,
          25,
          26,
          27,
          28,
          29,
          30,
          31,
          32,
          33,
          34,
          35,
          36,
          37,
          38,
          39,
          40,
          41,
          42,
          43,
          44,
          45,
          46,
          47,
          48,
          49,
          50,
          51,
          52,
          53,
          54,
          55,
          56,
          57,
          58,
          59,
          60,
          61,
          62,
          63,
          64,
          65,
          66,
          67,
          68,
          69,
          70,
          71,
          72,
          73,
          74,
          75,
          76,
          77,
          78,
          79,
          80,
          81,
          82,
          83,
          84,
          85,
          86,
          87,
          88,
          89,
          90,
          91,
          92,
          93,
          94,
          95,
          96,
          97,
          98,
          99
         ],
         "y": [
          1.6136967679655434,
          -1.7743454628646287,
          -0.7203287172843124,
          -0.6117954031487445,
          -0.5009445747690496,
          -0.24161844138377042,
          -0.08872694595508866,
          0.9414124362805255,
          -1.3156998667030655,
          -1.4071666051435512,
          0.5936163122545488,
          -1.4425960457191493,
          0.8871373825005632,
          0.7934761210859214,
          1.6388025932684638,
          -0.11005133315602779,
          -0.10825386825750678,
          0.0025098233379851074,
          0.2872930674671653,
          -0.6648284861864668,
          -0.15297087907323706,
          -0.22340340462924857,
          -1.046194162796279,
          -0.6992987713385544,
          -1.428382051025518,
          2.2717657882437416,
          -0.2991219216134819,
          0.8036729570996414,
          0.07473183143488986,
          0.03629793496927448,
          0.7282501907601823,
          -0.468992428764272,
          1.1354729217609987,
          -0.17500536226349744,
          -0.8823112338592987,
          -1.0267863666982082,
          0.22929164557760115,
          0.08166986290003601,
          -0.4330250214952117,
          -1.4768571379632707,
          -0.03836514380320835,
          0.5605916358916565,
          0.3208280805065191,
          -0.30636035654476584,
          -0.5856938781868646,
          -0.9413963300297031,
          -1.8328437051415842,
          0.3633607192627451,
          0.014613820067525655,
          -2.0581325295536987,
          -0.5814716694456769,
          -0.645961870134278,
          -0.9509169358479385,
          -0.5364320563027563,
          -0.09927241848365108,
          1.1677610430726344,
          0.3140389325576045,
          2.2953591028356666,
          -0.811016454177509,
          -1.0738306708614167,
          -0.5448157712114431,
          1.0117744371276478,
          0.4037143519820321,
          -0.07573006893551563,
          0.20146794629997267,
          -0.3682498559607633,
          -1.051561812832864,
          0.9742748100847685,
          -1.8840815140861575,
          -1.163604661761712,
          0.2695935706119995,
          -0.2153451906084906,
          -0.4643422556942716,
          -0.03181141759971215,
          1.601791961152759,
          -1.263754355144204,
          -0.4277428623143499,
          0.3758165557541959,
          0.466825436020422,
          0.12952785501322436,
          -1.1010703462267066,
          -1.2236492596008608,
          0.01927986704213586,
          -0.6869701717286061,
          -0.6547097891615642,
          -0.2396485802567933,
          -0.05472819079502166,
          -2.6898646855476485,
          -1.2873936728903954,
          0.6240206318014331,
          1.249178232250976,
          0.4185312567426191,
          -1.4588386970350944,
          -0.19460072611954962,
          0.509326925798342,
          0.1338898266727817,
          -1.2748281912315276,
          -1.3360835573105292,
          -0.2282333872994752,
          1.0511136019093947
         ]
        },
        {
         "connectgaps": false,
         "fill": "tozeroy",
         "line": {
          "color": "green",
          "dash": "solid",
          "shape": "linear",
          "width": 0.5
         },
         "mode": "lines",
         "name": "Spread",
         "showlegend": false,
         "type": "scatter",
         "x": [
          0,
          1,
          2,
          3,
          4,
          5,
          6,
          7,
          8,
          9,
          10,
          11,
          12,
          13,
          14,
          15,
          16,
          17,
          18,
          19,
          20,
          21,
          22,
          23,
          24,
          25,
          26,
          27,
          28,
          29,
          30,
          31,
          32,
          33,
          34,
          35,
          36,
          37,
          38,
          39,
          40,
          41,
          42,
          43,
          44,
          45,
          46,
          47,
          48,
          49,
          50,
          51,
          52,
          53,
          54,
          55,
          56,
          57,
          58,
          59,
          60,
          61,
          62,
          63,
          64,
          65,
          66,
          67,
          68,
          69,
          70,
          71,
          72,
          73,
          74,
          75,
          76,
          77,
          78,
          79,
          80,
          81,
          82,
          83,
          84,
          85,
          86,
          87,
          88,
          89,
          90,
          91,
          92,
          93,
          94,
          95,
          96,
          97,
          98,
          99
         ],
         "xaxis": "x2",
         "y": [
          "",
          2.509806116423643,
          0.9033078808722437,
          1.1115160996397013,
          0.08450689565773312,
          1.0142052603333678,
          "",
          "",
          1.491413008524784,
          2.690416248379454,
          "",
          1.6152111800733022,
          "",
          "",
          "",
          1.0281939596088443,
          0.39990843119147795,
          "",
          "",
          "",
          1.888392237547773,
          "",
          "",
          0.5072613179815755,
          0.6556483267654964,
          "",
          0.26224804004225194,
          "",
          0.058053590178875195,
          0.27563758919399883,
          0.8277391514243843,
          0.31937583300984745,
          "",
          0.3190978991819726,
          0.7045471512457611,
          "",
          "",
          1.8001234140503535,
          0.33510842424831994,
          3.8185548876313558,
          "",
          0.20618690977394238,
          0.053577136085710686,
          0.19035144935012344,
          1.90146268191968,
          0.47094963631019837,
          2.371602253374291,
          0.37923778368162425,
          0.9478816822202581,
          1.7596804382264826,
          0.36315718955833115,
          1.5482301134408902,
          2.1060883199542566,
          0.07250981116325833,
          2.0792097534029566,
          "",
          0.11265407669804939,
          "",
          0.022686261956832987,
          3.2879853227930127,
          1.3965543806640333,
          "",
          0.3598586262627348,
          0.18218219216370027,
          0.15872570267070207,
          1.3429481199246331,
          0.4958965063112143,
          "",
          0.04214823582448024,
          "",
          0.47711795533209533,
          2.45549911433952,
          "",
          0.0635800963340081,
          "",
          1.8403257559519095,
          2.27033743700028,
          "",
          0.8150508553462199,
          "",
          0.6948939203869828,
          2.451510154628387,
          "",
          0.49577079688087505,
          2.2960080381943593,
          0.07371618953373865,
          "",
          1.8206785172931528,
          "",
          1.6339338230858207,
          1.3793543193446105,
          "",
          3.21021860389249,
          "",
          "",
          0.2211574045910517,
          1.244028911599213,
          1.8186872753775878,
          0.831954736606537,
          0.14902175166096998
         ],
         "yaxis": "y2"
        },
        {
         "connectgaps": false,
         "fill": "tozeroy",
         "line": {
          "color": "red",
          "dash": "solid",
          "shape": "linear",
          "width": 0.5
         },
         "mode": "lines",
         "name": "Spread",
         "showlegend": false,
         "type": "scatter",
         "x": [
          0,
          1,
          2,
          3,
          4,
          5,
          6,
          7,
          8,
          9,
          10,
          11,
          12,
          13,
          14,
          15,
          16,
          17,
          18,
          19,
          20,
          21,
          22,
          23,
          24,
          25,
          26,
          27,
          28,
          29,
          30,
          31,
          32,
          33,
          34,
          35,
          36,
          37,
          38,
          39,
          40,
          41,
          42,
          43,
          44,
          45,
          46,
          47,
          48,
          49,
          50,
          51,
          52,
          53,
          54,
          55,
          56,
          57,
          58,
          59,
          60,
          61,
          62,
          63,
          64,
          65,
          66,
          67,
          68,
          69,
          70,
          71,
          72,
          73,
          74,
          75,
          76,
          77,
          78,
          79,
          80,
          81,
          82,
          83,
          84,
          85,
          86,
          87,
          88,
          89,
          90,
          91,
          92,
          93,
          94,
          95,
          96,
          97,
          98,
          99
         ],
         "xaxis": "x2",
         "y": [
          -2.8473745125497834,
          "",
          "",
          "",
          "",
          "",
          -0.23034397660454164,
          -1.286508009384066,
          "",
          "",
          -1.2637785994769064,
          "",
          -1.4242860539250055,
          -0.6448136500047078,
          -2.7522200829044703,
          "",
          "",
          -1.535284910413681,
          -1.7853930887165266,
          -0.013007188835601702,
          "",
          -0.4609448625361856,
          -1.3441169627191454,
          "",
          "",
          -1.7866017798786453,
          "",
          -1.083807246142548,
          "",
          "",
          "",
          "",
          -1.7609130621135494,
          "",
          "",
          -0.4800811900493678,
          -1.171052436817367,
          "",
          "",
          "",
          -1.0079417081156747,
          "",
          "",
          "",
          "",
          "",
          "",
          "",
          "",
          "",
          "",
          "",
          "",
          "",
          "",
          -2.138671599680976,
          "",
          -1.497081404808391,
          "",
          "",
          "",
          -0.28106344031605535,
          "",
          "",
          "",
          "",
          "",
          -0.799652263442711,
          "",
          -0.82161863837025,
          "",
          "",
          -0.4002886779166986,
          "",
          -0.5160933610990652,
          "",
          "",
          -0.9740512306610617,
          "",
          -1.61520286168661,
          "",
          "",
          -0.17089530258499955,
          "",
          "",
          "",
          -1.2373004274936585,
          "",
          -0.5632863546874556,
          "",
          "",
          -0.4869941601699337,
          "",
          -0.2724554149572387,
          -0.6168733822680551,
          "",
          "",
          "",
          "",
          ""
         ],
         "yaxis": "y2"
        }
       ],
       "layout": {
        "hovermode": "x",
        "legend": {
         "bgcolor": "#F5F6F9",
         "font": {
          "color": "#4D5663"
         }
        },
        "paper_bgcolor": "#F5F6F9",
        "plot_bgcolor": "#F5F6F9",
        "template": {
         "data": {
          "bar": [
           {
            "error_x": {
             "color": "#2a3f5f"
            },
            "error_y": {
             "color": "#2a3f5f"
            },
            "marker": {
             "line": {
              "color": "#E5ECF6",
              "width": 0.5
             },
             "pattern": {
              "fillmode": "overlay",
              "size": 10,
              "solidity": 0.2
             }
            },
            "type": "bar"
           }
          ],
          "barpolar": [
           {
            "marker": {
             "line": {
              "color": "#E5ECF6",
              "width": 0.5
             },
             "pattern": {
              "fillmode": "overlay",
              "size": 10,
              "solidity": 0.2
             }
            },
            "type": "barpolar"
           }
          ],
          "carpet": [
           {
            "aaxis": {
             "endlinecolor": "#2a3f5f",
             "gridcolor": "white",
             "linecolor": "white",
             "minorgridcolor": "white",
             "startlinecolor": "#2a3f5f"
            },
            "baxis": {
             "endlinecolor": "#2a3f5f",
             "gridcolor": "white",
             "linecolor": "white",
             "minorgridcolor": "white",
             "startlinecolor": "#2a3f5f"
            },
            "type": "carpet"
           }
          ],
          "choropleth": [
           {
            "colorbar": {
             "outlinewidth": 0,
             "ticks": ""
            },
            "type": "choropleth"
           }
          ],
          "contour": [
           {
            "colorbar": {
             "outlinewidth": 0,
             "ticks": ""
            },
            "colorscale": [
             [
              0,
              "#0d0887"
             ],
             [
              0.1111111111111111,
              "#46039f"
             ],
             [
              0.2222222222222222,
              "#7201a8"
             ],
             [
              0.3333333333333333,
              "#9c179e"
             ],
             [
              0.4444444444444444,
              "#bd3786"
             ],
             [
              0.5555555555555556,
              "#d8576b"
             ],
             [
              0.6666666666666666,
              "#ed7953"
             ],
             [
              0.7777777777777778,
              "#fb9f3a"
             ],
             [
              0.8888888888888888,
              "#fdca26"
             ],
             [
              1,
              "#f0f921"
             ]
            ],
            "type": "contour"
           }
          ],
          "contourcarpet": [
           {
            "colorbar": {
             "outlinewidth": 0,
             "ticks": ""
            },
            "type": "contourcarpet"
           }
          ],
          "heatmap": [
           {
            "colorbar": {
             "outlinewidth": 0,
             "ticks": ""
            },
            "colorscale": [
             [
              0,
              "#0d0887"
             ],
             [
              0.1111111111111111,
              "#46039f"
             ],
             [
              0.2222222222222222,
              "#7201a8"
             ],
             [
              0.3333333333333333,
              "#9c179e"
             ],
             [
              0.4444444444444444,
              "#bd3786"
             ],
             [
              0.5555555555555556,
              "#d8576b"
             ],
             [
              0.6666666666666666,
              "#ed7953"
             ],
             [
              0.7777777777777778,
              "#fb9f3a"
             ],
             [
              0.8888888888888888,
              "#fdca26"
             ],
             [
              1,
              "#f0f921"
             ]
            ],
            "type": "heatmap"
           }
          ],
          "heatmapgl": [
           {
            "colorbar": {
             "outlinewidth": 0,
             "ticks": ""
            },
            "colorscale": [
             [
              0,
              "#0d0887"
             ],
             [
              0.1111111111111111,
              "#46039f"
             ],
             [
              0.2222222222222222,
              "#7201a8"
             ],
             [
              0.3333333333333333,
              "#9c179e"
             ],
             [
              0.4444444444444444,
              "#bd3786"
             ],
             [
              0.5555555555555556,
              "#d8576b"
             ],
             [
              0.6666666666666666,
              "#ed7953"
             ],
             [
              0.7777777777777778,
              "#fb9f3a"
             ],
             [
              0.8888888888888888,
              "#fdca26"
             ],
             [
              1,
              "#f0f921"
             ]
            ],
            "type": "heatmapgl"
           }
          ],
          "histogram": [
           {
            "marker": {
             "pattern": {
              "fillmode": "overlay",
              "size": 10,
              "solidity": 0.2
             }
            },
            "type": "histogram"
           }
          ],
          "histogram2d": [
           {
            "colorbar": {
             "outlinewidth": 0,
             "ticks": ""
            },
            "colorscale": [
             [
              0,
              "#0d0887"
             ],
             [
              0.1111111111111111,
              "#46039f"
             ],
             [
              0.2222222222222222,
              "#7201a8"
             ],
             [
              0.3333333333333333,
              "#9c179e"
             ],
             [
              0.4444444444444444,
              "#bd3786"
             ],
             [
              0.5555555555555556,
              "#d8576b"
             ],
             [
              0.6666666666666666,
              "#ed7953"
             ],
             [
              0.7777777777777778,
              "#fb9f3a"
             ],
             [
              0.8888888888888888,
              "#fdca26"
             ],
             [
              1,
              "#f0f921"
             ]
            ],
            "type": "histogram2d"
           }
          ],
          "histogram2dcontour": [
           {
            "colorbar": {
             "outlinewidth": 0,
             "ticks": ""
            },
            "colorscale": [
             [
              0,
              "#0d0887"
             ],
             [
              0.1111111111111111,
              "#46039f"
             ],
             [
              0.2222222222222222,
              "#7201a8"
             ],
             [
              0.3333333333333333,
              "#9c179e"
             ],
             [
              0.4444444444444444,
              "#bd3786"
             ],
             [
              0.5555555555555556,
              "#d8576b"
             ],
             [
              0.6666666666666666,
              "#ed7953"
             ],
             [
              0.7777777777777778,
              "#fb9f3a"
             ],
             [
              0.8888888888888888,
              "#fdca26"
             ],
             [
              1,
              "#f0f921"
             ]
            ],
            "type": "histogram2dcontour"
           }
          ],
          "mesh3d": [
           {
            "colorbar": {
             "outlinewidth": 0,
             "ticks": ""
            },
            "type": "mesh3d"
           }
          ],
          "parcoords": [
           {
            "line": {
             "colorbar": {
              "outlinewidth": 0,
              "ticks": ""
             }
            },
            "type": "parcoords"
           }
          ],
          "pie": [
           {
            "automargin": true,
            "type": "pie"
           }
          ],
          "scatter": [
           {
            "fillpattern": {
             "fillmode": "overlay",
             "size": 10,
             "solidity": 0.2
            },
            "type": "scatter"
           }
          ],
          "scatter3d": [
           {
            "line": {
             "colorbar": {
              "outlinewidth": 0,
              "ticks": ""
             }
            },
            "marker": {
             "colorbar": {
              "outlinewidth": 0,
              "ticks": ""
             }
            },
            "type": "scatter3d"
           }
          ],
          "scattercarpet": [
           {
            "marker": {
             "colorbar": {
              "outlinewidth": 0,
              "ticks": ""
             }
            },
            "type": "scattercarpet"
           }
          ],
          "scattergeo": [
           {
            "marker": {
             "colorbar": {
              "outlinewidth": 0,
              "ticks": ""
             }
            },
            "type": "scattergeo"
           }
          ],
          "scattergl": [
           {
            "marker": {
             "colorbar": {
              "outlinewidth": 0,
              "ticks": ""
             }
            },
            "type": "scattergl"
           }
          ],
          "scattermapbox": [
           {
            "marker": {
             "colorbar": {
              "outlinewidth": 0,
              "ticks": ""
             }
            },
            "type": "scattermapbox"
           }
          ],
          "scatterpolar": [
           {
            "marker": {
             "colorbar": {
              "outlinewidth": 0,
              "ticks": ""
             }
            },
            "type": "scatterpolar"
           }
          ],
          "scatterpolargl": [
           {
            "marker": {
             "colorbar": {
              "outlinewidth": 0,
              "ticks": ""
             }
            },
            "type": "scatterpolargl"
           }
          ],
          "scatterternary": [
           {
            "marker": {
             "colorbar": {
              "outlinewidth": 0,
              "ticks": ""
             }
            },
            "type": "scatterternary"
           }
          ],
          "surface": [
           {
            "colorbar": {
             "outlinewidth": 0,
             "ticks": ""
            },
            "colorscale": [
             [
              0,
              "#0d0887"
             ],
             [
              0.1111111111111111,
              "#46039f"
             ],
             [
              0.2222222222222222,
              "#7201a8"
             ],
             [
              0.3333333333333333,
              "#9c179e"
             ],
             [
              0.4444444444444444,
              "#bd3786"
             ],
             [
              0.5555555555555556,
              "#d8576b"
             ],
             [
              0.6666666666666666,
              "#ed7953"
             ],
             [
              0.7777777777777778,
              "#fb9f3a"
             ],
             [
              0.8888888888888888,
              "#fdca26"
             ],
             [
              1,
              "#f0f921"
             ]
            ],
            "type": "surface"
           }
          ],
          "table": [
           {
            "cells": {
             "fill": {
              "color": "#EBF0F8"
             },
             "line": {
              "color": "white"
             }
            },
            "header": {
             "fill": {
              "color": "#C8D4E3"
             },
             "line": {
              "color": "white"
             }
            },
            "type": "table"
           }
          ]
         },
         "layout": {
          "annotationdefaults": {
           "arrowcolor": "#2a3f5f",
           "arrowhead": 0,
           "arrowwidth": 1
          },
          "autotypenumbers": "strict",
          "coloraxis": {
           "colorbar": {
            "outlinewidth": 0,
            "ticks": ""
           }
          },
          "colorscale": {
           "diverging": [
            [
             0,
             "#8e0152"
            ],
            [
             0.1,
             "#c51b7d"
            ],
            [
             0.2,
             "#de77ae"
            ],
            [
             0.3,
             "#f1b6da"
            ],
            [
             0.4,
             "#fde0ef"
            ],
            [
             0.5,
             "#f7f7f7"
            ],
            [
             0.6,
             "#e6f5d0"
            ],
            [
             0.7,
             "#b8e186"
            ],
            [
             0.8,
             "#7fbc41"
            ],
            [
             0.9,
             "#4d9221"
            ],
            [
             1,
             "#276419"
            ]
           ],
           "sequential": [
            [
             0,
             "#0d0887"
            ],
            [
             0.1111111111111111,
             "#46039f"
            ],
            [
             0.2222222222222222,
             "#7201a8"
            ],
            [
             0.3333333333333333,
             "#9c179e"
            ],
            [
             0.4444444444444444,
             "#bd3786"
            ],
            [
             0.5555555555555556,
             "#d8576b"
            ],
            [
             0.6666666666666666,
             "#ed7953"
            ],
            [
             0.7777777777777778,
             "#fb9f3a"
            ],
            [
             0.8888888888888888,
             "#fdca26"
            ],
            [
             1,
             "#f0f921"
            ]
           ],
           "sequentialminus": [
            [
             0,
             "#0d0887"
            ],
            [
             0.1111111111111111,
             "#46039f"
            ],
            [
             0.2222222222222222,
             "#7201a8"
            ],
            [
             0.3333333333333333,
             "#9c179e"
            ],
            [
             0.4444444444444444,
             "#bd3786"
            ],
            [
             0.5555555555555556,
             "#d8576b"
            ],
            [
             0.6666666666666666,
             "#ed7953"
            ],
            [
             0.7777777777777778,
             "#fb9f3a"
            ],
            [
             0.8888888888888888,
             "#fdca26"
            ],
            [
             1,
             "#f0f921"
            ]
           ]
          },
          "colorway": [
           "#636efa",
           "#EF553B",
           "#00cc96",
           "#ab63fa",
           "#FFA15A",
           "#19d3f3",
           "#FF6692",
           "#B6E880",
           "#FF97FF",
           "#FECB52"
          ],
          "font": {
           "color": "#2a3f5f"
          },
          "geo": {
           "bgcolor": "white",
           "lakecolor": "white",
           "landcolor": "#E5ECF6",
           "showlakes": true,
           "showland": true,
           "subunitcolor": "white"
          },
          "hoverlabel": {
           "align": "left"
          },
          "hovermode": "closest",
          "mapbox": {
           "style": "light"
          },
          "paper_bgcolor": "white",
          "plot_bgcolor": "#E5ECF6",
          "polar": {
           "angularaxis": {
            "gridcolor": "white",
            "linecolor": "white",
            "ticks": ""
           },
           "bgcolor": "#E5ECF6",
           "radialaxis": {
            "gridcolor": "white",
            "linecolor": "white",
            "ticks": ""
           }
          },
          "scene": {
           "xaxis": {
            "backgroundcolor": "#E5ECF6",
            "gridcolor": "white",
            "gridwidth": 2,
            "linecolor": "white",
            "showbackground": true,
            "ticks": "",
            "zerolinecolor": "white"
           },
           "yaxis": {
            "backgroundcolor": "#E5ECF6",
            "gridcolor": "white",
            "gridwidth": 2,
            "linecolor": "white",
            "showbackground": true,
            "ticks": "",
            "zerolinecolor": "white"
           },
           "zaxis": {
            "backgroundcolor": "#E5ECF6",
            "gridcolor": "white",
            "gridwidth": 2,
            "linecolor": "white",
            "showbackground": true,
            "ticks": "",
            "zerolinecolor": "white"
           }
          },
          "shapedefaults": {
           "line": {
            "color": "#2a3f5f"
           }
          },
          "ternary": {
           "aaxis": {
            "gridcolor": "white",
            "linecolor": "white",
            "ticks": ""
           },
           "baxis": {
            "gridcolor": "white",
            "linecolor": "white",
            "ticks": ""
           },
           "bgcolor": "#E5ECF6",
           "caxis": {
            "gridcolor": "white",
            "linecolor": "white",
            "ticks": ""
           }
          },
          "title": {
           "x": 0.05
          },
          "xaxis": {
           "automargin": true,
           "gridcolor": "white",
           "linecolor": "white",
           "ticks": "",
           "title": {
            "standoff": 15
           },
           "zerolinecolor": "white",
           "zerolinewidth": 2
          },
          "yaxis": {
           "automargin": true,
           "gridcolor": "white",
           "linecolor": "white",
           "ticks": "",
           "title": {
            "standoff": 15
           },
           "zerolinecolor": "white",
           "zerolinewidth": 2
          }
         }
        },
        "title": {
         "font": {
          "color": "#4D5663"
         }
        },
        "xaxis": {
         "gridcolor": "#E1E5ED",
         "showgrid": true,
         "tickfont": {
          "color": "#4D5663"
         },
         "title": {
          "font": {
           "color": "#4D5663"
          },
          "text": ""
         },
         "zerolinecolor": "#E1E5ED"
        },
        "xaxis2": {
         "anchor": "y2",
         "gridcolor": "#E1E5ED",
         "showgrid": true,
         "showticklabels": false,
         "tickfont": {
          "color": "#4D5663"
         },
         "title": {
          "font": {
           "color": "#4D5663"
          },
          "text": ""
         },
         "zerolinecolor": "#E1E5ED"
        },
        "yaxis": {
         "domain": [
          0.3,
          1
         ],
         "gridcolor": "#E1E5ED",
         "showgrid": true,
         "tickfont": {
          "color": "#4D5663"
         },
         "title": {
          "font": {
           "color": "#4D5663"
          },
          "text": ""
         },
         "zerolinecolor": "#E1E5ED"
        },
        "yaxis2": {
         "domain": [
          0,
          0.25
         ],
         "gridcolor": "#E1E5ED",
         "showgrid": true,
         "tickfont": {
          "color": "#4D5663"
         },
         "title": {
          "font": {
           "color": "#4D5663"
          },
          "text": "Spread"
         },
         "zerolinecolor": "#E1E5ED"
        }
       }
      },
      "text/html": [
       "<div>                            <div id=\"72c8ce40-5fa2-4829-9db4-ec19905952e6\" class=\"plotly-graph-div\" style=\"height:525px; width:100%;\"></div>            <script type=\"text/javascript\">                require([\"plotly\"], function(Plotly) {                    window.PLOTLYENV=window.PLOTLYENV || {};\n",
       "                    window.PLOTLYENV.BASE_URL='https://plot.ly';                                    if (document.getElementById(\"72c8ce40-5fa2-4829-9db4-ec19905952e6\")) {                    Plotly.newPlot(                        \"72c8ce40-5fa2-4829-9db4-ec19905952e6\",                        [{\"line\":{\"color\":\"rgba(255, 153, 51, 1.0)\",\"dash\":\"solid\",\"shape\":\"linear\",\"width\":1.3},\"mode\":\"lines\",\"name\":\"A\",\"text\":\"\",\"x\":[0,1,2,3,4,5,6,7,8,9,10,11,12,13,14,15,16,17,18,19,20,21,22,23,24,25,26,27,28,29,30,31,32,33,34,35,36,37,38,39,40,41,42,43,44,45,46,47,48,49,50,51,52,53,54,55,56,57,58,59,60,61,62,63,64,65,66,67,68,69,70,71,72,73,74,75,76,77,78,79,80,81,82,83,84,85,86,87,88,89,90,91,92,93,94,95,96,97,98,99],\"y\":[-1.23367774458424,0.7354606535590142,0.18297916358793126,0.4997206964909568,-0.4164376791113165,0.7725868189495974,-0.3190709225596303,-0.34509557310354055,0.17571314182171857,1.2832496432359026,-0.6701622872223576,0.1726151343541529,-0.5371486714244423,0.14866247108121355,-1.1134174896360065,0.9181426264528164,0.2916545629339712,-1.5327750870756958,-1.4981000212493611,-0.6778356750220685,1.735421358474536,-0.6843482671654342,-2.3903111255154244,-0.19203745335697894,-0.7727337242600216,0.4851640083650962,-0.03687388157122996,-0.28013428904290666,0.13278542161376505,0.3119355241632733,1.5559893421845665,-0.14961659575442454,-0.6254401403525508,0.14409253691847518,-0.17776408261353757,-1.506867556747576,-0.9417607912397659,1.8817932769503896,-0.09791659724689179,2.341697749668085,-1.0463068519188832,0.7667785456655989,0.3744052165922298,-0.11600890719464242,1.3157688037328155,-0.47044669371950476,0.5387585482327067,0.7425985029443694,0.9624955022877838,-0.2984520913272161,-0.2183144798873457,0.9022682433066121,1.155171384106318,-0.4639222451394979,1.9799373349193057,-0.9709105566083415,0.4266930092556539,0.7982776980272756,-0.788330192220676,2.214154651931596,0.8517386094525903,0.7307109968115925,0.7635729782447669,0.10645212322818463,0.36019364897067474,0.9746982639638698,-0.5556653065216498,0.17462254664205748,-1.8419332782616773,-1.985223300131962,0.7467115259440948,2.2401539237310297,-0.8646309336109702,0.03176867873429596,1.0856986000536937,0.5765714008077054,1.8425945746859302,-0.5982346749068658,1.281876291366642,-1.4856750066733857,-0.40617642583972385,1.227860895027526,-0.1516154355428637,-0.19119937484773103,1.6412982490327952,-0.16593239072305466,-1.2920286182886802,-0.8691861682544956,-1.850680027577851,2.257954454887254,2.6285325515955864,-0.0684629034273146,1.7513799068573954,-0.46705614107678833,-0.10754645646971306,0.3550472312638334,-0.030799279632314668,0.48260371806705854,0.6037213493070618,1.2001353535703647],\"type\":\"scatter\"},{\"line\":{\"color\":\"rgba(55, 128, 191, 1.0)\",\"dash\":\"solid\",\"shape\":\"linear\",\"width\":1.3},\"mode\":\"lines\",\"name\":\"B\",\"text\":\"\",\"x\":[0,1,2,3,4,5,6,7,8,9,10,11,12,13,14,15,16,17,18,19,20,21,22,23,24,25,26,27,28,29,30,31,32,33,34,35,36,37,38,39,40,41,42,43,44,45,46,47,48,49,50,51,52,53,54,55,56,57,58,59,60,61,62,63,64,65,66,67,68,69,70,71,72,73,74,75,76,77,78,79,80,81,82,83,84,85,86,87,88,89,90,91,92,93,94,95,96,97,98,99],\"y\":[1.6136967679655434,-1.7743454628646287,-0.7203287172843124,-0.6117954031487445,-0.5009445747690496,-0.24161844138377042,-0.08872694595508866,0.9414124362805255,-1.3156998667030655,-1.4071666051435512,0.5936163122545488,-1.4425960457191493,0.8871373825005632,0.7934761210859214,1.6388025932684638,-0.11005133315602779,-0.10825386825750678,0.0025098233379851074,0.2872930674671653,-0.6648284861864668,-0.15297087907323706,-0.22340340462924857,-1.046194162796279,-0.6992987713385544,-1.428382051025518,2.2717657882437416,-0.2991219216134819,0.8036729570996414,0.07473183143488986,0.03629793496927448,0.7282501907601823,-0.468992428764272,1.1354729217609987,-0.17500536226349744,-0.8823112338592987,-1.0267863666982082,0.22929164557760115,0.08166986290003601,-0.4330250214952117,-1.4768571379632707,-0.03836514380320835,0.5605916358916565,0.3208280805065191,-0.30636035654476584,-0.5856938781868646,-0.9413963300297031,-1.8328437051415842,0.3633607192627451,0.014613820067525655,-2.0581325295536987,-0.5814716694456769,-0.645961870134278,-0.9509169358479385,-0.5364320563027563,-0.09927241848365108,1.1677610430726344,0.3140389325576045,2.2953591028356666,-0.811016454177509,-1.0738306708614167,-0.5448157712114431,1.0117744371276478,0.4037143519820321,-0.07573006893551563,0.20146794629997267,-0.3682498559607633,-1.051561812832864,0.9742748100847685,-1.8840815140861575,-1.163604661761712,0.2695935706119995,-0.2153451906084906,-0.4643422556942716,-0.03181141759971215,1.601791961152759,-1.263754355144204,-0.4277428623143499,0.3758165557541959,0.466825436020422,0.12952785501322436,-1.1010703462267066,-1.2236492596008608,0.01927986704213586,-0.6869701717286061,-0.6547097891615642,-0.2396485802567933,-0.05472819079502166,-2.6898646855476485,-1.2873936728903954,0.6240206318014331,1.249178232250976,0.4185312567426191,-1.4588386970350944,-0.19460072611954962,0.509326925798342,0.1338898266727817,-1.2748281912315276,-1.3360835573105292,-0.2282333872994752,1.0511136019093947],\"type\":\"scatter\"},{\"connectgaps\":false,\"fill\":\"tozeroy\",\"line\":{\"color\":\"green\",\"dash\":\"solid\",\"shape\":\"linear\",\"width\":0.5},\"mode\":\"lines\",\"name\":\"Spread\",\"showlegend\":false,\"x\":[0,1,2,3,4,5,6,7,8,9,10,11,12,13,14,15,16,17,18,19,20,21,22,23,24,25,26,27,28,29,30,31,32,33,34,35,36,37,38,39,40,41,42,43,44,45,46,47,48,49,50,51,52,53,54,55,56,57,58,59,60,61,62,63,64,65,66,67,68,69,70,71,72,73,74,75,76,77,78,79,80,81,82,83,84,85,86,87,88,89,90,91,92,93,94,95,96,97,98,99],\"xaxis\":\"x2\",\"y\":[\"\",2.509806116423643,0.9033078808722437,1.1115160996397013,0.08450689565773312,1.0142052603333678,\"\",\"\",1.491413008524784,2.690416248379454,\"\",1.6152111800733022,\"\",\"\",\"\",1.0281939596088443,0.39990843119147795,\"\",\"\",\"\",1.888392237547773,\"\",\"\",0.5072613179815755,0.6556483267654964,\"\",0.26224804004225194,\"\",0.058053590178875195,0.27563758919399883,0.8277391514243843,0.31937583300984745,\"\",0.3190978991819726,0.7045471512457611,\"\",\"\",1.8001234140503535,0.33510842424831994,3.8185548876313558,\"\",0.20618690977394238,0.053577136085710686,0.19035144935012344,1.90146268191968,0.47094963631019837,2.371602253374291,0.37923778368162425,0.9478816822202581,1.7596804382264826,0.36315718955833115,1.5482301134408902,2.1060883199542566,0.07250981116325833,2.0792097534029566,\"\",0.11265407669804939,\"\",0.022686261956832987,3.2879853227930127,1.3965543806640333,\"\",0.3598586262627348,0.18218219216370027,0.15872570267070207,1.3429481199246331,0.4958965063112143,\"\",0.04214823582448024,\"\",0.47711795533209533,2.45549911433952,\"\",0.0635800963340081,\"\",1.8403257559519095,2.27033743700028,\"\",0.8150508553462199,\"\",0.6948939203869828,2.451510154628387,\"\",0.49577079688087505,2.2960080381943593,0.07371618953373865,\"\",1.8206785172931528,\"\",1.6339338230858207,1.3793543193446105,\"\",3.21021860389249,\"\",\"\",0.2211574045910517,1.244028911599213,1.8186872753775878,0.831954736606537,0.14902175166096998],\"yaxis\":\"y2\",\"type\":\"scatter\"},{\"connectgaps\":false,\"fill\":\"tozeroy\",\"line\":{\"color\":\"red\",\"dash\":\"solid\",\"shape\":\"linear\",\"width\":0.5},\"mode\":\"lines\",\"name\":\"Spread\",\"showlegend\":false,\"x\":[0,1,2,3,4,5,6,7,8,9,10,11,12,13,14,15,16,17,18,19,20,21,22,23,24,25,26,27,28,29,30,31,32,33,34,35,36,37,38,39,40,41,42,43,44,45,46,47,48,49,50,51,52,53,54,55,56,57,58,59,60,61,62,63,64,65,66,67,68,69,70,71,72,73,74,75,76,77,78,79,80,81,82,83,84,85,86,87,88,89,90,91,92,93,94,95,96,97,98,99],\"xaxis\":\"x2\",\"y\":[-2.8473745125497834,\"\",\"\",\"\",\"\",\"\",-0.23034397660454164,-1.286508009384066,\"\",\"\",-1.2637785994769064,\"\",-1.4242860539250055,-0.6448136500047078,-2.7522200829044703,\"\",\"\",-1.535284910413681,-1.7853930887165266,-0.013007188835601702,\"\",-0.4609448625361856,-1.3441169627191454,\"\",\"\",-1.7866017798786453,\"\",-1.083807246142548,\"\",\"\",\"\",\"\",-1.7609130621135494,\"\",\"\",-0.4800811900493678,-1.171052436817367,\"\",\"\",\"\",-1.0079417081156747,\"\",\"\",\"\",\"\",\"\",\"\",\"\",\"\",\"\",\"\",\"\",\"\",\"\",\"\",-2.138671599680976,\"\",-1.497081404808391,\"\",\"\",\"\",-0.28106344031605535,\"\",\"\",\"\",\"\",\"\",-0.799652263442711,\"\",-0.82161863837025,\"\",\"\",-0.4002886779166986,\"\",-0.5160933610990652,\"\",\"\",-0.9740512306610617,\"\",-1.61520286168661,\"\",\"\",-0.17089530258499955,\"\",\"\",\"\",-1.2373004274936585,\"\",-0.5632863546874556,\"\",\"\",-0.4869941601699337,\"\",-0.2724554149572387,-0.6168733822680551,\"\",\"\",\"\",\"\",\"\"],\"yaxis\":\"y2\",\"type\":\"scatter\"}],                        {\"hovermode\":\"x\",\"legend\":{\"bgcolor\":\"#F5F6F9\",\"font\":{\"color\":\"#4D5663\"}},\"paper_bgcolor\":\"#F5F6F9\",\"plot_bgcolor\":\"#F5F6F9\",\"template\":{\"data\":{\"barpolar\":[{\"marker\":{\"line\":{\"color\":\"#E5ECF6\",\"width\":0.5},\"pattern\":{\"fillmode\":\"overlay\",\"size\":10,\"solidity\":0.2}},\"type\":\"barpolar\"}],\"bar\":[{\"error_x\":{\"color\":\"#2a3f5f\"},\"error_y\":{\"color\":\"#2a3f5f\"},\"marker\":{\"line\":{\"color\":\"#E5ECF6\",\"width\":0.5},\"pattern\":{\"fillmode\":\"overlay\",\"size\":10,\"solidity\":0.2}},\"type\":\"bar\"}],\"carpet\":[{\"aaxis\":{\"endlinecolor\":\"#2a3f5f\",\"gridcolor\":\"white\",\"linecolor\":\"white\",\"minorgridcolor\":\"white\",\"startlinecolor\":\"#2a3f5f\"},\"baxis\":{\"endlinecolor\":\"#2a3f5f\",\"gridcolor\":\"white\",\"linecolor\":\"white\",\"minorgridcolor\":\"white\",\"startlinecolor\":\"#2a3f5f\"},\"type\":\"carpet\"}],\"choropleth\":[{\"colorbar\":{\"outlinewidth\":0,\"ticks\":\"\"},\"type\":\"choropleth\"}],\"contourcarpet\":[{\"colorbar\":{\"outlinewidth\":0,\"ticks\":\"\"},\"type\":\"contourcarpet\"}],\"contour\":[{\"colorbar\":{\"outlinewidth\":0,\"ticks\":\"\"},\"colorscale\":[[0.0,\"#0d0887\"],[0.1111111111111111,\"#46039f\"],[0.2222222222222222,\"#7201a8\"],[0.3333333333333333,\"#9c179e\"],[0.4444444444444444,\"#bd3786\"],[0.5555555555555556,\"#d8576b\"],[0.6666666666666666,\"#ed7953\"],[0.7777777777777778,\"#fb9f3a\"],[0.8888888888888888,\"#fdca26\"],[1.0,\"#f0f921\"]],\"type\":\"contour\"}],\"heatmapgl\":[{\"colorbar\":{\"outlinewidth\":0,\"ticks\":\"\"},\"colorscale\":[[0.0,\"#0d0887\"],[0.1111111111111111,\"#46039f\"],[0.2222222222222222,\"#7201a8\"],[0.3333333333333333,\"#9c179e\"],[0.4444444444444444,\"#bd3786\"],[0.5555555555555556,\"#d8576b\"],[0.6666666666666666,\"#ed7953\"],[0.7777777777777778,\"#fb9f3a\"],[0.8888888888888888,\"#fdca26\"],[1.0,\"#f0f921\"]],\"type\":\"heatmapgl\"}],\"heatmap\":[{\"colorbar\":{\"outlinewidth\":0,\"ticks\":\"\"},\"colorscale\":[[0.0,\"#0d0887\"],[0.1111111111111111,\"#46039f\"],[0.2222222222222222,\"#7201a8\"],[0.3333333333333333,\"#9c179e\"],[0.4444444444444444,\"#bd3786\"],[0.5555555555555556,\"#d8576b\"],[0.6666666666666666,\"#ed7953\"],[0.7777777777777778,\"#fb9f3a\"],[0.8888888888888888,\"#fdca26\"],[1.0,\"#f0f921\"]],\"type\":\"heatmap\"}],\"histogram2dcontour\":[{\"colorbar\":{\"outlinewidth\":0,\"ticks\":\"\"},\"colorscale\":[[0.0,\"#0d0887\"],[0.1111111111111111,\"#46039f\"],[0.2222222222222222,\"#7201a8\"],[0.3333333333333333,\"#9c179e\"],[0.4444444444444444,\"#bd3786\"],[0.5555555555555556,\"#d8576b\"],[0.6666666666666666,\"#ed7953\"],[0.7777777777777778,\"#fb9f3a\"],[0.8888888888888888,\"#fdca26\"],[1.0,\"#f0f921\"]],\"type\":\"histogram2dcontour\"}],\"histogram2d\":[{\"colorbar\":{\"outlinewidth\":0,\"ticks\":\"\"},\"colorscale\":[[0.0,\"#0d0887\"],[0.1111111111111111,\"#46039f\"],[0.2222222222222222,\"#7201a8\"],[0.3333333333333333,\"#9c179e\"],[0.4444444444444444,\"#bd3786\"],[0.5555555555555556,\"#d8576b\"],[0.6666666666666666,\"#ed7953\"],[0.7777777777777778,\"#fb9f3a\"],[0.8888888888888888,\"#fdca26\"],[1.0,\"#f0f921\"]],\"type\":\"histogram2d\"}],\"histogram\":[{\"marker\":{\"pattern\":{\"fillmode\":\"overlay\",\"size\":10,\"solidity\":0.2}},\"type\":\"histogram\"}],\"mesh3d\":[{\"colorbar\":{\"outlinewidth\":0,\"ticks\":\"\"},\"type\":\"mesh3d\"}],\"parcoords\":[{\"line\":{\"colorbar\":{\"outlinewidth\":0,\"ticks\":\"\"}},\"type\":\"parcoords\"}],\"pie\":[{\"automargin\":true,\"type\":\"pie\"}],\"scatter3d\":[{\"line\":{\"colorbar\":{\"outlinewidth\":0,\"ticks\":\"\"}},\"marker\":{\"colorbar\":{\"outlinewidth\":0,\"ticks\":\"\"}},\"type\":\"scatter3d\"}],\"scattercarpet\":[{\"marker\":{\"colorbar\":{\"outlinewidth\":0,\"ticks\":\"\"}},\"type\":\"scattercarpet\"}],\"scattergeo\":[{\"marker\":{\"colorbar\":{\"outlinewidth\":0,\"ticks\":\"\"}},\"type\":\"scattergeo\"}],\"scattergl\":[{\"marker\":{\"colorbar\":{\"outlinewidth\":0,\"ticks\":\"\"}},\"type\":\"scattergl\"}],\"scattermapbox\":[{\"marker\":{\"colorbar\":{\"outlinewidth\":0,\"ticks\":\"\"}},\"type\":\"scattermapbox\"}],\"scatterpolargl\":[{\"marker\":{\"colorbar\":{\"outlinewidth\":0,\"ticks\":\"\"}},\"type\":\"scatterpolargl\"}],\"scatterpolar\":[{\"marker\":{\"colorbar\":{\"outlinewidth\":0,\"ticks\":\"\"}},\"type\":\"scatterpolar\"}],\"scatter\":[{\"fillpattern\":{\"fillmode\":\"overlay\",\"size\":10,\"solidity\":0.2},\"type\":\"scatter\"}],\"scatterternary\":[{\"marker\":{\"colorbar\":{\"outlinewidth\":0,\"ticks\":\"\"}},\"type\":\"scatterternary\"}],\"surface\":[{\"colorbar\":{\"outlinewidth\":0,\"ticks\":\"\"},\"colorscale\":[[0.0,\"#0d0887\"],[0.1111111111111111,\"#46039f\"],[0.2222222222222222,\"#7201a8\"],[0.3333333333333333,\"#9c179e\"],[0.4444444444444444,\"#bd3786\"],[0.5555555555555556,\"#d8576b\"],[0.6666666666666666,\"#ed7953\"],[0.7777777777777778,\"#fb9f3a\"],[0.8888888888888888,\"#fdca26\"],[1.0,\"#f0f921\"]],\"type\":\"surface\"}],\"table\":[{\"cells\":{\"fill\":{\"color\":\"#EBF0F8\"},\"line\":{\"color\":\"white\"}},\"header\":{\"fill\":{\"color\":\"#C8D4E3\"},\"line\":{\"color\":\"white\"}},\"type\":\"table\"}]},\"layout\":{\"annotationdefaults\":{\"arrowcolor\":\"#2a3f5f\",\"arrowhead\":0,\"arrowwidth\":1},\"autotypenumbers\":\"strict\",\"coloraxis\":{\"colorbar\":{\"outlinewidth\":0,\"ticks\":\"\"}},\"colorscale\":{\"diverging\":[[0,\"#8e0152\"],[0.1,\"#c51b7d\"],[0.2,\"#de77ae\"],[0.3,\"#f1b6da\"],[0.4,\"#fde0ef\"],[0.5,\"#f7f7f7\"],[0.6,\"#e6f5d0\"],[0.7,\"#b8e186\"],[0.8,\"#7fbc41\"],[0.9,\"#4d9221\"],[1,\"#276419\"]],\"sequential\":[[0.0,\"#0d0887\"],[0.1111111111111111,\"#46039f\"],[0.2222222222222222,\"#7201a8\"],[0.3333333333333333,\"#9c179e\"],[0.4444444444444444,\"#bd3786\"],[0.5555555555555556,\"#d8576b\"],[0.6666666666666666,\"#ed7953\"],[0.7777777777777778,\"#fb9f3a\"],[0.8888888888888888,\"#fdca26\"],[1.0,\"#f0f921\"]],\"sequentialminus\":[[0.0,\"#0d0887\"],[0.1111111111111111,\"#46039f\"],[0.2222222222222222,\"#7201a8\"],[0.3333333333333333,\"#9c179e\"],[0.4444444444444444,\"#bd3786\"],[0.5555555555555556,\"#d8576b\"],[0.6666666666666666,\"#ed7953\"],[0.7777777777777778,\"#fb9f3a\"],[0.8888888888888888,\"#fdca26\"],[1.0,\"#f0f921\"]]},\"colorway\":[\"#636efa\",\"#EF553B\",\"#00cc96\",\"#ab63fa\",\"#FFA15A\",\"#19d3f3\",\"#FF6692\",\"#B6E880\",\"#FF97FF\",\"#FECB52\"],\"font\":{\"color\":\"#2a3f5f\"},\"geo\":{\"bgcolor\":\"white\",\"lakecolor\":\"white\",\"landcolor\":\"#E5ECF6\",\"showlakes\":true,\"showland\":true,\"subunitcolor\":\"white\"},\"hoverlabel\":{\"align\":\"left\"},\"hovermode\":\"closest\",\"mapbox\":{\"style\":\"light\"},\"paper_bgcolor\":\"white\",\"plot_bgcolor\":\"#E5ECF6\",\"polar\":{\"angularaxis\":{\"gridcolor\":\"white\",\"linecolor\":\"white\",\"ticks\":\"\"},\"bgcolor\":\"#E5ECF6\",\"radialaxis\":{\"gridcolor\":\"white\",\"linecolor\":\"white\",\"ticks\":\"\"}},\"scene\":{\"xaxis\":{\"backgroundcolor\":\"#E5ECF6\",\"gridcolor\":\"white\",\"gridwidth\":2,\"linecolor\":\"white\",\"showbackground\":true,\"ticks\":\"\",\"zerolinecolor\":\"white\"},\"yaxis\":{\"backgroundcolor\":\"#E5ECF6\",\"gridcolor\":\"white\",\"gridwidth\":2,\"linecolor\":\"white\",\"showbackground\":true,\"ticks\":\"\",\"zerolinecolor\":\"white\"},\"zaxis\":{\"backgroundcolor\":\"#E5ECF6\",\"gridcolor\":\"white\",\"gridwidth\":2,\"linecolor\":\"white\",\"showbackground\":true,\"ticks\":\"\",\"zerolinecolor\":\"white\"}},\"shapedefaults\":{\"line\":{\"color\":\"#2a3f5f\"}},\"ternary\":{\"aaxis\":{\"gridcolor\":\"white\",\"linecolor\":\"white\",\"ticks\":\"\"},\"baxis\":{\"gridcolor\":\"white\",\"linecolor\":\"white\",\"ticks\":\"\"},\"bgcolor\":\"#E5ECF6\",\"caxis\":{\"gridcolor\":\"white\",\"linecolor\":\"white\",\"ticks\":\"\"}},\"title\":{\"x\":0.05},\"xaxis\":{\"automargin\":true,\"gridcolor\":\"white\",\"linecolor\":\"white\",\"ticks\":\"\",\"title\":{\"standoff\":15},\"zerolinecolor\":\"white\",\"zerolinewidth\":2},\"yaxis\":{\"automargin\":true,\"gridcolor\":\"white\",\"linecolor\":\"white\",\"ticks\":\"\",\"title\":{\"standoff\":15},\"zerolinecolor\":\"white\",\"zerolinewidth\":2}}},\"title\":{\"font\":{\"color\":\"#4D5663\"}},\"xaxis\":{\"gridcolor\":\"#E1E5ED\",\"showgrid\":true,\"tickfont\":{\"color\":\"#4D5663\"},\"title\":{\"font\":{\"color\":\"#4D5663\"},\"text\":\"\"},\"zerolinecolor\":\"#E1E5ED\"},\"yaxis\":{\"domain\":[0.3,1],\"gridcolor\":\"#E1E5ED\",\"showgrid\":true,\"tickfont\":{\"color\":\"#4D5663\"},\"title\":{\"font\":{\"color\":\"#4D5663\"},\"text\":\"\"},\"zerolinecolor\":\"#E1E5ED\"},\"yaxis2\":{\"domain\":[0,0.25],\"gridcolor\":\"#E1E5ED\",\"showgrid\":true,\"tickfont\":{\"color\":\"#4D5663\"},\"title\":{\"font\":{\"color\":\"#4D5663\"},\"text\":\"Spread\"},\"zerolinecolor\":\"#E1E5ED\"},\"xaxis2\":{\"anchor\":\"y2\",\"gridcolor\":\"#E1E5ED\",\"showgrid\":true,\"showticklabels\":false,\"tickfont\":{\"color\":\"#4D5663\"},\"title\":{\"font\":{\"color\":\"#4D5663\"},\"text\":\"\"},\"zerolinecolor\":\"#E1E5ED\"}},                        {\"showLink\": true, \"linkText\": \"Export to plot.ly\", \"plotlyServerURL\": \"https://plot.ly\", \"responsive\": true}                    ).then(function(){\n",
       "                            \n",
       "var gd = document.getElementById('72c8ce40-5fa2-4829-9db4-ec19905952e6');\n",
       "var x = new MutationObserver(function (mutations, observer) {{\n",
       "        var display = window.getComputedStyle(gd).display;\n",
       "        if (!display || display === 'none') {{\n",
       "            console.log([gd, 'removed!']);\n",
       "            Plotly.purge(gd);\n",
       "            observer.disconnect();\n",
       "        }}\n",
       "}});\n",
       "\n",
       "// Listen for the removal of the full notebook cells\n",
       "var notebookContainer = gd.closest('#notebook-container');\n",
       "if (notebookContainer) {{\n",
       "    x.observe(notebookContainer, {childList: true});\n",
       "}}\n",
       "\n",
       "// Listen for the clearing of the current output cell\n",
       "var outputEl = gd.closest('.output');\n",
       "if (outputEl) {{\n",
       "    x.observe(outputEl, {childList: true});\n",
       "}}\n",
       "\n",
       "                        })                };                });            </script>        </div>"
      ]
     },
     "metadata": {},
     "output_type": "display_data"
    }
   ],
   "source": [
    "df[['A','B']].iplot(kind='spread')"
   ]
  },
  {
   "attachments": {},
   "cell_type": "markdown",
   "metadata": {},
   "source": [
    "## histogram"
   ]
  },
  {
   "cell_type": "code",
   "execution_count": 16,
   "metadata": {
    "collapsed": false
   },
   "outputs": [
    {
     "data": {
      "application/vnd.plotly.v1+json": {
       "config": {
        "linkText": "Export to plot.ly",
        "plotlyServerURL": "https://plot.ly",
        "showLink": true
       },
       "data": [
        {
         "histfunc": "count",
         "histnorm": "",
         "marker": {
          "color": "rgba(255, 153, 51, 1.0)",
          "line": {
           "color": "#4D5663",
           "width": 1.3
          }
         },
         "name": "A",
         "nbinsx": 25,
         "opacity": 0.8,
         "orientation": "v",
         "type": "histogram",
         "x": [
          -1.23367774458424,
          0.7354606535590142,
          0.18297916358793126,
          0.4997206964909568,
          -0.4164376791113165,
          0.7725868189495974,
          -0.3190709225596303,
          -0.34509557310354055,
          0.17571314182171857,
          1.2832496432359026,
          -0.6701622872223576,
          0.1726151343541529,
          -0.5371486714244423,
          0.14866247108121355,
          -1.1134174896360065,
          0.9181426264528164,
          0.2916545629339712,
          -1.5327750870756958,
          -1.4981000212493611,
          -0.6778356750220685,
          1.735421358474536,
          -0.6843482671654342,
          -2.3903111255154244,
          -0.19203745335697894,
          -0.7727337242600216,
          0.4851640083650962,
          -0.03687388157122996,
          -0.28013428904290666,
          0.13278542161376505,
          0.3119355241632733,
          1.5559893421845665,
          -0.14961659575442454,
          -0.6254401403525508,
          0.14409253691847518,
          -0.17776408261353757,
          -1.506867556747576,
          -0.9417607912397659,
          1.8817932769503896,
          -0.09791659724689179,
          2.341697749668085,
          -1.0463068519188832,
          0.7667785456655989,
          0.3744052165922298,
          -0.11600890719464242,
          1.3157688037328155,
          -0.47044669371950476,
          0.5387585482327067,
          0.7425985029443694,
          0.9624955022877838,
          -0.2984520913272161,
          -0.2183144798873457,
          0.9022682433066121,
          1.155171384106318,
          -0.4639222451394979,
          1.9799373349193057,
          -0.9709105566083415,
          0.4266930092556539,
          0.7982776980272756,
          -0.788330192220676,
          2.214154651931596,
          0.8517386094525903,
          0.7307109968115925,
          0.7635729782447669,
          0.10645212322818463,
          0.36019364897067474,
          0.9746982639638698,
          -0.5556653065216498,
          0.17462254664205748,
          -1.8419332782616773,
          -1.985223300131962,
          0.7467115259440948,
          2.2401539237310297,
          -0.8646309336109702,
          0.03176867873429596,
          1.0856986000536937,
          0.5765714008077054,
          1.8425945746859302,
          -0.5982346749068658,
          1.281876291366642,
          -1.4856750066733857,
          -0.40617642583972385,
          1.227860895027526,
          -0.1516154355428637,
          -0.19119937484773103,
          1.6412982490327952,
          -0.16593239072305466,
          -1.2920286182886802,
          -0.8691861682544956,
          -1.850680027577851,
          2.257954454887254,
          2.6285325515955864,
          -0.0684629034273146,
          1.7513799068573954,
          -0.46705614107678833,
          -0.10754645646971306,
          0.3550472312638334,
          -0.030799279632314668,
          0.48260371806705854,
          0.6037213493070618,
          1.2001353535703647
         ]
        }
       ],
       "layout": {
        "barmode": "overlay",
        "legend": {
         "bgcolor": "#F5F6F9",
         "font": {
          "color": "#4D5663"
         }
        },
        "paper_bgcolor": "#F5F6F9",
        "plot_bgcolor": "#F5F6F9",
        "template": {
         "data": {
          "bar": [
           {
            "error_x": {
             "color": "#2a3f5f"
            },
            "error_y": {
             "color": "#2a3f5f"
            },
            "marker": {
             "line": {
              "color": "#E5ECF6",
              "width": 0.5
             },
             "pattern": {
              "fillmode": "overlay",
              "size": 10,
              "solidity": 0.2
             }
            },
            "type": "bar"
           }
          ],
          "barpolar": [
           {
            "marker": {
             "line": {
              "color": "#E5ECF6",
              "width": 0.5
             },
             "pattern": {
              "fillmode": "overlay",
              "size": 10,
              "solidity": 0.2
             }
            },
            "type": "barpolar"
           }
          ],
          "carpet": [
           {
            "aaxis": {
             "endlinecolor": "#2a3f5f",
             "gridcolor": "white",
             "linecolor": "white",
             "minorgridcolor": "white",
             "startlinecolor": "#2a3f5f"
            },
            "baxis": {
             "endlinecolor": "#2a3f5f",
             "gridcolor": "white",
             "linecolor": "white",
             "minorgridcolor": "white",
             "startlinecolor": "#2a3f5f"
            },
            "type": "carpet"
           }
          ],
          "choropleth": [
           {
            "colorbar": {
             "outlinewidth": 0,
             "ticks": ""
            },
            "type": "choropleth"
           }
          ],
          "contour": [
           {
            "colorbar": {
             "outlinewidth": 0,
             "ticks": ""
            },
            "colorscale": [
             [
              0,
              "#0d0887"
             ],
             [
              0.1111111111111111,
              "#46039f"
             ],
             [
              0.2222222222222222,
              "#7201a8"
             ],
             [
              0.3333333333333333,
              "#9c179e"
             ],
             [
              0.4444444444444444,
              "#bd3786"
             ],
             [
              0.5555555555555556,
              "#d8576b"
             ],
             [
              0.6666666666666666,
              "#ed7953"
             ],
             [
              0.7777777777777778,
              "#fb9f3a"
             ],
             [
              0.8888888888888888,
              "#fdca26"
             ],
             [
              1,
              "#f0f921"
             ]
            ],
            "type": "contour"
           }
          ],
          "contourcarpet": [
           {
            "colorbar": {
             "outlinewidth": 0,
             "ticks": ""
            },
            "type": "contourcarpet"
           }
          ],
          "heatmap": [
           {
            "colorbar": {
             "outlinewidth": 0,
             "ticks": ""
            },
            "colorscale": [
             [
              0,
              "#0d0887"
             ],
             [
              0.1111111111111111,
              "#46039f"
             ],
             [
              0.2222222222222222,
              "#7201a8"
             ],
             [
              0.3333333333333333,
              "#9c179e"
             ],
             [
              0.4444444444444444,
              "#bd3786"
             ],
             [
              0.5555555555555556,
              "#d8576b"
             ],
             [
              0.6666666666666666,
              "#ed7953"
             ],
             [
              0.7777777777777778,
              "#fb9f3a"
             ],
             [
              0.8888888888888888,
              "#fdca26"
             ],
             [
              1,
              "#f0f921"
             ]
            ],
            "type": "heatmap"
           }
          ],
          "heatmapgl": [
           {
            "colorbar": {
             "outlinewidth": 0,
             "ticks": ""
            },
            "colorscale": [
             [
              0,
              "#0d0887"
             ],
             [
              0.1111111111111111,
              "#46039f"
             ],
             [
              0.2222222222222222,
              "#7201a8"
             ],
             [
              0.3333333333333333,
              "#9c179e"
             ],
             [
              0.4444444444444444,
              "#bd3786"
             ],
             [
              0.5555555555555556,
              "#d8576b"
             ],
             [
              0.6666666666666666,
              "#ed7953"
             ],
             [
              0.7777777777777778,
              "#fb9f3a"
             ],
             [
              0.8888888888888888,
              "#fdca26"
             ],
             [
              1,
              "#f0f921"
             ]
            ],
            "type": "heatmapgl"
           }
          ],
          "histogram": [
           {
            "marker": {
             "pattern": {
              "fillmode": "overlay",
              "size": 10,
              "solidity": 0.2
             }
            },
            "type": "histogram"
           }
          ],
          "histogram2d": [
           {
            "colorbar": {
             "outlinewidth": 0,
             "ticks": ""
            },
            "colorscale": [
             [
              0,
              "#0d0887"
             ],
             [
              0.1111111111111111,
              "#46039f"
             ],
             [
              0.2222222222222222,
              "#7201a8"
             ],
             [
              0.3333333333333333,
              "#9c179e"
             ],
             [
              0.4444444444444444,
              "#bd3786"
             ],
             [
              0.5555555555555556,
              "#d8576b"
             ],
             [
              0.6666666666666666,
              "#ed7953"
             ],
             [
              0.7777777777777778,
              "#fb9f3a"
             ],
             [
              0.8888888888888888,
              "#fdca26"
             ],
             [
              1,
              "#f0f921"
             ]
            ],
            "type": "histogram2d"
           }
          ],
          "histogram2dcontour": [
           {
            "colorbar": {
             "outlinewidth": 0,
             "ticks": ""
            },
            "colorscale": [
             [
              0,
              "#0d0887"
             ],
             [
              0.1111111111111111,
              "#46039f"
             ],
             [
              0.2222222222222222,
              "#7201a8"
             ],
             [
              0.3333333333333333,
              "#9c179e"
             ],
             [
              0.4444444444444444,
              "#bd3786"
             ],
             [
              0.5555555555555556,
              "#d8576b"
             ],
             [
              0.6666666666666666,
              "#ed7953"
             ],
             [
              0.7777777777777778,
              "#fb9f3a"
             ],
             [
              0.8888888888888888,
              "#fdca26"
             ],
             [
              1,
              "#f0f921"
             ]
            ],
            "type": "histogram2dcontour"
           }
          ],
          "mesh3d": [
           {
            "colorbar": {
             "outlinewidth": 0,
             "ticks": ""
            },
            "type": "mesh3d"
           }
          ],
          "parcoords": [
           {
            "line": {
             "colorbar": {
              "outlinewidth": 0,
              "ticks": ""
             }
            },
            "type": "parcoords"
           }
          ],
          "pie": [
           {
            "automargin": true,
            "type": "pie"
           }
          ],
          "scatter": [
           {
            "fillpattern": {
             "fillmode": "overlay",
             "size": 10,
             "solidity": 0.2
            },
            "type": "scatter"
           }
          ],
          "scatter3d": [
           {
            "line": {
             "colorbar": {
              "outlinewidth": 0,
              "ticks": ""
             }
            },
            "marker": {
             "colorbar": {
              "outlinewidth": 0,
              "ticks": ""
             }
            },
            "type": "scatter3d"
           }
          ],
          "scattercarpet": [
           {
            "marker": {
             "colorbar": {
              "outlinewidth": 0,
              "ticks": ""
             }
            },
            "type": "scattercarpet"
           }
          ],
          "scattergeo": [
           {
            "marker": {
             "colorbar": {
              "outlinewidth": 0,
              "ticks": ""
             }
            },
            "type": "scattergeo"
           }
          ],
          "scattergl": [
           {
            "marker": {
             "colorbar": {
              "outlinewidth": 0,
              "ticks": ""
             }
            },
            "type": "scattergl"
           }
          ],
          "scattermapbox": [
           {
            "marker": {
             "colorbar": {
              "outlinewidth": 0,
              "ticks": ""
             }
            },
            "type": "scattermapbox"
           }
          ],
          "scatterpolar": [
           {
            "marker": {
             "colorbar": {
              "outlinewidth": 0,
              "ticks": ""
             }
            },
            "type": "scatterpolar"
           }
          ],
          "scatterpolargl": [
           {
            "marker": {
             "colorbar": {
              "outlinewidth": 0,
              "ticks": ""
             }
            },
            "type": "scatterpolargl"
           }
          ],
          "scatterternary": [
           {
            "marker": {
             "colorbar": {
              "outlinewidth": 0,
              "ticks": ""
             }
            },
            "type": "scatterternary"
           }
          ],
          "surface": [
           {
            "colorbar": {
             "outlinewidth": 0,
             "ticks": ""
            },
            "colorscale": [
             [
              0,
              "#0d0887"
             ],
             [
              0.1111111111111111,
              "#46039f"
             ],
             [
              0.2222222222222222,
              "#7201a8"
             ],
             [
              0.3333333333333333,
              "#9c179e"
             ],
             [
              0.4444444444444444,
              "#bd3786"
             ],
             [
              0.5555555555555556,
              "#d8576b"
             ],
             [
              0.6666666666666666,
              "#ed7953"
             ],
             [
              0.7777777777777778,
              "#fb9f3a"
             ],
             [
              0.8888888888888888,
              "#fdca26"
             ],
             [
              1,
              "#f0f921"
             ]
            ],
            "type": "surface"
           }
          ],
          "table": [
           {
            "cells": {
             "fill": {
              "color": "#EBF0F8"
             },
             "line": {
              "color": "white"
             }
            },
            "header": {
             "fill": {
              "color": "#C8D4E3"
             },
             "line": {
              "color": "white"
             }
            },
            "type": "table"
           }
          ]
         },
         "layout": {
          "annotationdefaults": {
           "arrowcolor": "#2a3f5f",
           "arrowhead": 0,
           "arrowwidth": 1
          },
          "autotypenumbers": "strict",
          "coloraxis": {
           "colorbar": {
            "outlinewidth": 0,
            "ticks": ""
           }
          },
          "colorscale": {
           "diverging": [
            [
             0,
             "#8e0152"
            ],
            [
             0.1,
             "#c51b7d"
            ],
            [
             0.2,
             "#de77ae"
            ],
            [
             0.3,
             "#f1b6da"
            ],
            [
             0.4,
             "#fde0ef"
            ],
            [
             0.5,
             "#f7f7f7"
            ],
            [
             0.6,
             "#e6f5d0"
            ],
            [
             0.7,
             "#b8e186"
            ],
            [
             0.8,
             "#7fbc41"
            ],
            [
             0.9,
             "#4d9221"
            ],
            [
             1,
             "#276419"
            ]
           ],
           "sequential": [
            [
             0,
             "#0d0887"
            ],
            [
             0.1111111111111111,
             "#46039f"
            ],
            [
             0.2222222222222222,
             "#7201a8"
            ],
            [
             0.3333333333333333,
             "#9c179e"
            ],
            [
             0.4444444444444444,
             "#bd3786"
            ],
            [
             0.5555555555555556,
             "#d8576b"
            ],
            [
             0.6666666666666666,
             "#ed7953"
            ],
            [
             0.7777777777777778,
             "#fb9f3a"
            ],
            [
             0.8888888888888888,
             "#fdca26"
            ],
            [
             1,
             "#f0f921"
            ]
           ],
           "sequentialminus": [
            [
             0,
             "#0d0887"
            ],
            [
             0.1111111111111111,
             "#46039f"
            ],
            [
             0.2222222222222222,
             "#7201a8"
            ],
            [
             0.3333333333333333,
             "#9c179e"
            ],
            [
             0.4444444444444444,
             "#bd3786"
            ],
            [
             0.5555555555555556,
             "#d8576b"
            ],
            [
             0.6666666666666666,
             "#ed7953"
            ],
            [
             0.7777777777777778,
             "#fb9f3a"
            ],
            [
             0.8888888888888888,
             "#fdca26"
            ],
            [
             1,
             "#f0f921"
            ]
           ]
          },
          "colorway": [
           "#636efa",
           "#EF553B",
           "#00cc96",
           "#ab63fa",
           "#FFA15A",
           "#19d3f3",
           "#FF6692",
           "#B6E880",
           "#FF97FF",
           "#FECB52"
          ],
          "font": {
           "color": "#2a3f5f"
          },
          "geo": {
           "bgcolor": "white",
           "lakecolor": "white",
           "landcolor": "#E5ECF6",
           "showlakes": true,
           "showland": true,
           "subunitcolor": "white"
          },
          "hoverlabel": {
           "align": "left"
          },
          "hovermode": "closest",
          "mapbox": {
           "style": "light"
          },
          "paper_bgcolor": "white",
          "plot_bgcolor": "#E5ECF6",
          "polar": {
           "angularaxis": {
            "gridcolor": "white",
            "linecolor": "white",
            "ticks": ""
           },
           "bgcolor": "#E5ECF6",
           "radialaxis": {
            "gridcolor": "white",
            "linecolor": "white",
            "ticks": ""
           }
          },
          "scene": {
           "xaxis": {
            "backgroundcolor": "#E5ECF6",
            "gridcolor": "white",
            "gridwidth": 2,
            "linecolor": "white",
            "showbackground": true,
            "ticks": "",
            "zerolinecolor": "white"
           },
           "yaxis": {
            "backgroundcolor": "#E5ECF6",
            "gridcolor": "white",
            "gridwidth": 2,
            "linecolor": "white",
            "showbackground": true,
            "ticks": "",
            "zerolinecolor": "white"
           },
           "zaxis": {
            "backgroundcolor": "#E5ECF6",
            "gridcolor": "white",
            "gridwidth": 2,
            "linecolor": "white",
            "showbackground": true,
            "ticks": "",
            "zerolinecolor": "white"
           }
          },
          "shapedefaults": {
           "line": {
            "color": "#2a3f5f"
           }
          },
          "ternary": {
           "aaxis": {
            "gridcolor": "white",
            "linecolor": "white",
            "ticks": ""
           },
           "baxis": {
            "gridcolor": "white",
            "linecolor": "white",
            "ticks": ""
           },
           "bgcolor": "#E5ECF6",
           "caxis": {
            "gridcolor": "white",
            "linecolor": "white",
            "ticks": ""
           }
          },
          "title": {
           "x": 0.05
          },
          "xaxis": {
           "automargin": true,
           "gridcolor": "white",
           "linecolor": "white",
           "ticks": "",
           "title": {
            "standoff": 15
           },
           "zerolinecolor": "white",
           "zerolinewidth": 2
          },
          "yaxis": {
           "automargin": true,
           "gridcolor": "white",
           "linecolor": "white",
           "ticks": "",
           "title": {
            "standoff": 15
           },
           "zerolinecolor": "white",
           "zerolinewidth": 2
          }
         }
        },
        "title": {
         "font": {
          "color": "#4D5663"
         }
        },
        "xaxis": {
         "gridcolor": "#E1E5ED",
         "showgrid": true,
         "tickfont": {
          "color": "#4D5663"
         },
         "title": {
          "font": {
           "color": "#4D5663"
          },
          "text": ""
         },
         "zerolinecolor": "#E1E5ED"
        },
        "yaxis": {
         "gridcolor": "#E1E5ED",
         "showgrid": true,
         "tickfont": {
          "color": "#4D5663"
         },
         "title": {
          "font": {
           "color": "#4D5663"
          },
          "text": ""
         },
         "zerolinecolor": "#E1E5ED"
        }
       }
      },
      "text/html": [
       "<div>                            <div id=\"ea4ef2e9-6028-4090-95a0-f5f65129b46b\" class=\"plotly-graph-div\" style=\"height:525px; width:100%;\"></div>            <script type=\"text/javascript\">                require([\"plotly\"], function(Plotly) {                    window.PLOTLYENV=window.PLOTLYENV || {};\n",
       "                    window.PLOTLYENV.BASE_URL='https://plot.ly';                                    if (document.getElementById(\"ea4ef2e9-6028-4090-95a0-f5f65129b46b\")) {                    Plotly.newPlot(                        \"ea4ef2e9-6028-4090-95a0-f5f65129b46b\",                        [{\"histfunc\":\"count\",\"histnorm\":\"\",\"marker\":{\"color\":\"rgba(255, 153, 51, 1.0)\",\"line\":{\"color\":\"#4D5663\",\"width\":1.3}},\"name\":\"A\",\"nbinsx\":25,\"opacity\":0.8,\"orientation\":\"v\",\"x\":[-1.23367774458424,0.7354606535590142,0.18297916358793126,0.4997206964909568,-0.4164376791113165,0.7725868189495974,-0.3190709225596303,-0.34509557310354055,0.17571314182171857,1.2832496432359026,-0.6701622872223576,0.1726151343541529,-0.5371486714244423,0.14866247108121355,-1.1134174896360065,0.9181426264528164,0.2916545629339712,-1.5327750870756958,-1.4981000212493611,-0.6778356750220685,1.735421358474536,-0.6843482671654342,-2.3903111255154244,-0.19203745335697894,-0.7727337242600216,0.4851640083650962,-0.03687388157122996,-0.28013428904290666,0.13278542161376505,0.3119355241632733,1.5559893421845665,-0.14961659575442454,-0.6254401403525508,0.14409253691847518,-0.17776408261353757,-1.506867556747576,-0.9417607912397659,1.8817932769503896,-0.09791659724689179,2.341697749668085,-1.0463068519188832,0.7667785456655989,0.3744052165922298,-0.11600890719464242,1.3157688037328155,-0.47044669371950476,0.5387585482327067,0.7425985029443694,0.9624955022877838,-0.2984520913272161,-0.2183144798873457,0.9022682433066121,1.155171384106318,-0.4639222451394979,1.9799373349193057,-0.9709105566083415,0.4266930092556539,0.7982776980272756,-0.788330192220676,2.214154651931596,0.8517386094525903,0.7307109968115925,0.7635729782447669,0.10645212322818463,0.36019364897067474,0.9746982639638698,-0.5556653065216498,0.17462254664205748,-1.8419332782616773,-1.985223300131962,0.7467115259440948,2.2401539237310297,-0.8646309336109702,0.03176867873429596,1.0856986000536937,0.5765714008077054,1.8425945746859302,-0.5982346749068658,1.281876291366642,-1.4856750066733857,-0.40617642583972385,1.227860895027526,-0.1516154355428637,-0.19119937484773103,1.6412982490327952,-0.16593239072305466,-1.2920286182886802,-0.8691861682544956,-1.850680027577851,2.257954454887254,2.6285325515955864,-0.0684629034273146,1.7513799068573954,-0.46705614107678833,-0.10754645646971306,0.3550472312638334,-0.030799279632314668,0.48260371806705854,0.6037213493070618,1.2001353535703647],\"type\":\"histogram\"}],                        {\"barmode\":\"overlay\",\"legend\":{\"bgcolor\":\"#F5F6F9\",\"font\":{\"color\":\"#4D5663\"}},\"paper_bgcolor\":\"#F5F6F9\",\"plot_bgcolor\":\"#F5F6F9\",\"template\":{\"data\":{\"barpolar\":[{\"marker\":{\"line\":{\"color\":\"#E5ECF6\",\"width\":0.5},\"pattern\":{\"fillmode\":\"overlay\",\"size\":10,\"solidity\":0.2}},\"type\":\"barpolar\"}],\"bar\":[{\"error_x\":{\"color\":\"#2a3f5f\"},\"error_y\":{\"color\":\"#2a3f5f\"},\"marker\":{\"line\":{\"color\":\"#E5ECF6\",\"width\":0.5},\"pattern\":{\"fillmode\":\"overlay\",\"size\":10,\"solidity\":0.2}},\"type\":\"bar\"}],\"carpet\":[{\"aaxis\":{\"endlinecolor\":\"#2a3f5f\",\"gridcolor\":\"white\",\"linecolor\":\"white\",\"minorgridcolor\":\"white\",\"startlinecolor\":\"#2a3f5f\"},\"baxis\":{\"endlinecolor\":\"#2a3f5f\",\"gridcolor\":\"white\",\"linecolor\":\"white\",\"minorgridcolor\":\"white\",\"startlinecolor\":\"#2a3f5f\"},\"type\":\"carpet\"}],\"choropleth\":[{\"colorbar\":{\"outlinewidth\":0,\"ticks\":\"\"},\"type\":\"choropleth\"}],\"contourcarpet\":[{\"colorbar\":{\"outlinewidth\":0,\"ticks\":\"\"},\"type\":\"contourcarpet\"}],\"contour\":[{\"colorbar\":{\"outlinewidth\":0,\"ticks\":\"\"},\"colorscale\":[[0.0,\"#0d0887\"],[0.1111111111111111,\"#46039f\"],[0.2222222222222222,\"#7201a8\"],[0.3333333333333333,\"#9c179e\"],[0.4444444444444444,\"#bd3786\"],[0.5555555555555556,\"#d8576b\"],[0.6666666666666666,\"#ed7953\"],[0.7777777777777778,\"#fb9f3a\"],[0.8888888888888888,\"#fdca26\"],[1.0,\"#f0f921\"]],\"type\":\"contour\"}],\"heatmapgl\":[{\"colorbar\":{\"outlinewidth\":0,\"ticks\":\"\"},\"colorscale\":[[0.0,\"#0d0887\"],[0.1111111111111111,\"#46039f\"],[0.2222222222222222,\"#7201a8\"],[0.3333333333333333,\"#9c179e\"],[0.4444444444444444,\"#bd3786\"],[0.5555555555555556,\"#d8576b\"],[0.6666666666666666,\"#ed7953\"],[0.7777777777777778,\"#fb9f3a\"],[0.8888888888888888,\"#fdca26\"],[1.0,\"#f0f921\"]],\"type\":\"heatmapgl\"}],\"heatmap\":[{\"colorbar\":{\"outlinewidth\":0,\"ticks\":\"\"},\"colorscale\":[[0.0,\"#0d0887\"],[0.1111111111111111,\"#46039f\"],[0.2222222222222222,\"#7201a8\"],[0.3333333333333333,\"#9c179e\"],[0.4444444444444444,\"#bd3786\"],[0.5555555555555556,\"#d8576b\"],[0.6666666666666666,\"#ed7953\"],[0.7777777777777778,\"#fb9f3a\"],[0.8888888888888888,\"#fdca26\"],[1.0,\"#f0f921\"]],\"type\":\"heatmap\"}],\"histogram2dcontour\":[{\"colorbar\":{\"outlinewidth\":0,\"ticks\":\"\"},\"colorscale\":[[0.0,\"#0d0887\"],[0.1111111111111111,\"#46039f\"],[0.2222222222222222,\"#7201a8\"],[0.3333333333333333,\"#9c179e\"],[0.4444444444444444,\"#bd3786\"],[0.5555555555555556,\"#d8576b\"],[0.6666666666666666,\"#ed7953\"],[0.7777777777777778,\"#fb9f3a\"],[0.8888888888888888,\"#fdca26\"],[1.0,\"#f0f921\"]],\"type\":\"histogram2dcontour\"}],\"histogram2d\":[{\"colorbar\":{\"outlinewidth\":0,\"ticks\":\"\"},\"colorscale\":[[0.0,\"#0d0887\"],[0.1111111111111111,\"#46039f\"],[0.2222222222222222,\"#7201a8\"],[0.3333333333333333,\"#9c179e\"],[0.4444444444444444,\"#bd3786\"],[0.5555555555555556,\"#d8576b\"],[0.6666666666666666,\"#ed7953\"],[0.7777777777777778,\"#fb9f3a\"],[0.8888888888888888,\"#fdca26\"],[1.0,\"#f0f921\"]],\"type\":\"histogram2d\"}],\"histogram\":[{\"marker\":{\"pattern\":{\"fillmode\":\"overlay\",\"size\":10,\"solidity\":0.2}},\"type\":\"histogram\"}],\"mesh3d\":[{\"colorbar\":{\"outlinewidth\":0,\"ticks\":\"\"},\"type\":\"mesh3d\"}],\"parcoords\":[{\"line\":{\"colorbar\":{\"outlinewidth\":0,\"ticks\":\"\"}},\"type\":\"parcoords\"}],\"pie\":[{\"automargin\":true,\"type\":\"pie\"}],\"scatter3d\":[{\"line\":{\"colorbar\":{\"outlinewidth\":0,\"ticks\":\"\"}},\"marker\":{\"colorbar\":{\"outlinewidth\":0,\"ticks\":\"\"}},\"type\":\"scatter3d\"}],\"scattercarpet\":[{\"marker\":{\"colorbar\":{\"outlinewidth\":0,\"ticks\":\"\"}},\"type\":\"scattercarpet\"}],\"scattergeo\":[{\"marker\":{\"colorbar\":{\"outlinewidth\":0,\"ticks\":\"\"}},\"type\":\"scattergeo\"}],\"scattergl\":[{\"marker\":{\"colorbar\":{\"outlinewidth\":0,\"ticks\":\"\"}},\"type\":\"scattergl\"}],\"scattermapbox\":[{\"marker\":{\"colorbar\":{\"outlinewidth\":0,\"ticks\":\"\"}},\"type\":\"scattermapbox\"}],\"scatterpolargl\":[{\"marker\":{\"colorbar\":{\"outlinewidth\":0,\"ticks\":\"\"}},\"type\":\"scatterpolargl\"}],\"scatterpolar\":[{\"marker\":{\"colorbar\":{\"outlinewidth\":0,\"ticks\":\"\"}},\"type\":\"scatterpolar\"}],\"scatter\":[{\"fillpattern\":{\"fillmode\":\"overlay\",\"size\":10,\"solidity\":0.2},\"type\":\"scatter\"}],\"scatterternary\":[{\"marker\":{\"colorbar\":{\"outlinewidth\":0,\"ticks\":\"\"}},\"type\":\"scatterternary\"}],\"surface\":[{\"colorbar\":{\"outlinewidth\":0,\"ticks\":\"\"},\"colorscale\":[[0.0,\"#0d0887\"],[0.1111111111111111,\"#46039f\"],[0.2222222222222222,\"#7201a8\"],[0.3333333333333333,\"#9c179e\"],[0.4444444444444444,\"#bd3786\"],[0.5555555555555556,\"#d8576b\"],[0.6666666666666666,\"#ed7953\"],[0.7777777777777778,\"#fb9f3a\"],[0.8888888888888888,\"#fdca26\"],[1.0,\"#f0f921\"]],\"type\":\"surface\"}],\"table\":[{\"cells\":{\"fill\":{\"color\":\"#EBF0F8\"},\"line\":{\"color\":\"white\"}},\"header\":{\"fill\":{\"color\":\"#C8D4E3\"},\"line\":{\"color\":\"white\"}},\"type\":\"table\"}]},\"layout\":{\"annotationdefaults\":{\"arrowcolor\":\"#2a3f5f\",\"arrowhead\":0,\"arrowwidth\":1},\"autotypenumbers\":\"strict\",\"coloraxis\":{\"colorbar\":{\"outlinewidth\":0,\"ticks\":\"\"}},\"colorscale\":{\"diverging\":[[0,\"#8e0152\"],[0.1,\"#c51b7d\"],[0.2,\"#de77ae\"],[0.3,\"#f1b6da\"],[0.4,\"#fde0ef\"],[0.5,\"#f7f7f7\"],[0.6,\"#e6f5d0\"],[0.7,\"#b8e186\"],[0.8,\"#7fbc41\"],[0.9,\"#4d9221\"],[1,\"#276419\"]],\"sequential\":[[0.0,\"#0d0887\"],[0.1111111111111111,\"#46039f\"],[0.2222222222222222,\"#7201a8\"],[0.3333333333333333,\"#9c179e\"],[0.4444444444444444,\"#bd3786\"],[0.5555555555555556,\"#d8576b\"],[0.6666666666666666,\"#ed7953\"],[0.7777777777777778,\"#fb9f3a\"],[0.8888888888888888,\"#fdca26\"],[1.0,\"#f0f921\"]],\"sequentialminus\":[[0.0,\"#0d0887\"],[0.1111111111111111,\"#46039f\"],[0.2222222222222222,\"#7201a8\"],[0.3333333333333333,\"#9c179e\"],[0.4444444444444444,\"#bd3786\"],[0.5555555555555556,\"#d8576b\"],[0.6666666666666666,\"#ed7953\"],[0.7777777777777778,\"#fb9f3a\"],[0.8888888888888888,\"#fdca26\"],[1.0,\"#f0f921\"]]},\"colorway\":[\"#636efa\",\"#EF553B\",\"#00cc96\",\"#ab63fa\",\"#FFA15A\",\"#19d3f3\",\"#FF6692\",\"#B6E880\",\"#FF97FF\",\"#FECB52\"],\"font\":{\"color\":\"#2a3f5f\"},\"geo\":{\"bgcolor\":\"white\",\"lakecolor\":\"white\",\"landcolor\":\"#E5ECF6\",\"showlakes\":true,\"showland\":true,\"subunitcolor\":\"white\"},\"hoverlabel\":{\"align\":\"left\"},\"hovermode\":\"closest\",\"mapbox\":{\"style\":\"light\"},\"paper_bgcolor\":\"white\",\"plot_bgcolor\":\"#E5ECF6\",\"polar\":{\"angularaxis\":{\"gridcolor\":\"white\",\"linecolor\":\"white\",\"ticks\":\"\"},\"bgcolor\":\"#E5ECF6\",\"radialaxis\":{\"gridcolor\":\"white\",\"linecolor\":\"white\",\"ticks\":\"\"}},\"scene\":{\"xaxis\":{\"backgroundcolor\":\"#E5ECF6\",\"gridcolor\":\"white\",\"gridwidth\":2,\"linecolor\":\"white\",\"showbackground\":true,\"ticks\":\"\",\"zerolinecolor\":\"white\"},\"yaxis\":{\"backgroundcolor\":\"#E5ECF6\",\"gridcolor\":\"white\",\"gridwidth\":2,\"linecolor\":\"white\",\"showbackground\":true,\"ticks\":\"\",\"zerolinecolor\":\"white\"},\"zaxis\":{\"backgroundcolor\":\"#E5ECF6\",\"gridcolor\":\"white\",\"gridwidth\":2,\"linecolor\":\"white\",\"showbackground\":true,\"ticks\":\"\",\"zerolinecolor\":\"white\"}},\"shapedefaults\":{\"line\":{\"color\":\"#2a3f5f\"}},\"ternary\":{\"aaxis\":{\"gridcolor\":\"white\",\"linecolor\":\"white\",\"ticks\":\"\"},\"baxis\":{\"gridcolor\":\"white\",\"linecolor\":\"white\",\"ticks\":\"\"},\"bgcolor\":\"#E5ECF6\",\"caxis\":{\"gridcolor\":\"white\",\"linecolor\":\"white\",\"ticks\":\"\"}},\"title\":{\"x\":0.05},\"xaxis\":{\"automargin\":true,\"gridcolor\":\"white\",\"linecolor\":\"white\",\"ticks\":\"\",\"title\":{\"standoff\":15},\"zerolinecolor\":\"white\",\"zerolinewidth\":2},\"yaxis\":{\"automargin\":true,\"gridcolor\":\"white\",\"linecolor\":\"white\",\"ticks\":\"\",\"title\":{\"standoff\":15},\"zerolinecolor\":\"white\",\"zerolinewidth\":2}}},\"title\":{\"font\":{\"color\":\"#4D5663\"}},\"xaxis\":{\"gridcolor\":\"#E1E5ED\",\"showgrid\":true,\"tickfont\":{\"color\":\"#4D5663\"},\"title\":{\"font\":{\"color\":\"#4D5663\"},\"text\":\"\"},\"zerolinecolor\":\"#E1E5ED\"},\"yaxis\":{\"gridcolor\":\"#E1E5ED\",\"showgrid\":true,\"tickfont\":{\"color\":\"#4D5663\"},\"title\":{\"font\":{\"color\":\"#4D5663\"},\"text\":\"\"},\"zerolinecolor\":\"#E1E5ED\"}},                        {\"showLink\": true, \"linkText\": \"Export to plot.ly\", \"plotlyServerURL\": \"https://plot.ly\", \"responsive\": true}                    ).then(function(){\n",
       "                            \n",
       "var gd = document.getElementById('ea4ef2e9-6028-4090-95a0-f5f65129b46b');\n",
       "var x = new MutationObserver(function (mutations, observer) {{\n",
       "        var display = window.getComputedStyle(gd).display;\n",
       "        if (!display || display === 'none') {{\n",
       "            console.log([gd, 'removed!']);\n",
       "            Plotly.purge(gd);\n",
       "            observer.disconnect();\n",
       "        }}\n",
       "}});\n",
       "\n",
       "// Listen for the removal of the full notebook cells\n",
       "var notebookContainer = gd.closest('#notebook-container');\n",
       "if (notebookContainer) {{\n",
       "    x.observe(notebookContainer, {childList: true});\n",
       "}}\n",
       "\n",
       "// Listen for the clearing of the current output cell\n",
       "var outputEl = gd.closest('.output');\n",
       "if (outputEl) {{\n",
       "    x.observe(outputEl, {childList: true});\n",
       "}}\n",
       "\n",
       "                        })                };                });            </script>        </div>"
      ]
     },
     "metadata": {},
     "output_type": "display_data"
    }
   ],
   "source": [
    "df['A'].iplot(kind='hist',bins=25)"
   ]
  },
  {
   "cell_type": "code",
   "execution_count": 17,
   "metadata": {
    "collapsed": false
   },
   "outputs": [
    {
     "data": {
      "application/vnd.plotly.v1+json": {
       "config": {
        "linkText": "Export to plot.ly",
        "plotlyServerURL": "https://plot.ly",
        "showLink": true
       },
       "data": [
        {
         "marker": {
          "color": [
           "rgb(255, 153, 51)",
           "rgb(55, 128, 191)",
           "rgb(50, 171, 96)",
           "rgb(128, 0, 128)",
           "rgb(219, 64, 82)",
           "rgb(0, 128, 128)",
           "rgb(255, 255, 51)",
           "rgb(128, 128, 0)",
           "rgb(251, 128, 114)",
           "rgb(128, 177, 211)"
          ],
          "line": {
           "width": 1.3
          },
          "size": [
           49,
           21,
           34,
           111,
           55,
           97,
           27,
           76,
           19,
           24,
           59,
           33,
           38,
           60,
           87,
           53,
           79,
           60,
           33,
           39,
           49,
           105,
           81,
           36,
           22,
           48,
           53,
           59,
           69,
           70,
           59,
           67,
           112,
           79,
           55,
           66,
           65,
           32,
           23,
           73,
           45,
           67,
           34,
           82,
           66,
           58,
           83,
           41,
           58,
           49,
           25,
           47,
           31,
           58,
           93,
           64,
           92,
           91,
           73,
           57,
           87,
           47,
           16,
           64,
           62,
           49,
           38,
           59,
           55,
           74,
           50,
           25,
           12,
           80,
           87,
           67,
           66,
           100,
           35,
           53,
           27,
           39,
           74,
           85,
           43,
           74,
           47,
           92,
           87,
           60,
           26,
           53,
           47,
           49,
           21,
           22,
           103,
           68,
           18,
           47
          ],
          "symbol": "circle"
         },
         "mode": "markers",
         "text": "",
         "type": "scatter",
         "x": [
          -1.23367774458424,
          0.7354606535590142,
          0.18297916358793126,
          0.4997206964909568,
          -0.4164376791113165,
          0.7725868189495974,
          -0.3190709225596303,
          -0.34509557310354055,
          0.17571314182171857,
          1.2832496432359026,
          -0.6701622872223576,
          0.1726151343541529,
          -0.5371486714244423,
          0.14866247108121355,
          -1.1134174896360065,
          0.9181426264528164,
          0.2916545629339712,
          -1.5327750870756958,
          -1.4981000212493611,
          -0.6778356750220685,
          1.735421358474536,
          -0.6843482671654342,
          -2.3903111255154244,
          -0.19203745335697894,
          -0.7727337242600216,
          0.4851640083650962,
          -0.03687388157122996,
          -0.28013428904290666,
          0.13278542161376505,
          0.3119355241632733,
          1.5559893421845665,
          -0.14961659575442454,
          -0.6254401403525508,
          0.14409253691847518,
          -0.17776408261353757,
          -1.506867556747576,
          -0.9417607912397659,
          1.8817932769503896,
          -0.09791659724689179,
          2.341697749668085,
          -1.0463068519188832,
          0.7667785456655989,
          0.3744052165922298,
          -0.11600890719464242,
          1.3157688037328155,
          -0.47044669371950476,
          0.5387585482327067,
          0.7425985029443694,
          0.9624955022877838,
          -0.2984520913272161,
          -0.2183144798873457,
          0.9022682433066121,
          1.155171384106318,
          -0.4639222451394979,
          1.9799373349193057,
          -0.9709105566083415,
          0.4266930092556539,
          0.7982776980272756,
          -0.788330192220676,
          2.214154651931596,
          0.8517386094525903,
          0.7307109968115925,
          0.7635729782447669,
          0.10645212322818463,
          0.36019364897067474,
          0.9746982639638698,
          -0.5556653065216498,
          0.17462254664205748,
          -1.8419332782616773,
          -1.985223300131962,
          0.7467115259440948,
          2.2401539237310297,
          -0.8646309336109702,
          0.03176867873429596,
          1.0856986000536937,
          0.5765714008077054,
          1.8425945746859302,
          -0.5982346749068658,
          1.281876291366642,
          -1.4856750066733857,
          -0.40617642583972385,
          1.227860895027526,
          -0.1516154355428637,
          -0.19119937484773103,
          1.6412982490327952,
          -0.16593239072305466,
          -1.2920286182886802,
          -0.8691861682544956,
          -1.850680027577851,
          2.257954454887254,
          2.6285325515955864,
          -0.0684629034273146,
          1.7513799068573954,
          -0.46705614107678833,
          -0.10754645646971306,
          0.3550472312638334,
          -0.030799279632314668,
          0.48260371806705854,
          0.6037213493070618,
          1.2001353535703647
         ],
         "y": [
          1.6136967679655434,
          -1.7743454628646287,
          -0.7203287172843124,
          -0.6117954031487445,
          -0.5009445747690496,
          -0.24161844138377042,
          -0.08872694595508866,
          0.9414124362805255,
          -1.3156998667030655,
          -1.4071666051435512,
          0.5936163122545488,
          -1.4425960457191493,
          0.8871373825005632,
          0.7934761210859214,
          1.6388025932684638,
          -0.11005133315602779,
          -0.10825386825750678,
          0.0025098233379851074,
          0.2872930674671653,
          -0.6648284861864668,
          -0.15297087907323706,
          -0.22340340462924857,
          -1.046194162796279,
          -0.6992987713385544,
          -1.428382051025518,
          2.2717657882437416,
          -0.2991219216134819,
          0.8036729570996414,
          0.07473183143488986,
          0.03629793496927448,
          0.7282501907601823,
          -0.468992428764272,
          1.1354729217609987,
          -0.17500536226349744,
          -0.8823112338592987,
          -1.0267863666982082,
          0.22929164557760115,
          0.08166986290003601,
          -0.4330250214952117,
          -1.4768571379632707,
          -0.03836514380320835,
          0.5605916358916565,
          0.3208280805065191,
          -0.30636035654476584,
          -0.5856938781868646,
          -0.9413963300297031,
          -1.8328437051415842,
          0.3633607192627451,
          0.014613820067525655,
          -2.0581325295536987,
          -0.5814716694456769,
          -0.645961870134278,
          -0.9509169358479385,
          -0.5364320563027563,
          -0.09927241848365108,
          1.1677610430726344,
          0.3140389325576045,
          2.2953591028356666,
          -0.811016454177509,
          -1.0738306708614167,
          -0.5448157712114431,
          1.0117744371276478,
          0.4037143519820321,
          -0.07573006893551563,
          0.20146794629997267,
          -0.3682498559607633,
          -1.051561812832864,
          0.9742748100847685,
          -1.8840815140861575,
          -1.163604661761712,
          0.2695935706119995,
          -0.2153451906084906,
          -0.4643422556942716,
          -0.03181141759971215,
          1.601791961152759,
          -1.263754355144204,
          -0.4277428623143499,
          0.3758165557541959,
          0.466825436020422,
          0.12952785501322436,
          -1.1010703462267066,
          -1.2236492596008608,
          0.01927986704213586,
          -0.6869701717286061,
          -0.6547097891615642,
          -0.2396485802567933,
          -0.05472819079502166,
          -2.6898646855476485,
          -1.2873936728903954,
          0.6240206318014331,
          1.249178232250976,
          0.4185312567426191,
          -1.4588386970350944,
          -0.19460072611954962,
          0.509326925798342,
          0.1338898266727817,
          -1.2748281912315276,
          -1.3360835573105292,
          -0.2282333872994752,
          1.0511136019093947
         ]
        }
       ],
       "layout": {
        "legend": {
         "bgcolor": "#F5F6F9",
         "font": {
          "color": "#4D5663"
         }
        },
        "paper_bgcolor": "#F5F6F9",
        "plot_bgcolor": "#F5F6F9",
        "template": {
         "data": {
          "bar": [
           {
            "error_x": {
             "color": "#2a3f5f"
            },
            "error_y": {
             "color": "#2a3f5f"
            },
            "marker": {
             "line": {
              "color": "#E5ECF6",
              "width": 0.5
             },
             "pattern": {
              "fillmode": "overlay",
              "size": 10,
              "solidity": 0.2
             }
            },
            "type": "bar"
           }
          ],
          "barpolar": [
           {
            "marker": {
             "line": {
              "color": "#E5ECF6",
              "width": 0.5
             },
             "pattern": {
              "fillmode": "overlay",
              "size": 10,
              "solidity": 0.2
             }
            },
            "type": "barpolar"
           }
          ],
          "carpet": [
           {
            "aaxis": {
             "endlinecolor": "#2a3f5f",
             "gridcolor": "white",
             "linecolor": "white",
             "minorgridcolor": "white",
             "startlinecolor": "#2a3f5f"
            },
            "baxis": {
             "endlinecolor": "#2a3f5f",
             "gridcolor": "white",
             "linecolor": "white",
             "minorgridcolor": "white",
             "startlinecolor": "#2a3f5f"
            },
            "type": "carpet"
           }
          ],
          "choropleth": [
           {
            "colorbar": {
             "outlinewidth": 0,
             "ticks": ""
            },
            "type": "choropleth"
           }
          ],
          "contour": [
           {
            "colorbar": {
             "outlinewidth": 0,
             "ticks": ""
            },
            "colorscale": [
             [
              0,
              "#0d0887"
             ],
             [
              0.1111111111111111,
              "#46039f"
             ],
             [
              0.2222222222222222,
              "#7201a8"
             ],
             [
              0.3333333333333333,
              "#9c179e"
             ],
             [
              0.4444444444444444,
              "#bd3786"
             ],
             [
              0.5555555555555556,
              "#d8576b"
             ],
             [
              0.6666666666666666,
              "#ed7953"
             ],
             [
              0.7777777777777778,
              "#fb9f3a"
             ],
             [
              0.8888888888888888,
              "#fdca26"
             ],
             [
              1,
              "#f0f921"
             ]
            ],
            "type": "contour"
           }
          ],
          "contourcarpet": [
           {
            "colorbar": {
             "outlinewidth": 0,
             "ticks": ""
            },
            "type": "contourcarpet"
           }
          ],
          "heatmap": [
           {
            "colorbar": {
             "outlinewidth": 0,
             "ticks": ""
            },
            "colorscale": [
             [
              0,
              "#0d0887"
             ],
             [
              0.1111111111111111,
              "#46039f"
             ],
             [
              0.2222222222222222,
              "#7201a8"
             ],
             [
              0.3333333333333333,
              "#9c179e"
             ],
             [
              0.4444444444444444,
              "#bd3786"
             ],
             [
              0.5555555555555556,
              "#d8576b"
             ],
             [
              0.6666666666666666,
              "#ed7953"
             ],
             [
              0.7777777777777778,
              "#fb9f3a"
             ],
             [
              0.8888888888888888,
              "#fdca26"
             ],
             [
              1,
              "#f0f921"
             ]
            ],
            "type": "heatmap"
           }
          ],
          "heatmapgl": [
           {
            "colorbar": {
             "outlinewidth": 0,
             "ticks": ""
            },
            "colorscale": [
             [
              0,
              "#0d0887"
             ],
             [
              0.1111111111111111,
              "#46039f"
             ],
             [
              0.2222222222222222,
              "#7201a8"
             ],
             [
              0.3333333333333333,
              "#9c179e"
             ],
             [
              0.4444444444444444,
              "#bd3786"
             ],
             [
              0.5555555555555556,
              "#d8576b"
             ],
             [
              0.6666666666666666,
              "#ed7953"
             ],
             [
              0.7777777777777778,
              "#fb9f3a"
             ],
             [
              0.8888888888888888,
              "#fdca26"
             ],
             [
              1,
              "#f0f921"
             ]
            ],
            "type": "heatmapgl"
           }
          ],
          "histogram": [
           {
            "marker": {
             "pattern": {
              "fillmode": "overlay",
              "size": 10,
              "solidity": 0.2
             }
            },
            "type": "histogram"
           }
          ],
          "histogram2d": [
           {
            "colorbar": {
             "outlinewidth": 0,
             "ticks": ""
            },
            "colorscale": [
             [
              0,
              "#0d0887"
             ],
             [
              0.1111111111111111,
              "#46039f"
             ],
             [
              0.2222222222222222,
              "#7201a8"
             ],
             [
              0.3333333333333333,
              "#9c179e"
             ],
             [
              0.4444444444444444,
              "#bd3786"
             ],
             [
              0.5555555555555556,
              "#d8576b"
             ],
             [
              0.6666666666666666,
              "#ed7953"
             ],
             [
              0.7777777777777778,
              "#fb9f3a"
             ],
             [
              0.8888888888888888,
              "#fdca26"
             ],
             [
              1,
              "#f0f921"
             ]
            ],
            "type": "histogram2d"
           }
          ],
          "histogram2dcontour": [
           {
            "colorbar": {
             "outlinewidth": 0,
             "ticks": ""
            },
            "colorscale": [
             [
              0,
              "#0d0887"
             ],
             [
              0.1111111111111111,
              "#46039f"
             ],
             [
              0.2222222222222222,
              "#7201a8"
             ],
             [
              0.3333333333333333,
              "#9c179e"
             ],
             [
              0.4444444444444444,
              "#bd3786"
             ],
             [
              0.5555555555555556,
              "#d8576b"
             ],
             [
              0.6666666666666666,
              "#ed7953"
             ],
             [
              0.7777777777777778,
              "#fb9f3a"
             ],
             [
              0.8888888888888888,
              "#fdca26"
             ],
             [
              1,
              "#f0f921"
             ]
            ],
            "type": "histogram2dcontour"
           }
          ],
          "mesh3d": [
           {
            "colorbar": {
             "outlinewidth": 0,
             "ticks": ""
            },
            "type": "mesh3d"
           }
          ],
          "parcoords": [
           {
            "line": {
             "colorbar": {
              "outlinewidth": 0,
              "ticks": ""
             }
            },
            "type": "parcoords"
           }
          ],
          "pie": [
           {
            "automargin": true,
            "type": "pie"
           }
          ],
          "scatter": [
           {
            "fillpattern": {
             "fillmode": "overlay",
             "size": 10,
             "solidity": 0.2
            },
            "type": "scatter"
           }
          ],
          "scatter3d": [
           {
            "line": {
             "colorbar": {
              "outlinewidth": 0,
              "ticks": ""
             }
            },
            "marker": {
             "colorbar": {
              "outlinewidth": 0,
              "ticks": ""
             }
            },
            "type": "scatter3d"
           }
          ],
          "scattercarpet": [
           {
            "marker": {
             "colorbar": {
              "outlinewidth": 0,
              "ticks": ""
             }
            },
            "type": "scattercarpet"
           }
          ],
          "scattergeo": [
           {
            "marker": {
             "colorbar": {
              "outlinewidth": 0,
              "ticks": ""
             }
            },
            "type": "scattergeo"
           }
          ],
          "scattergl": [
           {
            "marker": {
             "colorbar": {
              "outlinewidth": 0,
              "ticks": ""
             }
            },
            "type": "scattergl"
           }
          ],
          "scattermapbox": [
           {
            "marker": {
             "colorbar": {
              "outlinewidth": 0,
              "ticks": ""
             }
            },
            "type": "scattermapbox"
           }
          ],
          "scatterpolar": [
           {
            "marker": {
             "colorbar": {
              "outlinewidth": 0,
              "ticks": ""
             }
            },
            "type": "scatterpolar"
           }
          ],
          "scatterpolargl": [
           {
            "marker": {
             "colorbar": {
              "outlinewidth": 0,
              "ticks": ""
             }
            },
            "type": "scatterpolargl"
           }
          ],
          "scatterternary": [
           {
            "marker": {
             "colorbar": {
              "outlinewidth": 0,
              "ticks": ""
             }
            },
            "type": "scatterternary"
           }
          ],
          "surface": [
           {
            "colorbar": {
             "outlinewidth": 0,
             "ticks": ""
            },
            "colorscale": [
             [
              0,
              "#0d0887"
             ],
             [
              0.1111111111111111,
              "#46039f"
             ],
             [
              0.2222222222222222,
              "#7201a8"
             ],
             [
              0.3333333333333333,
              "#9c179e"
             ],
             [
              0.4444444444444444,
              "#bd3786"
             ],
             [
              0.5555555555555556,
              "#d8576b"
             ],
             [
              0.6666666666666666,
              "#ed7953"
             ],
             [
              0.7777777777777778,
              "#fb9f3a"
             ],
             [
              0.8888888888888888,
              "#fdca26"
             ],
             [
              1,
              "#f0f921"
             ]
            ],
            "type": "surface"
           }
          ],
          "table": [
           {
            "cells": {
             "fill": {
              "color": "#EBF0F8"
             },
             "line": {
              "color": "white"
             }
            },
            "header": {
             "fill": {
              "color": "#C8D4E3"
             },
             "line": {
              "color": "white"
             }
            },
            "type": "table"
           }
          ]
         },
         "layout": {
          "annotationdefaults": {
           "arrowcolor": "#2a3f5f",
           "arrowhead": 0,
           "arrowwidth": 1
          },
          "autotypenumbers": "strict",
          "coloraxis": {
           "colorbar": {
            "outlinewidth": 0,
            "ticks": ""
           }
          },
          "colorscale": {
           "diverging": [
            [
             0,
             "#8e0152"
            ],
            [
             0.1,
             "#c51b7d"
            ],
            [
             0.2,
             "#de77ae"
            ],
            [
             0.3,
             "#f1b6da"
            ],
            [
             0.4,
             "#fde0ef"
            ],
            [
             0.5,
             "#f7f7f7"
            ],
            [
             0.6,
             "#e6f5d0"
            ],
            [
             0.7,
             "#b8e186"
            ],
            [
             0.8,
             "#7fbc41"
            ],
            [
             0.9,
             "#4d9221"
            ],
            [
             1,
             "#276419"
            ]
           ],
           "sequential": [
            [
             0,
             "#0d0887"
            ],
            [
             0.1111111111111111,
             "#46039f"
            ],
            [
             0.2222222222222222,
             "#7201a8"
            ],
            [
             0.3333333333333333,
             "#9c179e"
            ],
            [
             0.4444444444444444,
             "#bd3786"
            ],
            [
             0.5555555555555556,
             "#d8576b"
            ],
            [
             0.6666666666666666,
             "#ed7953"
            ],
            [
             0.7777777777777778,
             "#fb9f3a"
            ],
            [
             0.8888888888888888,
             "#fdca26"
            ],
            [
             1,
             "#f0f921"
            ]
           ],
           "sequentialminus": [
            [
             0,
             "#0d0887"
            ],
            [
             0.1111111111111111,
             "#46039f"
            ],
            [
             0.2222222222222222,
             "#7201a8"
            ],
            [
             0.3333333333333333,
             "#9c179e"
            ],
            [
             0.4444444444444444,
             "#bd3786"
            ],
            [
             0.5555555555555556,
             "#d8576b"
            ],
            [
             0.6666666666666666,
             "#ed7953"
            ],
            [
             0.7777777777777778,
             "#fb9f3a"
            ],
            [
             0.8888888888888888,
             "#fdca26"
            ],
            [
             1,
             "#f0f921"
            ]
           ]
          },
          "colorway": [
           "#636efa",
           "#EF553B",
           "#00cc96",
           "#ab63fa",
           "#FFA15A",
           "#19d3f3",
           "#FF6692",
           "#B6E880",
           "#FF97FF",
           "#FECB52"
          ],
          "font": {
           "color": "#2a3f5f"
          },
          "geo": {
           "bgcolor": "white",
           "lakecolor": "white",
           "landcolor": "#E5ECF6",
           "showlakes": true,
           "showland": true,
           "subunitcolor": "white"
          },
          "hoverlabel": {
           "align": "left"
          },
          "hovermode": "closest",
          "mapbox": {
           "style": "light"
          },
          "paper_bgcolor": "white",
          "plot_bgcolor": "#E5ECF6",
          "polar": {
           "angularaxis": {
            "gridcolor": "white",
            "linecolor": "white",
            "ticks": ""
           },
           "bgcolor": "#E5ECF6",
           "radialaxis": {
            "gridcolor": "white",
            "linecolor": "white",
            "ticks": ""
           }
          },
          "scene": {
           "xaxis": {
            "backgroundcolor": "#E5ECF6",
            "gridcolor": "white",
            "gridwidth": 2,
            "linecolor": "white",
            "showbackground": true,
            "ticks": "",
            "zerolinecolor": "white"
           },
           "yaxis": {
            "backgroundcolor": "#E5ECF6",
            "gridcolor": "white",
            "gridwidth": 2,
            "linecolor": "white",
            "showbackground": true,
            "ticks": "",
            "zerolinecolor": "white"
           },
           "zaxis": {
            "backgroundcolor": "#E5ECF6",
            "gridcolor": "white",
            "gridwidth": 2,
            "linecolor": "white",
            "showbackground": true,
            "ticks": "",
            "zerolinecolor": "white"
           }
          },
          "shapedefaults": {
           "line": {
            "color": "#2a3f5f"
           }
          },
          "ternary": {
           "aaxis": {
            "gridcolor": "white",
            "linecolor": "white",
            "ticks": ""
           },
           "baxis": {
            "gridcolor": "white",
            "linecolor": "white",
            "ticks": ""
           },
           "bgcolor": "#E5ECF6",
           "caxis": {
            "gridcolor": "white",
            "linecolor": "white",
            "ticks": ""
           }
          },
          "title": {
           "x": 0.05
          },
          "xaxis": {
           "automargin": true,
           "gridcolor": "white",
           "linecolor": "white",
           "ticks": "",
           "title": {
            "standoff": 15
           },
           "zerolinecolor": "white",
           "zerolinewidth": 2
          },
          "yaxis": {
           "automargin": true,
           "gridcolor": "white",
           "linecolor": "white",
           "ticks": "",
           "title": {
            "standoff": 15
           },
           "zerolinecolor": "white",
           "zerolinewidth": 2
          }
         }
        },
        "title": {
         "font": {
          "color": "#4D5663"
         }
        },
        "xaxis": {
         "gridcolor": "#E1E5ED",
         "showgrid": true,
         "tickfont": {
          "color": "#4D5663"
         },
         "title": {
          "font": {
           "color": "#4D5663"
          },
          "text": ""
         },
         "zerolinecolor": "#E1E5ED"
        },
        "yaxis": {
         "gridcolor": "#E1E5ED",
         "showgrid": true,
         "tickfont": {
          "color": "#4D5663"
         },
         "title": {
          "font": {
           "color": "#4D5663"
          },
          "text": ""
         },
         "zerolinecolor": "#E1E5ED"
        }
       }
      },
      "text/html": [
       "<div>                            <div id=\"52a25f85-a355-4bc2-beb5-89a8caae98d3\" class=\"plotly-graph-div\" style=\"height:525px; width:100%;\"></div>            <script type=\"text/javascript\">                require([\"plotly\"], function(Plotly) {                    window.PLOTLYENV=window.PLOTLYENV || {};\n",
       "                    window.PLOTLYENV.BASE_URL='https://plot.ly';                                    if (document.getElementById(\"52a25f85-a355-4bc2-beb5-89a8caae98d3\")) {                    Plotly.newPlot(                        \"52a25f85-a355-4bc2-beb5-89a8caae98d3\",                        [{\"marker\":{\"color\":[\"rgb(255, 153, 51)\",\"rgb(55, 128, 191)\",\"rgb(50, 171, 96)\",\"rgb(128, 0, 128)\",\"rgb(219, 64, 82)\",\"rgb(0, 128, 128)\",\"rgb(255, 255, 51)\",\"rgb(128, 128, 0)\",\"rgb(251, 128, 114)\",\"rgb(128, 177, 211)\"],\"line\":{\"width\":1.3},\"size\":[49,21,34,111,55,97,27,76,19,24,59,33,38,60,87,53,79,60,33,39,49,105,81,36,22,48,53,59,69,70,59,67,112,79,55,66,65,32,23,73,45,67,34,82,66,58,83,41,58,49,25,47,31,58,93,64,92,91,73,57,87,47,16,64,62,49,38,59,55,74,50,25,12,80,87,67,66,100,35,53,27,39,74,85,43,74,47,92,87,60,26,53,47,49,21,22,103,68,18,47],\"symbol\":\"circle\"},\"mode\":\"markers\",\"text\":\"\",\"x\":[-1.23367774458424,0.7354606535590142,0.18297916358793126,0.4997206964909568,-0.4164376791113165,0.7725868189495974,-0.3190709225596303,-0.34509557310354055,0.17571314182171857,1.2832496432359026,-0.6701622872223576,0.1726151343541529,-0.5371486714244423,0.14866247108121355,-1.1134174896360065,0.9181426264528164,0.2916545629339712,-1.5327750870756958,-1.4981000212493611,-0.6778356750220685,1.735421358474536,-0.6843482671654342,-2.3903111255154244,-0.19203745335697894,-0.7727337242600216,0.4851640083650962,-0.03687388157122996,-0.28013428904290666,0.13278542161376505,0.3119355241632733,1.5559893421845665,-0.14961659575442454,-0.6254401403525508,0.14409253691847518,-0.17776408261353757,-1.506867556747576,-0.9417607912397659,1.8817932769503896,-0.09791659724689179,2.341697749668085,-1.0463068519188832,0.7667785456655989,0.3744052165922298,-0.11600890719464242,1.3157688037328155,-0.47044669371950476,0.5387585482327067,0.7425985029443694,0.9624955022877838,-0.2984520913272161,-0.2183144798873457,0.9022682433066121,1.155171384106318,-0.4639222451394979,1.9799373349193057,-0.9709105566083415,0.4266930092556539,0.7982776980272756,-0.788330192220676,2.214154651931596,0.8517386094525903,0.7307109968115925,0.7635729782447669,0.10645212322818463,0.36019364897067474,0.9746982639638698,-0.5556653065216498,0.17462254664205748,-1.8419332782616773,-1.985223300131962,0.7467115259440948,2.2401539237310297,-0.8646309336109702,0.03176867873429596,1.0856986000536937,0.5765714008077054,1.8425945746859302,-0.5982346749068658,1.281876291366642,-1.4856750066733857,-0.40617642583972385,1.227860895027526,-0.1516154355428637,-0.19119937484773103,1.6412982490327952,-0.16593239072305466,-1.2920286182886802,-0.8691861682544956,-1.850680027577851,2.257954454887254,2.6285325515955864,-0.0684629034273146,1.7513799068573954,-0.46705614107678833,-0.10754645646971306,0.3550472312638334,-0.030799279632314668,0.48260371806705854,0.6037213493070618,1.2001353535703647],\"y\":[1.6136967679655434,-1.7743454628646287,-0.7203287172843124,-0.6117954031487445,-0.5009445747690496,-0.24161844138377042,-0.08872694595508866,0.9414124362805255,-1.3156998667030655,-1.4071666051435512,0.5936163122545488,-1.4425960457191493,0.8871373825005632,0.7934761210859214,1.6388025932684638,-0.11005133315602779,-0.10825386825750678,0.0025098233379851074,0.2872930674671653,-0.6648284861864668,-0.15297087907323706,-0.22340340462924857,-1.046194162796279,-0.6992987713385544,-1.428382051025518,2.2717657882437416,-0.2991219216134819,0.8036729570996414,0.07473183143488986,0.03629793496927448,0.7282501907601823,-0.468992428764272,1.1354729217609987,-0.17500536226349744,-0.8823112338592987,-1.0267863666982082,0.22929164557760115,0.08166986290003601,-0.4330250214952117,-1.4768571379632707,-0.03836514380320835,0.5605916358916565,0.3208280805065191,-0.30636035654476584,-0.5856938781868646,-0.9413963300297031,-1.8328437051415842,0.3633607192627451,0.014613820067525655,-2.0581325295536987,-0.5814716694456769,-0.645961870134278,-0.9509169358479385,-0.5364320563027563,-0.09927241848365108,1.1677610430726344,0.3140389325576045,2.2953591028356666,-0.811016454177509,-1.0738306708614167,-0.5448157712114431,1.0117744371276478,0.4037143519820321,-0.07573006893551563,0.20146794629997267,-0.3682498559607633,-1.051561812832864,0.9742748100847685,-1.8840815140861575,-1.163604661761712,0.2695935706119995,-0.2153451906084906,-0.4643422556942716,-0.03181141759971215,1.601791961152759,-1.263754355144204,-0.4277428623143499,0.3758165557541959,0.466825436020422,0.12952785501322436,-1.1010703462267066,-1.2236492596008608,0.01927986704213586,-0.6869701717286061,-0.6547097891615642,-0.2396485802567933,-0.05472819079502166,-2.6898646855476485,-1.2873936728903954,0.6240206318014331,1.249178232250976,0.4185312567426191,-1.4588386970350944,-0.19460072611954962,0.509326925798342,0.1338898266727817,-1.2748281912315276,-1.3360835573105292,-0.2282333872994752,1.0511136019093947],\"type\":\"scatter\"}],                        {\"legend\":{\"bgcolor\":\"#F5F6F9\",\"font\":{\"color\":\"#4D5663\"}},\"paper_bgcolor\":\"#F5F6F9\",\"plot_bgcolor\":\"#F5F6F9\",\"template\":{\"data\":{\"barpolar\":[{\"marker\":{\"line\":{\"color\":\"#E5ECF6\",\"width\":0.5},\"pattern\":{\"fillmode\":\"overlay\",\"size\":10,\"solidity\":0.2}},\"type\":\"barpolar\"}],\"bar\":[{\"error_x\":{\"color\":\"#2a3f5f\"},\"error_y\":{\"color\":\"#2a3f5f\"},\"marker\":{\"line\":{\"color\":\"#E5ECF6\",\"width\":0.5},\"pattern\":{\"fillmode\":\"overlay\",\"size\":10,\"solidity\":0.2}},\"type\":\"bar\"}],\"carpet\":[{\"aaxis\":{\"endlinecolor\":\"#2a3f5f\",\"gridcolor\":\"white\",\"linecolor\":\"white\",\"minorgridcolor\":\"white\",\"startlinecolor\":\"#2a3f5f\"},\"baxis\":{\"endlinecolor\":\"#2a3f5f\",\"gridcolor\":\"white\",\"linecolor\":\"white\",\"minorgridcolor\":\"white\",\"startlinecolor\":\"#2a3f5f\"},\"type\":\"carpet\"}],\"choropleth\":[{\"colorbar\":{\"outlinewidth\":0,\"ticks\":\"\"},\"type\":\"choropleth\"}],\"contourcarpet\":[{\"colorbar\":{\"outlinewidth\":0,\"ticks\":\"\"},\"type\":\"contourcarpet\"}],\"contour\":[{\"colorbar\":{\"outlinewidth\":0,\"ticks\":\"\"},\"colorscale\":[[0.0,\"#0d0887\"],[0.1111111111111111,\"#46039f\"],[0.2222222222222222,\"#7201a8\"],[0.3333333333333333,\"#9c179e\"],[0.4444444444444444,\"#bd3786\"],[0.5555555555555556,\"#d8576b\"],[0.6666666666666666,\"#ed7953\"],[0.7777777777777778,\"#fb9f3a\"],[0.8888888888888888,\"#fdca26\"],[1.0,\"#f0f921\"]],\"type\":\"contour\"}],\"heatmapgl\":[{\"colorbar\":{\"outlinewidth\":0,\"ticks\":\"\"},\"colorscale\":[[0.0,\"#0d0887\"],[0.1111111111111111,\"#46039f\"],[0.2222222222222222,\"#7201a8\"],[0.3333333333333333,\"#9c179e\"],[0.4444444444444444,\"#bd3786\"],[0.5555555555555556,\"#d8576b\"],[0.6666666666666666,\"#ed7953\"],[0.7777777777777778,\"#fb9f3a\"],[0.8888888888888888,\"#fdca26\"],[1.0,\"#f0f921\"]],\"type\":\"heatmapgl\"}],\"heatmap\":[{\"colorbar\":{\"outlinewidth\":0,\"ticks\":\"\"},\"colorscale\":[[0.0,\"#0d0887\"],[0.1111111111111111,\"#46039f\"],[0.2222222222222222,\"#7201a8\"],[0.3333333333333333,\"#9c179e\"],[0.4444444444444444,\"#bd3786\"],[0.5555555555555556,\"#d8576b\"],[0.6666666666666666,\"#ed7953\"],[0.7777777777777778,\"#fb9f3a\"],[0.8888888888888888,\"#fdca26\"],[1.0,\"#f0f921\"]],\"type\":\"heatmap\"}],\"histogram2dcontour\":[{\"colorbar\":{\"outlinewidth\":0,\"ticks\":\"\"},\"colorscale\":[[0.0,\"#0d0887\"],[0.1111111111111111,\"#46039f\"],[0.2222222222222222,\"#7201a8\"],[0.3333333333333333,\"#9c179e\"],[0.4444444444444444,\"#bd3786\"],[0.5555555555555556,\"#d8576b\"],[0.6666666666666666,\"#ed7953\"],[0.7777777777777778,\"#fb9f3a\"],[0.8888888888888888,\"#fdca26\"],[1.0,\"#f0f921\"]],\"type\":\"histogram2dcontour\"}],\"histogram2d\":[{\"colorbar\":{\"outlinewidth\":0,\"ticks\":\"\"},\"colorscale\":[[0.0,\"#0d0887\"],[0.1111111111111111,\"#46039f\"],[0.2222222222222222,\"#7201a8\"],[0.3333333333333333,\"#9c179e\"],[0.4444444444444444,\"#bd3786\"],[0.5555555555555556,\"#d8576b\"],[0.6666666666666666,\"#ed7953\"],[0.7777777777777778,\"#fb9f3a\"],[0.8888888888888888,\"#fdca26\"],[1.0,\"#f0f921\"]],\"type\":\"histogram2d\"}],\"histogram\":[{\"marker\":{\"pattern\":{\"fillmode\":\"overlay\",\"size\":10,\"solidity\":0.2}},\"type\":\"histogram\"}],\"mesh3d\":[{\"colorbar\":{\"outlinewidth\":0,\"ticks\":\"\"},\"type\":\"mesh3d\"}],\"parcoords\":[{\"line\":{\"colorbar\":{\"outlinewidth\":0,\"ticks\":\"\"}},\"type\":\"parcoords\"}],\"pie\":[{\"automargin\":true,\"type\":\"pie\"}],\"scatter3d\":[{\"line\":{\"colorbar\":{\"outlinewidth\":0,\"ticks\":\"\"}},\"marker\":{\"colorbar\":{\"outlinewidth\":0,\"ticks\":\"\"}},\"type\":\"scatter3d\"}],\"scattercarpet\":[{\"marker\":{\"colorbar\":{\"outlinewidth\":0,\"ticks\":\"\"}},\"type\":\"scattercarpet\"}],\"scattergeo\":[{\"marker\":{\"colorbar\":{\"outlinewidth\":0,\"ticks\":\"\"}},\"type\":\"scattergeo\"}],\"scattergl\":[{\"marker\":{\"colorbar\":{\"outlinewidth\":0,\"ticks\":\"\"}},\"type\":\"scattergl\"}],\"scattermapbox\":[{\"marker\":{\"colorbar\":{\"outlinewidth\":0,\"ticks\":\"\"}},\"type\":\"scattermapbox\"}],\"scatterpolargl\":[{\"marker\":{\"colorbar\":{\"outlinewidth\":0,\"ticks\":\"\"}},\"type\":\"scatterpolargl\"}],\"scatterpolar\":[{\"marker\":{\"colorbar\":{\"outlinewidth\":0,\"ticks\":\"\"}},\"type\":\"scatterpolar\"}],\"scatter\":[{\"fillpattern\":{\"fillmode\":\"overlay\",\"size\":10,\"solidity\":0.2},\"type\":\"scatter\"}],\"scatterternary\":[{\"marker\":{\"colorbar\":{\"outlinewidth\":0,\"ticks\":\"\"}},\"type\":\"scatterternary\"}],\"surface\":[{\"colorbar\":{\"outlinewidth\":0,\"ticks\":\"\"},\"colorscale\":[[0.0,\"#0d0887\"],[0.1111111111111111,\"#46039f\"],[0.2222222222222222,\"#7201a8\"],[0.3333333333333333,\"#9c179e\"],[0.4444444444444444,\"#bd3786\"],[0.5555555555555556,\"#d8576b\"],[0.6666666666666666,\"#ed7953\"],[0.7777777777777778,\"#fb9f3a\"],[0.8888888888888888,\"#fdca26\"],[1.0,\"#f0f921\"]],\"type\":\"surface\"}],\"table\":[{\"cells\":{\"fill\":{\"color\":\"#EBF0F8\"},\"line\":{\"color\":\"white\"}},\"header\":{\"fill\":{\"color\":\"#C8D4E3\"},\"line\":{\"color\":\"white\"}},\"type\":\"table\"}]},\"layout\":{\"annotationdefaults\":{\"arrowcolor\":\"#2a3f5f\",\"arrowhead\":0,\"arrowwidth\":1},\"autotypenumbers\":\"strict\",\"coloraxis\":{\"colorbar\":{\"outlinewidth\":0,\"ticks\":\"\"}},\"colorscale\":{\"diverging\":[[0,\"#8e0152\"],[0.1,\"#c51b7d\"],[0.2,\"#de77ae\"],[0.3,\"#f1b6da\"],[0.4,\"#fde0ef\"],[0.5,\"#f7f7f7\"],[0.6,\"#e6f5d0\"],[0.7,\"#b8e186\"],[0.8,\"#7fbc41\"],[0.9,\"#4d9221\"],[1,\"#276419\"]],\"sequential\":[[0.0,\"#0d0887\"],[0.1111111111111111,\"#46039f\"],[0.2222222222222222,\"#7201a8\"],[0.3333333333333333,\"#9c179e\"],[0.4444444444444444,\"#bd3786\"],[0.5555555555555556,\"#d8576b\"],[0.6666666666666666,\"#ed7953\"],[0.7777777777777778,\"#fb9f3a\"],[0.8888888888888888,\"#fdca26\"],[1.0,\"#f0f921\"]],\"sequentialminus\":[[0.0,\"#0d0887\"],[0.1111111111111111,\"#46039f\"],[0.2222222222222222,\"#7201a8\"],[0.3333333333333333,\"#9c179e\"],[0.4444444444444444,\"#bd3786\"],[0.5555555555555556,\"#d8576b\"],[0.6666666666666666,\"#ed7953\"],[0.7777777777777778,\"#fb9f3a\"],[0.8888888888888888,\"#fdca26\"],[1.0,\"#f0f921\"]]},\"colorway\":[\"#636efa\",\"#EF553B\",\"#00cc96\",\"#ab63fa\",\"#FFA15A\",\"#19d3f3\",\"#FF6692\",\"#B6E880\",\"#FF97FF\",\"#FECB52\"],\"font\":{\"color\":\"#2a3f5f\"},\"geo\":{\"bgcolor\":\"white\",\"lakecolor\":\"white\",\"landcolor\":\"#E5ECF6\",\"showlakes\":true,\"showland\":true,\"subunitcolor\":\"white\"},\"hoverlabel\":{\"align\":\"left\"},\"hovermode\":\"closest\",\"mapbox\":{\"style\":\"light\"},\"paper_bgcolor\":\"white\",\"plot_bgcolor\":\"#E5ECF6\",\"polar\":{\"angularaxis\":{\"gridcolor\":\"white\",\"linecolor\":\"white\",\"ticks\":\"\"},\"bgcolor\":\"#E5ECF6\",\"radialaxis\":{\"gridcolor\":\"white\",\"linecolor\":\"white\",\"ticks\":\"\"}},\"scene\":{\"xaxis\":{\"backgroundcolor\":\"#E5ECF6\",\"gridcolor\":\"white\",\"gridwidth\":2,\"linecolor\":\"white\",\"showbackground\":true,\"ticks\":\"\",\"zerolinecolor\":\"white\"},\"yaxis\":{\"backgroundcolor\":\"#E5ECF6\",\"gridcolor\":\"white\",\"gridwidth\":2,\"linecolor\":\"white\",\"showbackground\":true,\"ticks\":\"\",\"zerolinecolor\":\"white\"},\"zaxis\":{\"backgroundcolor\":\"#E5ECF6\",\"gridcolor\":\"white\",\"gridwidth\":2,\"linecolor\":\"white\",\"showbackground\":true,\"ticks\":\"\",\"zerolinecolor\":\"white\"}},\"shapedefaults\":{\"line\":{\"color\":\"#2a3f5f\"}},\"ternary\":{\"aaxis\":{\"gridcolor\":\"white\",\"linecolor\":\"white\",\"ticks\":\"\"},\"baxis\":{\"gridcolor\":\"white\",\"linecolor\":\"white\",\"ticks\":\"\"},\"bgcolor\":\"#E5ECF6\",\"caxis\":{\"gridcolor\":\"white\",\"linecolor\":\"white\",\"ticks\":\"\"}},\"title\":{\"x\":0.05},\"xaxis\":{\"automargin\":true,\"gridcolor\":\"white\",\"linecolor\":\"white\",\"ticks\":\"\",\"title\":{\"standoff\":15},\"zerolinecolor\":\"white\",\"zerolinewidth\":2},\"yaxis\":{\"automargin\":true,\"gridcolor\":\"white\",\"linecolor\":\"white\",\"ticks\":\"\",\"title\":{\"standoff\":15},\"zerolinecolor\":\"white\",\"zerolinewidth\":2}}},\"title\":{\"font\":{\"color\":\"#4D5663\"}},\"xaxis\":{\"gridcolor\":\"#E1E5ED\",\"showgrid\":true,\"tickfont\":{\"color\":\"#4D5663\"},\"title\":{\"font\":{\"color\":\"#4D5663\"},\"text\":\"\"},\"zerolinecolor\":\"#E1E5ED\"},\"yaxis\":{\"gridcolor\":\"#E1E5ED\",\"showgrid\":true,\"tickfont\":{\"color\":\"#4D5663\"},\"title\":{\"font\":{\"color\":\"#4D5663\"},\"text\":\"\"},\"zerolinecolor\":\"#E1E5ED\"}},                        {\"showLink\": true, \"linkText\": \"Export to plot.ly\", \"plotlyServerURL\": \"https://plot.ly\", \"responsive\": true}                    ).then(function(){\n",
       "                            \n",
       "var gd = document.getElementById('52a25f85-a355-4bc2-beb5-89a8caae98d3');\n",
       "var x = new MutationObserver(function (mutations, observer) {{\n",
       "        var display = window.getComputedStyle(gd).display;\n",
       "        if (!display || display === 'none') {{\n",
       "            console.log([gd, 'removed!']);\n",
       "            Plotly.purge(gd);\n",
       "            observer.disconnect();\n",
       "        }}\n",
       "}});\n",
       "\n",
       "// Listen for the removal of the full notebook cells\n",
       "var notebookContainer = gd.closest('#notebook-container');\n",
       "if (notebookContainer) {{\n",
       "    x.observe(notebookContainer, {childList: true});\n",
       "}}\n",
       "\n",
       "// Listen for the clearing of the current output cell\n",
       "var outputEl = gd.closest('.output');\n",
       "if (outputEl) {{\n",
       "    x.observe(outputEl, {childList: true});\n",
       "}}\n",
       "\n",
       "                        })                };                });            </script>        </div>"
      ]
     },
     "metadata": {},
     "output_type": "display_data"
    }
   ],
   "source": [
    "df.iplot(kind='bubble',x='A',y='B',size='C')"
   ]
  },
  {
   "attachments": {},
   "cell_type": "markdown",
   "metadata": {},
   "source": [
    "## scatter_matrix()\n",
    "\n",
    "Similar to sns.pairplot()"
   ]
  },
  {
   "cell_type": "code",
   "execution_count": 18,
   "metadata": {
    "collapsed": false
   },
   "outputs": [
    {
     "data": {
      "application/vnd.plotly.v1+json": {
       "config": {
        "linkText": "Export to plot.ly",
        "plotlyServerURL": "https://plot.ly",
        "showLink": true
       },
       "data": [
        {
         "histfunc": "count",
         "histnorm": "",
         "marker": {
          "color": "rgba(255, 153, 51, 1.0)",
          "line": {
           "color": "#4D5663",
           "width": 1.3
          }
         },
         "name": "A",
         "nbinsx": 10,
         "opacity": 0.8,
         "orientation": "v",
         "type": "histogram",
         "x": [
          -1.23367774458424,
          0.7354606535590142,
          0.18297916358793126,
          0.4997206964909568,
          -0.4164376791113165,
          0.7725868189495974,
          -0.3190709225596303,
          -0.34509557310354055,
          0.17571314182171857,
          1.2832496432359026,
          -0.6701622872223576,
          0.1726151343541529,
          -0.5371486714244423,
          0.14866247108121355,
          -1.1134174896360065,
          0.9181426264528164,
          0.2916545629339712,
          -1.5327750870756958,
          -1.4981000212493611,
          -0.6778356750220685,
          1.735421358474536,
          -0.6843482671654342,
          -2.3903111255154244,
          -0.19203745335697894,
          -0.7727337242600216,
          0.4851640083650962,
          -0.03687388157122996,
          -0.28013428904290666,
          0.13278542161376505,
          0.3119355241632733,
          1.5559893421845665,
          -0.14961659575442454,
          -0.6254401403525508,
          0.14409253691847518,
          -0.17776408261353757,
          -1.506867556747576,
          -0.9417607912397659,
          1.8817932769503896,
          -0.09791659724689179,
          2.341697749668085,
          -1.0463068519188832,
          0.7667785456655989,
          0.3744052165922298,
          -0.11600890719464242,
          1.3157688037328155,
          -0.47044669371950476,
          0.5387585482327067,
          0.7425985029443694,
          0.9624955022877838,
          -0.2984520913272161,
          -0.2183144798873457,
          0.9022682433066121,
          1.155171384106318,
          -0.4639222451394979,
          1.9799373349193057,
          -0.9709105566083415,
          0.4266930092556539,
          0.7982776980272756,
          -0.788330192220676,
          2.214154651931596,
          0.8517386094525903,
          0.7307109968115925,
          0.7635729782447669,
          0.10645212322818463,
          0.36019364897067474,
          0.9746982639638698,
          -0.5556653065216498,
          0.17462254664205748,
          -1.8419332782616773,
          -1.985223300131962,
          0.7467115259440948,
          2.2401539237310297,
          -0.8646309336109702,
          0.03176867873429596,
          1.0856986000536937,
          0.5765714008077054,
          1.8425945746859302,
          -0.5982346749068658,
          1.281876291366642,
          -1.4856750066733857,
          -0.40617642583972385,
          1.227860895027526,
          -0.1516154355428637,
          -0.19119937484773103,
          1.6412982490327952,
          -0.16593239072305466,
          -1.2920286182886802,
          -0.8691861682544956,
          -1.850680027577851,
          2.257954454887254,
          2.6285325515955864,
          -0.0684629034273146,
          1.7513799068573954,
          -0.46705614107678833,
          -0.10754645646971306,
          0.3550472312638334,
          -0.030799279632314668,
          0.48260371806705854,
          0.6037213493070618,
          1.2001353535703647
         ],
         "xaxis": "x",
         "yaxis": "y"
        },
        {
         "line": {
          "color": "rgba(128, 128, 128, 1.0)",
          "dash": "solid",
          "shape": "linear",
          "width": 1.3
         },
         "marker": {
          "size": 2,
          "symbol": "circle"
         },
         "mode": "markers",
         "name": "A",
         "text": "",
         "type": "scatter",
         "x": [
          1.6136967679655434,
          -1.7743454628646287,
          -0.7203287172843124,
          -0.6117954031487445,
          -0.5009445747690496,
          -0.24161844138377042,
          -0.08872694595508866,
          0.9414124362805255,
          -1.3156998667030655,
          -1.4071666051435512,
          0.5936163122545488,
          -1.4425960457191493,
          0.8871373825005632,
          0.7934761210859214,
          1.6388025932684638,
          -0.11005133315602779,
          -0.10825386825750678,
          0.0025098233379851074,
          0.2872930674671653,
          -0.6648284861864668,
          -0.15297087907323706,
          -0.22340340462924857,
          -1.046194162796279,
          -0.6992987713385544,
          -1.428382051025518,
          2.2717657882437416,
          -0.2991219216134819,
          0.8036729570996414,
          0.07473183143488986,
          0.03629793496927448,
          0.7282501907601823,
          -0.468992428764272,
          1.1354729217609987,
          -0.17500536226349744,
          -0.8823112338592987,
          -1.0267863666982082,
          0.22929164557760115,
          0.08166986290003601,
          -0.4330250214952117,
          -1.4768571379632707,
          -0.03836514380320835,
          0.5605916358916565,
          0.3208280805065191,
          -0.30636035654476584,
          -0.5856938781868646,
          -0.9413963300297031,
          -1.8328437051415842,
          0.3633607192627451,
          0.014613820067525655,
          -2.0581325295536987,
          -0.5814716694456769,
          -0.645961870134278,
          -0.9509169358479385,
          -0.5364320563027563,
          -0.09927241848365108,
          1.1677610430726344,
          0.3140389325576045,
          2.2953591028356666,
          -0.811016454177509,
          -1.0738306708614167,
          -0.5448157712114431,
          1.0117744371276478,
          0.4037143519820321,
          -0.07573006893551563,
          0.20146794629997267,
          -0.3682498559607633,
          -1.051561812832864,
          0.9742748100847685,
          -1.8840815140861575,
          -1.163604661761712,
          0.2695935706119995,
          -0.2153451906084906,
          -0.4643422556942716,
          -0.03181141759971215,
          1.601791961152759,
          -1.263754355144204,
          -0.4277428623143499,
          0.3758165557541959,
          0.466825436020422,
          0.12952785501322436,
          -1.1010703462267066,
          -1.2236492596008608,
          0.01927986704213586,
          -0.6869701717286061,
          -0.6547097891615642,
          -0.2396485802567933,
          -0.05472819079502166,
          -2.6898646855476485,
          -1.2873936728903954,
          0.6240206318014331,
          1.249178232250976,
          0.4185312567426191,
          -1.4588386970350944,
          -0.19460072611954962,
          0.509326925798342,
          0.1338898266727817,
          -1.2748281912315276,
          -1.3360835573105292,
          -0.2282333872994752,
          1.0511136019093947
         ],
         "xaxis": "x2",
         "y": [
          -1.23367774458424,
          0.7354606535590142,
          0.18297916358793126,
          0.4997206964909568,
          -0.4164376791113165,
          0.7725868189495974,
          -0.3190709225596303,
          -0.34509557310354055,
          0.17571314182171857,
          1.2832496432359026,
          -0.6701622872223576,
          0.1726151343541529,
          -0.5371486714244423,
          0.14866247108121355,
          -1.1134174896360065,
          0.9181426264528164,
          0.2916545629339712,
          -1.5327750870756958,
          -1.4981000212493611,
          -0.6778356750220685,
          1.735421358474536,
          -0.6843482671654342,
          -2.3903111255154244,
          -0.19203745335697894,
          -0.7727337242600216,
          0.4851640083650962,
          -0.03687388157122996,
          -0.28013428904290666,
          0.13278542161376505,
          0.3119355241632733,
          1.5559893421845665,
          -0.14961659575442454,
          -0.6254401403525508,
          0.14409253691847518,
          -0.17776408261353757,
          -1.506867556747576,
          -0.9417607912397659,
          1.8817932769503896,
          -0.09791659724689179,
          2.341697749668085,
          -1.0463068519188832,
          0.7667785456655989,
          0.3744052165922298,
          -0.11600890719464242,
          1.3157688037328155,
          -0.47044669371950476,
          0.5387585482327067,
          0.7425985029443694,
          0.9624955022877838,
          -0.2984520913272161,
          -0.2183144798873457,
          0.9022682433066121,
          1.155171384106318,
          -0.4639222451394979,
          1.9799373349193057,
          -0.9709105566083415,
          0.4266930092556539,
          0.7982776980272756,
          -0.788330192220676,
          2.214154651931596,
          0.8517386094525903,
          0.7307109968115925,
          0.7635729782447669,
          0.10645212322818463,
          0.36019364897067474,
          0.9746982639638698,
          -0.5556653065216498,
          0.17462254664205748,
          -1.8419332782616773,
          -1.985223300131962,
          0.7467115259440948,
          2.2401539237310297,
          -0.8646309336109702,
          0.03176867873429596,
          1.0856986000536937,
          0.5765714008077054,
          1.8425945746859302,
          -0.5982346749068658,
          1.281876291366642,
          -1.4856750066733857,
          -0.40617642583972385,
          1.227860895027526,
          -0.1516154355428637,
          -0.19119937484773103,
          1.6412982490327952,
          -0.16593239072305466,
          -1.2920286182886802,
          -0.8691861682544956,
          -1.850680027577851,
          2.257954454887254,
          2.6285325515955864,
          -0.0684629034273146,
          1.7513799068573954,
          -0.46705614107678833,
          -0.10754645646971306,
          0.3550472312638334,
          -0.030799279632314668,
          0.48260371806705854,
          0.6037213493070618,
          1.2001353535703647
         ],
         "yaxis": "y2"
        },
        {
         "line": {
          "color": "rgba(128, 128, 128, 1.0)",
          "dash": "solid",
          "shape": "linear",
          "width": 1.3
         },
         "marker": {
          "size": 2,
          "symbol": "circle"
         },
         "mode": "markers",
         "name": "A",
         "text": "",
         "type": "scatter",
         "x": [
          -0.34370852148833775,
          -1.6037070888676004,
          -1.0117519586533903,
          2.3520700857796037,
          -0.07800786087730324,
          1.7477028399367123,
          -1.3134636218504039,
          0.834917922822358,
          -1.6879711424176278,
          -1.4631717164175138,
          0.06260354179374829,
          -1.058293815930557,
          -0.8547977131737582,
          0.12040414862863882,
          1.320848958790828,
          -0.1663789255787278,
          0.956055668413484,
          0.13652661175792463,
          -1.0486821992527868,
          -0.8123151430828478,
          -0.3603782295493598,
          2.0800555742838696,
          1.0279573944752483,
          -0.9285579023018954,
          -1.5249896100398639,
          -0.42251603931199544,
          -0.17278746245657228,
          0.09971652959597924,
          0.5245379305962313,
          0.5758482550732602,
          0.08999784454025511,
          0.4246620759988931,
          2.385590884310923,
          0.9435396158109014,
          -0.10350349061134614,
          0.37869652762416994,
          0.3506595888281066,
          -1.1023064841618144,
          -1.515163438097079,
          0.7018189655599872,
          -0.5472974960629561,
          0.45086640912233394,
          -1.0323496052416319,
          1.0781607798625312,
          0.40589874379108193,
          0.04796820422522915,
          1.1483656721206774,
          -0.7254572801758798,
          0.03615515285397519,
          -0.3629751313234159,
          -1.4103474431164458,
          -0.444878978022152,
          -1.1567563260758529,
          0.05392222192325666,
          1.5723888163918553,
          0.3168075874475406,
          1.5084826520533836,
          1.5033058696550723,
          0.7140032131679233,
          -0.013307389720520662,
          1.303203326685032,
          -0.46656882533908856,
          -1.787337883505314,
          0.289923762209665,
          0.20032842830256625,
          -0.36130641876922126,
          -0.8394345059986312,
          0.09568776491921355,
          -0.1009539924355601,
          0.7409983668257607,
          -0.31442540937426433,
          -1.3967235868497487,
          -2.002851615229901,
          0.9813604252326612,
          1.2940876771427605,
          0.45236708325259406,
          0.39819579938627014,
          1.9013035021034381,
          -0.979183794087184,
          -0.19388177386612115,
          -1.3065320126945617,
          -0.8102323344833,
          0.7274599286254197,
          1.2253763472748123,
          -0.6328830446589793,
          0.7267424776293127,
          -0.4303729667109366,
          1.5517488795556174,
          1.2946292755127904,
          0.13838587736783844,
          -1.3493619397165506,
          -0.17864844790246678,
          -0.4549657696654094,
          -0.3651793980414446,
          -1.5837668607694977,
          -1.538225241820272,
          1.9919583756213672,
          0.4634375459475504,
          -1.7056423601701083,
          -0.4557409185352117
         ],
         "xaxis": "x3",
         "y": [
          -1.23367774458424,
          0.7354606535590142,
          0.18297916358793126,
          0.4997206964909568,
          -0.4164376791113165,
          0.7725868189495974,
          -0.3190709225596303,
          -0.34509557310354055,
          0.17571314182171857,
          1.2832496432359026,
          -0.6701622872223576,
          0.1726151343541529,
          -0.5371486714244423,
          0.14866247108121355,
          -1.1134174896360065,
          0.9181426264528164,
          0.2916545629339712,
          -1.5327750870756958,
          -1.4981000212493611,
          -0.6778356750220685,
          1.735421358474536,
          -0.6843482671654342,
          -2.3903111255154244,
          -0.19203745335697894,
          -0.7727337242600216,
          0.4851640083650962,
          -0.03687388157122996,
          -0.28013428904290666,
          0.13278542161376505,
          0.3119355241632733,
          1.5559893421845665,
          -0.14961659575442454,
          -0.6254401403525508,
          0.14409253691847518,
          -0.17776408261353757,
          -1.506867556747576,
          -0.9417607912397659,
          1.8817932769503896,
          -0.09791659724689179,
          2.341697749668085,
          -1.0463068519188832,
          0.7667785456655989,
          0.3744052165922298,
          -0.11600890719464242,
          1.3157688037328155,
          -0.47044669371950476,
          0.5387585482327067,
          0.7425985029443694,
          0.9624955022877838,
          -0.2984520913272161,
          -0.2183144798873457,
          0.9022682433066121,
          1.155171384106318,
          -0.4639222451394979,
          1.9799373349193057,
          -0.9709105566083415,
          0.4266930092556539,
          0.7982776980272756,
          -0.788330192220676,
          2.214154651931596,
          0.8517386094525903,
          0.7307109968115925,
          0.7635729782447669,
          0.10645212322818463,
          0.36019364897067474,
          0.9746982639638698,
          -0.5556653065216498,
          0.17462254664205748,
          -1.8419332782616773,
          -1.985223300131962,
          0.7467115259440948,
          2.2401539237310297,
          -0.8646309336109702,
          0.03176867873429596,
          1.0856986000536937,
          0.5765714008077054,
          1.8425945746859302,
          -0.5982346749068658,
          1.281876291366642,
          -1.4856750066733857,
          -0.40617642583972385,
          1.227860895027526,
          -0.1516154355428637,
          -0.19119937484773103,
          1.6412982490327952,
          -0.16593239072305466,
          -1.2920286182886802,
          -0.8691861682544956,
          -1.850680027577851,
          2.257954454887254,
          2.6285325515955864,
          -0.0684629034273146,
          1.7513799068573954,
          -0.46705614107678833,
          -0.10754645646971306,
          0.3550472312638334,
          -0.030799279632314668,
          0.48260371806705854,
          0.6037213493070618,
          1.2001353535703647
         ],
         "yaxis": "y3"
        },
        {
         "line": {
          "color": "rgba(128, 128, 128, 1.0)",
          "dash": "solid",
          "shape": "linear",
          "width": 1.3
         },
         "marker": {
          "size": 2,
          "symbol": "circle"
         },
         "mode": "markers",
         "name": "A",
         "text": "",
         "type": "scatter",
         "x": [
          -0.4525155307585302,
          -1.1847407611918483,
          -0.6793716908468681,
          -0.7663491194820993,
          -2.1037826400325375,
          0.451631524283149,
          0.7093347084577076,
          -0.13353638840608778,
          1.5205988799445087,
          1.5278493845638228,
          -0.3846171086426508,
          -0.8674568537134518,
          1.299356130748103,
          -1.8673558194780966,
          1.206392511699628,
          -0.6298690687332809,
          1.4121137273867659,
          -0.9932980773519611,
          -0.08511403258554953,
          -0.03917959783296583,
          1.0177798325126055,
          -0.9142575587934604,
          0.08487968683490116,
          0.8140429903383063,
          0.2027994074813393,
          -2.2457237748949614,
          0.797675681069284,
          -1.4347227334780444,
          -0.8023559564700763,
          0.8173008634313658,
          -2.6143267010803655,
          0.010099944429897412,
          1.1448990833802974,
          -0.13294317369698727,
          -1.4447427598147196,
          -0.18236573682642726,
          -0.1371302988288747,
          1.7452156674678587,
          0.9557468926091326,
          1.6999482466830902,
          1.0844698760459346,
          -0.9687820018821905,
          -0.2898370304894389,
          -0.3808640586901712,
          2.466496023407135,
          -0.8597502401088455,
          -1.0550011235261636,
          1.13639270921484,
          1.9627931527711124,
          -0.015462480200274966,
          -0.696353258591921,
          -0.6215499023794203,
          -0.640185573946483,
          -0.28345710445611444,
          -1.448223204467605,
          -1.2568378934927584,
          -0.6129093957117677,
          1.2866974325236984,
          2.723007327425759,
          -1.7488581469360764,
          -0.7906453832274789,
          -0.2708486716777824,
          0.5725303392874214,
          1.5594650781817387,
          0.396780769224614,
          0.4131818712532956,
          -0.2782569433258647,
          -0.09888653436213217,
          0.17228875184139641,
          0.08463458982687724,
          0.5857287900509336,
          0.8365703340936173,
          -0.6538583301479146,
          -1.358360897596932,
          -0.5919410242500869,
          0.5368324263433479,
          -2.143818654993575,
          0.22425849005050116,
          -1.2945576486575732,
          -1.6252838191970418,
          -0.6111592374974577,
          2.3629129341321335,
          -0.8704263650104284,
          -1.0239197809652285,
          1.3596960473221344,
          0.2753242239499126,
          -1.3090562555703824,
          0.46155247720388887,
          1.1543044188659888,
          0.15057621415812555,
          -2.102842980891349,
          -0.28836526127846385,
          1.367076393792901,
          -0.8683588779318776,
          0.10089130202092392,
          -0.2623850238247419,
          -0.5243677250921439,
          -1.0854310368659164,
          -0.1519881281047457,
          -0.16858694649079947
         ],
         "xaxis": "x4",
         "y": [
          -1.23367774458424,
          0.7354606535590142,
          0.18297916358793126,
          0.4997206964909568,
          -0.4164376791113165,
          0.7725868189495974,
          -0.3190709225596303,
          -0.34509557310354055,
          0.17571314182171857,
          1.2832496432359026,
          -0.6701622872223576,
          0.1726151343541529,
          -0.5371486714244423,
          0.14866247108121355,
          -1.1134174896360065,
          0.9181426264528164,
          0.2916545629339712,
          -1.5327750870756958,
          -1.4981000212493611,
          -0.6778356750220685,
          1.735421358474536,
          -0.6843482671654342,
          -2.3903111255154244,
          -0.19203745335697894,
          -0.7727337242600216,
          0.4851640083650962,
          -0.03687388157122996,
          -0.28013428904290666,
          0.13278542161376505,
          0.3119355241632733,
          1.5559893421845665,
          -0.14961659575442454,
          -0.6254401403525508,
          0.14409253691847518,
          -0.17776408261353757,
          -1.506867556747576,
          -0.9417607912397659,
          1.8817932769503896,
          -0.09791659724689179,
          2.341697749668085,
          -1.0463068519188832,
          0.7667785456655989,
          0.3744052165922298,
          -0.11600890719464242,
          1.3157688037328155,
          -0.47044669371950476,
          0.5387585482327067,
          0.7425985029443694,
          0.9624955022877838,
          -0.2984520913272161,
          -0.2183144798873457,
          0.9022682433066121,
          1.155171384106318,
          -0.4639222451394979,
          1.9799373349193057,
          -0.9709105566083415,
          0.4266930092556539,
          0.7982776980272756,
          -0.788330192220676,
          2.214154651931596,
          0.8517386094525903,
          0.7307109968115925,
          0.7635729782447669,
          0.10645212322818463,
          0.36019364897067474,
          0.9746982639638698,
          -0.5556653065216498,
          0.17462254664205748,
          -1.8419332782616773,
          -1.985223300131962,
          0.7467115259440948,
          2.2401539237310297,
          -0.8646309336109702,
          0.03176867873429596,
          1.0856986000536937,
          0.5765714008077054,
          1.8425945746859302,
          -0.5982346749068658,
          1.281876291366642,
          -1.4856750066733857,
          -0.40617642583972385,
          1.227860895027526,
          -0.1516154355428637,
          -0.19119937484773103,
          1.6412982490327952,
          -0.16593239072305466,
          -1.2920286182886802,
          -0.8691861682544956,
          -1.850680027577851,
          2.257954454887254,
          2.6285325515955864,
          -0.0684629034273146,
          1.7513799068573954,
          -0.46705614107678833,
          -0.10754645646971306,
          0.3550472312638334,
          -0.030799279632314668,
          0.48260371806705854,
          0.6037213493070618,
          1.2001353535703647
         ],
         "yaxis": "y4"
        },
        {
         "line": {
          "color": "rgba(128, 128, 128, 1.0)",
          "dash": "solid",
          "shape": "linear",
          "width": 1.3
         },
         "marker": {
          "size": 2,
          "symbol": "circle"
         },
         "mode": "markers",
         "name": "B",
         "text": "",
         "type": "scatter",
         "x": [
          -1.23367774458424,
          0.7354606535590142,
          0.18297916358793126,
          0.4997206964909568,
          -0.4164376791113165,
          0.7725868189495974,
          -0.3190709225596303,
          -0.34509557310354055,
          0.17571314182171857,
          1.2832496432359026,
          -0.6701622872223576,
          0.1726151343541529,
          -0.5371486714244423,
          0.14866247108121355,
          -1.1134174896360065,
          0.9181426264528164,
          0.2916545629339712,
          -1.5327750870756958,
          -1.4981000212493611,
          -0.6778356750220685,
          1.735421358474536,
          -0.6843482671654342,
          -2.3903111255154244,
          -0.19203745335697894,
          -0.7727337242600216,
          0.4851640083650962,
          -0.03687388157122996,
          -0.28013428904290666,
          0.13278542161376505,
          0.3119355241632733,
          1.5559893421845665,
          -0.14961659575442454,
          -0.6254401403525508,
          0.14409253691847518,
          -0.17776408261353757,
          -1.506867556747576,
          -0.9417607912397659,
          1.8817932769503896,
          -0.09791659724689179,
          2.341697749668085,
          -1.0463068519188832,
          0.7667785456655989,
          0.3744052165922298,
          -0.11600890719464242,
          1.3157688037328155,
          -0.47044669371950476,
          0.5387585482327067,
          0.7425985029443694,
          0.9624955022877838,
          -0.2984520913272161,
          -0.2183144798873457,
          0.9022682433066121,
          1.155171384106318,
          -0.4639222451394979,
          1.9799373349193057,
          -0.9709105566083415,
          0.4266930092556539,
          0.7982776980272756,
          -0.788330192220676,
          2.214154651931596,
          0.8517386094525903,
          0.7307109968115925,
          0.7635729782447669,
          0.10645212322818463,
          0.36019364897067474,
          0.9746982639638698,
          -0.5556653065216498,
          0.17462254664205748,
          -1.8419332782616773,
          -1.985223300131962,
          0.7467115259440948,
          2.2401539237310297,
          -0.8646309336109702,
          0.03176867873429596,
          1.0856986000536937,
          0.5765714008077054,
          1.8425945746859302,
          -0.5982346749068658,
          1.281876291366642,
          -1.4856750066733857,
          -0.40617642583972385,
          1.227860895027526,
          -0.1516154355428637,
          -0.19119937484773103,
          1.6412982490327952,
          -0.16593239072305466,
          -1.2920286182886802,
          -0.8691861682544956,
          -1.850680027577851,
          2.257954454887254,
          2.6285325515955864,
          -0.0684629034273146,
          1.7513799068573954,
          -0.46705614107678833,
          -0.10754645646971306,
          0.3550472312638334,
          -0.030799279632314668,
          0.48260371806705854,
          0.6037213493070618,
          1.2001353535703647
         ],
         "xaxis": "x5",
         "y": [
          1.6136967679655434,
          -1.7743454628646287,
          -0.7203287172843124,
          -0.6117954031487445,
          -0.5009445747690496,
          -0.24161844138377042,
          -0.08872694595508866,
          0.9414124362805255,
          -1.3156998667030655,
          -1.4071666051435512,
          0.5936163122545488,
          -1.4425960457191493,
          0.8871373825005632,
          0.7934761210859214,
          1.6388025932684638,
          -0.11005133315602779,
          -0.10825386825750678,
          0.0025098233379851074,
          0.2872930674671653,
          -0.6648284861864668,
          -0.15297087907323706,
          -0.22340340462924857,
          -1.046194162796279,
          -0.6992987713385544,
          -1.428382051025518,
          2.2717657882437416,
          -0.2991219216134819,
          0.8036729570996414,
          0.07473183143488986,
          0.03629793496927448,
          0.7282501907601823,
          -0.468992428764272,
          1.1354729217609987,
          -0.17500536226349744,
          -0.8823112338592987,
          -1.0267863666982082,
          0.22929164557760115,
          0.08166986290003601,
          -0.4330250214952117,
          -1.4768571379632707,
          -0.03836514380320835,
          0.5605916358916565,
          0.3208280805065191,
          -0.30636035654476584,
          -0.5856938781868646,
          -0.9413963300297031,
          -1.8328437051415842,
          0.3633607192627451,
          0.014613820067525655,
          -2.0581325295536987,
          -0.5814716694456769,
          -0.645961870134278,
          -0.9509169358479385,
          -0.5364320563027563,
          -0.09927241848365108,
          1.1677610430726344,
          0.3140389325576045,
          2.2953591028356666,
          -0.811016454177509,
          -1.0738306708614167,
          -0.5448157712114431,
          1.0117744371276478,
          0.4037143519820321,
          -0.07573006893551563,
          0.20146794629997267,
          -0.3682498559607633,
          -1.051561812832864,
          0.9742748100847685,
          -1.8840815140861575,
          -1.163604661761712,
          0.2695935706119995,
          -0.2153451906084906,
          -0.4643422556942716,
          -0.03181141759971215,
          1.601791961152759,
          -1.263754355144204,
          -0.4277428623143499,
          0.3758165557541959,
          0.466825436020422,
          0.12952785501322436,
          -1.1010703462267066,
          -1.2236492596008608,
          0.01927986704213586,
          -0.6869701717286061,
          -0.6547097891615642,
          -0.2396485802567933,
          -0.05472819079502166,
          -2.6898646855476485,
          -1.2873936728903954,
          0.6240206318014331,
          1.249178232250976,
          0.4185312567426191,
          -1.4588386970350944,
          -0.19460072611954962,
          0.509326925798342,
          0.1338898266727817,
          -1.2748281912315276,
          -1.3360835573105292,
          -0.2282333872994752,
          1.0511136019093947
         ],
         "yaxis": "y5"
        },
        {
         "histfunc": "count",
         "histnorm": "",
         "marker": {
          "color": "rgba(55, 128, 191, 1.0)",
          "line": {
           "color": "#4D5663",
           "width": 1.3
          }
         },
         "name": "B",
         "nbinsx": 10,
         "opacity": 0.8,
         "orientation": "v",
         "type": "histogram",
         "x": [
          1.6136967679655434,
          -1.7743454628646287,
          -0.7203287172843124,
          -0.6117954031487445,
          -0.5009445747690496,
          -0.24161844138377042,
          -0.08872694595508866,
          0.9414124362805255,
          -1.3156998667030655,
          -1.4071666051435512,
          0.5936163122545488,
          -1.4425960457191493,
          0.8871373825005632,
          0.7934761210859214,
          1.6388025932684638,
          -0.11005133315602779,
          -0.10825386825750678,
          0.0025098233379851074,
          0.2872930674671653,
          -0.6648284861864668,
          -0.15297087907323706,
          -0.22340340462924857,
          -1.046194162796279,
          -0.6992987713385544,
          -1.428382051025518,
          2.2717657882437416,
          -0.2991219216134819,
          0.8036729570996414,
          0.07473183143488986,
          0.03629793496927448,
          0.7282501907601823,
          -0.468992428764272,
          1.1354729217609987,
          -0.17500536226349744,
          -0.8823112338592987,
          -1.0267863666982082,
          0.22929164557760115,
          0.08166986290003601,
          -0.4330250214952117,
          -1.4768571379632707,
          -0.03836514380320835,
          0.5605916358916565,
          0.3208280805065191,
          -0.30636035654476584,
          -0.5856938781868646,
          -0.9413963300297031,
          -1.8328437051415842,
          0.3633607192627451,
          0.014613820067525655,
          -2.0581325295536987,
          -0.5814716694456769,
          -0.645961870134278,
          -0.9509169358479385,
          -0.5364320563027563,
          -0.09927241848365108,
          1.1677610430726344,
          0.3140389325576045,
          2.2953591028356666,
          -0.811016454177509,
          -1.0738306708614167,
          -0.5448157712114431,
          1.0117744371276478,
          0.4037143519820321,
          -0.07573006893551563,
          0.20146794629997267,
          -0.3682498559607633,
          -1.051561812832864,
          0.9742748100847685,
          -1.8840815140861575,
          -1.163604661761712,
          0.2695935706119995,
          -0.2153451906084906,
          -0.4643422556942716,
          -0.03181141759971215,
          1.601791961152759,
          -1.263754355144204,
          -0.4277428623143499,
          0.3758165557541959,
          0.466825436020422,
          0.12952785501322436,
          -1.1010703462267066,
          -1.2236492596008608,
          0.01927986704213586,
          -0.6869701717286061,
          -0.6547097891615642,
          -0.2396485802567933,
          -0.05472819079502166,
          -2.6898646855476485,
          -1.2873936728903954,
          0.6240206318014331,
          1.249178232250976,
          0.4185312567426191,
          -1.4588386970350944,
          -0.19460072611954962,
          0.509326925798342,
          0.1338898266727817,
          -1.2748281912315276,
          -1.3360835573105292,
          -0.2282333872994752,
          1.0511136019093947
         ],
         "xaxis": "x6",
         "yaxis": "y6"
        },
        {
         "line": {
          "color": "rgba(128, 128, 128, 1.0)",
          "dash": "solid",
          "shape": "linear",
          "width": 1.3
         },
         "marker": {
          "size": 2,
          "symbol": "circle"
         },
         "mode": "markers",
         "name": "B",
         "text": "",
         "type": "scatter",
         "x": [
          -0.34370852148833775,
          -1.6037070888676004,
          -1.0117519586533903,
          2.3520700857796037,
          -0.07800786087730324,
          1.7477028399367123,
          -1.3134636218504039,
          0.834917922822358,
          -1.6879711424176278,
          -1.4631717164175138,
          0.06260354179374829,
          -1.058293815930557,
          -0.8547977131737582,
          0.12040414862863882,
          1.320848958790828,
          -0.1663789255787278,
          0.956055668413484,
          0.13652661175792463,
          -1.0486821992527868,
          -0.8123151430828478,
          -0.3603782295493598,
          2.0800555742838696,
          1.0279573944752483,
          -0.9285579023018954,
          -1.5249896100398639,
          -0.42251603931199544,
          -0.17278746245657228,
          0.09971652959597924,
          0.5245379305962313,
          0.5758482550732602,
          0.08999784454025511,
          0.4246620759988931,
          2.385590884310923,
          0.9435396158109014,
          -0.10350349061134614,
          0.37869652762416994,
          0.3506595888281066,
          -1.1023064841618144,
          -1.515163438097079,
          0.7018189655599872,
          -0.5472974960629561,
          0.45086640912233394,
          -1.0323496052416319,
          1.0781607798625312,
          0.40589874379108193,
          0.04796820422522915,
          1.1483656721206774,
          -0.7254572801758798,
          0.03615515285397519,
          -0.3629751313234159,
          -1.4103474431164458,
          -0.444878978022152,
          -1.1567563260758529,
          0.05392222192325666,
          1.5723888163918553,
          0.3168075874475406,
          1.5084826520533836,
          1.5033058696550723,
          0.7140032131679233,
          -0.013307389720520662,
          1.303203326685032,
          -0.46656882533908856,
          -1.787337883505314,
          0.289923762209665,
          0.20032842830256625,
          -0.36130641876922126,
          -0.8394345059986312,
          0.09568776491921355,
          -0.1009539924355601,
          0.7409983668257607,
          -0.31442540937426433,
          -1.3967235868497487,
          -2.002851615229901,
          0.9813604252326612,
          1.2940876771427605,
          0.45236708325259406,
          0.39819579938627014,
          1.9013035021034381,
          -0.979183794087184,
          -0.19388177386612115,
          -1.3065320126945617,
          -0.8102323344833,
          0.7274599286254197,
          1.2253763472748123,
          -0.6328830446589793,
          0.7267424776293127,
          -0.4303729667109366,
          1.5517488795556174,
          1.2946292755127904,
          0.13838587736783844,
          -1.3493619397165506,
          -0.17864844790246678,
          -0.4549657696654094,
          -0.3651793980414446,
          -1.5837668607694977,
          -1.538225241820272,
          1.9919583756213672,
          0.4634375459475504,
          -1.7056423601701083,
          -0.4557409185352117
         ],
         "xaxis": "x7",
         "y": [
          1.6136967679655434,
          -1.7743454628646287,
          -0.7203287172843124,
          -0.6117954031487445,
          -0.5009445747690496,
          -0.24161844138377042,
          -0.08872694595508866,
          0.9414124362805255,
          -1.3156998667030655,
          -1.4071666051435512,
          0.5936163122545488,
          -1.4425960457191493,
          0.8871373825005632,
          0.7934761210859214,
          1.6388025932684638,
          -0.11005133315602779,
          -0.10825386825750678,
          0.0025098233379851074,
          0.2872930674671653,
          -0.6648284861864668,
          -0.15297087907323706,
          -0.22340340462924857,
          -1.046194162796279,
          -0.6992987713385544,
          -1.428382051025518,
          2.2717657882437416,
          -0.2991219216134819,
          0.8036729570996414,
          0.07473183143488986,
          0.03629793496927448,
          0.7282501907601823,
          -0.468992428764272,
          1.1354729217609987,
          -0.17500536226349744,
          -0.8823112338592987,
          -1.0267863666982082,
          0.22929164557760115,
          0.08166986290003601,
          -0.4330250214952117,
          -1.4768571379632707,
          -0.03836514380320835,
          0.5605916358916565,
          0.3208280805065191,
          -0.30636035654476584,
          -0.5856938781868646,
          -0.9413963300297031,
          -1.8328437051415842,
          0.3633607192627451,
          0.014613820067525655,
          -2.0581325295536987,
          -0.5814716694456769,
          -0.645961870134278,
          -0.9509169358479385,
          -0.5364320563027563,
          -0.09927241848365108,
          1.1677610430726344,
          0.3140389325576045,
          2.2953591028356666,
          -0.811016454177509,
          -1.0738306708614167,
          -0.5448157712114431,
          1.0117744371276478,
          0.4037143519820321,
          -0.07573006893551563,
          0.20146794629997267,
          -0.3682498559607633,
          -1.051561812832864,
          0.9742748100847685,
          -1.8840815140861575,
          -1.163604661761712,
          0.2695935706119995,
          -0.2153451906084906,
          -0.4643422556942716,
          -0.03181141759971215,
          1.601791961152759,
          -1.263754355144204,
          -0.4277428623143499,
          0.3758165557541959,
          0.466825436020422,
          0.12952785501322436,
          -1.1010703462267066,
          -1.2236492596008608,
          0.01927986704213586,
          -0.6869701717286061,
          -0.6547097891615642,
          -0.2396485802567933,
          -0.05472819079502166,
          -2.6898646855476485,
          -1.2873936728903954,
          0.6240206318014331,
          1.249178232250976,
          0.4185312567426191,
          -1.4588386970350944,
          -0.19460072611954962,
          0.509326925798342,
          0.1338898266727817,
          -1.2748281912315276,
          -1.3360835573105292,
          -0.2282333872994752,
          1.0511136019093947
         ],
         "yaxis": "y7"
        },
        {
         "line": {
          "color": "rgba(128, 128, 128, 1.0)",
          "dash": "solid",
          "shape": "linear",
          "width": 1.3
         },
         "marker": {
          "size": 2,
          "symbol": "circle"
         },
         "mode": "markers",
         "name": "B",
         "text": "",
         "type": "scatter",
         "x": [
          -0.4525155307585302,
          -1.1847407611918483,
          -0.6793716908468681,
          -0.7663491194820993,
          -2.1037826400325375,
          0.451631524283149,
          0.7093347084577076,
          -0.13353638840608778,
          1.5205988799445087,
          1.5278493845638228,
          -0.3846171086426508,
          -0.8674568537134518,
          1.299356130748103,
          -1.8673558194780966,
          1.206392511699628,
          -0.6298690687332809,
          1.4121137273867659,
          -0.9932980773519611,
          -0.08511403258554953,
          -0.03917959783296583,
          1.0177798325126055,
          -0.9142575587934604,
          0.08487968683490116,
          0.8140429903383063,
          0.2027994074813393,
          -2.2457237748949614,
          0.797675681069284,
          -1.4347227334780444,
          -0.8023559564700763,
          0.8173008634313658,
          -2.6143267010803655,
          0.010099944429897412,
          1.1448990833802974,
          -0.13294317369698727,
          -1.4447427598147196,
          -0.18236573682642726,
          -0.1371302988288747,
          1.7452156674678587,
          0.9557468926091326,
          1.6999482466830902,
          1.0844698760459346,
          -0.9687820018821905,
          -0.2898370304894389,
          -0.3808640586901712,
          2.466496023407135,
          -0.8597502401088455,
          -1.0550011235261636,
          1.13639270921484,
          1.9627931527711124,
          -0.015462480200274966,
          -0.696353258591921,
          -0.6215499023794203,
          -0.640185573946483,
          -0.28345710445611444,
          -1.448223204467605,
          -1.2568378934927584,
          -0.6129093957117677,
          1.2866974325236984,
          2.723007327425759,
          -1.7488581469360764,
          -0.7906453832274789,
          -0.2708486716777824,
          0.5725303392874214,
          1.5594650781817387,
          0.396780769224614,
          0.4131818712532956,
          -0.2782569433258647,
          -0.09888653436213217,
          0.17228875184139641,
          0.08463458982687724,
          0.5857287900509336,
          0.8365703340936173,
          -0.6538583301479146,
          -1.358360897596932,
          -0.5919410242500869,
          0.5368324263433479,
          -2.143818654993575,
          0.22425849005050116,
          -1.2945576486575732,
          -1.6252838191970418,
          -0.6111592374974577,
          2.3629129341321335,
          -0.8704263650104284,
          -1.0239197809652285,
          1.3596960473221344,
          0.2753242239499126,
          -1.3090562555703824,
          0.46155247720388887,
          1.1543044188659888,
          0.15057621415812555,
          -2.102842980891349,
          -0.28836526127846385,
          1.367076393792901,
          -0.8683588779318776,
          0.10089130202092392,
          -0.2623850238247419,
          -0.5243677250921439,
          -1.0854310368659164,
          -0.1519881281047457,
          -0.16858694649079947
         ],
         "xaxis": "x8",
         "y": [
          1.6136967679655434,
          -1.7743454628646287,
          -0.7203287172843124,
          -0.6117954031487445,
          -0.5009445747690496,
          -0.24161844138377042,
          -0.08872694595508866,
          0.9414124362805255,
          -1.3156998667030655,
          -1.4071666051435512,
          0.5936163122545488,
          -1.4425960457191493,
          0.8871373825005632,
          0.7934761210859214,
          1.6388025932684638,
          -0.11005133315602779,
          -0.10825386825750678,
          0.0025098233379851074,
          0.2872930674671653,
          -0.6648284861864668,
          -0.15297087907323706,
          -0.22340340462924857,
          -1.046194162796279,
          -0.6992987713385544,
          -1.428382051025518,
          2.2717657882437416,
          -0.2991219216134819,
          0.8036729570996414,
          0.07473183143488986,
          0.03629793496927448,
          0.7282501907601823,
          -0.468992428764272,
          1.1354729217609987,
          -0.17500536226349744,
          -0.8823112338592987,
          -1.0267863666982082,
          0.22929164557760115,
          0.08166986290003601,
          -0.4330250214952117,
          -1.4768571379632707,
          -0.03836514380320835,
          0.5605916358916565,
          0.3208280805065191,
          -0.30636035654476584,
          -0.5856938781868646,
          -0.9413963300297031,
          -1.8328437051415842,
          0.3633607192627451,
          0.014613820067525655,
          -2.0581325295536987,
          -0.5814716694456769,
          -0.645961870134278,
          -0.9509169358479385,
          -0.5364320563027563,
          -0.09927241848365108,
          1.1677610430726344,
          0.3140389325576045,
          2.2953591028356666,
          -0.811016454177509,
          -1.0738306708614167,
          -0.5448157712114431,
          1.0117744371276478,
          0.4037143519820321,
          -0.07573006893551563,
          0.20146794629997267,
          -0.3682498559607633,
          -1.051561812832864,
          0.9742748100847685,
          -1.8840815140861575,
          -1.163604661761712,
          0.2695935706119995,
          -0.2153451906084906,
          -0.4643422556942716,
          -0.03181141759971215,
          1.601791961152759,
          -1.263754355144204,
          -0.4277428623143499,
          0.3758165557541959,
          0.466825436020422,
          0.12952785501322436,
          -1.1010703462267066,
          -1.2236492596008608,
          0.01927986704213586,
          -0.6869701717286061,
          -0.6547097891615642,
          -0.2396485802567933,
          -0.05472819079502166,
          -2.6898646855476485,
          -1.2873936728903954,
          0.6240206318014331,
          1.249178232250976,
          0.4185312567426191,
          -1.4588386970350944,
          -0.19460072611954962,
          0.509326925798342,
          0.1338898266727817,
          -1.2748281912315276,
          -1.3360835573105292,
          -0.2282333872994752,
          1.0511136019093947
         ],
         "yaxis": "y8"
        },
        {
         "line": {
          "color": "rgba(128, 128, 128, 1.0)",
          "dash": "solid",
          "shape": "linear",
          "width": 1.3
         },
         "marker": {
          "size": 2,
          "symbol": "circle"
         },
         "mode": "markers",
         "name": "C",
         "text": "",
         "type": "scatter",
         "x": [
          -1.23367774458424,
          0.7354606535590142,
          0.18297916358793126,
          0.4997206964909568,
          -0.4164376791113165,
          0.7725868189495974,
          -0.3190709225596303,
          -0.34509557310354055,
          0.17571314182171857,
          1.2832496432359026,
          -0.6701622872223576,
          0.1726151343541529,
          -0.5371486714244423,
          0.14866247108121355,
          -1.1134174896360065,
          0.9181426264528164,
          0.2916545629339712,
          -1.5327750870756958,
          -1.4981000212493611,
          -0.6778356750220685,
          1.735421358474536,
          -0.6843482671654342,
          -2.3903111255154244,
          -0.19203745335697894,
          -0.7727337242600216,
          0.4851640083650962,
          -0.03687388157122996,
          -0.28013428904290666,
          0.13278542161376505,
          0.3119355241632733,
          1.5559893421845665,
          -0.14961659575442454,
          -0.6254401403525508,
          0.14409253691847518,
          -0.17776408261353757,
          -1.506867556747576,
          -0.9417607912397659,
          1.8817932769503896,
          -0.09791659724689179,
          2.341697749668085,
          -1.0463068519188832,
          0.7667785456655989,
          0.3744052165922298,
          -0.11600890719464242,
          1.3157688037328155,
          -0.47044669371950476,
          0.5387585482327067,
          0.7425985029443694,
          0.9624955022877838,
          -0.2984520913272161,
          -0.2183144798873457,
          0.9022682433066121,
          1.155171384106318,
          -0.4639222451394979,
          1.9799373349193057,
          -0.9709105566083415,
          0.4266930092556539,
          0.7982776980272756,
          -0.788330192220676,
          2.214154651931596,
          0.8517386094525903,
          0.7307109968115925,
          0.7635729782447669,
          0.10645212322818463,
          0.36019364897067474,
          0.9746982639638698,
          -0.5556653065216498,
          0.17462254664205748,
          -1.8419332782616773,
          -1.985223300131962,
          0.7467115259440948,
          2.2401539237310297,
          -0.8646309336109702,
          0.03176867873429596,
          1.0856986000536937,
          0.5765714008077054,
          1.8425945746859302,
          -0.5982346749068658,
          1.281876291366642,
          -1.4856750066733857,
          -0.40617642583972385,
          1.227860895027526,
          -0.1516154355428637,
          -0.19119937484773103,
          1.6412982490327952,
          -0.16593239072305466,
          -1.2920286182886802,
          -0.8691861682544956,
          -1.850680027577851,
          2.257954454887254,
          2.6285325515955864,
          -0.0684629034273146,
          1.7513799068573954,
          -0.46705614107678833,
          -0.10754645646971306,
          0.3550472312638334,
          -0.030799279632314668,
          0.48260371806705854,
          0.6037213493070618,
          1.2001353535703647
         ],
         "xaxis": "x9",
         "y": [
          -0.34370852148833775,
          -1.6037070888676004,
          -1.0117519586533903,
          2.3520700857796037,
          -0.07800786087730324,
          1.7477028399367123,
          -1.3134636218504039,
          0.834917922822358,
          -1.6879711424176278,
          -1.4631717164175138,
          0.06260354179374829,
          -1.058293815930557,
          -0.8547977131737582,
          0.12040414862863882,
          1.320848958790828,
          -0.1663789255787278,
          0.956055668413484,
          0.13652661175792463,
          -1.0486821992527868,
          -0.8123151430828478,
          -0.3603782295493598,
          2.0800555742838696,
          1.0279573944752483,
          -0.9285579023018954,
          -1.5249896100398639,
          -0.42251603931199544,
          -0.17278746245657228,
          0.09971652959597924,
          0.5245379305962313,
          0.5758482550732602,
          0.08999784454025511,
          0.4246620759988931,
          2.385590884310923,
          0.9435396158109014,
          -0.10350349061134614,
          0.37869652762416994,
          0.3506595888281066,
          -1.1023064841618144,
          -1.515163438097079,
          0.7018189655599872,
          -0.5472974960629561,
          0.45086640912233394,
          -1.0323496052416319,
          1.0781607798625312,
          0.40589874379108193,
          0.04796820422522915,
          1.1483656721206774,
          -0.7254572801758798,
          0.03615515285397519,
          -0.3629751313234159,
          -1.4103474431164458,
          -0.444878978022152,
          -1.1567563260758529,
          0.05392222192325666,
          1.5723888163918553,
          0.3168075874475406,
          1.5084826520533836,
          1.5033058696550723,
          0.7140032131679233,
          -0.013307389720520662,
          1.303203326685032,
          -0.46656882533908856,
          -1.787337883505314,
          0.289923762209665,
          0.20032842830256625,
          -0.36130641876922126,
          -0.8394345059986312,
          0.09568776491921355,
          -0.1009539924355601,
          0.7409983668257607,
          -0.31442540937426433,
          -1.3967235868497487,
          -2.002851615229901,
          0.9813604252326612,
          1.2940876771427605,
          0.45236708325259406,
          0.39819579938627014,
          1.9013035021034381,
          -0.979183794087184,
          -0.19388177386612115,
          -1.3065320126945617,
          -0.8102323344833,
          0.7274599286254197,
          1.2253763472748123,
          -0.6328830446589793,
          0.7267424776293127,
          -0.4303729667109366,
          1.5517488795556174,
          1.2946292755127904,
          0.13838587736783844,
          -1.3493619397165506,
          -0.17864844790246678,
          -0.4549657696654094,
          -0.3651793980414446,
          -1.5837668607694977,
          -1.538225241820272,
          1.9919583756213672,
          0.4634375459475504,
          -1.7056423601701083,
          -0.4557409185352117
         ],
         "yaxis": "y9"
        },
        {
         "line": {
          "color": "rgba(128, 128, 128, 1.0)",
          "dash": "solid",
          "shape": "linear",
          "width": 1.3
         },
         "marker": {
          "size": 2,
          "symbol": "circle"
         },
         "mode": "markers",
         "name": "C",
         "text": "",
         "type": "scatter",
         "x": [
          1.6136967679655434,
          -1.7743454628646287,
          -0.7203287172843124,
          -0.6117954031487445,
          -0.5009445747690496,
          -0.24161844138377042,
          -0.08872694595508866,
          0.9414124362805255,
          -1.3156998667030655,
          -1.4071666051435512,
          0.5936163122545488,
          -1.4425960457191493,
          0.8871373825005632,
          0.7934761210859214,
          1.6388025932684638,
          -0.11005133315602779,
          -0.10825386825750678,
          0.0025098233379851074,
          0.2872930674671653,
          -0.6648284861864668,
          -0.15297087907323706,
          -0.22340340462924857,
          -1.046194162796279,
          -0.6992987713385544,
          -1.428382051025518,
          2.2717657882437416,
          -0.2991219216134819,
          0.8036729570996414,
          0.07473183143488986,
          0.03629793496927448,
          0.7282501907601823,
          -0.468992428764272,
          1.1354729217609987,
          -0.17500536226349744,
          -0.8823112338592987,
          -1.0267863666982082,
          0.22929164557760115,
          0.08166986290003601,
          -0.4330250214952117,
          -1.4768571379632707,
          -0.03836514380320835,
          0.5605916358916565,
          0.3208280805065191,
          -0.30636035654476584,
          -0.5856938781868646,
          -0.9413963300297031,
          -1.8328437051415842,
          0.3633607192627451,
          0.014613820067525655,
          -2.0581325295536987,
          -0.5814716694456769,
          -0.645961870134278,
          -0.9509169358479385,
          -0.5364320563027563,
          -0.09927241848365108,
          1.1677610430726344,
          0.3140389325576045,
          2.2953591028356666,
          -0.811016454177509,
          -1.0738306708614167,
          -0.5448157712114431,
          1.0117744371276478,
          0.4037143519820321,
          -0.07573006893551563,
          0.20146794629997267,
          -0.3682498559607633,
          -1.051561812832864,
          0.9742748100847685,
          -1.8840815140861575,
          -1.163604661761712,
          0.2695935706119995,
          -0.2153451906084906,
          -0.4643422556942716,
          -0.03181141759971215,
          1.601791961152759,
          -1.263754355144204,
          -0.4277428623143499,
          0.3758165557541959,
          0.466825436020422,
          0.12952785501322436,
          -1.1010703462267066,
          -1.2236492596008608,
          0.01927986704213586,
          -0.6869701717286061,
          -0.6547097891615642,
          -0.2396485802567933,
          -0.05472819079502166,
          -2.6898646855476485,
          -1.2873936728903954,
          0.6240206318014331,
          1.249178232250976,
          0.4185312567426191,
          -1.4588386970350944,
          -0.19460072611954962,
          0.509326925798342,
          0.1338898266727817,
          -1.2748281912315276,
          -1.3360835573105292,
          -0.2282333872994752,
          1.0511136019093947
         ],
         "xaxis": "x10",
         "y": [
          -0.34370852148833775,
          -1.6037070888676004,
          -1.0117519586533903,
          2.3520700857796037,
          -0.07800786087730324,
          1.7477028399367123,
          -1.3134636218504039,
          0.834917922822358,
          -1.6879711424176278,
          -1.4631717164175138,
          0.06260354179374829,
          -1.058293815930557,
          -0.8547977131737582,
          0.12040414862863882,
          1.320848958790828,
          -0.1663789255787278,
          0.956055668413484,
          0.13652661175792463,
          -1.0486821992527868,
          -0.8123151430828478,
          -0.3603782295493598,
          2.0800555742838696,
          1.0279573944752483,
          -0.9285579023018954,
          -1.5249896100398639,
          -0.42251603931199544,
          -0.17278746245657228,
          0.09971652959597924,
          0.5245379305962313,
          0.5758482550732602,
          0.08999784454025511,
          0.4246620759988931,
          2.385590884310923,
          0.9435396158109014,
          -0.10350349061134614,
          0.37869652762416994,
          0.3506595888281066,
          -1.1023064841618144,
          -1.515163438097079,
          0.7018189655599872,
          -0.5472974960629561,
          0.45086640912233394,
          -1.0323496052416319,
          1.0781607798625312,
          0.40589874379108193,
          0.04796820422522915,
          1.1483656721206774,
          -0.7254572801758798,
          0.03615515285397519,
          -0.3629751313234159,
          -1.4103474431164458,
          -0.444878978022152,
          -1.1567563260758529,
          0.05392222192325666,
          1.5723888163918553,
          0.3168075874475406,
          1.5084826520533836,
          1.5033058696550723,
          0.7140032131679233,
          -0.013307389720520662,
          1.303203326685032,
          -0.46656882533908856,
          -1.787337883505314,
          0.289923762209665,
          0.20032842830256625,
          -0.36130641876922126,
          -0.8394345059986312,
          0.09568776491921355,
          -0.1009539924355601,
          0.7409983668257607,
          -0.31442540937426433,
          -1.3967235868497487,
          -2.002851615229901,
          0.9813604252326612,
          1.2940876771427605,
          0.45236708325259406,
          0.39819579938627014,
          1.9013035021034381,
          -0.979183794087184,
          -0.19388177386612115,
          -1.3065320126945617,
          -0.8102323344833,
          0.7274599286254197,
          1.2253763472748123,
          -0.6328830446589793,
          0.7267424776293127,
          -0.4303729667109366,
          1.5517488795556174,
          1.2946292755127904,
          0.13838587736783844,
          -1.3493619397165506,
          -0.17864844790246678,
          -0.4549657696654094,
          -0.3651793980414446,
          -1.5837668607694977,
          -1.538225241820272,
          1.9919583756213672,
          0.4634375459475504,
          -1.7056423601701083,
          -0.4557409185352117
         ],
         "yaxis": "y10"
        },
        {
         "histfunc": "count",
         "histnorm": "",
         "marker": {
          "color": "rgba(50, 171, 96, 1.0)",
          "line": {
           "color": "#4D5663",
           "width": 1.3
          }
         },
         "name": "C",
         "nbinsx": 10,
         "opacity": 0.8,
         "orientation": "v",
         "type": "histogram",
         "x": [
          -0.34370852148833775,
          -1.6037070888676004,
          -1.0117519586533903,
          2.3520700857796037,
          -0.07800786087730324,
          1.7477028399367123,
          -1.3134636218504039,
          0.834917922822358,
          -1.6879711424176278,
          -1.4631717164175138,
          0.06260354179374829,
          -1.058293815930557,
          -0.8547977131737582,
          0.12040414862863882,
          1.320848958790828,
          -0.1663789255787278,
          0.956055668413484,
          0.13652661175792463,
          -1.0486821992527868,
          -0.8123151430828478,
          -0.3603782295493598,
          2.0800555742838696,
          1.0279573944752483,
          -0.9285579023018954,
          -1.5249896100398639,
          -0.42251603931199544,
          -0.17278746245657228,
          0.09971652959597924,
          0.5245379305962313,
          0.5758482550732602,
          0.08999784454025511,
          0.4246620759988931,
          2.385590884310923,
          0.9435396158109014,
          -0.10350349061134614,
          0.37869652762416994,
          0.3506595888281066,
          -1.1023064841618144,
          -1.515163438097079,
          0.7018189655599872,
          -0.5472974960629561,
          0.45086640912233394,
          -1.0323496052416319,
          1.0781607798625312,
          0.40589874379108193,
          0.04796820422522915,
          1.1483656721206774,
          -0.7254572801758798,
          0.03615515285397519,
          -0.3629751313234159,
          -1.4103474431164458,
          -0.444878978022152,
          -1.1567563260758529,
          0.05392222192325666,
          1.5723888163918553,
          0.3168075874475406,
          1.5084826520533836,
          1.5033058696550723,
          0.7140032131679233,
          -0.013307389720520662,
          1.303203326685032,
          -0.46656882533908856,
          -1.787337883505314,
          0.289923762209665,
          0.20032842830256625,
          -0.36130641876922126,
          -0.8394345059986312,
          0.09568776491921355,
          -0.1009539924355601,
          0.7409983668257607,
          -0.31442540937426433,
          -1.3967235868497487,
          -2.002851615229901,
          0.9813604252326612,
          1.2940876771427605,
          0.45236708325259406,
          0.39819579938627014,
          1.9013035021034381,
          -0.979183794087184,
          -0.19388177386612115,
          -1.3065320126945617,
          -0.8102323344833,
          0.7274599286254197,
          1.2253763472748123,
          -0.6328830446589793,
          0.7267424776293127,
          -0.4303729667109366,
          1.5517488795556174,
          1.2946292755127904,
          0.13838587736783844,
          -1.3493619397165506,
          -0.17864844790246678,
          -0.4549657696654094,
          -0.3651793980414446,
          -1.5837668607694977,
          -1.538225241820272,
          1.9919583756213672,
          0.4634375459475504,
          -1.7056423601701083,
          -0.4557409185352117
         ],
         "xaxis": "x11",
         "yaxis": "y11"
        },
        {
         "line": {
          "color": "rgba(128, 128, 128, 1.0)",
          "dash": "solid",
          "shape": "linear",
          "width": 1.3
         },
         "marker": {
          "size": 2,
          "symbol": "circle"
         },
         "mode": "markers",
         "name": "C",
         "text": "",
         "type": "scatter",
         "x": [
          -0.4525155307585302,
          -1.1847407611918483,
          -0.6793716908468681,
          -0.7663491194820993,
          -2.1037826400325375,
          0.451631524283149,
          0.7093347084577076,
          -0.13353638840608778,
          1.5205988799445087,
          1.5278493845638228,
          -0.3846171086426508,
          -0.8674568537134518,
          1.299356130748103,
          -1.8673558194780966,
          1.206392511699628,
          -0.6298690687332809,
          1.4121137273867659,
          -0.9932980773519611,
          -0.08511403258554953,
          -0.03917959783296583,
          1.0177798325126055,
          -0.9142575587934604,
          0.08487968683490116,
          0.8140429903383063,
          0.2027994074813393,
          -2.2457237748949614,
          0.797675681069284,
          -1.4347227334780444,
          -0.8023559564700763,
          0.8173008634313658,
          -2.6143267010803655,
          0.010099944429897412,
          1.1448990833802974,
          -0.13294317369698727,
          -1.4447427598147196,
          -0.18236573682642726,
          -0.1371302988288747,
          1.7452156674678587,
          0.9557468926091326,
          1.6999482466830902,
          1.0844698760459346,
          -0.9687820018821905,
          -0.2898370304894389,
          -0.3808640586901712,
          2.466496023407135,
          -0.8597502401088455,
          -1.0550011235261636,
          1.13639270921484,
          1.9627931527711124,
          -0.015462480200274966,
          -0.696353258591921,
          -0.6215499023794203,
          -0.640185573946483,
          -0.28345710445611444,
          -1.448223204467605,
          -1.2568378934927584,
          -0.6129093957117677,
          1.2866974325236984,
          2.723007327425759,
          -1.7488581469360764,
          -0.7906453832274789,
          -0.2708486716777824,
          0.5725303392874214,
          1.5594650781817387,
          0.396780769224614,
          0.4131818712532956,
          -0.2782569433258647,
          -0.09888653436213217,
          0.17228875184139641,
          0.08463458982687724,
          0.5857287900509336,
          0.8365703340936173,
          -0.6538583301479146,
          -1.358360897596932,
          -0.5919410242500869,
          0.5368324263433479,
          -2.143818654993575,
          0.22425849005050116,
          -1.2945576486575732,
          -1.6252838191970418,
          -0.6111592374974577,
          2.3629129341321335,
          -0.8704263650104284,
          -1.0239197809652285,
          1.3596960473221344,
          0.2753242239499126,
          -1.3090562555703824,
          0.46155247720388887,
          1.1543044188659888,
          0.15057621415812555,
          -2.102842980891349,
          -0.28836526127846385,
          1.367076393792901,
          -0.8683588779318776,
          0.10089130202092392,
          -0.2623850238247419,
          -0.5243677250921439,
          -1.0854310368659164,
          -0.1519881281047457,
          -0.16858694649079947
         ],
         "xaxis": "x12",
         "y": [
          -0.34370852148833775,
          -1.6037070888676004,
          -1.0117519586533903,
          2.3520700857796037,
          -0.07800786087730324,
          1.7477028399367123,
          -1.3134636218504039,
          0.834917922822358,
          -1.6879711424176278,
          -1.4631717164175138,
          0.06260354179374829,
          -1.058293815930557,
          -0.8547977131737582,
          0.12040414862863882,
          1.320848958790828,
          -0.1663789255787278,
          0.956055668413484,
          0.13652661175792463,
          -1.0486821992527868,
          -0.8123151430828478,
          -0.3603782295493598,
          2.0800555742838696,
          1.0279573944752483,
          -0.9285579023018954,
          -1.5249896100398639,
          -0.42251603931199544,
          -0.17278746245657228,
          0.09971652959597924,
          0.5245379305962313,
          0.5758482550732602,
          0.08999784454025511,
          0.4246620759988931,
          2.385590884310923,
          0.9435396158109014,
          -0.10350349061134614,
          0.37869652762416994,
          0.3506595888281066,
          -1.1023064841618144,
          -1.515163438097079,
          0.7018189655599872,
          -0.5472974960629561,
          0.45086640912233394,
          -1.0323496052416319,
          1.0781607798625312,
          0.40589874379108193,
          0.04796820422522915,
          1.1483656721206774,
          -0.7254572801758798,
          0.03615515285397519,
          -0.3629751313234159,
          -1.4103474431164458,
          -0.444878978022152,
          -1.1567563260758529,
          0.05392222192325666,
          1.5723888163918553,
          0.3168075874475406,
          1.5084826520533836,
          1.5033058696550723,
          0.7140032131679233,
          -0.013307389720520662,
          1.303203326685032,
          -0.46656882533908856,
          -1.787337883505314,
          0.289923762209665,
          0.20032842830256625,
          -0.36130641876922126,
          -0.8394345059986312,
          0.09568776491921355,
          -0.1009539924355601,
          0.7409983668257607,
          -0.31442540937426433,
          -1.3967235868497487,
          -2.002851615229901,
          0.9813604252326612,
          1.2940876771427605,
          0.45236708325259406,
          0.39819579938627014,
          1.9013035021034381,
          -0.979183794087184,
          -0.19388177386612115,
          -1.3065320126945617,
          -0.8102323344833,
          0.7274599286254197,
          1.2253763472748123,
          -0.6328830446589793,
          0.7267424776293127,
          -0.4303729667109366,
          1.5517488795556174,
          1.2946292755127904,
          0.13838587736783844,
          -1.3493619397165506,
          -0.17864844790246678,
          -0.4549657696654094,
          -0.3651793980414446,
          -1.5837668607694977,
          -1.538225241820272,
          1.9919583756213672,
          0.4634375459475504,
          -1.7056423601701083,
          -0.4557409185352117
         ],
         "yaxis": "y12"
        },
        {
         "line": {
          "color": "rgba(128, 128, 128, 1.0)",
          "dash": "solid",
          "shape": "linear",
          "width": 1.3
         },
         "marker": {
          "size": 2,
          "symbol": "circle"
         },
         "mode": "markers",
         "name": "D",
         "text": "",
         "type": "scatter",
         "x": [
          -1.23367774458424,
          0.7354606535590142,
          0.18297916358793126,
          0.4997206964909568,
          -0.4164376791113165,
          0.7725868189495974,
          -0.3190709225596303,
          -0.34509557310354055,
          0.17571314182171857,
          1.2832496432359026,
          -0.6701622872223576,
          0.1726151343541529,
          -0.5371486714244423,
          0.14866247108121355,
          -1.1134174896360065,
          0.9181426264528164,
          0.2916545629339712,
          -1.5327750870756958,
          -1.4981000212493611,
          -0.6778356750220685,
          1.735421358474536,
          -0.6843482671654342,
          -2.3903111255154244,
          -0.19203745335697894,
          -0.7727337242600216,
          0.4851640083650962,
          -0.03687388157122996,
          -0.28013428904290666,
          0.13278542161376505,
          0.3119355241632733,
          1.5559893421845665,
          -0.14961659575442454,
          -0.6254401403525508,
          0.14409253691847518,
          -0.17776408261353757,
          -1.506867556747576,
          -0.9417607912397659,
          1.8817932769503896,
          -0.09791659724689179,
          2.341697749668085,
          -1.0463068519188832,
          0.7667785456655989,
          0.3744052165922298,
          -0.11600890719464242,
          1.3157688037328155,
          -0.47044669371950476,
          0.5387585482327067,
          0.7425985029443694,
          0.9624955022877838,
          -0.2984520913272161,
          -0.2183144798873457,
          0.9022682433066121,
          1.155171384106318,
          -0.4639222451394979,
          1.9799373349193057,
          -0.9709105566083415,
          0.4266930092556539,
          0.7982776980272756,
          -0.788330192220676,
          2.214154651931596,
          0.8517386094525903,
          0.7307109968115925,
          0.7635729782447669,
          0.10645212322818463,
          0.36019364897067474,
          0.9746982639638698,
          -0.5556653065216498,
          0.17462254664205748,
          -1.8419332782616773,
          -1.985223300131962,
          0.7467115259440948,
          2.2401539237310297,
          -0.8646309336109702,
          0.03176867873429596,
          1.0856986000536937,
          0.5765714008077054,
          1.8425945746859302,
          -0.5982346749068658,
          1.281876291366642,
          -1.4856750066733857,
          -0.40617642583972385,
          1.227860895027526,
          -0.1516154355428637,
          -0.19119937484773103,
          1.6412982490327952,
          -0.16593239072305466,
          -1.2920286182886802,
          -0.8691861682544956,
          -1.850680027577851,
          2.257954454887254,
          2.6285325515955864,
          -0.0684629034273146,
          1.7513799068573954,
          -0.46705614107678833,
          -0.10754645646971306,
          0.3550472312638334,
          -0.030799279632314668,
          0.48260371806705854,
          0.6037213493070618,
          1.2001353535703647
         ],
         "xaxis": "x13",
         "y": [
          -0.4525155307585302,
          -1.1847407611918483,
          -0.6793716908468681,
          -0.7663491194820993,
          -2.1037826400325375,
          0.451631524283149,
          0.7093347084577076,
          -0.13353638840608778,
          1.5205988799445087,
          1.5278493845638228,
          -0.3846171086426508,
          -0.8674568537134518,
          1.299356130748103,
          -1.8673558194780966,
          1.206392511699628,
          -0.6298690687332809,
          1.4121137273867659,
          -0.9932980773519611,
          -0.08511403258554953,
          -0.03917959783296583,
          1.0177798325126055,
          -0.9142575587934604,
          0.08487968683490116,
          0.8140429903383063,
          0.2027994074813393,
          -2.2457237748949614,
          0.797675681069284,
          -1.4347227334780444,
          -0.8023559564700763,
          0.8173008634313658,
          -2.6143267010803655,
          0.010099944429897412,
          1.1448990833802974,
          -0.13294317369698727,
          -1.4447427598147196,
          -0.18236573682642726,
          -0.1371302988288747,
          1.7452156674678587,
          0.9557468926091326,
          1.6999482466830902,
          1.0844698760459346,
          -0.9687820018821905,
          -0.2898370304894389,
          -0.3808640586901712,
          2.466496023407135,
          -0.8597502401088455,
          -1.0550011235261636,
          1.13639270921484,
          1.9627931527711124,
          -0.015462480200274966,
          -0.696353258591921,
          -0.6215499023794203,
          -0.640185573946483,
          -0.28345710445611444,
          -1.448223204467605,
          -1.2568378934927584,
          -0.6129093957117677,
          1.2866974325236984,
          2.723007327425759,
          -1.7488581469360764,
          -0.7906453832274789,
          -0.2708486716777824,
          0.5725303392874214,
          1.5594650781817387,
          0.396780769224614,
          0.4131818712532956,
          -0.2782569433258647,
          -0.09888653436213217,
          0.17228875184139641,
          0.08463458982687724,
          0.5857287900509336,
          0.8365703340936173,
          -0.6538583301479146,
          -1.358360897596932,
          -0.5919410242500869,
          0.5368324263433479,
          -2.143818654993575,
          0.22425849005050116,
          -1.2945576486575732,
          -1.6252838191970418,
          -0.6111592374974577,
          2.3629129341321335,
          -0.8704263650104284,
          -1.0239197809652285,
          1.3596960473221344,
          0.2753242239499126,
          -1.3090562555703824,
          0.46155247720388887,
          1.1543044188659888,
          0.15057621415812555,
          -2.102842980891349,
          -0.28836526127846385,
          1.367076393792901,
          -0.8683588779318776,
          0.10089130202092392,
          -0.2623850238247419,
          -0.5243677250921439,
          -1.0854310368659164,
          -0.1519881281047457,
          -0.16858694649079947
         ],
         "yaxis": "y13"
        },
        {
         "line": {
          "color": "rgba(128, 128, 128, 1.0)",
          "dash": "solid",
          "shape": "linear",
          "width": 1.3
         },
         "marker": {
          "size": 2,
          "symbol": "circle"
         },
         "mode": "markers",
         "name": "D",
         "text": "",
         "type": "scatter",
         "x": [
          1.6136967679655434,
          -1.7743454628646287,
          -0.7203287172843124,
          -0.6117954031487445,
          -0.5009445747690496,
          -0.24161844138377042,
          -0.08872694595508866,
          0.9414124362805255,
          -1.3156998667030655,
          -1.4071666051435512,
          0.5936163122545488,
          -1.4425960457191493,
          0.8871373825005632,
          0.7934761210859214,
          1.6388025932684638,
          -0.11005133315602779,
          -0.10825386825750678,
          0.0025098233379851074,
          0.2872930674671653,
          -0.6648284861864668,
          -0.15297087907323706,
          -0.22340340462924857,
          -1.046194162796279,
          -0.6992987713385544,
          -1.428382051025518,
          2.2717657882437416,
          -0.2991219216134819,
          0.8036729570996414,
          0.07473183143488986,
          0.03629793496927448,
          0.7282501907601823,
          -0.468992428764272,
          1.1354729217609987,
          -0.17500536226349744,
          -0.8823112338592987,
          -1.0267863666982082,
          0.22929164557760115,
          0.08166986290003601,
          -0.4330250214952117,
          -1.4768571379632707,
          -0.03836514380320835,
          0.5605916358916565,
          0.3208280805065191,
          -0.30636035654476584,
          -0.5856938781868646,
          -0.9413963300297031,
          -1.8328437051415842,
          0.3633607192627451,
          0.014613820067525655,
          -2.0581325295536987,
          -0.5814716694456769,
          -0.645961870134278,
          -0.9509169358479385,
          -0.5364320563027563,
          -0.09927241848365108,
          1.1677610430726344,
          0.3140389325576045,
          2.2953591028356666,
          -0.811016454177509,
          -1.0738306708614167,
          -0.5448157712114431,
          1.0117744371276478,
          0.4037143519820321,
          -0.07573006893551563,
          0.20146794629997267,
          -0.3682498559607633,
          -1.051561812832864,
          0.9742748100847685,
          -1.8840815140861575,
          -1.163604661761712,
          0.2695935706119995,
          -0.2153451906084906,
          -0.4643422556942716,
          -0.03181141759971215,
          1.601791961152759,
          -1.263754355144204,
          -0.4277428623143499,
          0.3758165557541959,
          0.466825436020422,
          0.12952785501322436,
          -1.1010703462267066,
          -1.2236492596008608,
          0.01927986704213586,
          -0.6869701717286061,
          -0.6547097891615642,
          -0.2396485802567933,
          -0.05472819079502166,
          -2.6898646855476485,
          -1.2873936728903954,
          0.6240206318014331,
          1.249178232250976,
          0.4185312567426191,
          -1.4588386970350944,
          -0.19460072611954962,
          0.509326925798342,
          0.1338898266727817,
          -1.2748281912315276,
          -1.3360835573105292,
          -0.2282333872994752,
          1.0511136019093947
         ],
         "xaxis": "x14",
         "y": [
          -0.4525155307585302,
          -1.1847407611918483,
          -0.6793716908468681,
          -0.7663491194820993,
          -2.1037826400325375,
          0.451631524283149,
          0.7093347084577076,
          -0.13353638840608778,
          1.5205988799445087,
          1.5278493845638228,
          -0.3846171086426508,
          -0.8674568537134518,
          1.299356130748103,
          -1.8673558194780966,
          1.206392511699628,
          -0.6298690687332809,
          1.4121137273867659,
          -0.9932980773519611,
          -0.08511403258554953,
          -0.03917959783296583,
          1.0177798325126055,
          -0.9142575587934604,
          0.08487968683490116,
          0.8140429903383063,
          0.2027994074813393,
          -2.2457237748949614,
          0.797675681069284,
          -1.4347227334780444,
          -0.8023559564700763,
          0.8173008634313658,
          -2.6143267010803655,
          0.010099944429897412,
          1.1448990833802974,
          -0.13294317369698727,
          -1.4447427598147196,
          -0.18236573682642726,
          -0.1371302988288747,
          1.7452156674678587,
          0.9557468926091326,
          1.6999482466830902,
          1.0844698760459346,
          -0.9687820018821905,
          -0.2898370304894389,
          -0.3808640586901712,
          2.466496023407135,
          -0.8597502401088455,
          -1.0550011235261636,
          1.13639270921484,
          1.9627931527711124,
          -0.015462480200274966,
          -0.696353258591921,
          -0.6215499023794203,
          -0.640185573946483,
          -0.28345710445611444,
          -1.448223204467605,
          -1.2568378934927584,
          -0.6129093957117677,
          1.2866974325236984,
          2.723007327425759,
          -1.7488581469360764,
          -0.7906453832274789,
          -0.2708486716777824,
          0.5725303392874214,
          1.5594650781817387,
          0.396780769224614,
          0.4131818712532956,
          -0.2782569433258647,
          -0.09888653436213217,
          0.17228875184139641,
          0.08463458982687724,
          0.5857287900509336,
          0.8365703340936173,
          -0.6538583301479146,
          -1.358360897596932,
          -0.5919410242500869,
          0.5368324263433479,
          -2.143818654993575,
          0.22425849005050116,
          -1.2945576486575732,
          -1.6252838191970418,
          -0.6111592374974577,
          2.3629129341321335,
          -0.8704263650104284,
          -1.0239197809652285,
          1.3596960473221344,
          0.2753242239499126,
          -1.3090562555703824,
          0.46155247720388887,
          1.1543044188659888,
          0.15057621415812555,
          -2.102842980891349,
          -0.28836526127846385,
          1.367076393792901,
          -0.8683588779318776,
          0.10089130202092392,
          -0.2623850238247419,
          -0.5243677250921439,
          -1.0854310368659164,
          -0.1519881281047457,
          -0.16858694649079947
         ],
         "yaxis": "y14"
        },
        {
         "line": {
          "color": "rgba(128, 128, 128, 1.0)",
          "dash": "solid",
          "shape": "linear",
          "width": 1.3
         },
         "marker": {
          "size": 2,
          "symbol": "circle"
         },
         "mode": "markers",
         "name": "D",
         "text": "",
         "type": "scatter",
         "x": [
          -0.34370852148833775,
          -1.6037070888676004,
          -1.0117519586533903,
          2.3520700857796037,
          -0.07800786087730324,
          1.7477028399367123,
          -1.3134636218504039,
          0.834917922822358,
          -1.6879711424176278,
          -1.4631717164175138,
          0.06260354179374829,
          -1.058293815930557,
          -0.8547977131737582,
          0.12040414862863882,
          1.320848958790828,
          -0.1663789255787278,
          0.956055668413484,
          0.13652661175792463,
          -1.0486821992527868,
          -0.8123151430828478,
          -0.3603782295493598,
          2.0800555742838696,
          1.0279573944752483,
          -0.9285579023018954,
          -1.5249896100398639,
          -0.42251603931199544,
          -0.17278746245657228,
          0.09971652959597924,
          0.5245379305962313,
          0.5758482550732602,
          0.08999784454025511,
          0.4246620759988931,
          2.385590884310923,
          0.9435396158109014,
          -0.10350349061134614,
          0.37869652762416994,
          0.3506595888281066,
          -1.1023064841618144,
          -1.515163438097079,
          0.7018189655599872,
          -0.5472974960629561,
          0.45086640912233394,
          -1.0323496052416319,
          1.0781607798625312,
          0.40589874379108193,
          0.04796820422522915,
          1.1483656721206774,
          -0.7254572801758798,
          0.03615515285397519,
          -0.3629751313234159,
          -1.4103474431164458,
          -0.444878978022152,
          -1.1567563260758529,
          0.05392222192325666,
          1.5723888163918553,
          0.3168075874475406,
          1.5084826520533836,
          1.5033058696550723,
          0.7140032131679233,
          -0.013307389720520662,
          1.303203326685032,
          -0.46656882533908856,
          -1.787337883505314,
          0.289923762209665,
          0.20032842830256625,
          -0.36130641876922126,
          -0.8394345059986312,
          0.09568776491921355,
          -0.1009539924355601,
          0.7409983668257607,
          -0.31442540937426433,
          -1.3967235868497487,
          -2.002851615229901,
          0.9813604252326612,
          1.2940876771427605,
          0.45236708325259406,
          0.39819579938627014,
          1.9013035021034381,
          -0.979183794087184,
          -0.19388177386612115,
          -1.3065320126945617,
          -0.8102323344833,
          0.7274599286254197,
          1.2253763472748123,
          -0.6328830446589793,
          0.7267424776293127,
          -0.4303729667109366,
          1.5517488795556174,
          1.2946292755127904,
          0.13838587736783844,
          -1.3493619397165506,
          -0.17864844790246678,
          -0.4549657696654094,
          -0.3651793980414446,
          -1.5837668607694977,
          -1.538225241820272,
          1.9919583756213672,
          0.4634375459475504,
          -1.7056423601701083,
          -0.4557409185352117
         ],
         "xaxis": "x15",
         "y": [
          -0.4525155307585302,
          -1.1847407611918483,
          -0.6793716908468681,
          -0.7663491194820993,
          -2.1037826400325375,
          0.451631524283149,
          0.7093347084577076,
          -0.13353638840608778,
          1.5205988799445087,
          1.5278493845638228,
          -0.3846171086426508,
          -0.8674568537134518,
          1.299356130748103,
          -1.8673558194780966,
          1.206392511699628,
          -0.6298690687332809,
          1.4121137273867659,
          -0.9932980773519611,
          -0.08511403258554953,
          -0.03917959783296583,
          1.0177798325126055,
          -0.9142575587934604,
          0.08487968683490116,
          0.8140429903383063,
          0.2027994074813393,
          -2.2457237748949614,
          0.797675681069284,
          -1.4347227334780444,
          -0.8023559564700763,
          0.8173008634313658,
          -2.6143267010803655,
          0.010099944429897412,
          1.1448990833802974,
          -0.13294317369698727,
          -1.4447427598147196,
          -0.18236573682642726,
          -0.1371302988288747,
          1.7452156674678587,
          0.9557468926091326,
          1.6999482466830902,
          1.0844698760459346,
          -0.9687820018821905,
          -0.2898370304894389,
          -0.3808640586901712,
          2.466496023407135,
          -0.8597502401088455,
          -1.0550011235261636,
          1.13639270921484,
          1.9627931527711124,
          -0.015462480200274966,
          -0.696353258591921,
          -0.6215499023794203,
          -0.640185573946483,
          -0.28345710445611444,
          -1.448223204467605,
          -1.2568378934927584,
          -0.6129093957117677,
          1.2866974325236984,
          2.723007327425759,
          -1.7488581469360764,
          -0.7906453832274789,
          -0.2708486716777824,
          0.5725303392874214,
          1.5594650781817387,
          0.396780769224614,
          0.4131818712532956,
          -0.2782569433258647,
          -0.09888653436213217,
          0.17228875184139641,
          0.08463458982687724,
          0.5857287900509336,
          0.8365703340936173,
          -0.6538583301479146,
          -1.358360897596932,
          -0.5919410242500869,
          0.5368324263433479,
          -2.143818654993575,
          0.22425849005050116,
          -1.2945576486575732,
          -1.6252838191970418,
          -0.6111592374974577,
          2.3629129341321335,
          -0.8704263650104284,
          -1.0239197809652285,
          1.3596960473221344,
          0.2753242239499126,
          -1.3090562555703824,
          0.46155247720388887,
          1.1543044188659888,
          0.15057621415812555,
          -2.102842980891349,
          -0.28836526127846385,
          1.367076393792901,
          -0.8683588779318776,
          0.10089130202092392,
          -0.2623850238247419,
          -0.5243677250921439,
          -1.0854310368659164,
          -0.1519881281047457,
          -0.16858694649079947
         ],
         "yaxis": "y15"
        },
        {
         "histfunc": "count",
         "histnorm": "",
         "marker": {
          "color": "rgba(128, 0, 128, 1.0)",
          "line": {
           "color": "#4D5663",
           "width": 1.3
          }
         },
         "name": "D",
         "nbinsx": 10,
         "opacity": 0.8,
         "orientation": "v",
         "type": "histogram",
         "x": [
          -0.4525155307585302,
          -1.1847407611918483,
          -0.6793716908468681,
          -0.7663491194820993,
          -2.1037826400325375,
          0.451631524283149,
          0.7093347084577076,
          -0.13353638840608778,
          1.5205988799445087,
          1.5278493845638228,
          -0.3846171086426508,
          -0.8674568537134518,
          1.299356130748103,
          -1.8673558194780966,
          1.206392511699628,
          -0.6298690687332809,
          1.4121137273867659,
          -0.9932980773519611,
          -0.08511403258554953,
          -0.03917959783296583,
          1.0177798325126055,
          -0.9142575587934604,
          0.08487968683490116,
          0.8140429903383063,
          0.2027994074813393,
          -2.2457237748949614,
          0.797675681069284,
          -1.4347227334780444,
          -0.8023559564700763,
          0.8173008634313658,
          -2.6143267010803655,
          0.010099944429897412,
          1.1448990833802974,
          -0.13294317369698727,
          -1.4447427598147196,
          -0.18236573682642726,
          -0.1371302988288747,
          1.7452156674678587,
          0.9557468926091326,
          1.6999482466830902,
          1.0844698760459346,
          -0.9687820018821905,
          -0.2898370304894389,
          -0.3808640586901712,
          2.466496023407135,
          -0.8597502401088455,
          -1.0550011235261636,
          1.13639270921484,
          1.9627931527711124,
          -0.015462480200274966,
          -0.696353258591921,
          -0.6215499023794203,
          -0.640185573946483,
          -0.28345710445611444,
          -1.448223204467605,
          -1.2568378934927584,
          -0.6129093957117677,
          1.2866974325236984,
          2.723007327425759,
          -1.7488581469360764,
          -0.7906453832274789,
          -0.2708486716777824,
          0.5725303392874214,
          1.5594650781817387,
          0.396780769224614,
          0.4131818712532956,
          -0.2782569433258647,
          -0.09888653436213217,
          0.17228875184139641,
          0.08463458982687724,
          0.5857287900509336,
          0.8365703340936173,
          -0.6538583301479146,
          -1.358360897596932,
          -0.5919410242500869,
          0.5368324263433479,
          -2.143818654993575,
          0.22425849005050116,
          -1.2945576486575732,
          -1.6252838191970418,
          -0.6111592374974577,
          2.3629129341321335,
          -0.8704263650104284,
          -1.0239197809652285,
          1.3596960473221344,
          0.2753242239499126,
          -1.3090562555703824,
          0.46155247720388887,
          1.1543044188659888,
          0.15057621415812555,
          -2.102842980891349,
          -0.28836526127846385,
          1.367076393792901,
          -0.8683588779318776,
          0.10089130202092392,
          -0.2623850238247419,
          -0.5243677250921439,
          -1.0854310368659164,
          -0.1519881281047457,
          -0.16858694649079947
         ],
         "xaxis": "x16",
         "yaxis": "y16"
        }
       ],
       "layout": {
        "bargap": 0.02,
        "legend": {
         "bgcolor": "#F5F6F9",
         "font": {
          "color": "#4D5663"
         }
        },
        "paper_bgcolor": "#F5F6F9",
        "plot_bgcolor": "#F5F6F9",
        "showlegend": false,
        "template": {
         "data": {
          "bar": [
           {
            "error_x": {
             "color": "#2a3f5f"
            },
            "error_y": {
             "color": "#2a3f5f"
            },
            "marker": {
             "line": {
              "color": "#E5ECF6",
              "width": 0.5
             },
             "pattern": {
              "fillmode": "overlay",
              "size": 10,
              "solidity": 0.2
             }
            },
            "type": "bar"
           }
          ],
          "barpolar": [
           {
            "marker": {
             "line": {
              "color": "#E5ECF6",
              "width": 0.5
             },
             "pattern": {
              "fillmode": "overlay",
              "size": 10,
              "solidity": 0.2
             }
            },
            "type": "barpolar"
           }
          ],
          "carpet": [
           {
            "aaxis": {
             "endlinecolor": "#2a3f5f",
             "gridcolor": "white",
             "linecolor": "white",
             "minorgridcolor": "white",
             "startlinecolor": "#2a3f5f"
            },
            "baxis": {
             "endlinecolor": "#2a3f5f",
             "gridcolor": "white",
             "linecolor": "white",
             "minorgridcolor": "white",
             "startlinecolor": "#2a3f5f"
            },
            "type": "carpet"
           }
          ],
          "choropleth": [
           {
            "colorbar": {
             "outlinewidth": 0,
             "ticks": ""
            },
            "type": "choropleth"
           }
          ],
          "contour": [
           {
            "colorbar": {
             "outlinewidth": 0,
             "ticks": ""
            },
            "colorscale": [
             [
              0,
              "#0d0887"
             ],
             [
              0.1111111111111111,
              "#46039f"
             ],
             [
              0.2222222222222222,
              "#7201a8"
             ],
             [
              0.3333333333333333,
              "#9c179e"
             ],
             [
              0.4444444444444444,
              "#bd3786"
             ],
             [
              0.5555555555555556,
              "#d8576b"
             ],
             [
              0.6666666666666666,
              "#ed7953"
             ],
             [
              0.7777777777777778,
              "#fb9f3a"
             ],
             [
              0.8888888888888888,
              "#fdca26"
             ],
             [
              1,
              "#f0f921"
             ]
            ],
            "type": "contour"
           }
          ],
          "contourcarpet": [
           {
            "colorbar": {
             "outlinewidth": 0,
             "ticks": ""
            },
            "type": "contourcarpet"
           }
          ],
          "heatmap": [
           {
            "colorbar": {
             "outlinewidth": 0,
             "ticks": ""
            },
            "colorscale": [
             [
              0,
              "#0d0887"
             ],
             [
              0.1111111111111111,
              "#46039f"
             ],
             [
              0.2222222222222222,
              "#7201a8"
             ],
             [
              0.3333333333333333,
              "#9c179e"
             ],
             [
              0.4444444444444444,
              "#bd3786"
             ],
             [
              0.5555555555555556,
              "#d8576b"
             ],
             [
              0.6666666666666666,
              "#ed7953"
             ],
             [
              0.7777777777777778,
              "#fb9f3a"
             ],
             [
              0.8888888888888888,
              "#fdca26"
             ],
             [
              1,
              "#f0f921"
             ]
            ],
            "type": "heatmap"
           }
          ],
          "heatmapgl": [
           {
            "colorbar": {
             "outlinewidth": 0,
             "ticks": ""
            },
            "colorscale": [
             [
              0,
              "#0d0887"
             ],
             [
              0.1111111111111111,
              "#46039f"
             ],
             [
              0.2222222222222222,
              "#7201a8"
             ],
             [
              0.3333333333333333,
              "#9c179e"
             ],
             [
              0.4444444444444444,
              "#bd3786"
             ],
             [
              0.5555555555555556,
              "#d8576b"
             ],
             [
              0.6666666666666666,
              "#ed7953"
             ],
             [
              0.7777777777777778,
              "#fb9f3a"
             ],
             [
              0.8888888888888888,
              "#fdca26"
             ],
             [
              1,
              "#f0f921"
             ]
            ],
            "type": "heatmapgl"
           }
          ],
          "histogram": [
           {
            "marker": {
             "pattern": {
              "fillmode": "overlay",
              "size": 10,
              "solidity": 0.2
             }
            },
            "type": "histogram"
           }
          ],
          "histogram2d": [
           {
            "colorbar": {
             "outlinewidth": 0,
             "ticks": ""
            },
            "colorscale": [
             [
              0,
              "#0d0887"
             ],
             [
              0.1111111111111111,
              "#46039f"
             ],
             [
              0.2222222222222222,
              "#7201a8"
             ],
             [
              0.3333333333333333,
              "#9c179e"
             ],
             [
              0.4444444444444444,
              "#bd3786"
             ],
             [
              0.5555555555555556,
              "#d8576b"
             ],
             [
              0.6666666666666666,
              "#ed7953"
             ],
             [
              0.7777777777777778,
              "#fb9f3a"
             ],
             [
              0.8888888888888888,
              "#fdca26"
             ],
             [
              1,
              "#f0f921"
             ]
            ],
            "type": "histogram2d"
           }
          ],
          "histogram2dcontour": [
           {
            "colorbar": {
             "outlinewidth": 0,
             "ticks": ""
            },
            "colorscale": [
             [
              0,
              "#0d0887"
             ],
             [
              0.1111111111111111,
              "#46039f"
             ],
             [
              0.2222222222222222,
              "#7201a8"
             ],
             [
              0.3333333333333333,
              "#9c179e"
             ],
             [
              0.4444444444444444,
              "#bd3786"
             ],
             [
              0.5555555555555556,
              "#d8576b"
             ],
             [
              0.6666666666666666,
              "#ed7953"
             ],
             [
              0.7777777777777778,
              "#fb9f3a"
             ],
             [
              0.8888888888888888,
              "#fdca26"
             ],
             [
              1,
              "#f0f921"
             ]
            ],
            "type": "histogram2dcontour"
           }
          ],
          "mesh3d": [
           {
            "colorbar": {
             "outlinewidth": 0,
             "ticks": ""
            },
            "type": "mesh3d"
           }
          ],
          "parcoords": [
           {
            "line": {
             "colorbar": {
              "outlinewidth": 0,
              "ticks": ""
             }
            },
            "type": "parcoords"
           }
          ],
          "pie": [
           {
            "automargin": true,
            "type": "pie"
           }
          ],
          "scatter": [
           {
            "fillpattern": {
             "fillmode": "overlay",
             "size": 10,
             "solidity": 0.2
            },
            "type": "scatter"
           }
          ],
          "scatter3d": [
           {
            "line": {
             "colorbar": {
              "outlinewidth": 0,
              "ticks": ""
             }
            },
            "marker": {
             "colorbar": {
              "outlinewidth": 0,
              "ticks": ""
             }
            },
            "type": "scatter3d"
           }
          ],
          "scattercarpet": [
           {
            "marker": {
             "colorbar": {
              "outlinewidth": 0,
              "ticks": ""
             }
            },
            "type": "scattercarpet"
           }
          ],
          "scattergeo": [
           {
            "marker": {
             "colorbar": {
              "outlinewidth": 0,
              "ticks": ""
             }
            },
            "type": "scattergeo"
           }
          ],
          "scattergl": [
           {
            "marker": {
             "colorbar": {
              "outlinewidth": 0,
              "ticks": ""
             }
            },
            "type": "scattergl"
           }
          ],
          "scattermapbox": [
           {
            "marker": {
             "colorbar": {
              "outlinewidth": 0,
              "ticks": ""
             }
            },
            "type": "scattermapbox"
           }
          ],
          "scatterpolar": [
           {
            "marker": {
             "colorbar": {
              "outlinewidth": 0,
              "ticks": ""
             }
            },
            "type": "scatterpolar"
           }
          ],
          "scatterpolargl": [
           {
            "marker": {
             "colorbar": {
              "outlinewidth": 0,
              "ticks": ""
             }
            },
            "type": "scatterpolargl"
           }
          ],
          "scatterternary": [
           {
            "marker": {
             "colorbar": {
              "outlinewidth": 0,
              "ticks": ""
             }
            },
            "type": "scatterternary"
           }
          ],
          "surface": [
           {
            "colorbar": {
             "outlinewidth": 0,
             "ticks": ""
            },
            "colorscale": [
             [
              0,
              "#0d0887"
             ],
             [
              0.1111111111111111,
              "#46039f"
             ],
             [
              0.2222222222222222,
              "#7201a8"
             ],
             [
              0.3333333333333333,
              "#9c179e"
             ],
             [
              0.4444444444444444,
              "#bd3786"
             ],
             [
              0.5555555555555556,
              "#d8576b"
             ],
             [
              0.6666666666666666,
              "#ed7953"
             ],
             [
              0.7777777777777778,
              "#fb9f3a"
             ],
             [
              0.8888888888888888,
              "#fdca26"
             ],
             [
              1,
              "#f0f921"
             ]
            ],
            "type": "surface"
           }
          ],
          "table": [
           {
            "cells": {
             "fill": {
              "color": "#EBF0F8"
             },
             "line": {
              "color": "white"
             }
            },
            "header": {
             "fill": {
              "color": "#C8D4E3"
             },
             "line": {
              "color": "white"
             }
            },
            "type": "table"
           }
          ]
         },
         "layout": {
          "annotationdefaults": {
           "arrowcolor": "#2a3f5f",
           "arrowhead": 0,
           "arrowwidth": 1
          },
          "autotypenumbers": "strict",
          "coloraxis": {
           "colorbar": {
            "outlinewidth": 0,
            "ticks": ""
           }
          },
          "colorscale": {
           "diverging": [
            [
             0,
             "#8e0152"
            ],
            [
             0.1,
             "#c51b7d"
            ],
            [
             0.2,
             "#de77ae"
            ],
            [
             0.3,
             "#f1b6da"
            ],
            [
             0.4,
             "#fde0ef"
            ],
            [
             0.5,
             "#f7f7f7"
            ],
            [
             0.6,
             "#e6f5d0"
            ],
            [
             0.7,
             "#b8e186"
            ],
            [
             0.8,
             "#7fbc41"
            ],
            [
             0.9,
             "#4d9221"
            ],
            [
             1,
             "#276419"
            ]
           ],
           "sequential": [
            [
             0,
             "#0d0887"
            ],
            [
             0.1111111111111111,
             "#46039f"
            ],
            [
             0.2222222222222222,
             "#7201a8"
            ],
            [
             0.3333333333333333,
             "#9c179e"
            ],
            [
             0.4444444444444444,
             "#bd3786"
            ],
            [
             0.5555555555555556,
             "#d8576b"
            ],
            [
             0.6666666666666666,
             "#ed7953"
            ],
            [
             0.7777777777777778,
             "#fb9f3a"
            ],
            [
             0.8888888888888888,
             "#fdca26"
            ],
            [
             1,
             "#f0f921"
            ]
           ],
           "sequentialminus": [
            [
             0,
             "#0d0887"
            ],
            [
             0.1111111111111111,
             "#46039f"
            ],
            [
             0.2222222222222222,
             "#7201a8"
            ],
            [
             0.3333333333333333,
             "#9c179e"
            ],
            [
             0.4444444444444444,
             "#bd3786"
            ],
            [
             0.5555555555555556,
             "#d8576b"
            ],
            [
             0.6666666666666666,
             "#ed7953"
            ],
            [
             0.7777777777777778,
             "#fb9f3a"
            ],
            [
             0.8888888888888888,
             "#fdca26"
            ],
            [
             1,
             "#f0f921"
            ]
           ]
          },
          "colorway": [
           "#636efa",
           "#EF553B",
           "#00cc96",
           "#ab63fa",
           "#FFA15A",
           "#19d3f3",
           "#FF6692",
           "#B6E880",
           "#FF97FF",
           "#FECB52"
          ],
          "font": {
           "color": "#2a3f5f"
          },
          "geo": {
           "bgcolor": "white",
           "lakecolor": "white",
           "landcolor": "#E5ECF6",
           "showlakes": true,
           "showland": true,
           "subunitcolor": "white"
          },
          "hoverlabel": {
           "align": "left"
          },
          "hovermode": "closest",
          "mapbox": {
           "style": "light"
          },
          "paper_bgcolor": "white",
          "plot_bgcolor": "#E5ECF6",
          "polar": {
           "angularaxis": {
            "gridcolor": "white",
            "linecolor": "white",
            "ticks": ""
           },
           "bgcolor": "#E5ECF6",
           "radialaxis": {
            "gridcolor": "white",
            "linecolor": "white",
            "ticks": ""
           }
          },
          "scene": {
           "xaxis": {
            "backgroundcolor": "#E5ECF6",
            "gridcolor": "white",
            "gridwidth": 2,
            "linecolor": "white",
            "showbackground": true,
            "ticks": "",
            "zerolinecolor": "white"
           },
           "yaxis": {
            "backgroundcolor": "#E5ECF6",
            "gridcolor": "white",
            "gridwidth": 2,
            "linecolor": "white",
            "showbackground": true,
            "ticks": "",
            "zerolinecolor": "white"
           },
           "zaxis": {
            "backgroundcolor": "#E5ECF6",
            "gridcolor": "white",
            "gridwidth": 2,
            "linecolor": "white",
            "showbackground": true,
            "ticks": "",
            "zerolinecolor": "white"
           }
          },
          "shapedefaults": {
           "line": {
            "color": "#2a3f5f"
           }
          },
          "ternary": {
           "aaxis": {
            "gridcolor": "white",
            "linecolor": "white",
            "ticks": ""
           },
           "baxis": {
            "gridcolor": "white",
            "linecolor": "white",
            "ticks": ""
           },
           "bgcolor": "#E5ECF6",
           "caxis": {
            "gridcolor": "white",
            "linecolor": "white",
            "ticks": ""
           }
          },
          "title": {
           "x": 0.05
          },
          "xaxis": {
           "automargin": true,
           "gridcolor": "white",
           "linecolor": "white",
           "ticks": "",
           "title": {
            "standoff": 15
           },
           "zerolinecolor": "white",
           "zerolinewidth": 2
          },
          "yaxis": {
           "automargin": true,
           "gridcolor": "white",
           "linecolor": "white",
           "ticks": "",
           "title": {
            "standoff": 15
           },
           "zerolinecolor": "white",
           "zerolinewidth": 2
          }
         }
        },
        "title": {
         "font": {
          "color": "#4D5663"
         }
        },
        "xaxis": {
         "anchor": "y",
         "domain": [
          0,
          0.2125
         ],
         "gridcolor": "#E1E5ED",
         "showgrid": false,
         "tickfont": {
          "color": "#4D5663"
         },
         "title": {
          "font": {
           "color": "#4D5663"
          },
          "text": ""
         },
         "zerolinecolor": "#E1E5ED"
        },
        "xaxis10": {
         "anchor": "y10",
         "domain": [
          0.2625,
          0.475
         ],
         "gridcolor": "#E1E5ED",
         "showgrid": false,
         "tickfont": {
          "color": "#4D5663"
         },
         "title": {
          "font": {
           "color": "#4D5663"
          },
          "text": ""
         },
         "zerolinecolor": "#E1E5ED"
        },
        "xaxis11": {
         "anchor": "y11",
         "domain": [
          0.525,
          0.7375
         ],
         "gridcolor": "#E1E5ED",
         "showgrid": false,
         "tickfont": {
          "color": "#4D5663"
         },
         "title": {
          "font": {
           "color": "#4D5663"
          },
          "text": ""
         },
         "zerolinecolor": "#E1E5ED"
        },
        "xaxis12": {
         "anchor": "y12",
         "domain": [
          0.7875,
          1
         ],
         "gridcolor": "#E1E5ED",
         "showgrid": false,
         "tickfont": {
          "color": "#4D5663"
         },
         "title": {
          "font": {
           "color": "#4D5663"
          },
          "text": ""
         },
         "zerolinecolor": "#E1E5ED"
        },
        "xaxis13": {
         "anchor": "y13",
         "domain": [
          0,
          0.2125
         ],
         "gridcolor": "#E1E5ED",
         "showgrid": false,
         "tickfont": {
          "color": "#4D5663"
         },
         "title": {
          "font": {
           "color": "#4D5663"
          },
          "text": ""
         },
         "zerolinecolor": "#E1E5ED"
        },
        "xaxis14": {
         "anchor": "y14",
         "domain": [
          0.2625,
          0.475
         ],
         "gridcolor": "#E1E5ED",
         "showgrid": false,
         "tickfont": {
          "color": "#4D5663"
         },
         "title": {
          "font": {
           "color": "#4D5663"
          },
          "text": ""
         },
         "zerolinecolor": "#E1E5ED"
        },
        "xaxis15": {
         "anchor": "y15",
         "domain": [
          0.525,
          0.7375
         ],
         "gridcolor": "#E1E5ED",
         "showgrid": false,
         "tickfont": {
          "color": "#4D5663"
         },
         "title": {
          "font": {
           "color": "#4D5663"
          },
          "text": ""
         },
         "zerolinecolor": "#E1E5ED"
        },
        "xaxis16": {
         "anchor": "y16",
         "domain": [
          0.7875,
          1
         ],
         "gridcolor": "#E1E5ED",
         "showgrid": false,
         "tickfont": {
          "color": "#4D5663"
         },
         "title": {
          "font": {
           "color": "#4D5663"
          },
          "text": ""
         },
         "zerolinecolor": "#E1E5ED"
        },
        "xaxis2": {
         "anchor": "y2",
         "domain": [
          0.2625,
          0.475
         ],
         "gridcolor": "#E1E5ED",
         "showgrid": false,
         "tickfont": {
          "color": "#4D5663"
         },
         "title": {
          "font": {
           "color": "#4D5663"
          },
          "text": ""
         },
         "zerolinecolor": "#E1E5ED"
        },
        "xaxis3": {
         "anchor": "y3",
         "domain": [
          0.525,
          0.7375
         ],
         "gridcolor": "#E1E5ED",
         "showgrid": false,
         "tickfont": {
          "color": "#4D5663"
         },
         "title": {
          "font": {
           "color": "#4D5663"
          },
          "text": ""
         },
         "zerolinecolor": "#E1E5ED"
        },
        "xaxis4": {
         "anchor": "y4",
         "domain": [
          0.7875,
          1
         ],
         "gridcolor": "#E1E5ED",
         "showgrid": false,
         "tickfont": {
          "color": "#4D5663"
         },
         "title": {
          "font": {
           "color": "#4D5663"
          },
          "text": ""
         },
         "zerolinecolor": "#E1E5ED"
        },
        "xaxis5": {
         "anchor": "y5",
         "domain": [
          0,
          0.2125
         ],
         "gridcolor": "#E1E5ED",
         "showgrid": false,
         "tickfont": {
          "color": "#4D5663"
         },
         "title": {
          "font": {
           "color": "#4D5663"
          },
          "text": ""
         },
         "zerolinecolor": "#E1E5ED"
        },
        "xaxis6": {
         "anchor": "y6",
         "domain": [
          0.2625,
          0.475
         ],
         "gridcolor": "#E1E5ED",
         "showgrid": false,
         "tickfont": {
          "color": "#4D5663"
         },
         "title": {
          "font": {
           "color": "#4D5663"
          },
          "text": ""
         },
         "zerolinecolor": "#E1E5ED"
        },
        "xaxis7": {
         "anchor": "y7",
         "domain": [
          0.525,
          0.7375
         ],
         "gridcolor": "#E1E5ED",
         "showgrid": false,
         "tickfont": {
          "color": "#4D5663"
         },
         "title": {
          "font": {
           "color": "#4D5663"
          },
          "text": ""
         },
         "zerolinecolor": "#E1E5ED"
        },
        "xaxis8": {
         "anchor": "y8",
         "domain": [
          0.7875,
          1
         ],
         "gridcolor": "#E1E5ED",
         "showgrid": false,
         "tickfont": {
          "color": "#4D5663"
         },
         "title": {
          "font": {
           "color": "#4D5663"
          },
          "text": ""
         },
         "zerolinecolor": "#E1E5ED"
        },
        "xaxis9": {
         "anchor": "y9",
         "domain": [
          0,
          0.2125
         ],
         "gridcolor": "#E1E5ED",
         "showgrid": false,
         "tickfont": {
          "color": "#4D5663"
         },
         "title": {
          "font": {
           "color": "#4D5663"
          },
          "text": ""
         },
         "zerolinecolor": "#E1E5ED"
        },
        "yaxis": {
         "anchor": "x",
         "domain": [
          0.8025,
          1
         ],
         "gridcolor": "#E1E5ED",
         "showgrid": false,
         "tickfont": {
          "color": "#4D5663"
         },
         "title": {
          "font": {
           "color": "#4D5663"
          },
          "text": ""
         },
         "zerolinecolor": "#E1E5ED"
        },
        "yaxis10": {
         "anchor": "x10",
         "domain": [
          0.2675,
          0.465
         ],
         "gridcolor": "#E1E5ED",
         "showgrid": false,
         "tickfont": {
          "color": "#4D5663"
         },
         "title": {
          "font": {
           "color": "#4D5663"
          },
          "text": ""
         },
         "zerolinecolor": "#E1E5ED"
        },
        "yaxis11": {
         "anchor": "x11",
         "domain": [
          0.2675,
          0.465
         ],
         "gridcolor": "#E1E5ED",
         "showgrid": false,
         "tickfont": {
          "color": "#4D5663"
         },
         "title": {
          "font": {
           "color": "#4D5663"
          },
          "text": ""
         },
         "zerolinecolor": "#E1E5ED"
        },
        "yaxis12": {
         "anchor": "x12",
         "domain": [
          0.2675,
          0.465
         ],
         "gridcolor": "#E1E5ED",
         "showgrid": false,
         "tickfont": {
          "color": "#4D5663"
         },
         "title": {
          "font": {
           "color": "#4D5663"
          },
          "text": ""
         },
         "zerolinecolor": "#E1E5ED"
        },
        "yaxis13": {
         "anchor": "x13",
         "domain": [
          0,
          0.1975
         ],
         "gridcolor": "#E1E5ED",
         "showgrid": false,
         "tickfont": {
          "color": "#4D5663"
         },
         "title": {
          "font": {
           "color": "#4D5663"
          },
          "text": ""
         },
         "zerolinecolor": "#E1E5ED"
        },
        "yaxis14": {
         "anchor": "x14",
         "domain": [
          0,
          0.1975
         ],
         "gridcolor": "#E1E5ED",
         "showgrid": false,
         "tickfont": {
          "color": "#4D5663"
         },
         "title": {
          "font": {
           "color": "#4D5663"
          },
          "text": ""
         },
         "zerolinecolor": "#E1E5ED"
        },
        "yaxis15": {
         "anchor": "x15",
         "domain": [
          0,
          0.1975
         ],
         "gridcolor": "#E1E5ED",
         "showgrid": false,
         "tickfont": {
          "color": "#4D5663"
         },
         "title": {
          "font": {
           "color": "#4D5663"
          },
          "text": ""
         },
         "zerolinecolor": "#E1E5ED"
        },
        "yaxis16": {
         "anchor": "x16",
         "domain": [
          0,
          0.1975
         ],
         "gridcolor": "#E1E5ED",
         "showgrid": false,
         "tickfont": {
          "color": "#4D5663"
         },
         "title": {
          "font": {
           "color": "#4D5663"
          },
          "text": ""
         },
         "zerolinecolor": "#E1E5ED"
        },
        "yaxis2": {
         "anchor": "x2",
         "domain": [
          0.8025,
          1
         ],
         "gridcolor": "#E1E5ED",
         "showgrid": false,
         "tickfont": {
          "color": "#4D5663"
         },
         "title": {
          "font": {
           "color": "#4D5663"
          },
          "text": ""
         },
         "zerolinecolor": "#E1E5ED"
        },
        "yaxis3": {
         "anchor": "x3",
         "domain": [
          0.8025,
          1
         ],
         "gridcolor": "#E1E5ED",
         "showgrid": false,
         "tickfont": {
          "color": "#4D5663"
         },
         "title": {
          "font": {
           "color": "#4D5663"
          },
          "text": ""
         },
         "zerolinecolor": "#E1E5ED"
        },
        "yaxis4": {
         "anchor": "x4",
         "domain": [
          0.8025,
          1
         ],
         "gridcolor": "#E1E5ED",
         "showgrid": false,
         "tickfont": {
          "color": "#4D5663"
         },
         "title": {
          "font": {
           "color": "#4D5663"
          },
          "text": ""
         },
         "zerolinecolor": "#E1E5ED"
        },
        "yaxis5": {
         "anchor": "x5",
         "domain": [
          0.535,
          0.7325
         ],
         "gridcolor": "#E1E5ED",
         "showgrid": false,
         "tickfont": {
          "color": "#4D5663"
         },
         "title": {
          "font": {
           "color": "#4D5663"
          },
          "text": ""
         },
         "zerolinecolor": "#E1E5ED"
        },
        "yaxis6": {
         "anchor": "x6",
         "domain": [
          0.535,
          0.7325
         ],
         "gridcolor": "#E1E5ED",
         "showgrid": false,
         "tickfont": {
          "color": "#4D5663"
         },
         "title": {
          "font": {
           "color": "#4D5663"
          },
          "text": ""
         },
         "zerolinecolor": "#E1E5ED"
        },
        "yaxis7": {
         "anchor": "x7",
         "domain": [
          0.535,
          0.7325
         ],
         "gridcolor": "#E1E5ED",
         "showgrid": false,
         "tickfont": {
          "color": "#4D5663"
         },
         "title": {
          "font": {
           "color": "#4D5663"
          },
          "text": ""
         },
         "zerolinecolor": "#E1E5ED"
        },
        "yaxis8": {
         "anchor": "x8",
         "domain": [
          0.535,
          0.7325
         ],
         "gridcolor": "#E1E5ED",
         "showgrid": false,
         "tickfont": {
          "color": "#4D5663"
         },
         "title": {
          "font": {
           "color": "#4D5663"
          },
          "text": ""
         },
         "zerolinecolor": "#E1E5ED"
        },
        "yaxis9": {
         "anchor": "x9",
         "domain": [
          0.2675,
          0.465
         ],
         "gridcolor": "#E1E5ED",
         "showgrid": false,
         "tickfont": {
          "color": "#4D5663"
         },
         "title": {
          "font": {
           "color": "#4D5663"
          },
          "text": ""
         },
         "zerolinecolor": "#E1E5ED"
        }
       }
      },
      "text/html": [
       "<div>                            <div id=\"e891f7c9-b2c6-4e8d-bb78-9fa427fad190\" class=\"plotly-graph-div\" style=\"height:525px; width:100%;\"></div>            <script type=\"text/javascript\">                require([\"plotly\"], function(Plotly) {                    window.PLOTLYENV=window.PLOTLYENV || {};\n",
       "                    window.PLOTLYENV.BASE_URL='https://plot.ly';                                    if (document.getElementById(\"e891f7c9-b2c6-4e8d-bb78-9fa427fad190\")) {                    Plotly.newPlot(                        \"e891f7c9-b2c6-4e8d-bb78-9fa427fad190\",                        [{\"histfunc\":\"count\",\"histnorm\":\"\",\"marker\":{\"color\":\"rgba(255, 153, 51, 1.0)\",\"line\":{\"color\":\"#4D5663\",\"width\":1.3}},\"name\":\"A\",\"nbinsx\":10,\"opacity\":0.8,\"orientation\":\"v\",\"x\":[-1.23367774458424,0.7354606535590142,0.18297916358793126,0.4997206964909568,-0.4164376791113165,0.7725868189495974,-0.3190709225596303,-0.34509557310354055,0.17571314182171857,1.2832496432359026,-0.6701622872223576,0.1726151343541529,-0.5371486714244423,0.14866247108121355,-1.1134174896360065,0.9181426264528164,0.2916545629339712,-1.5327750870756958,-1.4981000212493611,-0.6778356750220685,1.735421358474536,-0.6843482671654342,-2.3903111255154244,-0.19203745335697894,-0.7727337242600216,0.4851640083650962,-0.03687388157122996,-0.28013428904290666,0.13278542161376505,0.3119355241632733,1.5559893421845665,-0.14961659575442454,-0.6254401403525508,0.14409253691847518,-0.17776408261353757,-1.506867556747576,-0.9417607912397659,1.8817932769503896,-0.09791659724689179,2.341697749668085,-1.0463068519188832,0.7667785456655989,0.3744052165922298,-0.11600890719464242,1.3157688037328155,-0.47044669371950476,0.5387585482327067,0.7425985029443694,0.9624955022877838,-0.2984520913272161,-0.2183144798873457,0.9022682433066121,1.155171384106318,-0.4639222451394979,1.9799373349193057,-0.9709105566083415,0.4266930092556539,0.7982776980272756,-0.788330192220676,2.214154651931596,0.8517386094525903,0.7307109968115925,0.7635729782447669,0.10645212322818463,0.36019364897067474,0.9746982639638698,-0.5556653065216498,0.17462254664205748,-1.8419332782616773,-1.985223300131962,0.7467115259440948,2.2401539237310297,-0.8646309336109702,0.03176867873429596,1.0856986000536937,0.5765714008077054,1.8425945746859302,-0.5982346749068658,1.281876291366642,-1.4856750066733857,-0.40617642583972385,1.227860895027526,-0.1516154355428637,-0.19119937484773103,1.6412982490327952,-0.16593239072305466,-1.2920286182886802,-0.8691861682544956,-1.850680027577851,2.257954454887254,2.6285325515955864,-0.0684629034273146,1.7513799068573954,-0.46705614107678833,-0.10754645646971306,0.3550472312638334,-0.030799279632314668,0.48260371806705854,0.6037213493070618,1.2001353535703647],\"xaxis\":\"x\",\"yaxis\":\"y\",\"type\":\"histogram\"},{\"line\":{\"color\":\"rgba(128, 128, 128, 1.0)\",\"dash\":\"solid\",\"shape\":\"linear\",\"width\":1.3},\"marker\":{\"size\":2,\"symbol\":\"circle\"},\"mode\":\"markers\",\"name\":\"A\",\"text\":\"\",\"x\":[1.6136967679655434,-1.7743454628646287,-0.7203287172843124,-0.6117954031487445,-0.5009445747690496,-0.24161844138377042,-0.08872694595508866,0.9414124362805255,-1.3156998667030655,-1.4071666051435512,0.5936163122545488,-1.4425960457191493,0.8871373825005632,0.7934761210859214,1.6388025932684638,-0.11005133315602779,-0.10825386825750678,0.0025098233379851074,0.2872930674671653,-0.6648284861864668,-0.15297087907323706,-0.22340340462924857,-1.046194162796279,-0.6992987713385544,-1.428382051025518,2.2717657882437416,-0.2991219216134819,0.8036729570996414,0.07473183143488986,0.03629793496927448,0.7282501907601823,-0.468992428764272,1.1354729217609987,-0.17500536226349744,-0.8823112338592987,-1.0267863666982082,0.22929164557760115,0.08166986290003601,-0.4330250214952117,-1.4768571379632707,-0.03836514380320835,0.5605916358916565,0.3208280805065191,-0.30636035654476584,-0.5856938781868646,-0.9413963300297031,-1.8328437051415842,0.3633607192627451,0.014613820067525655,-2.0581325295536987,-0.5814716694456769,-0.645961870134278,-0.9509169358479385,-0.5364320563027563,-0.09927241848365108,1.1677610430726344,0.3140389325576045,2.2953591028356666,-0.811016454177509,-1.0738306708614167,-0.5448157712114431,1.0117744371276478,0.4037143519820321,-0.07573006893551563,0.20146794629997267,-0.3682498559607633,-1.051561812832864,0.9742748100847685,-1.8840815140861575,-1.163604661761712,0.2695935706119995,-0.2153451906084906,-0.4643422556942716,-0.03181141759971215,1.601791961152759,-1.263754355144204,-0.4277428623143499,0.3758165557541959,0.466825436020422,0.12952785501322436,-1.1010703462267066,-1.2236492596008608,0.01927986704213586,-0.6869701717286061,-0.6547097891615642,-0.2396485802567933,-0.05472819079502166,-2.6898646855476485,-1.2873936728903954,0.6240206318014331,1.249178232250976,0.4185312567426191,-1.4588386970350944,-0.19460072611954962,0.509326925798342,0.1338898266727817,-1.2748281912315276,-1.3360835573105292,-0.2282333872994752,1.0511136019093947],\"xaxis\":\"x2\",\"y\":[-1.23367774458424,0.7354606535590142,0.18297916358793126,0.4997206964909568,-0.4164376791113165,0.7725868189495974,-0.3190709225596303,-0.34509557310354055,0.17571314182171857,1.2832496432359026,-0.6701622872223576,0.1726151343541529,-0.5371486714244423,0.14866247108121355,-1.1134174896360065,0.9181426264528164,0.2916545629339712,-1.5327750870756958,-1.4981000212493611,-0.6778356750220685,1.735421358474536,-0.6843482671654342,-2.3903111255154244,-0.19203745335697894,-0.7727337242600216,0.4851640083650962,-0.03687388157122996,-0.28013428904290666,0.13278542161376505,0.3119355241632733,1.5559893421845665,-0.14961659575442454,-0.6254401403525508,0.14409253691847518,-0.17776408261353757,-1.506867556747576,-0.9417607912397659,1.8817932769503896,-0.09791659724689179,2.341697749668085,-1.0463068519188832,0.7667785456655989,0.3744052165922298,-0.11600890719464242,1.3157688037328155,-0.47044669371950476,0.5387585482327067,0.7425985029443694,0.9624955022877838,-0.2984520913272161,-0.2183144798873457,0.9022682433066121,1.155171384106318,-0.4639222451394979,1.9799373349193057,-0.9709105566083415,0.4266930092556539,0.7982776980272756,-0.788330192220676,2.214154651931596,0.8517386094525903,0.7307109968115925,0.7635729782447669,0.10645212322818463,0.36019364897067474,0.9746982639638698,-0.5556653065216498,0.17462254664205748,-1.8419332782616773,-1.985223300131962,0.7467115259440948,2.2401539237310297,-0.8646309336109702,0.03176867873429596,1.0856986000536937,0.5765714008077054,1.8425945746859302,-0.5982346749068658,1.281876291366642,-1.4856750066733857,-0.40617642583972385,1.227860895027526,-0.1516154355428637,-0.19119937484773103,1.6412982490327952,-0.16593239072305466,-1.2920286182886802,-0.8691861682544956,-1.850680027577851,2.257954454887254,2.6285325515955864,-0.0684629034273146,1.7513799068573954,-0.46705614107678833,-0.10754645646971306,0.3550472312638334,-0.030799279632314668,0.48260371806705854,0.6037213493070618,1.2001353535703647],\"yaxis\":\"y2\",\"type\":\"scatter\"},{\"line\":{\"color\":\"rgba(128, 128, 128, 1.0)\",\"dash\":\"solid\",\"shape\":\"linear\",\"width\":1.3},\"marker\":{\"size\":2,\"symbol\":\"circle\"},\"mode\":\"markers\",\"name\":\"A\",\"text\":\"\",\"x\":[-0.34370852148833775,-1.6037070888676004,-1.0117519586533903,2.3520700857796037,-0.07800786087730324,1.7477028399367123,-1.3134636218504039,0.834917922822358,-1.6879711424176278,-1.4631717164175138,0.06260354179374829,-1.058293815930557,-0.8547977131737582,0.12040414862863882,1.320848958790828,-0.1663789255787278,0.956055668413484,0.13652661175792463,-1.0486821992527868,-0.8123151430828478,-0.3603782295493598,2.0800555742838696,1.0279573944752483,-0.9285579023018954,-1.5249896100398639,-0.42251603931199544,-0.17278746245657228,0.09971652959597924,0.5245379305962313,0.5758482550732602,0.08999784454025511,0.4246620759988931,2.385590884310923,0.9435396158109014,-0.10350349061134614,0.37869652762416994,0.3506595888281066,-1.1023064841618144,-1.515163438097079,0.7018189655599872,-0.5472974960629561,0.45086640912233394,-1.0323496052416319,1.0781607798625312,0.40589874379108193,0.04796820422522915,1.1483656721206774,-0.7254572801758798,0.03615515285397519,-0.3629751313234159,-1.4103474431164458,-0.444878978022152,-1.1567563260758529,0.05392222192325666,1.5723888163918553,0.3168075874475406,1.5084826520533836,1.5033058696550723,0.7140032131679233,-0.013307389720520662,1.303203326685032,-0.46656882533908856,-1.787337883505314,0.289923762209665,0.20032842830256625,-0.36130641876922126,-0.8394345059986312,0.09568776491921355,-0.1009539924355601,0.7409983668257607,-0.31442540937426433,-1.3967235868497487,-2.002851615229901,0.9813604252326612,1.2940876771427605,0.45236708325259406,0.39819579938627014,1.9013035021034381,-0.979183794087184,-0.19388177386612115,-1.3065320126945617,-0.8102323344833,0.7274599286254197,1.2253763472748123,-0.6328830446589793,0.7267424776293127,-0.4303729667109366,1.5517488795556174,1.2946292755127904,0.13838587736783844,-1.3493619397165506,-0.17864844790246678,-0.4549657696654094,-0.3651793980414446,-1.5837668607694977,-1.538225241820272,1.9919583756213672,0.4634375459475504,-1.7056423601701083,-0.4557409185352117],\"xaxis\":\"x3\",\"y\":[-1.23367774458424,0.7354606535590142,0.18297916358793126,0.4997206964909568,-0.4164376791113165,0.7725868189495974,-0.3190709225596303,-0.34509557310354055,0.17571314182171857,1.2832496432359026,-0.6701622872223576,0.1726151343541529,-0.5371486714244423,0.14866247108121355,-1.1134174896360065,0.9181426264528164,0.2916545629339712,-1.5327750870756958,-1.4981000212493611,-0.6778356750220685,1.735421358474536,-0.6843482671654342,-2.3903111255154244,-0.19203745335697894,-0.7727337242600216,0.4851640083650962,-0.03687388157122996,-0.28013428904290666,0.13278542161376505,0.3119355241632733,1.5559893421845665,-0.14961659575442454,-0.6254401403525508,0.14409253691847518,-0.17776408261353757,-1.506867556747576,-0.9417607912397659,1.8817932769503896,-0.09791659724689179,2.341697749668085,-1.0463068519188832,0.7667785456655989,0.3744052165922298,-0.11600890719464242,1.3157688037328155,-0.47044669371950476,0.5387585482327067,0.7425985029443694,0.9624955022877838,-0.2984520913272161,-0.2183144798873457,0.9022682433066121,1.155171384106318,-0.4639222451394979,1.9799373349193057,-0.9709105566083415,0.4266930092556539,0.7982776980272756,-0.788330192220676,2.214154651931596,0.8517386094525903,0.7307109968115925,0.7635729782447669,0.10645212322818463,0.36019364897067474,0.9746982639638698,-0.5556653065216498,0.17462254664205748,-1.8419332782616773,-1.985223300131962,0.7467115259440948,2.2401539237310297,-0.8646309336109702,0.03176867873429596,1.0856986000536937,0.5765714008077054,1.8425945746859302,-0.5982346749068658,1.281876291366642,-1.4856750066733857,-0.40617642583972385,1.227860895027526,-0.1516154355428637,-0.19119937484773103,1.6412982490327952,-0.16593239072305466,-1.2920286182886802,-0.8691861682544956,-1.850680027577851,2.257954454887254,2.6285325515955864,-0.0684629034273146,1.7513799068573954,-0.46705614107678833,-0.10754645646971306,0.3550472312638334,-0.030799279632314668,0.48260371806705854,0.6037213493070618,1.2001353535703647],\"yaxis\":\"y3\",\"type\":\"scatter\"},{\"line\":{\"color\":\"rgba(128, 128, 128, 1.0)\",\"dash\":\"solid\",\"shape\":\"linear\",\"width\":1.3},\"marker\":{\"size\":2,\"symbol\":\"circle\"},\"mode\":\"markers\",\"name\":\"A\",\"text\":\"\",\"x\":[-0.4525155307585302,-1.1847407611918483,-0.6793716908468681,-0.7663491194820993,-2.1037826400325375,0.451631524283149,0.7093347084577076,-0.13353638840608778,1.5205988799445087,1.5278493845638228,-0.3846171086426508,-0.8674568537134518,1.299356130748103,-1.8673558194780966,1.206392511699628,-0.6298690687332809,1.4121137273867659,-0.9932980773519611,-0.08511403258554953,-0.03917959783296583,1.0177798325126055,-0.9142575587934604,0.08487968683490116,0.8140429903383063,0.2027994074813393,-2.2457237748949614,0.797675681069284,-1.4347227334780444,-0.8023559564700763,0.8173008634313658,-2.6143267010803655,0.010099944429897412,1.1448990833802974,-0.13294317369698727,-1.4447427598147196,-0.18236573682642726,-0.1371302988288747,1.7452156674678587,0.9557468926091326,1.6999482466830902,1.0844698760459346,-0.9687820018821905,-0.2898370304894389,-0.3808640586901712,2.466496023407135,-0.8597502401088455,-1.0550011235261636,1.13639270921484,1.9627931527711124,-0.015462480200274966,-0.696353258591921,-0.6215499023794203,-0.640185573946483,-0.28345710445611444,-1.448223204467605,-1.2568378934927584,-0.6129093957117677,1.2866974325236984,2.723007327425759,-1.7488581469360764,-0.7906453832274789,-0.2708486716777824,0.5725303392874214,1.5594650781817387,0.396780769224614,0.4131818712532956,-0.2782569433258647,-0.09888653436213217,0.17228875184139641,0.08463458982687724,0.5857287900509336,0.8365703340936173,-0.6538583301479146,-1.358360897596932,-0.5919410242500869,0.5368324263433479,-2.143818654993575,0.22425849005050116,-1.2945576486575732,-1.6252838191970418,-0.6111592374974577,2.3629129341321335,-0.8704263650104284,-1.0239197809652285,1.3596960473221344,0.2753242239499126,-1.3090562555703824,0.46155247720388887,1.1543044188659888,0.15057621415812555,-2.102842980891349,-0.28836526127846385,1.367076393792901,-0.8683588779318776,0.10089130202092392,-0.2623850238247419,-0.5243677250921439,-1.0854310368659164,-0.1519881281047457,-0.16858694649079947],\"xaxis\":\"x4\",\"y\":[-1.23367774458424,0.7354606535590142,0.18297916358793126,0.4997206964909568,-0.4164376791113165,0.7725868189495974,-0.3190709225596303,-0.34509557310354055,0.17571314182171857,1.2832496432359026,-0.6701622872223576,0.1726151343541529,-0.5371486714244423,0.14866247108121355,-1.1134174896360065,0.9181426264528164,0.2916545629339712,-1.5327750870756958,-1.4981000212493611,-0.6778356750220685,1.735421358474536,-0.6843482671654342,-2.3903111255154244,-0.19203745335697894,-0.7727337242600216,0.4851640083650962,-0.03687388157122996,-0.28013428904290666,0.13278542161376505,0.3119355241632733,1.5559893421845665,-0.14961659575442454,-0.6254401403525508,0.14409253691847518,-0.17776408261353757,-1.506867556747576,-0.9417607912397659,1.8817932769503896,-0.09791659724689179,2.341697749668085,-1.0463068519188832,0.7667785456655989,0.3744052165922298,-0.11600890719464242,1.3157688037328155,-0.47044669371950476,0.5387585482327067,0.7425985029443694,0.9624955022877838,-0.2984520913272161,-0.2183144798873457,0.9022682433066121,1.155171384106318,-0.4639222451394979,1.9799373349193057,-0.9709105566083415,0.4266930092556539,0.7982776980272756,-0.788330192220676,2.214154651931596,0.8517386094525903,0.7307109968115925,0.7635729782447669,0.10645212322818463,0.36019364897067474,0.9746982639638698,-0.5556653065216498,0.17462254664205748,-1.8419332782616773,-1.985223300131962,0.7467115259440948,2.2401539237310297,-0.8646309336109702,0.03176867873429596,1.0856986000536937,0.5765714008077054,1.8425945746859302,-0.5982346749068658,1.281876291366642,-1.4856750066733857,-0.40617642583972385,1.227860895027526,-0.1516154355428637,-0.19119937484773103,1.6412982490327952,-0.16593239072305466,-1.2920286182886802,-0.8691861682544956,-1.850680027577851,2.257954454887254,2.6285325515955864,-0.0684629034273146,1.7513799068573954,-0.46705614107678833,-0.10754645646971306,0.3550472312638334,-0.030799279632314668,0.48260371806705854,0.6037213493070618,1.2001353535703647],\"yaxis\":\"y4\",\"type\":\"scatter\"},{\"line\":{\"color\":\"rgba(128, 128, 128, 1.0)\",\"dash\":\"solid\",\"shape\":\"linear\",\"width\":1.3},\"marker\":{\"size\":2,\"symbol\":\"circle\"},\"mode\":\"markers\",\"name\":\"B\",\"text\":\"\",\"x\":[-1.23367774458424,0.7354606535590142,0.18297916358793126,0.4997206964909568,-0.4164376791113165,0.7725868189495974,-0.3190709225596303,-0.34509557310354055,0.17571314182171857,1.2832496432359026,-0.6701622872223576,0.1726151343541529,-0.5371486714244423,0.14866247108121355,-1.1134174896360065,0.9181426264528164,0.2916545629339712,-1.5327750870756958,-1.4981000212493611,-0.6778356750220685,1.735421358474536,-0.6843482671654342,-2.3903111255154244,-0.19203745335697894,-0.7727337242600216,0.4851640083650962,-0.03687388157122996,-0.28013428904290666,0.13278542161376505,0.3119355241632733,1.5559893421845665,-0.14961659575442454,-0.6254401403525508,0.14409253691847518,-0.17776408261353757,-1.506867556747576,-0.9417607912397659,1.8817932769503896,-0.09791659724689179,2.341697749668085,-1.0463068519188832,0.7667785456655989,0.3744052165922298,-0.11600890719464242,1.3157688037328155,-0.47044669371950476,0.5387585482327067,0.7425985029443694,0.9624955022877838,-0.2984520913272161,-0.2183144798873457,0.9022682433066121,1.155171384106318,-0.4639222451394979,1.9799373349193057,-0.9709105566083415,0.4266930092556539,0.7982776980272756,-0.788330192220676,2.214154651931596,0.8517386094525903,0.7307109968115925,0.7635729782447669,0.10645212322818463,0.36019364897067474,0.9746982639638698,-0.5556653065216498,0.17462254664205748,-1.8419332782616773,-1.985223300131962,0.7467115259440948,2.2401539237310297,-0.8646309336109702,0.03176867873429596,1.0856986000536937,0.5765714008077054,1.8425945746859302,-0.5982346749068658,1.281876291366642,-1.4856750066733857,-0.40617642583972385,1.227860895027526,-0.1516154355428637,-0.19119937484773103,1.6412982490327952,-0.16593239072305466,-1.2920286182886802,-0.8691861682544956,-1.850680027577851,2.257954454887254,2.6285325515955864,-0.0684629034273146,1.7513799068573954,-0.46705614107678833,-0.10754645646971306,0.3550472312638334,-0.030799279632314668,0.48260371806705854,0.6037213493070618,1.2001353535703647],\"xaxis\":\"x5\",\"y\":[1.6136967679655434,-1.7743454628646287,-0.7203287172843124,-0.6117954031487445,-0.5009445747690496,-0.24161844138377042,-0.08872694595508866,0.9414124362805255,-1.3156998667030655,-1.4071666051435512,0.5936163122545488,-1.4425960457191493,0.8871373825005632,0.7934761210859214,1.6388025932684638,-0.11005133315602779,-0.10825386825750678,0.0025098233379851074,0.2872930674671653,-0.6648284861864668,-0.15297087907323706,-0.22340340462924857,-1.046194162796279,-0.6992987713385544,-1.428382051025518,2.2717657882437416,-0.2991219216134819,0.8036729570996414,0.07473183143488986,0.03629793496927448,0.7282501907601823,-0.468992428764272,1.1354729217609987,-0.17500536226349744,-0.8823112338592987,-1.0267863666982082,0.22929164557760115,0.08166986290003601,-0.4330250214952117,-1.4768571379632707,-0.03836514380320835,0.5605916358916565,0.3208280805065191,-0.30636035654476584,-0.5856938781868646,-0.9413963300297031,-1.8328437051415842,0.3633607192627451,0.014613820067525655,-2.0581325295536987,-0.5814716694456769,-0.645961870134278,-0.9509169358479385,-0.5364320563027563,-0.09927241848365108,1.1677610430726344,0.3140389325576045,2.2953591028356666,-0.811016454177509,-1.0738306708614167,-0.5448157712114431,1.0117744371276478,0.4037143519820321,-0.07573006893551563,0.20146794629997267,-0.3682498559607633,-1.051561812832864,0.9742748100847685,-1.8840815140861575,-1.163604661761712,0.2695935706119995,-0.2153451906084906,-0.4643422556942716,-0.03181141759971215,1.601791961152759,-1.263754355144204,-0.4277428623143499,0.3758165557541959,0.466825436020422,0.12952785501322436,-1.1010703462267066,-1.2236492596008608,0.01927986704213586,-0.6869701717286061,-0.6547097891615642,-0.2396485802567933,-0.05472819079502166,-2.6898646855476485,-1.2873936728903954,0.6240206318014331,1.249178232250976,0.4185312567426191,-1.4588386970350944,-0.19460072611954962,0.509326925798342,0.1338898266727817,-1.2748281912315276,-1.3360835573105292,-0.2282333872994752,1.0511136019093947],\"yaxis\":\"y5\",\"type\":\"scatter\"},{\"histfunc\":\"count\",\"histnorm\":\"\",\"marker\":{\"color\":\"rgba(55, 128, 191, 1.0)\",\"line\":{\"color\":\"#4D5663\",\"width\":1.3}},\"name\":\"B\",\"nbinsx\":10,\"opacity\":0.8,\"orientation\":\"v\",\"x\":[1.6136967679655434,-1.7743454628646287,-0.7203287172843124,-0.6117954031487445,-0.5009445747690496,-0.24161844138377042,-0.08872694595508866,0.9414124362805255,-1.3156998667030655,-1.4071666051435512,0.5936163122545488,-1.4425960457191493,0.8871373825005632,0.7934761210859214,1.6388025932684638,-0.11005133315602779,-0.10825386825750678,0.0025098233379851074,0.2872930674671653,-0.6648284861864668,-0.15297087907323706,-0.22340340462924857,-1.046194162796279,-0.6992987713385544,-1.428382051025518,2.2717657882437416,-0.2991219216134819,0.8036729570996414,0.07473183143488986,0.03629793496927448,0.7282501907601823,-0.468992428764272,1.1354729217609987,-0.17500536226349744,-0.8823112338592987,-1.0267863666982082,0.22929164557760115,0.08166986290003601,-0.4330250214952117,-1.4768571379632707,-0.03836514380320835,0.5605916358916565,0.3208280805065191,-0.30636035654476584,-0.5856938781868646,-0.9413963300297031,-1.8328437051415842,0.3633607192627451,0.014613820067525655,-2.0581325295536987,-0.5814716694456769,-0.645961870134278,-0.9509169358479385,-0.5364320563027563,-0.09927241848365108,1.1677610430726344,0.3140389325576045,2.2953591028356666,-0.811016454177509,-1.0738306708614167,-0.5448157712114431,1.0117744371276478,0.4037143519820321,-0.07573006893551563,0.20146794629997267,-0.3682498559607633,-1.051561812832864,0.9742748100847685,-1.8840815140861575,-1.163604661761712,0.2695935706119995,-0.2153451906084906,-0.4643422556942716,-0.03181141759971215,1.601791961152759,-1.263754355144204,-0.4277428623143499,0.3758165557541959,0.466825436020422,0.12952785501322436,-1.1010703462267066,-1.2236492596008608,0.01927986704213586,-0.6869701717286061,-0.6547097891615642,-0.2396485802567933,-0.05472819079502166,-2.6898646855476485,-1.2873936728903954,0.6240206318014331,1.249178232250976,0.4185312567426191,-1.4588386970350944,-0.19460072611954962,0.509326925798342,0.1338898266727817,-1.2748281912315276,-1.3360835573105292,-0.2282333872994752,1.0511136019093947],\"xaxis\":\"x6\",\"yaxis\":\"y6\",\"type\":\"histogram\"},{\"line\":{\"color\":\"rgba(128, 128, 128, 1.0)\",\"dash\":\"solid\",\"shape\":\"linear\",\"width\":1.3},\"marker\":{\"size\":2,\"symbol\":\"circle\"},\"mode\":\"markers\",\"name\":\"B\",\"text\":\"\",\"x\":[-0.34370852148833775,-1.6037070888676004,-1.0117519586533903,2.3520700857796037,-0.07800786087730324,1.7477028399367123,-1.3134636218504039,0.834917922822358,-1.6879711424176278,-1.4631717164175138,0.06260354179374829,-1.058293815930557,-0.8547977131737582,0.12040414862863882,1.320848958790828,-0.1663789255787278,0.956055668413484,0.13652661175792463,-1.0486821992527868,-0.8123151430828478,-0.3603782295493598,2.0800555742838696,1.0279573944752483,-0.9285579023018954,-1.5249896100398639,-0.42251603931199544,-0.17278746245657228,0.09971652959597924,0.5245379305962313,0.5758482550732602,0.08999784454025511,0.4246620759988931,2.385590884310923,0.9435396158109014,-0.10350349061134614,0.37869652762416994,0.3506595888281066,-1.1023064841618144,-1.515163438097079,0.7018189655599872,-0.5472974960629561,0.45086640912233394,-1.0323496052416319,1.0781607798625312,0.40589874379108193,0.04796820422522915,1.1483656721206774,-0.7254572801758798,0.03615515285397519,-0.3629751313234159,-1.4103474431164458,-0.444878978022152,-1.1567563260758529,0.05392222192325666,1.5723888163918553,0.3168075874475406,1.5084826520533836,1.5033058696550723,0.7140032131679233,-0.013307389720520662,1.303203326685032,-0.46656882533908856,-1.787337883505314,0.289923762209665,0.20032842830256625,-0.36130641876922126,-0.8394345059986312,0.09568776491921355,-0.1009539924355601,0.7409983668257607,-0.31442540937426433,-1.3967235868497487,-2.002851615229901,0.9813604252326612,1.2940876771427605,0.45236708325259406,0.39819579938627014,1.9013035021034381,-0.979183794087184,-0.19388177386612115,-1.3065320126945617,-0.8102323344833,0.7274599286254197,1.2253763472748123,-0.6328830446589793,0.7267424776293127,-0.4303729667109366,1.5517488795556174,1.2946292755127904,0.13838587736783844,-1.3493619397165506,-0.17864844790246678,-0.4549657696654094,-0.3651793980414446,-1.5837668607694977,-1.538225241820272,1.9919583756213672,0.4634375459475504,-1.7056423601701083,-0.4557409185352117],\"xaxis\":\"x7\",\"y\":[1.6136967679655434,-1.7743454628646287,-0.7203287172843124,-0.6117954031487445,-0.5009445747690496,-0.24161844138377042,-0.08872694595508866,0.9414124362805255,-1.3156998667030655,-1.4071666051435512,0.5936163122545488,-1.4425960457191493,0.8871373825005632,0.7934761210859214,1.6388025932684638,-0.11005133315602779,-0.10825386825750678,0.0025098233379851074,0.2872930674671653,-0.6648284861864668,-0.15297087907323706,-0.22340340462924857,-1.046194162796279,-0.6992987713385544,-1.428382051025518,2.2717657882437416,-0.2991219216134819,0.8036729570996414,0.07473183143488986,0.03629793496927448,0.7282501907601823,-0.468992428764272,1.1354729217609987,-0.17500536226349744,-0.8823112338592987,-1.0267863666982082,0.22929164557760115,0.08166986290003601,-0.4330250214952117,-1.4768571379632707,-0.03836514380320835,0.5605916358916565,0.3208280805065191,-0.30636035654476584,-0.5856938781868646,-0.9413963300297031,-1.8328437051415842,0.3633607192627451,0.014613820067525655,-2.0581325295536987,-0.5814716694456769,-0.645961870134278,-0.9509169358479385,-0.5364320563027563,-0.09927241848365108,1.1677610430726344,0.3140389325576045,2.2953591028356666,-0.811016454177509,-1.0738306708614167,-0.5448157712114431,1.0117744371276478,0.4037143519820321,-0.07573006893551563,0.20146794629997267,-0.3682498559607633,-1.051561812832864,0.9742748100847685,-1.8840815140861575,-1.163604661761712,0.2695935706119995,-0.2153451906084906,-0.4643422556942716,-0.03181141759971215,1.601791961152759,-1.263754355144204,-0.4277428623143499,0.3758165557541959,0.466825436020422,0.12952785501322436,-1.1010703462267066,-1.2236492596008608,0.01927986704213586,-0.6869701717286061,-0.6547097891615642,-0.2396485802567933,-0.05472819079502166,-2.6898646855476485,-1.2873936728903954,0.6240206318014331,1.249178232250976,0.4185312567426191,-1.4588386970350944,-0.19460072611954962,0.509326925798342,0.1338898266727817,-1.2748281912315276,-1.3360835573105292,-0.2282333872994752,1.0511136019093947],\"yaxis\":\"y7\",\"type\":\"scatter\"},{\"line\":{\"color\":\"rgba(128, 128, 128, 1.0)\",\"dash\":\"solid\",\"shape\":\"linear\",\"width\":1.3},\"marker\":{\"size\":2,\"symbol\":\"circle\"},\"mode\":\"markers\",\"name\":\"B\",\"text\":\"\",\"x\":[-0.4525155307585302,-1.1847407611918483,-0.6793716908468681,-0.7663491194820993,-2.1037826400325375,0.451631524283149,0.7093347084577076,-0.13353638840608778,1.5205988799445087,1.5278493845638228,-0.3846171086426508,-0.8674568537134518,1.299356130748103,-1.8673558194780966,1.206392511699628,-0.6298690687332809,1.4121137273867659,-0.9932980773519611,-0.08511403258554953,-0.03917959783296583,1.0177798325126055,-0.9142575587934604,0.08487968683490116,0.8140429903383063,0.2027994074813393,-2.2457237748949614,0.797675681069284,-1.4347227334780444,-0.8023559564700763,0.8173008634313658,-2.6143267010803655,0.010099944429897412,1.1448990833802974,-0.13294317369698727,-1.4447427598147196,-0.18236573682642726,-0.1371302988288747,1.7452156674678587,0.9557468926091326,1.6999482466830902,1.0844698760459346,-0.9687820018821905,-0.2898370304894389,-0.3808640586901712,2.466496023407135,-0.8597502401088455,-1.0550011235261636,1.13639270921484,1.9627931527711124,-0.015462480200274966,-0.696353258591921,-0.6215499023794203,-0.640185573946483,-0.28345710445611444,-1.448223204467605,-1.2568378934927584,-0.6129093957117677,1.2866974325236984,2.723007327425759,-1.7488581469360764,-0.7906453832274789,-0.2708486716777824,0.5725303392874214,1.5594650781817387,0.396780769224614,0.4131818712532956,-0.2782569433258647,-0.09888653436213217,0.17228875184139641,0.08463458982687724,0.5857287900509336,0.8365703340936173,-0.6538583301479146,-1.358360897596932,-0.5919410242500869,0.5368324263433479,-2.143818654993575,0.22425849005050116,-1.2945576486575732,-1.6252838191970418,-0.6111592374974577,2.3629129341321335,-0.8704263650104284,-1.0239197809652285,1.3596960473221344,0.2753242239499126,-1.3090562555703824,0.46155247720388887,1.1543044188659888,0.15057621415812555,-2.102842980891349,-0.28836526127846385,1.367076393792901,-0.8683588779318776,0.10089130202092392,-0.2623850238247419,-0.5243677250921439,-1.0854310368659164,-0.1519881281047457,-0.16858694649079947],\"xaxis\":\"x8\",\"y\":[1.6136967679655434,-1.7743454628646287,-0.7203287172843124,-0.6117954031487445,-0.5009445747690496,-0.24161844138377042,-0.08872694595508866,0.9414124362805255,-1.3156998667030655,-1.4071666051435512,0.5936163122545488,-1.4425960457191493,0.8871373825005632,0.7934761210859214,1.6388025932684638,-0.11005133315602779,-0.10825386825750678,0.0025098233379851074,0.2872930674671653,-0.6648284861864668,-0.15297087907323706,-0.22340340462924857,-1.046194162796279,-0.6992987713385544,-1.428382051025518,2.2717657882437416,-0.2991219216134819,0.8036729570996414,0.07473183143488986,0.03629793496927448,0.7282501907601823,-0.468992428764272,1.1354729217609987,-0.17500536226349744,-0.8823112338592987,-1.0267863666982082,0.22929164557760115,0.08166986290003601,-0.4330250214952117,-1.4768571379632707,-0.03836514380320835,0.5605916358916565,0.3208280805065191,-0.30636035654476584,-0.5856938781868646,-0.9413963300297031,-1.8328437051415842,0.3633607192627451,0.014613820067525655,-2.0581325295536987,-0.5814716694456769,-0.645961870134278,-0.9509169358479385,-0.5364320563027563,-0.09927241848365108,1.1677610430726344,0.3140389325576045,2.2953591028356666,-0.811016454177509,-1.0738306708614167,-0.5448157712114431,1.0117744371276478,0.4037143519820321,-0.07573006893551563,0.20146794629997267,-0.3682498559607633,-1.051561812832864,0.9742748100847685,-1.8840815140861575,-1.163604661761712,0.2695935706119995,-0.2153451906084906,-0.4643422556942716,-0.03181141759971215,1.601791961152759,-1.263754355144204,-0.4277428623143499,0.3758165557541959,0.466825436020422,0.12952785501322436,-1.1010703462267066,-1.2236492596008608,0.01927986704213586,-0.6869701717286061,-0.6547097891615642,-0.2396485802567933,-0.05472819079502166,-2.6898646855476485,-1.2873936728903954,0.6240206318014331,1.249178232250976,0.4185312567426191,-1.4588386970350944,-0.19460072611954962,0.509326925798342,0.1338898266727817,-1.2748281912315276,-1.3360835573105292,-0.2282333872994752,1.0511136019093947],\"yaxis\":\"y8\",\"type\":\"scatter\"},{\"line\":{\"color\":\"rgba(128, 128, 128, 1.0)\",\"dash\":\"solid\",\"shape\":\"linear\",\"width\":1.3},\"marker\":{\"size\":2,\"symbol\":\"circle\"},\"mode\":\"markers\",\"name\":\"C\",\"text\":\"\",\"x\":[-1.23367774458424,0.7354606535590142,0.18297916358793126,0.4997206964909568,-0.4164376791113165,0.7725868189495974,-0.3190709225596303,-0.34509557310354055,0.17571314182171857,1.2832496432359026,-0.6701622872223576,0.1726151343541529,-0.5371486714244423,0.14866247108121355,-1.1134174896360065,0.9181426264528164,0.2916545629339712,-1.5327750870756958,-1.4981000212493611,-0.6778356750220685,1.735421358474536,-0.6843482671654342,-2.3903111255154244,-0.19203745335697894,-0.7727337242600216,0.4851640083650962,-0.03687388157122996,-0.28013428904290666,0.13278542161376505,0.3119355241632733,1.5559893421845665,-0.14961659575442454,-0.6254401403525508,0.14409253691847518,-0.17776408261353757,-1.506867556747576,-0.9417607912397659,1.8817932769503896,-0.09791659724689179,2.341697749668085,-1.0463068519188832,0.7667785456655989,0.3744052165922298,-0.11600890719464242,1.3157688037328155,-0.47044669371950476,0.5387585482327067,0.7425985029443694,0.9624955022877838,-0.2984520913272161,-0.2183144798873457,0.9022682433066121,1.155171384106318,-0.4639222451394979,1.9799373349193057,-0.9709105566083415,0.4266930092556539,0.7982776980272756,-0.788330192220676,2.214154651931596,0.8517386094525903,0.7307109968115925,0.7635729782447669,0.10645212322818463,0.36019364897067474,0.9746982639638698,-0.5556653065216498,0.17462254664205748,-1.8419332782616773,-1.985223300131962,0.7467115259440948,2.2401539237310297,-0.8646309336109702,0.03176867873429596,1.0856986000536937,0.5765714008077054,1.8425945746859302,-0.5982346749068658,1.281876291366642,-1.4856750066733857,-0.40617642583972385,1.227860895027526,-0.1516154355428637,-0.19119937484773103,1.6412982490327952,-0.16593239072305466,-1.2920286182886802,-0.8691861682544956,-1.850680027577851,2.257954454887254,2.6285325515955864,-0.0684629034273146,1.7513799068573954,-0.46705614107678833,-0.10754645646971306,0.3550472312638334,-0.030799279632314668,0.48260371806705854,0.6037213493070618,1.2001353535703647],\"xaxis\":\"x9\",\"y\":[-0.34370852148833775,-1.6037070888676004,-1.0117519586533903,2.3520700857796037,-0.07800786087730324,1.7477028399367123,-1.3134636218504039,0.834917922822358,-1.6879711424176278,-1.4631717164175138,0.06260354179374829,-1.058293815930557,-0.8547977131737582,0.12040414862863882,1.320848958790828,-0.1663789255787278,0.956055668413484,0.13652661175792463,-1.0486821992527868,-0.8123151430828478,-0.3603782295493598,2.0800555742838696,1.0279573944752483,-0.9285579023018954,-1.5249896100398639,-0.42251603931199544,-0.17278746245657228,0.09971652959597924,0.5245379305962313,0.5758482550732602,0.08999784454025511,0.4246620759988931,2.385590884310923,0.9435396158109014,-0.10350349061134614,0.37869652762416994,0.3506595888281066,-1.1023064841618144,-1.515163438097079,0.7018189655599872,-0.5472974960629561,0.45086640912233394,-1.0323496052416319,1.0781607798625312,0.40589874379108193,0.04796820422522915,1.1483656721206774,-0.7254572801758798,0.03615515285397519,-0.3629751313234159,-1.4103474431164458,-0.444878978022152,-1.1567563260758529,0.05392222192325666,1.5723888163918553,0.3168075874475406,1.5084826520533836,1.5033058696550723,0.7140032131679233,-0.013307389720520662,1.303203326685032,-0.46656882533908856,-1.787337883505314,0.289923762209665,0.20032842830256625,-0.36130641876922126,-0.8394345059986312,0.09568776491921355,-0.1009539924355601,0.7409983668257607,-0.31442540937426433,-1.3967235868497487,-2.002851615229901,0.9813604252326612,1.2940876771427605,0.45236708325259406,0.39819579938627014,1.9013035021034381,-0.979183794087184,-0.19388177386612115,-1.3065320126945617,-0.8102323344833,0.7274599286254197,1.2253763472748123,-0.6328830446589793,0.7267424776293127,-0.4303729667109366,1.5517488795556174,1.2946292755127904,0.13838587736783844,-1.3493619397165506,-0.17864844790246678,-0.4549657696654094,-0.3651793980414446,-1.5837668607694977,-1.538225241820272,1.9919583756213672,0.4634375459475504,-1.7056423601701083,-0.4557409185352117],\"yaxis\":\"y9\",\"type\":\"scatter\"},{\"line\":{\"color\":\"rgba(128, 128, 128, 1.0)\",\"dash\":\"solid\",\"shape\":\"linear\",\"width\":1.3},\"marker\":{\"size\":2,\"symbol\":\"circle\"},\"mode\":\"markers\",\"name\":\"C\",\"text\":\"\",\"x\":[1.6136967679655434,-1.7743454628646287,-0.7203287172843124,-0.6117954031487445,-0.5009445747690496,-0.24161844138377042,-0.08872694595508866,0.9414124362805255,-1.3156998667030655,-1.4071666051435512,0.5936163122545488,-1.4425960457191493,0.8871373825005632,0.7934761210859214,1.6388025932684638,-0.11005133315602779,-0.10825386825750678,0.0025098233379851074,0.2872930674671653,-0.6648284861864668,-0.15297087907323706,-0.22340340462924857,-1.046194162796279,-0.6992987713385544,-1.428382051025518,2.2717657882437416,-0.2991219216134819,0.8036729570996414,0.07473183143488986,0.03629793496927448,0.7282501907601823,-0.468992428764272,1.1354729217609987,-0.17500536226349744,-0.8823112338592987,-1.0267863666982082,0.22929164557760115,0.08166986290003601,-0.4330250214952117,-1.4768571379632707,-0.03836514380320835,0.5605916358916565,0.3208280805065191,-0.30636035654476584,-0.5856938781868646,-0.9413963300297031,-1.8328437051415842,0.3633607192627451,0.014613820067525655,-2.0581325295536987,-0.5814716694456769,-0.645961870134278,-0.9509169358479385,-0.5364320563027563,-0.09927241848365108,1.1677610430726344,0.3140389325576045,2.2953591028356666,-0.811016454177509,-1.0738306708614167,-0.5448157712114431,1.0117744371276478,0.4037143519820321,-0.07573006893551563,0.20146794629997267,-0.3682498559607633,-1.051561812832864,0.9742748100847685,-1.8840815140861575,-1.163604661761712,0.2695935706119995,-0.2153451906084906,-0.4643422556942716,-0.03181141759971215,1.601791961152759,-1.263754355144204,-0.4277428623143499,0.3758165557541959,0.466825436020422,0.12952785501322436,-1.1010703462267066,-1.2236492596008608,0.01927986704213586,-0.6869701717286061,-0.6547097891615642,-0.2396485802567933,-0.05472819079502166,-2.6898646855476485,-1.2873936728903954,0.6240206318014331,1.249178232250976,0.4185312567426191,-1.4588386970350944,-0.19460072611954962,0.509326925798342,0.1338898266727817,-1.2748281912315276,-1.3360835573105292,-0.2282333872994752,1.0511136019093947],\"xaxis\":\"x10\",\"y\":[-0.34370852148833775,-1.6037070888676004,-1.0117519586533903,2.3520700857796037,-0.07800786087730324,1.7477028399367123,-1.3134636218504039,0.834917922822358,-1.6879711424176278,-1.4631717164175138,0.06260354179374829,-1.058293815930557,-0.8547977131737582,0.12040414862863882,1.320848958790828,-0.1663789255787278,0.956055668413484,0.13652661175792463,-1.0486821992527868,-0.8123151430828478,-0.3603782295493598,2.0800555742838696,1.0279573944752483,-0.9285579023018954,-1.5249896100398639,-0.42251603931199544,-0.17278746245657228,0.09971652959597924,0.5245379305962313,0.5758482550732602,0.08999784454025511,0.4246620759988931,2.385590884310923,0.9435396158109014,-0.10350349061134614,0.37869652762416994,0.3506595888281066,-1.1023064841618144,-1.515163438097079,0.7018189655599872,-0.5472974960629561,0.45086640912233394,-1.0323496052416319,1.0781607798625312,0.40589874379108193,0.04796820422522915,1.1483656721206774,-0.7254572801758798,0.03615515285397519,-0.3629751313234159,-1.4103474431164458,-0.444878978022152,-1.1567563260758529,0.05392222192325666,1.5723888163918553,0.3168075874475406,1.5084826520533836,1.5033058696550723,0.7140032131679233,-0.013307389720520662,1.303203326685032,-0.46656882533908856,-1.787337883505314,0.289923762209665,0.20032842830256625,-0.36130641876922126,-0.8394345059986312,0.09568776491921355,-0.1009539924355601,0.7409983668257607,-0.31442540937426433,-1.3967235868497487,-2.002851615229901,0.9813604252326612,1.2940876771427605,0.45236708325259406,0.39819579938627014,1.9013035021034381,-0.979183794087184,-0.19388177386612115,-1.3065320126945617,-0.8102323344833,0.7274599286254197,1.2253763472748123,-0.6328830446589793,0.7267424776293127,-0.4303729667109366,1.5517488795556174,1.2946292755127904,0.13838587736783844,-1.3493619397165506,-0.17864844790246678,-0.4549657696654094,-0.3651793980414446,-1.5837668607694977,-1.538225241820272,1.9919583756213672,0.4634375459475504,-1.7056423601701083,-0.4557409185352117],\"yaxis\":\"y10\",\"type\":\"scatter\"},{\"histfunc\":\"count\",\"histnorm\":\"\",\"marker\":{\"color\":\"rgba(50, 171, 96, 1.0)\",\"line\":{\"color\":\"#4D5663\",\"width\":1.3}},\"name\":\"C\",\"nbinsx\":10,\"opacity\":0.8,\"orientation\":\"v\",\"x\":[-0.34370852148833775,-1.6037070888676004,-1.0117519586533903,2.3520700857796037,-0.07800786087730324,1.7477028399367123,-1.3134636218504039,0.834917922822358,-1.6879711424176278,-1.4631717164175138,0.06260354179374829,-1.058293815930557,-0.8547977131737582,0.12040414862863882,1.320848958790828,-0.1663789255787278,0.956055668413484,0.13652661175792463,-1.0486821992527868,-0.8123151430828478,-0.3603782295493598,2.0800555742838696,1.0279573944752483,-0.9285579023018954,-1.5249896100398639,-0.42251603931199544,-0.17278746245657228,0.09971652959597924,0.5245379305962313,0.5758482550732602,0.08999784454025511,0.4246620759988931,2.385590884310923,0.9435396158109014,-0.10350349061134614,0.37869652762416994,0.3506595888281066,-1.1023064841618144,-1.515163438097079,0.7018189655599872,-0.5472974960629561,0.45086640912233394,-1.0323496052416319,1.0781607798625312,0.40589874379108193,0.04796820422522915,1.1483656721206774,-0.7254572801758798,0.03615515285397519,-0.3629751313234159,-1.4103474431164458,-0.444878978022152,-1.1567563260758529,0.05392222192325666,1.5723888163918553,0.3168075874475406,1.5084826520533836,1.5033058696550723,0.7140032131679233,-0.013307389720520662,1.303203326685032,-0.46656882533908856,-1.787337883505314,0.289923762209665,0.20032842830256625,-0.36130641876922126,-0.8394345059986312,0.09568776491921355,-0.1009539924355601,0.7409983668257607,-0.31442540937426433,-1.3967235868497487,-2.002851615229901,0.9813604252326612,1.2940876771427605,0.45236708325259406,0.39819579938627014,1.9013035021034381,-0.979183794087184,-0.19388177386612115,-1.3065320126945617,-0.8102323344833,0.7274599286254197,1.2253763472748123,-0.6328830446589793,0.7267424776293127,-0.4303729667109366,1.5517488795556174,1.2946292755127904,0.13838587736783844,-1.3493619397165506,-0.17864844790246678,-0.4549657696654094,-0.3651793980414446,-1.5837668607694977,-1.538225241820272,1.9919583756213672,0.4634375459475504,-1.7056423601701083,-0.4557409185352117],\"xaxis\":\"x11\",\"yaxis\":\"y11\",\"type\":\"histogram\"},{\"line\":{\"color\":\"rgba(128, 128, 128, 1.0)\",\"dash\":\"solid\",\"shape\":\"linear\",\"width\":1.3},\"marker\":{\"size\":2,\"symbol\":\"circle\"},\"mode\":\"markers\",\"name\":\"C\",\"text\":\"\",\"x\":[-0.4525155307585302,-1.1847407611918483,-0.6793716908468681,-0.7663491194820993,-2.1037826400325375,0.451631524283149,0.7093347084577076,-0.13353638840608778,1.5205988799445087,1.5278493845638228,-0.3846171086426508,-0.8674568537134518,1.299356130748103,-1.8673558194780966,1.206392511699628,-0.6298690687332809,1.4121137273867659,-0.9932980773519611,-0.08511403258554953,-0.03917959783296583,1.0177798325126055,-0.9142575587934604,0.08487968683490116,0.8140429903383063,0.2027994074813393,-2.2457237748949614,0.797675681069284,-1.4347227334780444,-0.8023559564700763,0.8173008634313658,-2.6143267010803655,0.010099944429897412,1.1448990833802974,-0.13294317369698727,-1.4447427598147196,-0.18236573682642726,-0.1371302988288747,1.7452156674678587,0.9557468926091326,1.6999482466830902,1.0844698760459346,-0.9687820018821905,-0.2898370304894389,-0.3808640586901712,2.466496023407135,-0.8597502401088455,-1.0550011235261636,1.13639270921484,1.9627931527711124,-0.015462480200274966,-0.696353258591921,-0.6215499023794203,-0.640185573946483,-0.28345710445611444,-1.448223204467605,-1.2568378934927584,-0.6129093957117677,1.2866974325236984,2.723007327425759,-1.7488581469360764,-0.7906453832274789,-0.2708486716777824,0.5725303392874214,1.5594650781817387,0.396780769224614,0.4131818712532956,-0.2782569433258647,-0.09888653436213217,0.17228875184139641,0.08463458982687724,0.5857287900509336,0.8365703340936173,-0.6538583301479146,-1.358360897596932,-0.5919410242500869,0.5368324263433479,-2.143818654993575,0.22425849005050116,-1.2945576486575732,-1.6252838191970418,-0.6111592374974577,2.3629129341321335,-0.8704263650104284,-1.0239197809652285,1.3596960473221344,0.2753242239499126,-1.3090562555703824,0.46155247720388887,1.1543044188659888,0.15057621415812555,-2.102842980891349,-0.28836526127846385,1.367076393792901,-0.8683588779318776,0.10089130202092392,-0.2623850238247419,-0.5243677250921439,-1.0854310368659164,-0.1519881281047457,-0.16858694649079947],\"xaxis\":\"x12\",\"y\":[-0.34370852148833775,-1.6037070888676004,-1.0117519586533903,2.3520700857796037,-0.07800786087730324,1.7477028399367123,-1.3134636218504039,0.834917922822358,-1.6879711424176278,-1.4631717164175138,0.06260354179374829,-1.058293815930557,-0.8547977131737582,0.12040414862863882,1.320848958790828,-0.1663789255787278,0.956055668413484,0.13652661175792463,-1.0486821992527868,-0.8123151430828478,-0.3603782295493598,2.0800555742838696,1.0279573944752483,-0.9285579023018954,-1.5249896100398639,-0.42251603931199544,-0.17278746245657228,0.09971652959597924,0.5245379305962313,0.5758482550732602,0.08999784454025511,0.4246620759988931,2.385590884310923,0.9435396158109014,-0.10350349061134614,0.37869652762416994,0.3506595888281066,-1.1023064841618144,-1.515163438097079,0.7018189655599872,-0.5472974960629561,0.45086640912233394,-1.0323496052416319,1.0781607798625312,0.40589874379108193,0.04796820422522915,1.1483656721206774,-0.7254572801758798,0.03615515285397519,-0.3629751313234159,-1.4103474431164458,-0.444878978022152,-1.1567563260758529,0.05392222192325666,1.5723888163918553,0.3168075874475406,1.5084826520533836,1.5033058696550723,0.7140032131679233,-0.013307389720520662,1.303203326685032,-0.46656882533908856,-1.787337883505314,0.289923762209665,0.20032842830256625,-0.36130641876922126,-0.8394345059986312,0.09568776491921355,-0.1009539924355601,0.7409983668257607,-0.31442540937426433,-1.3967235868497487,-2.002851615229901,0.9813604252326612,1.2940876771427605,0.45236708325259406,0.39819579938627014,1.9013035021034381,-0.979183794087184,-0.19388177386612115,-1.3065320126945617,-0.8102323344833,0.7274599286254197,1.2253763472748123,-0.6328830446589793,0.7267424776293127,-0.4303729667109366,1.5517488795556174,1.2946292755127904,0.13838587736783844,-1.3493619397165506,-0.17864844790246678,-0.4549657696654094,-0.3651793980414446,-1.5837668607694977,-1.538225241820272,1.9919583756213672,0.4634375459475504,-1.7056423601701083,-0.4557409185352117],\"yaxis\":\"y12\",\"type\":\"scatter\"},{\"line\":{\"color\":\"rgba(128, 128, 128, 1.0)\",\"dash\":\"solid\",\"shape\":\"linear\",\"width\":1.3},\"marker\":{\"size\":2,\"symbol\":\"circle\"},\"mode\":\"markers\",\"name\":\"D\",\"text\":\"\",\"x\":[-1.23367774458424,0.7354606535590142,0.18297916358793126,0.4997206964909568,-0.4164376791113165,0.7725868189495974,-0.3190709225596303,-0.34509557310354055,0.17571314182171857,1.2832496432359026,-0.6701622872223576,0.1726151343541529,-0.5371486714244423,0.14866247108121355,-1.1134174896360065,0.9181426264528164,0.2916545629339712,-1.5327750870756958,-1.4981000212493611,-0.6778356750220685,1.735421358474536,-0.6843482671654342,-2.3903111255154244,-0.19203745335697894,-0.7727337242600216,0.4851640083650962,-0.03687388157122996,-0.28013428904290666,0.13278542161376505,0.3119355241632733,1.5559893421845665,-0.14961659575442454,-0.6254401403525508,0.14409253691847518,-0.17776408261353757,-1.506867556747576,-0.9417607912397659,1.8817932769503896,-0.09791659724689179,2.341697749668085,-1.0463068519188832,0.7667785456655989,0.3744052165922298,-0.11600890719464242,1.3157688037328155,-0.47044669371950476,0.5387585482327067,0.7425985029443694,0.9624955022877838,-0.2984520913272161,-0.2183144798873457,0.9022682433066121,1.155171384106318,-0.4639222451394979,1.9799373349193057,-0.9709105566083415,0.4266930092556539,0.7982776980272756,-0.788330192220676,2.214154651931596,0.8517386094525903,0.7307109968115925,0.7635729782447669,0.10645212322818463,0.36019364897067474,0.9746982639638698,-0.5556653065216498,0.17462254664205748,-1.8419332782616773,-1.985223300131962,0.7467115259440948,2.2401539237310297,-0.8646309336109702,0.03176867873429596,1.0856986000536937,0.5765714008077054,1.8425945746859302,-0.5982346749068658,1.281876291366642,-1.4856750066733857,-0.40617642583972385,1.227860895027526,-0.1516154355428637,-0.19119937484773103,1.6412982490327952,-0.16593239072305466,-1.2920286182886802,-0.8691861682544956,-1.850680027577851,2.257954454887254,2.6285325515955864,-0.0684629034273146,1.7513799068573954,-0.46705614107678833,-0.10754645646971306,0.3550472312638334,-0.030799279632314668,0.48260371806705854,0.6037213493070618,1.2001353535703647],\"xaxis\":\"x13\",\"y\":[-0.4525155307585302,-1.1847407611918483,-0.6793716908468681,-0.7663491194820993,-2.1037826400325375,0.451631524283149,0.7093347084577076,-0.13353638840608778,1.5205988799445087,1.5278493845638228,-0.3846171086426508,-0.8674568537134518,1.299356130748103,-1.8673558194780966,1.206392511699628,-0.6298690687332809,1.4121137273867659,-0.9932980773519611,-0.08511403258554953,-0.03917959783296583,1.0177798325126055,-0.9142575587934604,0.08487968683490116,0.8140429903383063,0.2027994074813393,-2.2457237748949614,0.797675681069284,-1.4347227334780444,-0.8023559564700763,0.8173008634313658,-2.6143267010803655,0.010099944429897412,1.1448990833802974,-0.13294317369698727,-1.4447427598147196,-0.18236573682642726,-0.1371302988288747,1.7452156674678587,0.9557468926091326,1.6999482466830902,1.0844698760459346,-0.9687820018821905,-0.2898370304894389,-0.3808640586901712,2.466496023407135,-0.8597502401088455,-1.0550011235261636,1.13639270921484,1.9627931527711124,-0.015462480200274966,-0.696353258591921,-0.6215499023794203,-0.640185573946483,-0.28345710445611444,-1.448223204467605,-1.2568378934927584,-0.6129093957117677,1.2866974325236984,2.723007327425759,-1.7488581469360764,-0.7906453832274789,-0.2708486716777824,0.5725303392874214,1.5594650781817387,0.396780769224614,0.4131818712532956,-0.2782569433258647,-0.09888653436213217,0.17228875184139641,0.08463458982687724,0.5857287900509336,0.8365703340936173,-0.6538583301479146,-1.358360897596932,-0.5919410242500869,0.5368324263433479,-2.143818654993575,0.22425849005050116,-1.2945576486575732,-1.6252838191970418,-0.6111592374974577,2.3629129341321335,-0.8704263650104284,-1.0239197809652285,1.3596960473221344,0.2753242239499126,-1.3090562555703824,0.46155247720388887,1.1543044188659888,0.15057621415812555,-2.102842980891349,-0.28836526127846385,1.367076393792901,-0.8683588779318776,0.10089130202092392,-0.2623850238247419,-0.5243677250921439,-1.0854310368659164,-0.1519881281047457,-0.16858694649079947],\"yaxis\":\"y13\",\"type\":\"scatter\"},{\"line\":{\"color\":\"rgba(128, 128, 128, 1.0)\",\"dash\":\"solid\",\"shape\":\"linear\",\"width\":1.3},\"marker\":{\"size\":2,\"symbol\":\"circle\"},\"mode\":\"markers\",\"name\":\"D\",\"text\":\"\",\"x\":[1.6136967679655434,-1.7743454628646287,-0.7203287172843124,-0.6117954031487445,-0.5009445747690496,-0.24161844138377042,-0.08872694595508866,0.9414124362805255,-1.3156998667030655,-1.4071666051435512,0.5936163122545488,-1.4425960457191493,0.8871373825005632,0.7934761210859214,1.6388025932684638,-0.11005133315602779,-0.10825386825750678,0.0025098233379851074,0.2872930674671653,-0.6648284861864668,-0.15297087907323706,-0.22340340462924857,-1.046194162796279,-0.6992987713385544,-1.428382051025518,2.2717657882437416,-0.2991219216134819,0.8036729570996414,0.07473183143488986,0.03629793496927448,0.7282501907601823,-0.468992428764272,1.1354729217609987,-0.17500536226349744,-0.8823112338592987,-1.0267863666982082,0.22929164557760115,0.08166986290003601,-0.4330250214952117,-1.4768571379632707,-0.03836514380320835,0.5605916358916565,0.3208280805065191,-0.30636035654476584,-0.5856938781868646,-0.9413963300297031,-1.8328437051415842,0.3633607192627451,0.014613820067525655,-2.0581325295536987,-0.5814716694456769,-0.645961870134278,-0.9509169358479385,-0.5364320563027563,-0.09927241848365108,1.1677610430726344,0.3140389325576045,2.2953591028356666,-0.811016454177509,-1.0738306708614167,-0.5448157712114431,1.0117744371276478,0.4037143519820321,-0.07573006893551563,0.20146794629997267,-0.3682498559607633,-1.051561812832864,0.9742748100847685,-1.8840815140861575,-1.163604661761712,0.2695935706119995,-0.2153451906084906,-0.4643422556942716,-0.03181141759971215,1.601791961152759,-1.263754355144204,-0.4277428623143499,0.3758165557541959,0.466825436020422,0.12952785501322436,-1.1010703462267066,-1.2236492596008608,0.01927986704213586,-0.6869701717286061,-0.6547097891615642,-0.2396485802567933,-0.05472819079502166,-2.6898646855476485,-1.2873936728903954,0.6240206318014331,1.249178232250976,0.4185312567426191,-1.4588386970350944,-0.19460072611954962,0.509326925798342,0.1338898266727817,-1.2748281912315276,-1.3360835573105292,-0.2282333872994752,1.0511136019093947],\"xaxis\":\"x14\",\"y\":[-0.4525155307585302,-1.1847407611918483,-0.6793716908468681,-0.7663491194820993,-2.1037826400325375,0.451631524283149,0.7093347084577076,-0.13353638840608778,1.5205988799445087,1.5278493845638228,-0.3846171086426508,-0.8674568537134518,1.299356130748103,-1.8673558194780966,1.206392511699628,-0.6298690687332809,1.4121137273867659,-0.9932980773519611,-0.08511403258554953,-0.03917959783296583,1.0177798325126055,-0.9142575587934604,0.08487968683490116,0.8140429903383063,0.2027994074813393,-2.2457237748949614,0.797675681069284,-1.4347227334780444,-0.8023559564700763,0.8173008634313658,-2.6143267010803655,0.010099944429897412,1.1448990833802974,-0.13294317369698727,-1.4447427598147196,-0.18236573682642726,-0.1371302988288747,1.7452156674678587,0.9557468926091326,1.6999482466830902,1.0844698760459346,-0.9687820018821905,-0.2898370304894389,-0.3808640586901712,2.466496023407135,-0.8597502401088455,-1.0550011235261636,1.13639270921484,1.9627931527711124,-0.015462480200274966,-0.696353258591921,-0.6215499023794203,-0.640185573946483,-0.28345710445611444,-1.448223204467605,-1.2568378934927584,-0.6129093957117677,1.2866974325236984,2.723007327425759,-1.7488581469360764,-0.7906453832274789,-0.2708486716777824,0.5725303392874214,1.5594650781817387,0.396780769224614,0.4131818712532956,-0.2782569433258647,-0.09888653436213217,0.17228875184139641,0.08463458982687724,0.5857287900509336,0.8365703340936173,-0.6538583301479146,-1.358360897596932,-0.5919410242500869,0.5368324263433479,-2.143818654993575,0.22425849005050116,-1.2945576486575732,-1.6252838191970418,-0.6111592374974577,2.3629129341321335,-0.8704263650104284,-1.0239197809652285,1.3596960473221344,0.2753242239499126,-1.3090562555703824,0.46155247720388887,1.1543044188659888,0.15057621415812555,-2.102842980891349,-0.28836526127846385,1.367076393792901,-0.8683588779318776,0.10089130202092392,-0.2623850238247419,-0.5243677250921439,-1.0854310368659164,-0.1519881281047457,-0.16858694649079947],\"yaxis\":\"y14\",\"type\":\"scatter\"},{\"line\":{\"color\":\"rgba(128, 128, 128, 1.0)\",\"dash\":\"solid\",\"shape\":\"linear\",\"width\":1.3},\"marker\":{\"size\":2,\"symbol\":\"circle\"},\"mode\":\"markers\",\"name\":\"D\",\"text\":\"\",\"x\":[-0.34370852148833775,-1.6037070888676004,-1.0117519586533903,2.3520700857796037,-0.07800786087730324,1.7477028399367123,-1.3134636218504039,0.834917922822358,-1.6879711424176278,-1.4631717164175138,0.06260354179374829,-1.058293815930557,-0.8547977131737582,0.12040414862863882,1.320848958790828,-0.1663789255787278,0.956055668413484,0.13652661175792463,-1.0486821992527868,-0.8123151430828478,-0.3603782295493598,2.0800555742838696,1.0279573944752483,-0.9285579023018954,-1.5249896100398639,-0.42251603931199544,-0.17278746245657228,0.09971652959597924,0.5245379305962313,0.5758482550732602,0.08999784454025511,0.4246620759988931,2.385590884310923,0.9435396158109014,-0.10350349061134614,0.37869652762416994,0.3506595888281066,-1.1023064841618144,-1.515163438097079,0.7018189655599872,-0.5472974960629561,0.45086640912233394,-1.0323496052416319,1.0781607798625312,0.40589874379108193,0.04796820422522915,1.1483656721206774,-0.7254572801758798,0.03615515285397519,-0.3629751313234159,-1.4103474431164458,-0.444878978022152,-1.1567563260758529,0.05392222192325666,1.5723888163918553,0.3168075874475406,1.5084826520533836,1.5033058696550723,0.7140032131679233,-0.013307389720520662,1.303203326685032,-0.46656882533908856,-1.787337883505314,0.289923762209665,0.20032842830256625,-0.36130641876922126,-0.8394345059986312,0.09568776491921355,-0.1009539924355601,0.7409983668257607,-0.31442540937426433,-1.3967235868497487,-2.002851615229901,0.9813604252326612,1.2940876771427605,0.45236708325259406,0.39819579938627014,1.9013035021034381,-0.979183794087184,-0.19388177386612115,-1.3065320126945617,-0.8102323344833,0.7274599286254197,1.2253763472748123,-0.6328830446589793,0.7267424776293127,-0.4303729667109366,1.5517488795556174,1.2946292755127904,0.13838587736783844,-1.3493619397165506,-0.17864844790246678,-0.4549657696654094,-0.3651793980414446,-1.5837668607694977,-1.538225241820272,1.9919583756213672,0.4634375459475504,-1.7056423601701083,-0.4557409185352117],\"xaxis\":\"x15\",\"y\":[-0.4525155307585302,-1.1847407611918483,-0.6793716908468681,-0.7663491194820993,-2.1037826400325375,0.451631524283149,0.7093347084577076,-0.13353638840608778,1.5205988799445087,1.5278493845638228,-0.3846171086426508,-0.8674568537134518,1.299356130748103,-1.8673558194780966,1.206392511699628,-0.6298690687332809,1.4121137273867659,-0.9932980773519611,-0.08511403258554953,-0.03917959783296583,1.0177798325126055,-0.9142575587934604,0.08487968683490116,0.8140429903383063,0.2027994074813393,-2.2457237748949614,0.797675681069284,-1.4347227334780444,-0.8023559564700763,0.8173008634313658,-2.6143267010803655,0.010099944429897412,1.1448990833802974,-0.13294317369698727,-1.4447427598147196,-0.18236573682642726,-0.1371302988288747,1.7452156674678587,0.9557468926091326,1.6999482466830902,1.0844698760459346,-0.9687820018821905,-0.2898370304894389,-0.3808640586901712,2.466496023407135,-0.8597502401088455,-1.0550011235261636,1.13639270921484,1.9627931527711124,-0.015462480200274966,-0.696353258591921,-0.6215499023794203,-0.640185573946483,-0.28345710445611444,-1.448223204467605,-1.2568378934927584,-0.6129093957117677,1.2866974325236984,2.723007327425759,-1.7488581469360764,-0.7906453832274789,-0.2708486716777824,0.5725303392874214,1.5594650781817387,0.396780769224614,0.4131818712532956,-0.2782569433258647,-0.09888653436213217,0.17228875184139641,0.08463458982687724,0.5857287900509336,0.8365703340936173,-0.6538583301479146,-1.358360897596932,-0.5919410242500869,0.5368324263433479,-2.143818654993575,0.22425849005050116,-1.2945576486575732,-1.6252838191970418,-0.6111592374974577,2.3629129341321335,-0.8704263650104284,-1.0239197809652285,1.3596960473221344,0.2753242239499126,-1.3090562555703824,0.46155247720388887,1.1543044188659888,0.15057621415812555,-2.102842980891349,-0.28836526127846385,1.367076393792901,-0.8683588779318776,0.10089130202092392,-0.2623850238247419,-0.5243677250921439,-1.0854310368659164,-0.1519881281047457,-0.16858694649079947],\"yaxis\":\"y15\",\"type\":\"scatter\"},{\"histfunc\":\"count\",\"histnorm\":\"\",\"marker\":{\"color\":\"rgba(128, 0, 128, 1.0)\",\"line\":{\"color\":\"#4D5663\",\"width\":1.3}},\"name\":\"D\",\"nbinsx\":10,\"opacity\":0.8,\"orientation\":\"v\",\"x\":[-0.4525155307585302,-1.1847407611918483,-0.6793716908468681,-0.7663491194820993,-2.1037826400325375,0.451631524283149,0.7093347084577076,-0.13353638840608778,1.5205988799445087,1.5278493845638228,-0.3846171086426508,-0.8674568537134518,1.299356130748103,-1.8673558194780966,1.206392511699628,-0.6298690687332809,1.4121137273867659,-0.9932980773519611,-0.08511403258554953,-0.03917959783296583,1.0177798325126055,-0.9142575587934604,0.08487968683490116,0.8140429903383063,0.2027994074813393,-2.2457237748949614,0.797675681069284,-1.4347227334780444,-0.8023559564700763,0.8173008634313658,-2.6143267010803655,0.010099944429897412,1.1448990833802974,-0.13294317369698727,-1.4447427598147196,-0.18236573682642726,-0.1371302988288747,1.7452156674678587,0.9557468926091326,1.6999482466830902,1.0844698760459346,-0.9687820018821905,-0.2898370304894389,-0.3808640586901712,2.466496023407135,-0.8597502401088455,-1.0550011235261636,1.13639270921484,1.9627931527711124,-0.015462480200274966,-0.696353258591921,-0.6215499023794203,-0.640185573946483,-0.28345710445611444,-1.448223204467605,-1.2568378934927584,-0.6129093957117677,1.2866974325236984,2.723007327425759,-1.7488581469360764,-0.7906453832274789,-0.2708486716777824,0.5725303392874214,1.5594650781817387,0.396780769224614,0.4131818712532956,-0.2782569433258647,-0.09888653436213217,0.17228875184139641,0.08463458982687724,0.5857287900509336,0.8365703340936173,-0.6538583301479146,-1.358360897596932,-0.5919410242500869,0.5368324263433479,-2.143818654993575,0.22425849005050116,-1.2945576486575732,-1.6252838191970418,-0.6111592374974577,2.3629129341321335,-0.8704263650104284,-1.0239197809652285,1.3596960473221344,0.2753242239499126,-1.3090562555703824,0.46155247720388887,1.1543044188659888,0.15057621415812555,-2.102842980891349,-0.28836526127846385,1.367076393792901,-0.8683588779318776,0.10089130202092392,-0.2623850238247419,-0.5243677250921439,-1.0854310368659164,-0.1519881281047457,-0.16858694649079947],\"xaxis\":\"x16\",\"yaxis\":\"y16\",\"type\":\"histogram\"}],                        {\"bargap\":0.02,\"legend\":{\"bgcolor\":\"#F5F6F9\",\"font\":{\"color\":\"#4D5663\"}},\"paper_bgcolor\":\"#F5F6F9\",\"plot_bgcolor\":\"#F5F6F9\",\"showlegend\":false,\"template\":{\"data\":{\"barpolar\":[{\"marker\":{\"line\":{\"color\":\"#E5ECF6\",\"width\":0.5},\"pattern\":{\"fillmode\":\"overlay\",\"size\":10,\"solidity\":0.2}},\"type\":\"barpolar\"}],\"bar\":[{\"error_x\":{\"color\":\"#2a3f5f\"},\"error_y\":{\"color\":\"#2a3f5f\"},\"marker\":{\"line\":{\"color\":\"#E5ECF6\",\"width\":0.5},\"pattern\":{\"fillmode\":\"overlay\",\"size\":10,\"solidity\":0.2}},\"type\":\"bar\"}],\"carpet\":[{\"aaxis\":{\"endlinecolor\":\"#2a3f5f\",\"gridcolor\":\"white\",\"linecolor\":\"white\",\"minorgridcolor\":\"white\",\"startlinecolor\":\"#2a3f5f\"},\"baxis\":{\"endlinecolor\":\"#2a3f5f\",\"gridcolor\":\"white\",\"linecolor\":\"white\",\"minorgridcolor\":\"white\",\"startlinecolor\":\"#2a3f5f\"},\"type\":\"carpet\"}],\"choropleth\":[{\"colorbar\":{\"outlinewidth\":0,\"ticks\":\"\"},\"type\":\"choropleth\"}],\"contourcarpet\":[{\"colorbar\":{\"outlinewidth\":0,\"ticks\":\"\"},\"type\":\"contourcarpet\"}],\"contour\":[{\"colorbar\":{\"outlinewidth\":0,\"ticks\":\"\"},\"colorscale\":[[0.0,\"#0d0887\"],[0.1111111111111111,\"#46039f\"],[0.2222222222222222,\"#7201a8\"],[0.3333333333333333,\"#9c179e\"],[0.4444444444444444,\"#bd3786\"],[0.5555555555555556,\"#d8576b\"],[0.6666666666666666,\"#ed7953\"],[0.7777777777777778,\"#fb9f3a\"],[0.8888888888888888,\"#fdca26\"],[1.0,\"#f0f921\"]],\"type\":\"contour\"}],\"heatmapgl\":[{\"colorbar\":{\"outlinewidth\":0,\"ticks\":\"\"},\"colorscale\":[[0.0,\"#0d0887\"],[0.1111111111111111,\"#46039f\"],[0.2222222222222222,\"#7201a8\"],[0.3333333333333333,\"#9c179e\"],[0.4444444444444444,\"#bd3786\"],[0.5555555555555556,\"#d8576b\"],[0.6666666666666666,\"#ed7953\"],[0.7777777777777778,\"#fb9f3a\"],[0.8888888888888888,\"#fdca26\"],[1.0,\"#f0f921\"]],\"type\":\"heatmapgl\"}],\"heatmap\":[{\"colorbar\":{\"outlinewidth\":0,\"ticks\":\"\"},\"colorscale\":[[0.0,\"#0d0887\"],[0.1111111111111111,\"#46039f\"],[0.2222222222222222,\"#7201a8\"],[0.3333333333333333,\"#9c179e\"],[0.4444444444444444,\"#bd3786\"],[0.5555555555555556,\"#d8576b\"],[0.6666666666666666,\"#ed7953\"],[0.7777777777777778,\"#fb9f3a\"],[0.8888888888888888,\"#fdca26\"],[1.0,\"#f0f921\"]],\"type\":\"heatmap\"}],\"histogram2dcontour\":[{\"colorbar\":{\"outlinewidth\":0,\"ticks\":\"\"},\"colorscale\":[[0.0,\"#0d0887\"],[0.1111111111111111,\"#46039f\"],[0.2222222222222222,\"#7201a8\"],[0.3333333333333333,\"#9c179e\"],[0.4444444444444444,\"#bd3786\"],[0.5555555555555556,\"#d8576b\"],[0.6666666666666666,\"#ed7953\"],[0.7777777777777778,\"#fb9f3a\"],[0.8888888888888888,\"#fdca26\"],[1.0,\"#f0f921\"]],\"type\":\"histogram2dcontour\"}],\"histogram2d\":[{\"colorbar\":{\"outlinewidth\":0,\"ticks\":\"\"},\"colorscale\":[[0.0,\"#0d0887\"],[0.1111111111111111,\"#46039f\"],[0.2222222222222222,\"#7201a8\"],[0.3333333333333333,\"#9c179e\"],[0.4444444444444444,\"#bd3786\"],[0.5555555555555556,\"#d8576b\"],[0.6666666666666666,\"#ed7953\"],[0.7777777777777778,\"#fb9f3a\"],[0.8888888888888888,\"#fdca26\"],[1.0,\"#f0f921\"]],\"type\":\"histogram2d\"}],\"histogram\":[{\"marker\":{\"pattern\":{\"fillmode\":\"overlay\",\"size\":10,\"solidity\":0.2}},\"type\":\"histogram\"}],\"mesh3d\":[{\"colorbar\":{\"outlinewidth\":0,\"ticks\":\"\"},\"type\":\"mesh3d\"}],\"parcoords\":[{\"line\":{\"colorbar\":{\"outlinewidth\":0,\"ticks\":\"\"}},\"type\":\"parcoords\"}],\"pie\":[{\"automargin\":true,\"type\":\"pie\"}],\"scatter3d\":[{\"line\":{\"colorbar\":{\"outlinewidth\":0,\"ticks\":\"\"}},\"marker\":{\"colorbar\":{\"outlinewidth\":0,\"ticks\":\"\"}},\"type\":\"scatter3d\"}],\"scattercarpet\":[{\"marker\":{\"colorbar\":{\"outlinewidth\":0,\"ticks\":\"\"}},\"type\":\"scattercarpet\"}],\"scattergeo\":[{\"marker\":{\"colorbar\":{\"outlinewidth\":0,\"ticks\":\"\"}},\"type\":\"scattergeo\"}],\"scattergl\":[{\"marker\":{\"colorbar\":{\"outlinewidth\":0,\"ticks\":\"\"}},\"type\":\"scattergl\"}],\"scattermapbox\":[{\"marker\":{\"colorbar\":{\"outlinewidth\":0,\"ticks\":\"\"}},\"type\":\"scattermapbox\"}],\"scatterpolargl\":[{\"marker\":{\"colorbar\":{\"outlinewidth\":0,\"ticks\":\"\"}},\"type\":\"scatterpolargl\"}],\"scatterpolar\":[{\"marker\":{\"colorbar\":{\"outlinewidth\":0,\"ticks\":\"\"}},\"type\":\"scatterpolar\"}],\"scatter\":[{\"fillpattern\":{\"fillmode\":\"overlay\",\"size\":10,\"solidity\":0.2},\"type\":\"scatter\"}],\"scatterternary\":[{\"marker\":{\"colorbar\":{\"outlinewidth\":0,\"ticks\":\"\"}},\"type\":\"scatterternary\"}],\"surface\":[{\"colorbar\":{\"outlinewidth\":0,\"ticks\":\"\"},\"colorscale\":[[0.0,\"#0d0887\"],[0.1111111111111111,\"#46039f\"],[0.2222222222222222,\"#7201a8\"],[0.3333333333333333,\"#9c179e\"],[0.4444444444444444,\"#bd3786\"],[0.5555555555555556,\"#d8576b\"],[0.6666666666666666,\"#ed7953\"],[0.7777777777777778,\"#fb9f3a\"],[0.8888888888888888,\"#fdca26\"],[1.0,\"#f0f921\"]],\"type\":\"surface\"}],\"table\":[{\"cells\":{\"fill\":{\"color\":\"#EBF0F8\"},\"line\":{\"color\":\"white\"}},\"header\":{\"fill\":{\"color\":\"#C8D4E3\"},\"line\":{\"color\":\"white\"}},\"type\":\"table\"}]},\"layout\":{\"annotationdefaults\":{\"arrowcolor\":\"#2a3f5f\",\"arrowhead\":0,\"arrowwidth\":1},\"autotypenumbers\":\"strict\",\"coloraxis\":{\"colorbar\":{\"outlinewidth\":0,\"ticks\":\"\"}},\"colorscale\":{\"diverging\":[[0,\"#8e0152\"],[0.1,\"#c51b7d\"],[0.2,\"#de77ae\"],[0.3,\"#f1b6da\"],[0.4,\"#fde0ef\"],[0.5,\"#f7f7f7\"],[0.6,\"#e6f5d0\"],[0.7,\"#b8e186\"],[0.8,\"#7fbc41\"],[0.9,\"#4d9221\"],[1,\"#276419\"]],\"sequential\":[[0.0,\"#0d0887\"],[0.1111111111111111,\"#46039f\"],[0.2222222222222222,\"#7201a8\"],[0.3333333333333333,\"#9c179e\"],[0.4444444444444444,\"#bd3786\"],[0.5555555555555556,\"#d8576b\"],[0.6666666666666666,\"#ed7953\"],[0.7777777777777778,\"#fb9f3a\"],[0.8888888888888888,\"#fdca26\"],[1.0,\"#f0f921\"]],\"sequentialminus\":[[0.0,\"#0d0887\"],[0.1111111111111111,\"#46039f\"],[0.2222222222222222,\"#7201a8\"],[0.3333333333333333,\"#9c179e\"],[0.4444444444444444,\"#bd3786\"],[0.5555555555555556,\"#d8576b\"],[0.6666666666666666,\"#ed7953\"],[0.7777777777777778,\"#fb9f3a\"],[0.8888888888888888,\"#fdca26\"],[1.0,\"#f0f921\"]]},\"colorway\":[\"#636efa\",\"#EF553B\",\"#00cc96\",\"#ab63fa\",\"#FFA15A\",\"#19d3f3\",\"#FF6692\",\"#B6E880\",\"#FF97FF\",\"#FECB52\"],\"font\":{\"color\":\"#2a3f5f\"},\"geo\":{\"bgcolor\":\"white\",\"lakecolor\":\"white\",\"landcolor\":\"#E5ECF6\",\"showlakes\":true,\"showland\":true,\"subunitcolor\":\"white\"},\"hoverlabel\":{\"align\":\"left\"},\"hovermode\":\"closest\",\"mapbox\":{\"style\":\"light\"},\"paper_bgcolor\":\"white\",\"plot_bgcolor\":\"#E5ECF6\",\"polar\":{\"angularaxis\":{\"gridcolor\":\"white\",\"linecolor\":\"white\",\"ticks\":\"\"},\"bgcolor\":\"#E5ECF6\",\"radialaxis\":{\"gridcolor\":\"white\",\"linecolor\":\"white\",\"ticks\":\"\"}},\"scene\":{\"xaxis\":{\"backgroundcolor\":\"#E5ECF6\",\"gridcolor\":\"white\",\"gridwidth\":2,\"linecolor\":\"white\",\"showbackground\":true,\"ticks\":\"\",\"zerolinecolor\":\"white\"},\"yaxis\":{\"backgroundcolor\":\"#E5ECF6\",\"gridcolor\":\"white\",\"gridwidth\":2,\"linecolor\":\"white\",\"showbackground\":true,\"ticks\":\"\",\"zerolinecolor\":\"white\"},\"zaxis\":{\"backgroundcolor\":\"#E5ECF6\",\"gridcolor\":\"white\",\"gridwidth\":2,\"linecolor\":\"white\",\"showbackground\":true,\"ticks\":\"\",\"zerolinecolor\":\"white\"}},\"shapedefaults\":{\"line\":{\"color\":\"#2a3f5f\"}},\"ternary\":{\"aaxis\":{\"gridcolor\":\"white\",\"linecolor\":\"white\",\"ticks\":\"\"},\"baxis\":{\"gridcolor\":\"white\",\"linecolor\":\"white\",\"ticks\":\"\"},\"bgcolor\":\"#E5ECF6\",\"caxis\":{\"gridcolor\":\"white\",\"linecolor\":\"white\",\"ticks\":\"\"}},\"title\":{\"x\":0.05},\"xaxis\":{\"automargin\":true,\"gridcolor\":\"white\",\"linecolor\":\"white\",\"ticks\":\"\",\"title\":{\"standoff\":15},\"zerolinecolor\":\"white\",\"zerolinewidth\":2},\"yaxis\":{\"automargin\":true,\"gridcolor\":\"white\",\"linecolor\":\"white\",\"ticks\":\"\",\"title\":{\"standoff\":15},\"zerolinecolor\":\"white\",\"zerolinewidth\":2}}},\"title\":{\"font\":{\"color\":\"#4D5663\"}},\"xaxis\":{\"anchor\":\"y\",\"domain\":[0.0,0.2125],\"gridcolor\":\"#E1E5ED\",\"showgrid\":false,\"tickfont\":{\"color\":\"#4D5663\"},\"title\":{\"font\":{\"color\":\"#4D5663\"},\"text\":\"\"},\"zerolinecolor\":\"#E1E5ED\"},\"yaxis\":{\"anchor\":\"x\",\"domain\":[0.8025,1.0],\"gridcolor\":\"#E1E5ED\",\"showgrid\":false,\"tickfont\":{\"color\":\"#4D5663\"},\"title\":{\"font\":{\"color\":\"#4D5663\"},\"text\":\"\"},\"zerolinecolor\":\"#E1E5ED\"},\"xaxis2\":{\"anchor\":\"y2\",\"domain\":[0.2625,0.475],\"gridcolor\":\"#E1E5ED\",\"showgrid\":false,\"tickfont\":{\"color\":\"#4D5663\"},\"title\":{\"font\":{\"color\":\"#4D5663\"},\"text\":\"\"},\"zerolinecolor\":\"#E1E5ED\"},\"yaxis2\":{\"anchor\":\"x2\",\"domain\":[0.8025,1.0],\"gridcolor\":\"#E1E5ED\",\"showgrid\":false,\"tickfont\":{\"color\":\"#4D5663\"},\"title\":{\"font\":{\"color\":\"#4D5663\"},\"text\":\"\"},\"zerolinecolor\":\"#E1E5ED\"},\"xaxis3\":{\"anchor\":\"y3\",\"domain\":[0.525,0.7375],\"gridcolor\":\"#E1E5ED\",\"showgrid\":false,\"tickfont\":{\"color\":\"#4D5663\"},\"title\":{\"font\":{\"color\":\"#4D5663\"},\"text\":\"\"},\"zerolinecolor\":\"#E1E5ED\"},\"yaxis3\":{\"anchor\":\"x3\",\"domain\":[0.8025,1.0],\"gridcolor\":\"#E1E5ED\",\"showgrid\":false,\"tickfont\":{\"color\":\"#4D5663\"},\"title\":{\"font\":{\"color\":\"#4D5663\"},\"text\":\"\"},\"zerolinecolor\":\"#E1E5ED\"},\"xaxis4\":{\"anchor\":\"y4\",\"domain\":[0.7875,1.0],\"gridcolor\":\"#E1E5ED\",\"showgrid\":false,\"tickfont\":{\"color\":\"#4D5663\"},\"title\":{\"font\":{\"color\":\"#4D5663\"},\"text\":\"\"},\"zerolinecolor\":\"#E1E5ED\"},\"yaxis4\":{\"anchor\":\"x4\",\"domain\":[0.8025,1.0],\"gridcolor\":\"#E1E5ED\",\"showgrid\":false,\"tickfont\":{\"color\":\"#4D5663\"},\"title\":{\"font\":{\"color\":\"#4D5663\"},\"text\":\"\"},\"zerolinecolor\":\"#E1E5ED\"},\"xaxis5\":{\"anchor\":\"y5\",\"domain\":[0.0,0.2125],\"gridcolor\":\"#E1E5ED\",\"showgrid\":false,\"tickfont\":{\"color\":\"#4D5663\"},\"title\":{\"font\":{\"color\":\"#4D5663\"},\"text\":\"\"},\"zerolinecolor\":\"#E1E5ED\"},\"yaxis5\":{\"anchor\":\"x5\",\"domain\":[0.535,0.7325],\"gridcolor\":\"#E1E5ED\",\"showgrid\":false,\"tickfont\":{\"color\":\"#4D5663\"},\"title\":{\"font\":{\"color\":\"#4D5663\"},\"text\":\"\"},\"zerolinecolor\":\"#E1E5ED\"},\"xaxis6\":{\"anchor\":\"y6\",\"domain\":[0.2625,0.475],\"gridcolor\":\"#E1E5ED\",\"showgrid\":false,\"tickfont\":{\"color\":\"#4D5663\"},\"title\":{\"font\":{\"color\":\"#4D5663\"},\"text\":\"\"},\"zerolinecolor\":\"#E1E5ED\"},\"yaxis6\":{\"anchor\":\"x6\",\"domain\":[0.535,0.7325],\"gridcolor\":\"#E1E5ED\",\"showgrid\":false,\"tickfont\":{\"color\":\"#4D5663\"},\"title\":{\"font\":{\"color\":\"#4D5663\"},\"text\":\"\"},\"zerolinecolor\":\"#E1E5ED\"},\"xaxis7\":{\"anchor\":\"y7\",\"domain\":[0.525,0.7375],\"gridcolor\":\"#E1E5ED\",\"showgrid\":false,\"tickfont\":{\"color\":\"#4D5663\"},\"title\":{\"font\":{\"color\":\"#4D5663\"},\"text\":\"\"},\"zerolinecolor\":\"#E1E5ED\"},\"yaxis7\":{\"anchor\":\"x7\",\"domain\":[0.535,0.7325],\"gridcolor\":\"#E1E5ED\",\"showgrid\":false,\"tickfont\":{\"color\":\"#4D5663\"},\"title\":{\"font\":{\"color\":\"#4D5663\"},\"text\":\"\"},\"zerolinecolor\":\"#E1E5ED\"},\"xaxis8\":{\"anchor\":\"y8\",\"domain\":[0.7875,1.0],\"gridcolor\":\"#E1E5ED\",\"showgrid\":false,\"tickfont\":{\"color\":\"#4D5663\"},\"title\":{\"font\":{\"color\":\"#4D5663\"},\"text\":\"\"},\"zerolinecolor\":\"#E1E5ED\"},\"yaxis8\":{\"anchor\":\"x8\",\"domain\":[0.535,0.7325],\"gridcolor\":\"#E1E5ED\",\"showgrid\":false,\"tickfont\":{\"color\":\"#4D5663\"},\"title\":{\"font\":{\"color\":\"#4D5663\"},\"text\":\"\"},\"zerolinecolor\":\"#E1E5ED\"},\"xaxis9\":{\"anchor\":\"y9\",\"domain\":[0.0,0.2125],\"gridcolor\":\"#E1E5ED\",\"showgrid\":false,\"tickfont\":{\"color\":\"#4D5663\"},\"title\":{\"font\":{\"color\":\"#4D5663\"},\"text\":\"\"},\"zerolinecolor\":\"#E1E5ED\"},\"yaxis9\":{\"anchor\":\"x9\",\"domain\":[0.2675,0.465],\"gridcolor\":\"#E1E5ED\",\"showgrid\":false,\"tickfont\":{\"color\":\"#4D5663\"},\"title\":{\"font\":{\"color\":\"#4D5663\"},\"text\":\"\"},\"zerolinecolor\":\"#E1E5ED\"},\"xaxis10\":{\"anchor\":\"y10\",\"domain\":[0.2625,0.475],\"gridcolor\":\"#E1E5ED\",\"showgrid\":false,\"tickfont\":{\"color\":\"#4D5663\"},\"title\":{\"font\":{\"color\":\"#4D5663\"},\"text\":\"\"},\"zerolinecolor\":\"#E1E5ED\"},\"yaxis10\":{\"anchor\":\"x10\",\"domain\":[0.2675,0.465],\"gridcolor\":\"#E1E5ED\",\"showgrid\":false,\"tickfont\":{\"color\":\"#4D5663\"},\"title\":{\"font\":{\"color\":\"#4D5663\"},\"text\":\"\"},\"zerolinecolor\":\"#E1E5ED\"},\"xaxis11\":{\"anchor\":\"y11\",\"domain\":[0.525,0.7375],\"gridcolor\":\"#E1E5ED\",\"showgrid\":false,\"tickfont\":{\"color\":\"#4D5663\"},\"title\":{\"font\":{\"color\":\"#4D5663\"},\"text\":\"\"},\"zerolinecolor\":\"#E1E5ED\"},\"yaxis11\":{\"anchor\":\"x11\",\"domain\":[0.2675,0.465],\"gridcolor\":\"#E1E5ED\",\"showgrid\":false,\"tickfont\":{\"color\":\"#4D5663\"},\"title\":{\"font\":{\"color\":\"#4D5663\"},\"text\":\"\"},\"zerolinecolor\":\"#E1E5ED\"},\"xaxis12\":{\"anchor\":\"y12\",\"domain\":[0.7875,1.0],\"gridcolor\":\"#E1E5ED\",\"showgrid\":false,\"tickfont\":{\"color\":\"#4D5663\"},\"title\":{\"font\":{\"color\":\"#4D5663\"},\"text\":\"\"},\"zerolinecolor\":\"#E1E5ED\"},\"yaxis12\":{\"anchor\":\"x12\",\"domain\":[0.2675,0.465],\"gridcolor\":\"#E1E5ED\",\"showgrid\":false,\"tickfont\":{\"color\":\"#4D5663\"},\"title\":{\"font\":{\"color\":\"#4D5663\"},\"text\":\"\"},\"zerolinecolor\":\"#E1E5ED\"},\"xaxis13\":{\"anchor\":\"y13\",\"domain\":[0.0,0.2125],\"gridcolor\":\"#E1E5ED\",\"showgrid\":false,\"tickfont\":{\"color\":\"#4D5663\"},\"title\":{\"font\":{\"color\":\"#4D5663\"},\"text\":\"\"},\"zerolinecolor\":\"#E1E5ED\"},\"yaxis13\":{\"anchor\":\"x13\",\"domain\":[0.0,0.1975],\"gridcolor\":\"#E1E5ED\",\"showgrid\":false,\"tickfont\":{\"color\":\"#4D5663\"},\"title\":{\"font\":{\"color\":\"#4D5663\"},\"text\":\"\"},\"zerolinecolor\":\"#E1E5ED\"},\"xaxis14\":{\"anchor\":\"y14\",\"domain\":[0.2625,0.475],\"gridcolor\":\"#E1E5ED\",\"showgrid\":false,\"tickfont\":{\"color\":\"#4D5663\"},\"title\":{\"font\":{\"color\":\"#4D5663\"},\"text\":\"\"},\"zerolinecolor\":\"#E1E5ED\"},\"yaxis14\":{\"anchor\":\"x14\",\"domain\":[0.0,0.1975],\"gridcolor\":\"#E1E5ED\",\"showgrid\":false,\"tickfont\":{\"color\":\"#4D5663\"},\"title\":{\"font\":{\"color\":\"#4D5663\"},\"text\":\"\"},\"zerolinecolor\":\"#E1E5ED\"},\"xaxis15\":{\"anchor\":\"y15\",\"domain\":[0.525,0.7375],\"gridcolor\":\"#E1E5ED\",\"showgrid\":false,\"tickfont\":{\"color\":\"#4D5663\"},\"title\":{\"font\":{\"color\":\"#4D5663\"},\"text\":\"\"},\"zerolinecolor\":\"#E1E5ED\"},\"yaxis15\":{\"anchor\":\"x15\",\"domain\":[0.0,0.1975],\"gridcolor\":\"#E1E5ED\",\"showgrid\":false,\"tickfont\":{\"color\":\"#4D5663\"},\"title\":{\"font\":{\"color\":\"#4D5663\"},\"text\":\"\"},\"zerolinecolor\":\"#E1E5ED\"},\"xaxis16\":{\"anchor\":\"y16\",\"domain\":[0.7875,1.0],\"gridcolor\":\"#E1E5ED\",\"showgrid\":false,\"tickfont\":{\"color\":\"#4D5663\"},\"title\":{\"font\":{\"color\":\"#4D5663\"},\"text\":\"\"},\"zerolinecolor\":\"#E1E5ED\"},\"yaxis16\":{\"anchor\":\"x16\",\"domain\":[0.0,0.1975],\"gridcolor\":\"#E1E5ED\",\"showgrid\":false,\"tickfont\":{\"color\":\"#4D5663\"},\"title\":{\"font\":{\"color\":\"#4D5663\"},\"text\":\"\"},\"zerolinecolor\":\"#E1E5ED\"}},                        {\"showLink\": true, \"linkText\": \"Export to plot.ly\", \"plotlyServerURL\": \"https://plot.ly\", \"responsive\": true}                    ).then(function(){\n",
       "                            \n",
       "var gd = document.getElementById('e891f7c9-b2c6-4e8d-bb78-9fa427fad190');\n",
       "var x = new MutationObserver(function (mutations, observer) {{\n",
       "        var display = window.getComputedStyle(gd).display;\n",
       "        if (!display || display === 'none') {{\n",
       "            console.log([gd, 'removed!']);\n",
       "            Plotly.purge(gd);\n",
       "            observer.disconnect();\n",
       "        }}\n",
       "}});\n",
       "\n",
       "// Listen for the removal of the full notebook cells\n",
       "var notebookContainer = gd.closest('#notebook-container');\n",
       "if (notebookContainer) {{\n",
       "    x.observe(notebookContainer, {childList: true});\n",
       "}}\n",
       "\n",
       "// Listen for the clearing of the current output cell\n",
       "var outputEl = gd.closest('.output');\n",
       "if (outputEl) {{\n",
       "    x.observe(outputEl, {childList: true});\n",
       "}}\n",
       "\n",
       "                        })                };                });            </script>        </div>"
      ]
     },
     "metadata": {},
     "output_type": "display_data"
    }
   ],
   "source": [
    "df.scatter_matrix()"
   ]
  },
  {
   "attachments": {},
   "cell_type": "markdown",
   "metadata": {
    "collapsed": true
   },
   "source": [
    "# Great Job!"
   ]
  }
 ],
 "metadata": {
  "kernelspec": {
   "display_name": "Python 3",
   "language": "python",
   "name": "python3"
  },
  "language_info": {
   "codemirror_mode": {
    "name": "ipython",
    "version": 3
   },
   "file_extension": ".py",
   "mimetype": "text/x-python",
   "name": "python",
   "nbconvert_exporter": "python",
   "pygments_lexer": "ipython3",
   "version": "3.11.2"
  }
 },
 "nbformat": 4,
 "nbformat_minor": 0
}
