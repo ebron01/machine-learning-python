{
 "cells": [
  {
   "attachments": {},
   "cell_type": "markdown",
   "metadata": {},
   "source": [
    "___"
   ]
  },
  {
   "cell_type": "markdown",
   "metadata": {},
   "source": [
    "# NumPy Indexing and Selection\n",
    "\n",
    "In this lecture we will discuss how to select elements or groups of elements from an array."
   ]
  },
  {
   "cell_type": "code",
   "execution_count": 1,
   "metadata": {},
   "outputs": [],
   "source": [
    "import numpy as np"
   ]
  },
  {
   "cell_type": "code",
   "execution_count": 2,
   "metadata": {},
   "outputs": [],
   "source": [
    "#Creating sample array\n",
    "arr = np.arange(0,11)"
   ]
  },
  {
   "cell_type": "code",
   "execution_count": 3,
   "metadata": {},
   "outputs": [
    {
     "data": {
      "text/plain": [
       "array([ 0,  1,  2,  3,  4,  5,  6,  7,  8,  9, 10])"
      ]
     },
     "execution_count": 3,
     "metadata": {},
     "output_type": "execute_result"
    }
   ],
   "source": [
    "#Show\n",
    "arr"
   ]
  },
  {
   "cell_type": "markdown",
   "metadata": {},
   "source": [
    "## Bracket Indexing and Selection\n",
    "The simplest way to pick one or some elements of an array looks very similar to python lists:"
   ]
  },
  {
   "cell_type": "code",
   "execution_count": 4,
   "metadata": {},
   "outputs": [
    {
     "data": {
      "text/plain": [
       "8"
      ]
     },
     "execution_count": 4,
     "metadata": {},
     "output_type": "execute_result"
    }
   ],
   "source": [
    "#Get a value at an index\n",
    "arr[8]"
   ]
  },
  {
   "cell_type": "code",
   "execution_count": 5,
   "metadata": {},
   "outputs": [
    {
     "data": {
      "text/plain": [
       "array([1, 2, 3, 4])"
      ]
     },
     "execution_count": 5,
     "metadata": {},
     "output_type": "execute_result"
    }
   ],
   "source": [
    "#Get values in a range\n",
    "arr[1:5]"
   ]
  },
  {
   "cell_type": "code",
   "execution_count": 7,
   "metadata": {},
   "outputs": [
    {
     "data": {
      "text/plain": [
       "array([0, 1, 2, 3, 4])"
      ]
     },
     "execution_count": 7,
     "metadata": {},
     "output_type": "execute_result"
    }
   ],
   "source": [
    "#Get values in a range\n",
    "arr[0:5]"
   ]
  },
  {
   "cell_type": "markdown",
   "metadata": {},
   "source": [
    "## Broadcasting\n",
    "\n",
    "Numpy arrays differ from a normal Python list because of their ability to broadcast:"
   ]
  },
  {
   "cell_type": "code",
   "execution_count": 6,
   "metadata": {},
   "outputs": [
    {
     "data": {
      "text/plain": [
       "array([100, 100, 100, 100, 100,   5,   6,   7,   8,   9,  10])"
      ]
     },
     "execution_count": 6,
     "metadata": {},
     "output_type": "execute_result"
    }
   ],
   "source": [
    "#Setting a value with index range (Broadcasting)\n",
    "arr[0:5]=100\n",
    "\n",
    "#Show\n",
    "arr"
   ]
  },
  {
   "cell_type": "code",
   "execution_count": 7,
   "metadata": {},
   "outputs": [
    {
     "data": {
      "text/plain": [
       "array([ 0,  1,  2,  3,  4,  5,  6,  7,  8,  9, 10])"
      ]
     },
     "execution_count": 7,
     "metadata": {},
     "output_type": "execute_result"
    }
   ],
   "source": [
    "# Reset array, we'll see why I had to reset in  a moment\n",
    "arr = np.arange(0,11)\n",
    "\n",
    "#Show\n",
    "arr"
   ]
  },
  {
   "cell_type": "code",
   "execution_count": 8,
   "metadata": {},
   "outputs": [
    {
     "data": {
      "text/plain": [
       "array([0, 1, 2, 3, 4, 5])"
      ]
     },
     "execution_count": 8,
     "metadata": {},
     "output_type": "execute_result"
    }
   ],
   "source": [
    "#Important notes on Slices\n",
    "slice_of_arr = arr[0:6]\n",
    "\n",
    "#Show slice\n",
    "slice_of_arr"
   ]
  },
  {
   "cell_type": "code",
   "execution_count": 9,
   "metadata": {},
   "outputs": [
    {
     "data": {
      "text/plain": [
       "array([99, 99, 99, 99, 99, 99])"
      ]
     },
     "execution_count": 9,
     "metadata": {},
     "output_type": "execute_result"
    }
   ],
   "source": [
    "#Change Slice\n",
    "slice_of_arr[:]=99\n",
    "\n",
    "#Show Slice again\n",
    "slice_of_arr"
   ]
  },
  {
   "cell_type": "markdown",
   "metadata": {},
   "source": [
    "Now note the changes also occur in our original array!"
   ]
  },
  {
   "cell_type": "code",
   "execution_count": 10,
   "metadata": {},
   "outputs": [
    {
     "data": {
      "text/plain": [
       "array([99, 99, 99, 99, 99, 99,  6,  7,  8,  9, 10])"
      ]
     },
     "execution_count": 10,
     "metadata": {},
     "output_type": "execute_result"
    }
   ],
   "source": [
    "arr"
   ]
  },
  {
   "cell_type": "markdown",
   "metadata": {},
   "source": [
    "Data is not copied, it's a view of the original array! This avoids memory problems!"
   ]
  },
  {
   "cell_type": "code",
   "execution_count": 13,
   "metadata": {},
   "outputs": [
    {
     "data": {
      "text/plain": [
       "array([ 0, 99, 99, 99, 99, 99,  6,  7,  8,  9, 10])"
      ]
     },
     "execution_count": 13,
     "metadata": {},
     "output_type": "execute_result"
    }
   ],
   "source": [
    "#To get a copy, need to be explicit\n",
    "arr\n",
    "arr_copy = arr.copy()\n",
    "arr_copy\n",
    "arr[0] = 0\n",
    "arr_copy"
   ]
  },
  {
   "cell_type": "markdown",
   "metadata": {},
   "source": [
    "## Indexing a 2D array (matrices)\n",
    "\n",
    "The general format is **arr_2d[row][col]** or **arr_2d[row,col]**. I recommend usually using the comma notation for clarity."
   ]
  },
  {
   "cell_type": "code",
   "execution_count": 15,
   "metadata": {},
   "outputs": [
    {
     "data": {
      "text/plain": [
       "array([[ 5, 10, 15],\n",
       "       [20, 25, 30],\n",
       "       [35, 40, 45]])"
      ]
     },
     "execution_count": 15,
     "metadata": {},
     "output_type": "execute_result"
    }
   ],
   "source": [
    "arr_2d = np.array(([5,10,15],[20,25,30],[35,40,45]))\n",
    "\n",
    "#Show\n",
    "arr_2d"
   ]
  },
  {
   "cell_type": "code",
   "execution_count": 16,
   "metadata": {},
   "outputs": [
    {
     "data": {
      "text/plain": [
       "array([20, 25, 30])"
      ]
     },
     "execution_count": 16,
     "metadata": {},
     "output_type": "execute_result"
    }
   ],
   "source": [
    "#Indexing row\n",
    "arr_2d[1]\n"
   ]
  },
  {
   "cell_type": "code",
   "execution_count": 17,
   "metadata": {},
   "outputs": [
    {
     "data": {
      "text/plain": [
       "20"
      ]
     },
     "execution_count": 17,
     "metadata": {},
     "output_type": "execute_result"
    }
   ],
   "source": [
    "# Format is arr_2d[row][col] or arr_2d[row,col]\n",
    "\n",
    "# Getting individual element value\n",
    "arr_2d[1][0]"
   ]
  },
  {
   "cell_type": "code",
   "execution_count": 18,
   "metadata": {},
   "outputs": [
    {
     "data": {
      "text/plain": [
       "20"
      ]
     },
     "execution_count": 18,
     "metadata": {},
     "output_type": "execute_result"
    }
   ],
   "source": [
    "# Getting individual element value\n",
    "arr_2d[1,0]"
   ]
  },
  {
   "cell_type": "code",
   "execution_count": 19,
   "metadata": {},
   "outputs": [
    {
     "data": {
      "text/plain": [
       "array([[10, 15],\n",
       "       [25, 30]])"
      ]
     },
     "execution_count": 19,
     "metadata": {},
     "output_type": "execute_result"
    }
   ],
   "source": [
    "# 2D array slicing\n",
    "\n",
    "#Shape (2,2) from top right corner\n",
    "arr_2d[:2,1:]"
   ]
  },
  {
   "cell_type": "code",
   "execution_count": 20,
   "metadata": {},
   "outputs": [
    {
     "data": {
      "text/plain": [
       "array([35, 40, 45])"
      ]
     },
     "execution_count": 20,
     "metadata": {},
     "output_type": "execute_result"
    }
   ],
   "source": [
    "#Shape bottom row\n",
    "arr_2d[2]"
   ]
  },
  {
   "cell_type": "code",
   "execution_count": 23,
   "metadata": {},
   "outputs": [
    {
     "data": {
      "text/plain": [
       "array([35, 40, 45])"
      ]
     },
     "execution_count": 23,
     "metadata": {},
     "output_type": "execute_result"
    }
   ],
   "source": [
    "#Shape bottom row\n",
    "arr_2d[2,:]"
   ]
  },
  {
   "cell_type": "markdown",
   "metadata": {},
   "source": [
    "### Fancy Indexing\n",
    "\n",
    "Fancy indexing allows you to select entire rows or columns out of order,to show this, let's quickly build out a numpy array:"
   ]
  },
  {
   "cell_type": "code",
   "execution_count": 25,
   "metadata": {},
   "outputs": [
    {
     "data": {
      "text/plain": [
       "array([[0., 0., 0., 0., 0., 0., 0., 0., 0., 0.],\n",
       "       [0., 0., 0., 0., 0., 0., 0., 0., 0., 0.],\n",
       "       [0., 0., 0., 0., 0., 0., 0., 0., 0., 0.],\n",
       "       [0., 0., 0., 0., 0., 0., 0., 0., 0., 0.],\n",
       "       [0., 0., 0., 0., 0., 0., 0., 0., 0., 0.],\n",
       "       [0., 0., 0., 0., 0., 0., 0., 0., 0., 0.],\n",
       "       [0., 0., 0., 0., 0., 0., 0., 0., 0., 0.],\n",
       "       [0., 0., 0., 0., 0., 0., 0., 0., 0., 0.],\n",
       "       [0., 0., 0., 0., 0., 0., 0., 0., 0., 0.],\n",
       "       [0., 0., 0., 0., 0., 0., 0., 0., 0., 0.]])"
      ]
     },
     "execution_count": 25,
     "metadata": {},
     "output_type": "execute_result"
    }
   ],
   "source": [
    "#Set up matrix\n",
    "arr2d = np.zeros((10,10))\n",
    "arr2d"
   ]
  },
  {
   "cell_type": "code",
   "execution_count": 27,
   "metadata": {},
   "outputs": [
    {
     "data": {
      "text/plain": [
       "10"
      ]
     },
     "execution_count": 27,
     "metadata": {},
     "output_type": "execute_result"
    }
   ],
   "source": [
    "#Length of array\n",
    "arr_length = arr2d.shape[1]\n",
    "arr_length"
   ]
  },
  {
   "cell_type": "code",
   "execution_count": 29,
   "metadata": {},
   "outputs": [
    {
     "data": {
      "text/plain": [
       "array([[0., 0., 0., 0., 0., 0., 0., 0., 0., 0.],\n",
       "       [1., 1., 1., 1., 1., 1., 1., 1., 1., 1.],\n",
       "       [2., 2., 2., 2., 2., 2., 2., 2., 2., 2.],\n",
       "       [3., 3., 3., 3., 3., 3., 3., 3., 3., 3.],\n",
       "       [4., 4., 4., 4., 4., 4., 4., 4., 4., 4.],\n",
       "       [5., 5., 5., 5., 5., 5., 5., 5., 5., 5.],\n",
       "       [6., 6., 6., 6., 6., 6., 6., 6., 6., 6.],\n",
       "       [7., 7., 7., 7., 7., 7., 7., 7., 7., 7.],\n",
       "       [8., 8., 8., 8., 8., 8., 8., 8., 8., 8.],\n",
       "       [9., 9., 9., 9., 9., 9., 9., 9., 9., 9.]])"
      ]
     },
     "execution_count": 29,
     "metadata": {},
     "output_type": "execute_result"
    }
   ],
   "source": [
    "#Set up array\n",
    "\n",
    "for i in range(arr_length):\n",
    "    arr2d[i] = i\n",
    "    \n",
    "arr2d"
   ]
  },
  {
   "cell_type": "markdown",
   "metadata": {},
   "source": [
    "Fancy indexing allows the following"
   ]
  },
  {
   "cell_type": "code",
   "execution_count": 30,
   "metadata": {},
   "outputs": [
    {
     "data": {
      "text/plain": [
       "array([[2., 2., 2., 2., 2., 2., 2., 2., 2., 2.],\n",
       "       [4., 4., 4., 4., 4., 4., 4., 4., 4., 4.],\n",
       "       [6., 6., 6., 6., 6., 6., 6., 6., 6., 6.],\n",
       "       [8., 8., 8., 8., 8., 8., 8., 8., 8., 8.]])"
      ]
     },
     "execution_count": 30,
     "metadata": {},
     "output_type": "execute_result"
    }
   ],
   "source": [
    "arr2d[[2,4,6,8]]"
   ]
  },
  {
   "cell_type": "code",
   "execution_count": 31,
   "metadata": {},
   "outputs": [
    {
     "data": {
      "text/plain": [
       "array([[6., 6., 6., 6., 6., 6., 6., 6., 6., 6.],\n",
       "       [4., 4., 4., 4., 4., 4., 4., 4., 4., 4.],\n",
       "       [2., 2., 2., 2., 2., 2., 2., 2., 2., 2.],\n",
       "       [7., 7., 7., 7., 7., 7., 7., 7., 7., 7.]])"
      ]
     },
     "execution_count": 31,
     "metadata": {},
     "output_type": "execute_result"
    }
   ],
   "source": [
    "#Allows in any order\n",
    "arr2d[[6,4,2,7]]"
   ]
  },
  {
   "attachments": {},
   "cell_type": "markdown",
   "metadata": {},
   "source": [
    "## More Indexing Help\n",
    "Indexing a 2d matrix can be a bit confusing at first, especially when you start to add in step size. Try google image searching NumPy indexing to find useful images, like this one:\n",
    "\n",
    "<img src= 'data:image/png;base64,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' width=500/>"
   ]
  },
  {
   "cell_type": "markdown",
   "metadata": {},
   "source": [
    "## Selection\n",
    "\n",
    "Let's briefly go over how to use brackets for selection based off of comparison operators."
   ]
  },
  {
   "cell_type": "code",
   "execution_count": 33,
   "metadata": {},
   "outputs": [
    {
     "data": {
      "text/plain": [
       "array([ 1,  2,  3,  4,  5,  6,  7,  8,  9, 10])"
      ]
     },
     "execution_count": 33,
     "metadata": {},
     "output_type": "execute_result"
    }
   ],
   "source": [
    "arr = np.arange(1,11)\n",
    "arr"
   ]
  },
  {
   "cell_type": "code",
   "execution_count": 34,
   "metadata": {},
   "outputs": [
    {
     "data": {
      "text/plain": [
       "array([False, False, False, False,  True,  True,  True,  True,  True,\n",
       "        True])"
      ]
     },
     "execution_count": 34,
     "metadata": {},
     "output_type": "execute_result"
    }
   ],
   "source": [
    "arr > 4"
   ]
  },
  {
   "cell_type": "code",
   "execution_count": 35,
   "metadata": {
    "collapsed": true
   },
   "outputs": [],
   "source": [
    "bool_arr = arr>4"
   ]
  },
  {
   "cell_type": "code",
   "execution_count": 36,
   "metadata": {},
   "outputs": [
    {
     "data": {
      "text/plain": [
       "array([False, False, False, False,  True,  True,  True,  True,  True,\n",
       "        True])"
      ]
     },
     "execution_count": 36,
     "metadata": {},
     "output_type": "execute_result"
    }
   ],
   "source": [
    "bool_arr"
   ]
  },
  {
   "cell_type": "code",
   "execution_count": 37,
   "metadata": {},
   "outputs": [
    {
     "data": {
      "text/plain": [
       "array([ 5,  6,  7,  8,  9, 10])"
      ]
     },
     "execution_count": 37,
     "metadata": {},
     "output_type": "execute_result"
    }
   ],
   "source": [
    "arr[bool_arr]"
   ]
  },
  {
   "cell_type": "code",
   "execution_count": 38,
   "metadata": {},
   "outputs": [
    {
     "data": {
      "text/plain": [
       "array([ 3,  4,  5,  6,  7,  8,  9, 10])"
      ]
     },
     "execution_count": 38,
     "metadata": {},
     "output_type": "execute_result"
    }
   ],
   "source": [
    "arr[arr>2]"
   ]
  },
  {
   "cell_type": "code",
   "execution_count": 39,
   "metadata": {},
   "outputs": [
    {
     "data": {
      "text/plain": [
       "array([ 3,  4,  5,  6,  7,  8,  9, 10])"
      ]
     },
     "execution_count": 39,
     "metadata": {},
     "output_type": "execute_result"
    }
   ],
   "source": [
    "x = 2\n",
    "arr[arr>x]"
   ]
  },
  {
   "cell_type": "markdown",
   "metadata": {},
   "source": [
    "# Great Job!\n"
   ]
  }
 ],
 "metadata": {
  "kernelspec": {
   "display_name": "Python 3",
   "language": "python",
   "name": "python3"
  },
  "language_info": {
   "codemirror_mode": {
    "name": "ipython",
    "version": 3
   },
   "file_extension": ".py",
   "mimetype": "text/x-python",
   "name": "python",
   "nbconvert_exporter": "python",
   "pygments_lexer": "ipython3",
   "version": "3.11.3"
  }
 },
 "nbformat": 4,
 "nbformat_minor": 1
}
